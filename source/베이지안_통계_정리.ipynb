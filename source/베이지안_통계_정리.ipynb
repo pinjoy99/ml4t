{
 "cells": [
  {
   "cell_type": "markdown",
   "metadata": {
    "id": "ufbg05TmMWiG"
   },
   "source": [
    "1. 기본 개념\n",
    "  \n",
    " * 미지의 모수 ϴ를 고정된 상수가 아닌 변수로 규정하고, 자료가 관측된 후 자료의 관측치가 주어진 조건하에서 ϴ의 조건부 분포에 기반을 둠\n",
    " * 자료 관측 이전의 분포를 사전분포(prior distribution), 자료 관측 이후 자료가 주어진 조건 하에서 분포를 사후분포(posterior distribution)이라고 함\n",
    " * 사후분포는 자료 x가 주어졌을 때 ϴ의 조건부 분포이며, 베이즈정리에 의해 사전밀도함수(π(ϴ))와 우도함수(f(x|ϴ))의 곱에 비례하는 것으로 나타낼 수 있음\n",
    " * 사전분포와 사후분포가 동일한 분포를 공액사전분포라 하며, 주로 베타분포, 감마분포, 정규분포 등이 적용됨\n",
    "\n",
    " ※ (참고) 베타분포: 확률의 확률분포"
   ]
  },
  {
   "cell_type": "markdown",
   "metadata": {
    "id": "TuagZNIEOgZz"
   },
   "source": [
    "2. 베타분포의 사후분포 (베르누이 확률에 대한 사후분포 문제)\n",
    "\n",
    "  * 시행 횟수가 n, 성공 확률이 ϴ이면서 성공횟수 X = x가 관측되었을 때 ϴ의 사전분포로 Beta(a, b)를 가정(a는 성공횟수, b는 실패횟수)하면, ϴ의 사후분포는 Beta(x+a, n-x+b)를 따름\n",
    "  (사전분포에 성공 횟수와 실패 횟수를 반영하는 의미)\n",
    "  \n",
    "  ※ (참고) a = b = 1인 경우 Beta분포는 0과 1 사이의 균일분포를 따름"
   ]
  },
  {
   "cell_type": "markdown",
   "metadata": {
    "id": "Po1m9ZZBTfio"
   },
   "source": [
    "```\n",
    "< 예제 > 그동안 20번의 소개팅 결과 애프터를 9번 받았다. \n",
    "올해 추가로 13번의 소개팅을 더 해보았더니 4번의 애프터를 받았다. \n",
    "사전확률이 베타분포를 따른다고 가정할 때 소개팅 애프터 확률의 사후 평균은 얼마인가?\n",
    "```"
   ]
  },
  {
   "cell_type": "code",
   "execution_count": 1,
   "metadata": {
    "colab": {
     "base_uri": "https://localhost:8080/"
    },
    "id": "GIjQwgZgTOhY",
    "outputId": "ad189995-1f7d-45cc-f1be-03296da37200"
   },
   "outputs": [
    {
     "name": "stdout",
     "output_type": "stream",
     "text": [
      "사전 분포의 평균은 0.45\n",
      "사후 분포의 평균은 0.39\n"
     ]
    }
   ],
   "source": [
    "# 확률분포함수 이용\n",
    "\n",
    "from scipy.stats import beta\n",
    "\n",
    "# 사전 확률의 평균\n",
    "x0, n0 = 9,20\n",
    "prior_mean = beta(x0, n0-x0).mean()\n",
    "\n",
    "print(f'''사전 분포의 평균은 {prior_mean}''')\n",
    "\n",
    "# 사후 확률의 평균\n",
    "x1, n1 = 4, 13\n",
    "post_mean = beta(x0+x1, n0-x0+n1-x1).mean()\n",
    "\n",
    "print(f'''사후 분포의 평균은 {post_mean:.2f}''')"
   ]
  },
  {
   "cell_type": "code",
   "execution_count": 4,
   "metadata": {
    "colab": {
     "base_uri": "https://localhost:8080/",
     "height": 193
    },
    "id": "95LhpKgxf_UG",
    "outputId": "8027b00d-144d-4826-8d9b-947407fae91a"
   },
   "outputs": [
    {
     "data": {
      "application/vnd.jupyter.widget-view+json": {
       "model_id": "521da4224fb343999e7d31c39e74230b",
       "version_major": 2,
       "version_minor": 0
      },
      "text/plain": [
       "Output()"
      ]
     },
     "metadata": {},
     "output_type": "display_data"
    },
    {
     "data": {
      "text/html": [
       "<pre style=\"white-space:pre;overflow-x:auto;line-height:normal;font-family:Menlo,'DejaVu Sans Mono',consolas,'Courier New',monospace\">\n",
       "</pre>\n"
      ],
      "text/plain": [
       "\n"
      ]
     },
     "metadata": {},
     "output_type": "display_data"
    },
    {
     "data": {
      "text/html": [
       "<pre style=\"white-space:pre;overflow-x:auto;line-height:normal;font-family:Menlo,'DejaVu Sans Mono',consolas,'Courier New',monospace\"></pre>\n"
      ],
      "text/plain": []
     },
     "metadata": {},
     "output_type": "display_data"
    },
    {
     "data": {
      "text/html": [
       "<pre style=\"white-space:pre;overflow-x:auto;line-height:normal;font-family:Menlo,'DejaVu Sans Mono',consolas,'Courier New',monospace\">\n",
       "</pre>\n"
      ],
      "text/plain": [
       "\n"
      ]
     },
     "metadata": {},
     "output_type": "display_data"
    },
    {
     "name": "stderr",
     "output_type": "stream",
     "text": [
      "C:\\Users\\masta\\AppData\\Local\\Temp\\ipykernel_22052\\4217276933.py:16: FutureWarning: The `start` kwarg was renamed to `initvals` and can now do more. Please check the docstring.\n",
      "  trace = pm.sample(1000, start=start, progressbar=True, random_seed=1234)\n",
      "Auto-assigning NUTS sampler...\n",
      "Initializing NUTS using jitter+adapt_diag...\n",
      "Multiprocess sampling (4 chains in 4 jobs)\n",
      "NUTS: [theta]\n"
     ]
    },
    {
     "data": {
      "application/vnd.jupyter.widget-view+json": {
       "model_id": "a283d4c49a19452986d0bee8b8cbe870",
       "version_major": 2,
       "version_minor": 0
      },
      "text/plain": [
       "Output()"
      ]
     },
     "metadata": {},
     "output_type": "display_data"
    },
    {
     "data": {
      "text/html": [
       "<pre style=\"white-space:pre;overflow-x:auto;line-height:normal;font-family:Menlo,'DejaVu Sans Mono',consolas,'Courier New',monospace\"></pre>\n"
      ],
      "text/plain": []
     },
     "metadata": {},
     "output_type": "display_data"
    },
    {
     "data": {
      "text/html": [
       "<pre style=\"white-space:pre;overflow-x:auto;line-height:normal;font-family:Menlo,'DejaVu Sans Mono',consolas,'Courier New',monospace\">\n",
       "</pre>\n"
      ],
      "text/plain": [
       "\n"
      ]
     },
     "metadata": {},
     "output_type": "display_data"
    },
    {
     "name": "stderr",
     "output_type": "stream",
     "text": [
      "Sampling 4 chains for 1_000 tune and 1_000 draw iterations (4_000 + 4_000 draws total) took 16 seconds.\n"
     ]
    },
    {
     "data": {
      "text/html": [
       "<div>\n",
       "<style scoped>\n",
       "    .dataframe tbody tr th:only-of-type {\n",
       "        vertical-align: middle;\n",
       "    }\n",
       "\n",
       "    .dataframe tbody tr th {\n",
       "        vertical-align: top;\n",
       "    }\n",
       "\n",
       "    .dataframe thead th {\n",
       "        text-align: right;\n",
       "    }\n",
       "</style>\n",
       "<table border=\"1\" class=\"dataframe\">\n",
       "  <thead>\n",
       "    <tr style=\"text-align: right;\">\n",
       "      <th></th>\n",
       "      <th>mean</th>\n",
       "      <th>sd</th>\n",
       "      <th>hdi_3%</th>\n",
       "      <th>hdi_97%</th>\n",
       "      <th>mcse_mean</th>\n",
       "      <th>mcse_sd</th>\n",
       "      <th>ess_bulk</th>\n",
       "      <th>ess_tail</th>\n",
       "      <th>r_hat</th>\n",
       "    </tr>\n",
       "  </thead>\n",
       "  <tbody>\n",
       "    <tr>\n",
       "      <th>theta</th>\n",
       "      <td>0.394</td>\n",
       "      <td>0.083</td>\n",
       "      <td>0.239</td>\n",
       "      <td>0.549</td>\n",
       "      <td>0.002</td>\n",
       "      <td>0.001</td>\n",
       "      <td>1719.0</td>\n",
       "      <td>2677.0</td>\n",
       "      <td>1.0</td>\n",
       "    </tr>\n",
       "  </tbody>\n",
       "</table>\n",
       "</div>"
      ],
      "text/plain": [
       "        mean     sd  hdi_3%  hdi_97%  mcse_mean  mcse_sd  ess_bulk  ess_tail  \\\n",
       "theta  0.394  0.083   0.239    0.549      0.002    0.001    1719.0    2677.0   \n",
       "\n",
       "       r_hat  \n",
       "theta    1.0  "
      ]
     },
     "execution_count": 4,
     "metadata": {},
     "output_type": "execute_result"
    }
   ],
   "source": [
    "# MCMC 이용\n",
    "\n",
    "# 사후분포(theta | data) = 가능도(data | theta) x 사전분포(theta)\n",
    "# 베이지안 추정 : 1. 모수적 방법, 2. 비모수적 방법(MCMC 등)\n",
    "import pymc as pm\n",
    "\n",
    "x = 4 # 관측된 값\n",
    "with pm.Model() as model:\n",
    "    theta = pm.Beta('theta', alpha=9, beta=11) # (사전분포) 'theta의 사전분포'는 과거에 알고 있던 모수 theta 자체의 분포를 뜻함. beta(9, 11)\n",
    "    likelihood = pm.Binomial('x', p = theta, n = 13, observed = x) # (가능도함수) n = 13, x = 4이며 모수 p 가 theta 분포를 따르는 이항분포\n",
    "\n",
    "    # 사후분포 추론\n",
    "    start = pm.find_MAP()\n",
    "    step = pm.NUTS()\n",
    "    # MCMC sampling 1000번 수행\n",
    "    trace = pm.sample(1000, start=start, progressbar=True, random_seed=1234)\n",
    "\n",
    "pm.summary(trace)"
   ]
  },
  {
   "cell_type": "markdown",
   "metadata": {
    "id": "GzFuFP84VQ7h"
   },
   "source": [
    "3. 감마분포의 사후분포 (횟수에 대한 사후분포 문제)\n",
    "  * X1, X2, ..., Xn이 독립적으로 평균 ϴ인 포아송 분포 poi(ϴ)를 따르면서 ϴ의 사전분포로 Gamma(a, b)를 가정하면, ϴ의 사후분포는 Gamma(Σxi+a, n+b)를 따름"
   ]
  },
  {
   "cell_type": "markdown",
   "metadata": {
    "id": "u1-QnZhhaO9t"
   },
   "source": [
    "```\n",
    "< 예제 > 10분동안 정류장에 도착하는 버스의 수가 포아송 분포를 따르고, \n",
    "포아송 분포의 모수는 Gamma(100, 10)을 따른다. \n",
    "10분동안 15대의 버스가 도착하였을 때 사후분포와 사후평균을 구하라\n",
    "```"
   ]
  },
  {
   "cell_type": "code",
   "execution_count": 7,
   "metadata": {
    "colab": {
     "base_uri": "https://localhost:8080/"
    },
    "id": "VejM_jQnUKbn",
    "outputId": "6819e034-d88e-48d2-9ff6-fa4523e5edf1"
   },
   "outputs": [
    {
     "name": "stdout",
     "output_type": "stream",
     "text": [
      "사전 분포의 평균은 10.0\n",
      "사후 분포의 평균은 10.45\n"
     ]
    }
   ],
   "source": [
    "# 확률분포함수 이용\n",
    "from scipy.stats import gamma\n",
    "\n",
    "# scipy.stats의 gamma 함수는 b = 1로 고정되어 있으므로 a/b로 모수를 표현\n",
    "\n",
    "prior_mean = gamma(100/10).mean()\n",
    "\n",
    "print(f'''사전 분포의 평균은 {prior_mean}''')\n",
    "\n",
    "post_mean = gamma((15 + 100)/(1+10)).mean()\n",
    "\n",
    "print(f'''사후 분포의 평균은 {post_mean:.2f}''')"
   ]
  },
  {
   "cell_type": "code",
   "execution_count": 8,
   "metadata": {
    "collapsed": true,
    "id": "AfOiZKe-jhEc",
    "jupyter": {
     "outputs_hidden": true
    },
    "tags": []
   },
   "outputs": [
    {
     "data": {
      "text/plain": [
       "\u001b[1;31mInit signature:\u001b[0m  \u001b[0mpm\u001b[0m\u001b[1;33m.\u001b[0m\u001b[0mPoisson\u001b[0m\u001b[1;33m(\u001b[0m\u001b[0mname\u001b[0m\u001b[1;33m,\u001b[0m \u001b[1;33m*\u001b[0m\u001b[0margs\u001b[0m\u001b[1;33m,\u001b[0m \u001b[1;33m**\u001b[0m\u001b[0mkwargs\u001b[0m\u001b[1;33m)\u001b[0m\u001b[1;33m\u001b[0m\u001b[1;33m\u001b[0m\u001b[0m\n",
       "\u001b[1;31mDocstring:\u001b[0m     \n",
       "Poisson log-likelihood.\n",
       "\n",
       "Often used to model the number of events occurring in a fixed period\n",
       "of time when the times at which events occur are independent.\n",
       "The pmf of this distribution is\n",
       "\n",
       ".. math:: f(x \\mid \\mu) = \\frac{e^{-\\mu}\\mu^x}{x!}\n",
       "\n",
       ".. plot::\n",
       "    :context: close-figs\n",
       "\n",
       "    import matplotlib.pyplot as plt\n",
       "    import numpy as np\n",
       "    import scipy.stats as st\n",
       "    import arviz as az\n",
       "    plt.style.use('arviz-darkgrid')\n",
       "    x = np.arange(0, 15)\n",
       "    for m in [0.5, 3, 8]:\n",
       "        pmf = st.poisson.pmf(x, m)\n",
       "        plt.plot(x, pmf, '-o', label='$\\mu$ = {}'.format(m))\n",
       "    plt.xlabel('x', fontsize=12)\n",
       "    plt.ylabel('f(x)', fontsize=12)\n",
       "    plt.ylim(0)\n",
       "    plt.legend(loc=1)\n",
       "    plt.show()\n",
       "\n",
       "========  ==========================\n",
       "Support   :math:`x \\in \\mathbb{N}_0`\n",
       "Mean      :math:`\\mu`\n",
       "Variance  :math:`\\mu`\n",
       "========  ==========================\n",
       "\n",
       "Parameters\n",
       "----------\n",
       "mu : tensor_like of float\n",
       "    Expected number of occurrences during the given interval\n",
       "    (mu >= 0).\n",
       "\n",
       "Notes\n",
       "-----\n",
       "The Poisson distribution can be derived as a limiting case of the\n",
       "binomial distribution.\n",
       "\u001b[1;31mFile:\u001b[0m           e:\\miniconda\\envs\\tw311\\lib\\site-packages\\pymc\\distributions\\discrete.py\n",
       "\u001b[1;31mType:\u001b[0m           DistributionMeta\n",
       "\u001b[1;31mSubclasses:\u001b[0m     "
      ]
     },
     "metadata": {},
     "output_type": "display_data"
    }
   ],
   "source": [
    "? pm.Poisson"
   ]
  },
  {
   "cell_type": "code",
   "execution_count": 2,
   "metadata": {
    "colab": {
     "base_uri": "https://localhost:8080/",
     "height": 193
    },
    "id": "DpHTYsKVjRg2",
    "outputId": "9c5c20b7-36fc-4dbd-88cc-261e80625063"
   },
   "outputs": [
    {
     "name": "stderr",
     "output_type": "stream",
     "text": [
      "WARNING (pytensor.configdefaults): g++ not available, if using conda: `conda install m2w64-toolchain`\n",
      "WARNING (pytensor.configdefaults): g++ not detected!  PyTensor will be unable to compile C-implementations and will default to Python. Performance may be severely degraded. To remove this warning, set PyTensor flags cxx to an empty string.\n",
      "WARNING (pytensor.tensor.blas): Using NumPy C-API based implementation for BLAS functions.\n"
     ]
    },
    {
     "data": {
      "application/vnd.jupyter.widget-view+json": {
       "model_id": "e387b5f9a2f14888962635d5e93496b5",
       "version_major": 2,
       "version_minor": 0
      },
      "text/plain": [
       "Output()"
      ]
     },
     "metadata": {},
     "output_type": "display_data"
    },
    {
     "data": {
      "text/html": [
       "<pre style=\"white-space:pre;overflow-x:auto;line-height:normal;font-family:Menlo,'DejaVu Sans Mono',consolas,'Courier New',monospace\">\n",
       "</pre>\n"
      ],
      "text/plain": [
       "\n"
      ]
     },
     "metadata": {},
     "output_type": "display_data"
    },
    {
     "data": {
      "text/html": [
       "<pre style=\"white-space:pre;overflow-x:auto;line-height:normal;font-family:Menlo,'DejaVu Sans Mono',consolas,'Courier New',monospace\"></pre>\n"
      ],
      "text/plain": []
     },
     "metadata": {},
     "output_type": "display_data"
    },
    {
     "data": {
      "text/html": [
       "<pre style=\"white-space:pre;overflow-x:auto;line-height:normal;font-family:Menlo,'DejaVu Sans Mono',consolas,'Courier New',monospace\">\n",
       "</pre>\n"
      ],
      "text/plain": [
       "\n"
      ]
     },
     "metadata": {},
     "output_type": "display_data"
    },
    {
     "name": "stderr",
     "output_type": "stream",
     "text": [
      "C:\\Users\\masta\\AppData\\Local\\Temp\\ipykernel_14044\\2748236106.py:17: FutureWarning: The `start` kwarg was renamed to `initvals` and can now do more. Please check the docstring.\n",
      "  trace = pm.sample(1000, start=start, progressbar=True, random_seed=1234)\n",
      "Auto-assigning NUTS sampler...\n",
      "Initializing NUTS using jitter+adapt_diag...\n",
      "Multiprocess sampling (4 chains in 4 jobs)\n",
      "NUTS: [theta]\n"
     ]
    },
    {
     "data": {
      "application/vnd.jupyter.widget-view+json": {
       "model_id": "aa675e01ff0c466180417a1f30b97daa",
       "version_major": 2,
       "version_minor": 0
      },
      "text/plain": [
       "Output()"
      ]
     },
     "metadata": {},
     "output_type": "display_data"
    },
    {
     "data": {
      "text/html": [
       "<pre style=\"white-space:pre;overflow-x:auto;line-height:normal;font-family:Menlo,'DejaVu Sans Mono',consolas,'Courier New',monospace\"></pre>\n"
      ],
      "text/plain": []
     },
     "metadata": {},
     "output_type": "display_data"
    },
    {
     "data": {
      "text/html": [
       "<pre style=\"white-space:pre;overflow-x:auto;line-height:normal;font-family:Menlo,'DejaVu Sans Mono',consolas,'Courier New',monospace\">\n",
       "</pre>\n"
      ],
      "text/plain": [
       "\n"
      ]
     },
     "metadata": {},
     "output_type": "display_data"
    },
    {
     "name": "stderr",
     "output_type": "stream",
     "text": [
      "Sampling 4 chains for 1_000 tune and 1_000 draw iterations (4_000 + 4_000 draws total) took 16 seconds.\n"
     ]
    },
    {
     "data": {
      "text/html": [
       "<div>\n",
       "<style scoped>\n",
       "    .dataframe tbody tr th:only-of-type {\n",
       "        vertical-align: middle;\n",
       "    }\n",
       "\n",
       "    .dataframe tbody tr th {\n",
       "        vertical-align: top;\n",
       "    }\n",
       "\n",
       "    .dataframe thead th {\n",
       "        text-align: right;\n",
       "    }\n",
       "</style>\n",
       "<table border=\"1\" class=\"dataframe\">\n",
       "  <thead>\n",
       "    <tr style=\"text-align: right;\">\n",
       "      <th></th>\n",
       "      <th>mean</th>\n",
       "      <th>sd</th>\n",
       "      <th>hdi_3%</th>\n",
       "      <th>hdi_97%</th>\n",
       "      <th>mcse_mean</th>\n",
       "      <th>mcse_sd</th>\n",
       "      <th>ess_bulk</th>\n",
       "      <th>ess_tail</th>\n",
       "      <th>r_hat</th>\n",
       "    </tr>\n",
       "  </thead>\n",
       "  <tbody>\n",
       "    <tr>\n",
       "      <th>theta</th>\n",
       "      <td>10.473</td>\n",
       "      <td>0.958</td>\n",
       "      <td>8.598</td>\n",
       "      <td>12.224</td>\n",
       "      <td>0.024</td>\n",
       "      <td>0.017</td>\n",
       "      <td>1566.0</td>\n",
       "      <td>2535.0</td>\n",
       "      <td>1.0</td>\n",
       "    </tr>\n",
       "  </tbody>\n",
       "</table>\n",
       "</div>"
      ],
      "text/plain": [
       "         mean     sd  hdi_3%  hdi_97%  mcse_mean  mcse_sd  ess_bulk  ess_tail  \\\n",
       "theta  10.473  0.958   8.598   12.224      0.024    0.017    1566.0    2535.0   \n",
       "\n",
       "       r_hat  \n",
       "theta    1.0  "
      ]
     },
     "execution_count": 2,
     "metadata": {},
     "output_type": "execute_result"
    }
   ],
   "source": [
    "# MCMC 이용\n",
    "\n",
    "# 사후분포(theta | data) = 가능도(data | theta) x 사전분포(theta)\n",
    "# 베이지안 추정 : 1. 모수적 방법, 2. 비모수적 방법(MCMC 등)\n",
    "\n",
    "import pymc as pm\n",
    "\n",
    "x = 15\n",
    "with pm.Model() as model:\n",
    "    theta = pm.Gamma('theta', alpha = 100, beta=10) # 'theta의 사전분포'는 과거에 알고 있던 모수 theta 자체의 분포를 뜻함. Gamma(100, 10)\n",
    "    likelihood = pm.Poisson('x', mu = theta, observed = x) # 가능도함수는 x = 15이며 모수 mu 가 theta 분포를 따르는 포아송분포\n",
    "\n",
    "    # 사후분포 추론\n",
    "    start = pm.find_MAP()\n",
    "    step = pm.NUTS()\n",
    "    # MCMC sampling 1000번 수행\n",
    "    trace = pm.sample(1000, start=start, progressbar=True, random_seed=1234)\n",
    "\n",
    "pm.summary(trace)"
   ]
  },
  {
   "cell_type": "markdown",
   "metadata": {
    "id": "PZa64R17deLp"
   },
   "source": [
    "3. 정규분포의 사후분포\n",
    "  * X1, X2, ..., Xn이 평균 ϴ, 분산 $\\sigma^2$이면서 분산 $\\sigma^2$이 알려진 경우 평균 ϴ의 사전분포로 평균 μ0와 분산 $\\sigma_0^2$을 갖는 정규분포를 가정하면 사후분포는 아래와 같음"
   ]
  },
  {
   "cell_type": "markdown",
   "metadata": {
    "id": "PPA8E9nLVRz7"
   },
   "source": [
    "![image.png](data:image/png;base64,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)"
   ]
  },
  {
   "cell_type": "markdown",
   "metadata": {
    "id": "AzUw82CKe98P"
   },
   "source": [
    "```\n",
    "< 예제 > 평균이  θ이고 분산이 100인 정규분포의 사전분포가 100, 256일때 120의 값을 가지는 데이터가 있을 경우 사후평균은?\n",
    "```"
   ]
  },
  {
   "cell_type": "code",
   "execution_count": 10,
   "metadata": {
    "colab": {
     "base_uri": "https://localhost:8080/"
    },
    "id": "ED8RNpN5e-5j",
    "outputId": "ccf26fba-7f93-43c9-f592-11d554d5660a"
   },
   "outputs": [
    {
     "name": "stdout",
     "output_type": "stream",
     "text": [
      "사후평균은 위 공식에 따라 산출된다.\n",
      "여기서 N은 추출한 표본 데이터의 수, sigma2는 모분산, sigma2_0은 사전분포의 분산, mu_0 은 사전분포의 평균을 의미한다.\n",
      "위 식을 풀어서 설명하면 사전분포의 평균과 표본평균에 대한 모분산과 사전분포분산의 가중평균이라고 할 수 있다.\n"
     ]
    },
    {
     "data": {
      "text/plain": [
       "114.3820224719101"
      ]
     },
     "execution_count": 10,
     "metadata": {},
     "output_type": "execute_result"
    }
   ],
   "source": [
    "# 확률분포함수 이용\n",
    "\n",
    "print('''사후평균은 위 공식에 따라 산출된다.\n",
    "여기서 N은 추출한 표본 데이터의 수, sigma2는 모분산, sigma2_0은 사전분포의 분산, mu_0 은 사전분포의 평균을 의미한다.\n",
    "위 식을 풀어서 설명하면 사전분포의 평균과 표본평균에 대한 모분산과 사전분포분산의 가중평균이라고 할 수 있다.''')\n",
    "\n",
    "N = 1\n",
    "sigma2 = 100\n",
    "mu_0 = 100\n",
    "sigma2_0 = 256\n",
    "x = 120\n",
    "\n",
    "mu_1 = (1/(N*sigma2_0 + sigma2))*(sigma2*mu_0 + N*sigma2_0*120/N)\n",
    "mu_1"
   ]
  },
  {
   "cell_type": "code",
   "execution_count": null,
   "metadata": {
    "colab": {
     "base_uri": "https://localhost:8080/",
     "height": 193
    },
    "id": "lZCncpfqfApR",
    "outputId": "e5149747-bdca-4994-ad44-8ee26c186a2d"
   },
   "outputs": [
    {
     "data": {
      "application/vnd.jupyter.widget-view+json": {
       "model_id": "8b60397d68dc4fe6b8fd8260b7cd6f64",
       "version_major": 2,
       "version_minor": 0
      },
      "text/plain": [
       "Output()"
      ]
     },
     "metadata": {},
     "output_type": "display_data"
    },
    {
     "data": {
      "text/html": [
       "<pre style=\"white-space:pre;overflow-x:auto;line-height:normal;font-family:Menlo,'DejaVu Sans Mono',consolas,'Courier New',monospace\">\n",
       "</pre>\n"
      ],
      "text/plain": [
       "\n"
      ]
     },
     "metadata": {},
     "output_type": "display_data"
    },
    {
     "data": {
      "text/html": [
       "<pre style=\"white-space:pre;overflow-x:auto;line-height:normal;font-family:Menlo,'DejaVu Sans Mono',consolas,'Courier New',monospace\"></pre>\n"
      ],
      "text/plain": []
     },
     "metadata": {},
     "output_type": "display_data"
    },
    {
     "data": {
      "text/html": [
       "<pre style=\"white-space:pre;overflow-x:auto;line-height:normal;font-family:Menlo,'DejaVu Sans Mono',consolas,'Courier New',monospace\">\n",
       "</pre>\n"
      ],
      "text/plain": [
       "\n"
      ]
     },
     "metadata": {},
     "output_type": "display_data"
    },
    {
     "name": "stderr",
     "output_type": "stream",
     "text": [
      "C:\\Users\\masta\\AppData\\Local\\Temp\\ipykernel_22052\\4215607013.py:14: FutureWarning: The `start` kwarg was renamed to `initvals` and can now do more. Please check the docstring.\n",
      "  trace = pm.sample(1000, start=start, progressbar=True, random_seed=1234)\n",
      "Auto-assigning NUTS sampler...\n",
      "Initializing NUTS using jitter+adapt_diag...\n",
      "Multiprocess sampling (4 chains in 4 jobs)\n",
      "NUTS: [theta]\n"
     ]
    },
    {
     "data": {
      "application/vnd.jupyter.widget-view+json": {
       "model_id": "49f2bd12dc6e4096ade9ea411b199dc3",
       "version_major": 2,
       "version_minor": 0
      },
      "text/plain": [
       "Output()"
      ]
     },
     "metadata": {},
     "output_type": "display_data"
    },
    {
     "data": {
      "text/html": [
       "<pre style=\"white-space:pre;overflow-x:auto;line-height:normal;font-family:Menlo,'DejaVu Sans Mono',consolas,'Courier New',monospace\"></pre>\n"
      ],
      "text/plain": []
     },
     "metadata": {},
     "output_type": "display_data"
    },
    {
     "data": {
      "text/html": [
       "<pre style=\"white-space:pre;overflow-x:auto;line-height:normal;font-family:Menlo,'DejaVu Sans Mono',consolas,'Courier New',monospace\">\n",
       "</pre>\n"
      ],
      "text/plain": [
       "\n"
      ]
     },
     "metadata": {},
     "output_type": "display_data"
    },
    {
     "name": "stderr",
     "output_type": "stream",
     "text": [
      "Sampling 4 chains for 1_000 tune and 1_000 draw iterations (4_000 + 4_000 draws total) took 15 seconds.\n"
     ]
    },
    {
     "data": {
      "text/html": [
       "<div>\n",
       "<style scoped>\n",
       "    .dataframe tbody tr th:only-of-type {\n",
       "        vertical-align: middle;\n",
       "    }\n",
       "\n",
       "    .dataframe tbody tr th {\n",
       "        vertical-align: top;\n",
       "    }\n",
       "\n",
       "    .dataframe thead th {\n",
       "        text-align: right;\n",
       "    }\n",
       "</style>\n",
       "<table border=\"1\" class=\"dataframe\">\n",
       "  <thead>\n",
       "    <tr style=\"text-align: right;\">\n",
       "      <th></th>\n",
       "      <th>mean</th>\n",
       "      <th>sd</th>\n",
       "      <th>hdi_3%</th>\n",
       "      <th>hdi_97%</th>\n",
       "      <th>mcse_mean</th>\n",
       "      <th>mcse_sd</th>\n",
       "      <th>ess_bulk</th>\n",
       "      <th>ess_tail</th>\n",
       "      <th>r_hat</th>\n",
       "    </tr>\n",
       "  </thead>\n",
       "  <tbody>\n",
       "    <tr>\n",
       "      <th>theta</th>\n",
       "      <td>114.137</td>\n",
       "      <td>8.318</td>\n",
       "      <td>98.234</td>\n",
       "      <td>129.31</td>\n",
       "      <td>0.189</td>\n",
       "      <td>0.134</td>\n",
       "      <td>1936.0</td>\n",
       "      <td>2553.0</td>\n",
       "      <td>1.0</td>\n",
       "    </tr>\n",
       "  </tbody>\n",
       "</table>\n",
       "</div>"
      ],
      "text/plain": [
       "          mean     sd  hdi_3%  hdi_97%  mcse_mean  mcse_sd  ess_bulk  \\\n",
       "theta  114.137  8.318  98.234   129.31      0.189    0.134    1936.0   \n",
       "\n",
       "       ess_tail  r_hat  \n",
       "theta    2553.0    1.0  "
      ]
     },
     "execution_count": 11,
     "metadata": {},
     "output_type": "execute_result"
    }
   ],
   "source": [
    "# MCMC 이용\n",
    "\n",
    "# 사후분포(theta | data) = 가능도(data | theta) x 사전분포(theta)\n",
    "# 베이지안 추정 : 1. 모수적 방법, 2. 비모수적 방법(MCMC 등)\n",
    "x = 120\n",
    "with pm.Model() as model:\n",
    "    theta = pm.Normal('theta', mu=100, sigma=16) # 'theta의 사전분포'는 과거에 알고 있던 모수 theta 자체의 분포를 뜻함. 정규분포 N(100, 256)\n",
    "    likelihood = pm.Normal('x', mu=theta, sigma=10, observed=x) # data의 분포가 정규분포 N(theta, 100)이므로, 'data의 가능도(data | theta)'\n",
    "\n",
    "    # 사후분포 추론\n",
    "    start = pm.find_MAP()\n",
    "    step = pm.NUTS()\n",
    "    # MCMC sampling 1000번 수행\n",
    "    trace = pm.sample(1000, start=start, progressbar=True, random_seed=1234)\n",
    "\n",
    "pm.summary(trace) # theta 사후분포의 평균은 114.024"
   ]
  },
  {
   "cell_type": "markdown",
   "metadata": {},
   "source": [
    "- 사전분포가 정규분포이고 데이터가 주어졌을 때, 사후분포의 평균은?"
   ]
  },
  {
   "cell_type": "code",
   "execution_count": 4,
   "metadata": {},
   "outputs": [
    {
     "data": {
      "application/vnd.jupyter.widget-view+json": {
       "model_id": "5eba72f4fda84454907ea06794d04162",
       "version_major": 2,
       "version_minor": 0
      },
      "text/plain": [
       "Output()"
      ]
     },
     "metadata": {},
     "output_type": "display_data"
    },
    {
     "data": {
      "text/html": [
       "<pre style=\"white-space:pre;overflow-x:auto;line-height:normal;font-family:Menlo,'DejaVu Sans Mono',consolas,'Courier New',monospace\">\n",
       "</pre>\n"
      ],
      "text/plain": [
       "\n"
      ]
     },
     "metadata": {},
     "output_type": "display_data"
    },
    {
     "data": {
      "text/html": [
       "<pre style=\"white-space:pre;overflow-x:auto;line-height:normal;font-family:Menlo,'DejaVu Sans Mono',consolas,'Courier New',monospace\"></pre>\n"
      ],
      "text/plain": []
     },
     "metadata": {},
     "output_type": "display_data"
    },
    {
     "data": {
      "text/html": [
       "<pre style=\"white-space:pre;overflow-x:auto;line-height:normal;font-family:Menlo,'DejaVu Sans Mono',consolas,'Courier New',monospace\">\n",
       "</pre>\n"
      ],
      "text/plain": [
       "\n"
      ]
     },
     "metadata": {},
     "output_type": "display_data"
    },
    {
     "name": "stderr",
     "output_type": "stream",
     "text": [
      "C:\\Users\\masta\\AppData\\Local\\Temp\\ipykernel_14044\\3858527533.py:13: FutureWarning: The `start` kwarg was renamed to `initvals` and can now do more. Please check the docstring.\n",
      "  trace = pm.sample(draws=100, tune=1000, start=start, progressbar=True, random_seed=1234)\n",
      "Auto-assigning NUTS sampler...\n",
      "Initializing NUTS using jitter+adapt_diag...\n",
      "Multiprocess sampling (4 chains in 4 jobs)\n",
      "NUTS: [theta]\n"
     ]
    },
    {
     "data": {
      "application/vnd.jupyter.widget-view+json": {
       "model_id": "002767b14e7e43e6b28e9176fbd6cf4c",
       "version_major": 2,
       "version_minor": 0
      },
      "text/plain": [
       "Output()"
      ]
     },
     "metadata": {},
     "output_type": "display_data"
    },
    {
     "data": {
      "text/html": [
       "<pre style=\"white-space:pre;overflow-x:auto;line-height:normal;font-family:Menlo,'DejaVu Sans Mono',consolas,'Courier New',monospace\"></pre>\n"
      ],
      "text/plain": []
     },
     "metadata": {},
     "output_type": "display_data"
    },
    {
     "data": {
      "text/html": [
       "<pre style=\"white-space:pre;overflow-x:auto;line-height:normal;font-family:Menlo,'DejaVu Sans Mono',consolas,'Courier New',monospace\">\n",
       "</pre>\n"
      ],
      "text/plain": [
       "\n"
      ]
     },
     "metadata": {},
     "output_type": "display_data"
    },
    {
     "name": "stderr",
     "output_type": "stream",
     "text": [
      "Sampling 4 chains for 1_000 tune and 100 draw iterations (4_000 + 400 draws total) took 16 seconds.\n",
      "The rhat statistic is larger than 1.01 for some parameters. This indicates problems during sampling. See https://arxiv.org/abs/1903.08008 for details\n",
      "The effective sample size per chain is smaller than 100 for some parameters.  A higher number is needed for reliable rhat and ess computation. See https://arxiv.org/abs/1903.08008 for details\n"
     ]
    }
   ],
   "source": [
    "import numpy as np\n",
    "\n",
    "y = np.array([5,4,8,9,1,1.5,1.7,1.8,-3,-2.1,-3.8,0.5,0.8,0.9,16,5.8,5.7,2.1,2,0.9,1.2,-0.8,-0.7,-1.8,-2.3,-3.8,-0.7,1.6])  # 사전에 주어진 예시 데이터.\n",
    "import pymc as pm\n",
    "with pm.Model() as model:\n",
    "    theta = pm.Normal('theta', mu=0)\n",
    "    likelihood = pm.Normal('y', mu=theta, observed=y)\n",
    "\n",
    "    # inference\n",
    "    start = pm.find_MAP()\n",
    "    step = pm.NUTS()\n",
    "    # Perform MCMC sampling with burn-in of 1000 and 10000 iterations(MCMC)\n",
    "    trace = pm.sample(draws=100, tune=1000, start=start, progressbar=True, random_seed=1234)"
   ]
  },
  {
   "cell_type": "code",
   "execution_count": 5,
   "metadata": {},
   "outputs": [
    {
     "data": {
      "text/html": [
       "<div>\n",
       "<style scoped>\n",
       "    .dataframe tbody tr th:only-of-type {\n",
       "        vertical-align: middle;\n",
       "    }\n",
       "\n",
       "    .dataframe tbody tr th {\n",
       "        vertical-align: top;\n",
       "    }\n",
       "\n",
       "    .dataframe thead th {\n",
       "        text-align: right;\n",
       "    }\n",
       "</style>\n",
       "<table border=\"1\" class=\"dataframe\">\n",
       "  <thead>\n",
       "    <tr style=\"text-align: right;\">\n",
       "      <th></th>\n",
       "      <th>mean</th>\n",
       "      <th>sd</th>\n",
       "      <th>hdi_3%</th>\n",
       "      <th>hdi_97%</th>\n",
       "      <th>mcse_mean</th>\n",
       "      <th>mcse_sd</th>\n",
       "      <th>ess_bulk</th>\n",
       "      <th>ess_tail</th>\n",
       "      <th>r_hat</th>\n",
       "    </tr>\n",
       "  </thead>\n",
       "  <tbody>\n",
       "    <tr>\n",
       "      <th>theta</th>\n",
       "      <td>1.74</td>\n",
       "      <td>0.18</td>\n",
       "      <td>1.364</td>\n",
       "      <td>2.053</td>\n",
       "      <td>0.014</td>\n",
       "      <td>0.01</td>\n",
       "      <td>170.0</td>\n",
       "      <td>286.0</td>\n",
       "      <td>1.01</td>\n",
       "    </tr>\n",
       "  </tbody>\n",
       "</table>\n",
       "</div>"
      ],
      "text/plain": [
       "       mean    sd  hdi_3%  hdi_97%  mcse_mean  mcse_sd  ess_bulk  ess_tail  \\\n",
       "theta  1.74  0.18   1.364    2.053      0.014     0.01     170.0     286.0   \n",
       "\n",
       "       r_hat  \n",
       "theta   1.01  "
      ]
     },
     "execution_count": 5,
     "metadata": {},
     "output_type": "execute_result"
    }
   ],
   "source": [
    "pm.summary(trace)"
   ]
  }
 ],
 "metadata": {
  "colab": {
   "provenance": []
  },
  "kernelspec": {
   "display_name": "tw311",
   "language": "python",
   "name": "tw311"
  },
  "language_info": {
   "codemirror_mode": {
    "name": "ipython",
    "version": 3
   },
   "file_extension": ".py",
   "mimetype": "text/x-python",
   "name": "python",
   "nbconvert_exporter": "python",
   "pygments_lexer": "ipython3",
   "version": "3.11.8"
  }
 },
 "nbformat": 4,
 "nbformat_minor": 4
}
