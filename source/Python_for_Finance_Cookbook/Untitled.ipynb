{
 "cells": [
  {
   "cell_type": "code",
   "execution_count": 3,
   "id": "8ec3903d-585c-45fa-a037-63ba4903d628",
   "metadata": {},
   "outputs": [
    {
     "name": "stderr",
     "output_type": "stream",
     "text": [
      "D:\\miniconda\\envs\\lang310\\lib\\site-packages\\langchain_core\\_api\\deprecation.py:139: LangChainDeprecationWarning: The method `BaseChatModel.__call__` was deprecated in langchain-core 0.1.7 and will be removed in 0.3.0. Use invoke instead.\n",
      "  warn_deprecated(\n"
     ]
    },
    {
     "name": "stdout",
     "output_type": "stream",
     "text": [
      "./chapter_3_wooseok_.ipynb 번역 완료\n"
     ]
    }
   ],
   "source": [
    "import os\n",
    "import json\n",
    "import openai\n",
    "from langchain.chat_models import ChatOpenAI\n",
    "from langchain.schema import SystemMessage, HumanMessage\n",
    "from langchain import PromptTemplate\n",
    "\n",
    "from dotenv import load_dotenv\n",
    "load_dotenv()\n",
    "\n",
    "# OpenAI API 키 설정\n",
    "\n",
    "filepath = './chapter_3_wooseok.ipynb'\n",
    "outpath = './chapter_3_wooseok_.ipynb'\n",
    "\n",
    "\n",
    "prompt_template = PromptTemplate(\n",
    "    template=\"Translate the following text from English to Korean: {line}\",\n",
    "    input_variables=[\"line\"]\n",
    ")\n",
    "\n",
    "# ChatOpenAI 인스턴스 생성\n",
    "chat_openai = ChatOpenAI(openai_api_key=os.getenv('OPENAI_API_KEY'), model=\"gpt-3.5-turbo\", temperature=0)\n",
    "\n",
    "# .ipynb 파일 읽기\n",
    "with open(filepath, 'r', encoding='utf-8') as f:\n",
    "    notebook = json.load(f)\n",
    "\n",
    "# 각 셀의 내용 번역\n",
    "for cell in notebook['cells']:\n",
    "    if cell['cell_type'] == 'code':\n",
    "        # 코드 셀은 건너뛰기\n",
    "        continue\n",
    "\n",
    "    source = cell['source']\n",
    "    if isinstance(source, list):\n",
    "        # 여러 줄인 경우\n",
    "        translated = []\n",
    "        for line in source:\n",
    "            prompt = [HumanMessage(prompt_template.format(line=line))]\n",
    "            response = chat_openai(prompt)\n",
    "            translated.append(response.content.strip())\n",
    "    else:\n",
    "        # 한 줄인 경우\n",
    "        prompt = [HumanMessage(prompt_template.format(line=source))]\n",
    "        response = chat_openai(prompt)\n",
    "        translated = [response.content.strip()]\n",
    "\n",
    "    cell['source'] = translated\n",
    "\n",
    "# 번역된 내용으로 .ipynb 파일 저장\n",
    "with open(outpath, 'w', encoding='utf-8') as f:\n",
    "    json.dump(notebook, f, ensure_ascii=False, indent=4)\n",
    "\n",
    "print(f'{outpath} 번역 완료')"
   ]
  },
  {
   "cell_type": "code",
   "execution_count": null,
   "id": "2d21ec32-6e9c-4bec-b3e5-61e7483c8273",
   "metadata": {},
   "outputs": [],
   "source": []
  }
 ],
 "metadata": {
  "kernelspec": {
   "display_name": "lang310",
   "language": "python",
   "name": "lang310"
  },
  "language_info": {
   "codemirror_mode": {
    "name": "ipython",
    "version": 3
   },
   "file_extension": ".py",
   "mimetype": "text/x-python",
   "name": "python",
   "nbconvert_exporter": "python",
   "pygments_lexer": "ipython3",
   "version": "3.10.14"
  }
 },
 "nbformat": 4,
 "nbformat_minor": 5
}
