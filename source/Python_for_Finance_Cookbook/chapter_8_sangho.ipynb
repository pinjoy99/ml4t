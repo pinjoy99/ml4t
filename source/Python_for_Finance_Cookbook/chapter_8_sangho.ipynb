{
 "cells": [
  {
   "cell_type": "markdown",
   "metadata": {
    "id": "_OEACZptdHC7"
   },
   "source": [
    "Please run those two cells before running the Notebook!\n",
    "\n",
    "As those plotting settings are standard throughout the book, we do not show them in the book every time we plot something."
   ]
  },
  {
   "cell_type": "code",
   "execution_count": 4,
   "metadata": {
    "ExecuteTime": {
     "end_time": "2020-01-29T10:48:06.120195Z",
     "start_time": "2020-01-29T10:48:05.814125Z"
    },
    "id": "_JscbREmdHC-"
   },
   "source": [
    "%matplotlib inline\n",
    "%config InlineBackend.figure_format = \"retina\""
   ]
  },
  {
   "cell_type": "code",
   "execution_count": 5,
   "metadata": {
    "ExecuteTime": {
     "end_time": "2020-01-29T10:48:13.141309Z",
     "start_time": "2020-01-29T10:48:13.137453Z"
    },
    "id": "r6OEEsWTdHDB"
   },
   "outputs": [],
   "source": [
    "import matplotlib.pyplot as plt\n",
    "import seaborn as sns\n",
    "\n",
    "import warnings\n",
    "from pandas.errors import SettingWithCopyWarning\n",
    "warnings.simplefilter(action=\"ignore\", category=FutureWarning)\n",
    "warnings.simplefilter(action=\"ignore\", category=SettingWithCopyWarning)\n",
    "\n",
    "# feel free to modify, for example, change the context to \"notebook\"\n",
    "sns.set_theme(context=\"talk\", style=\"whitegrid\", \n",
    "              palette=\"colorblind\", color_codes=True, \n",
    "              rc={\"figure.figsize\": [12, 8]})"
   ]
  },
  {
   "cell_type": "markdown",
   "metadata": {
    "id": "nS3hr1kUdHDB"
   },
   "source": [
    "# Chapter 8 - Multi-Factor Models"
   ]
  },
  {
   "cell_type": "markdown",
   "metadata": {},
   "source": [
    "이 장은 다양한 팩터 모델을 추정하는 것에 중점을 두고 있습니다. 팩터란 과거에 (미래의) 주식 수익률과 상관관계가 있었으며, 미래에도 동일한 예측 신호를 포함할 것으로 예상되는 변수나 속성을 말합니다. 이러한 리스크 팩터는 (예상되는) 수익률의 횡단면을 이해하는 도구로 간주될 수 있습니다. 그래서 여러 가지 팩터 모델이 포트폴리오나 자산의 초과 수익률(무위험 수익률을 초과한 수익률)을 하나 이상의 팩터를 사용해 설명하는 데 사용됩니다. 팩터는 이러한 초과 수익률의 원동력이 되는 리스크의 원천으로 생각할 수 있습니다. 각 팩터는 리스크 프리미엄을 지니고 있으며, 전체 포트폴리오나 자산의 수익률은 이러한 프리미엄들의 가중 평균으로 결정됩니다.\n",
    "\n",
    "팩터 모델은 포트폴리오 관리에서 매우 중요한 역할을 합니다. 그 이유는 다음과 같습니다:\n",
    "\n",
    "투자 포트폴리오에 추가할 수 있는 흥미로운 자산을 식별하는 데 사용될 수 있으며, 이는 더 성과가 좋은 포트폴리오로 이어질 수 있습니다. 포트폴리오나 자산이 팩터에 노출된 정도를 추정함으로써 더 나은 리스크 관리가 가능합니다. 새로운 리스크 팩터를 추가함으로써 발생하는 잠재적인 추가 가치를 평가하는 데 모델을 사용할 수 있습니다. 많은 자산의 수익률을 적은 수의 팩터로 요약하면 공분산 행렬을 추정하는 데 필요한 데이터의 양이 줄어들어 포트폴리오 최적화가 더 쉬워집니다. 포트폴리오 매니저의 성과를 평가할 때, 그 성과가 자산 선택과 거래 타이밍에 의한 것인지, 또는 알려진 수익률 동인(팩터)에 대한 노출에 의한 것인지 평가할 수 있습니다. 이 장의 끝에서는 가장 널리 사용되는 팩터 모델 중 일부를 구축할 것입니다. 우리는 가장 단순하지만 매우 인기 있는 1팩터 모델(해당 팩터가 시장 수익률일 때 자본 자산 가격 결정 모델과 동일함)부터 시작하여, 더 발전된 3팩터, 4팩터, 5팩터 모델을 추정하는 방법을 설명할 것입니다. 또한 이러한 팩터들이 무엇을 의미하는지 해석하고, 이들이 어떻게 구성되는지에 대한 고수준의 개요를 제공할 것입니다.\n",
    "\n",
    "이 장에서 다루는 내용은 다음과 같습니다:\n",
    "\n",
    "    - CAPM 추정\n",
    "    - Fama-French 3팩터 모델 추정\n",
    "    - 자산 포트폴리오에 대한 롤링 3팩터 모델 추정\n",
    "    - 4팩터 및 5팩터 모델 추정\n",
    "    - Fama-MacBeth 회귀를 사용한 횡단면 팩터 모델 추정"
   ]
  },
  {
   "cell_type": "markdown",
   "metadata": {},
   "source": [
    "## 8.1 Estimating the CAPM"
   ]
  },
  {
   "cell_type": "markdown",
   "metadata": {},
   "source": [
    "**자본자산가격결정모형(CAPM)**을 추정하고 베타 계수를 구하는 방법을 알아봅니다. 이 모델은 위험 자산과 시장 위험(체계적 또는 분산 불가능한 위험으로도 알려짐) 간의 관계를 나타냅니다. CAPM은 복잡한 요인 모형 위에 구축된 단일 요인 모형으로 간주될 수 있습니다.\n",
    "\n",
    "CAPM은 다음과 같은 방정식으로 표현됩니다:\n",
    "\n",
    "𝐸(𝑟𝑖) = 𝑟𝑓 + 𝛽𝑖(𝐸(𝑟𝑚) − 𝑟𝑓)\n",
    "\n",
    "여기서, 𝐸(𝑟𝑖)는 자산 i에 대한 기대 수익률을 나타내고, 𝑟𝑓는 무위험 이자율(예: 정부 채권)입니다. 𝐸(𝑟𝑚)은 시장의 기대 수익률을 나타내며, 𝛽는 베타 계수입니다.\n",
    "\n",
    "**베타**는 자산 수익률의 민감도를 시장에 대한 기준으로 해석할 수 있습니다. 아래는 계수에 대한 가능한 해석을 나타냅니다:\n",
    "\n",
    "- 𝛽 < -1: 자산이 벤치마크와 반대 방향으로 움직이며 벤치마크보다 더 큰 폭으로 변동합니다.\n",
    "- -1 < 𝛽 < 0: 자산이 벤치마크와 반대 방향으로 움직입니다.\n",
    "- 𝛽 = 0: 자산의 가격 움직임과 시장 벤치마크 간에 상관관계가 없습니다.\n",
    "- 0 < 𝛽 < 1: 자산이 시장과 같은 방향으로 움직이지만, 그 정도는 더 작습니다. 예시로는 일일 변동성에 크게 민감하지 않은 회사의 주식이 있습니다.\n",
    "- 𝛽 = 1: 자산과 시장이 동일한 방향과 동일한 크기로 움직입니다.\n",
    "- 𝛽 > 1: 자산이 시장과 같은 방향으로 움직이지만, 그 크기는 더 큽니다. 예시로는 일일 시장 뉴스에 매우 민감한 회사의 주식이 있을 수 있습니다.\n",
    "\n",
    "CAPM은 다음과 같이 다시 표현될 수 있습니다:\n",
    "\n",
    "𝐸(𝑟𝑖) - 𝑟𝑓 =  + 𝛽𝑖(𝐸(𝑟𝑚) − 𝑟𝑓)\n",
    "\n",
    "이 방정식에서, 방정식의 왼쪽은 위험 프리미엄으로 해석될 수 있으며, 오른쪽은 시장 프리미엄을 포함하고 있습니다. 동일한 방정식은 다음과 같이 다시 정리될 수 있습니다:\n",
    "\n",
    "𝛽 = cov(ri, rm) / var(rm)\n",
    "\n",
    "여기서, \\( R_i = E(r_i) - r_f \\)이고, \\( R_m = E(r_m) - r_f \\)입니다.\n",
    "\n",
    "--- \n",
    "\n",
    "위 내용은 CAPM(자본자산가격결정모형)에 대한 설명과 베타 계수의 해석을 다룹니다."
   ]
  },
  {
   "cell_type": "markdown",
   "metadata": {},
   "source": [
    "### How to do it..."
   ]
  },
  {
   "cell_type": "markdown",
   "metadata": {},
   "source": [
    "1. Import the libraries:"
   ]
  },
  {
   "cell_type": "code",
   "execution_count": 6,
   "metadata": {
    "ExecuteTime": {
     "end_time": "2020-01-25T20:04:31.496882Z",
     "start_time": "2020-01-25T20:04:29.060580Z"
    }
   },
   "outputs": [],
   "source": [
    "import pandas as pd\n",
    "import yfinance as yf\n",
    "# import statsmodels as sm\n",
    "import statsmodels.api as sm\n",
    "from statsmodels.tools import add_constant"
   ]
  },
  {
   "cell_type": "markdown",
   "metadata": {},
   "source": [
    "2. Specify the risky asset, the benchmark, and the time horizon:"
   ]
  },
  {
   "cell_type": "code",
   "execution_count": 7,
   "metadata": {
    "ExecuteTime": {
     "end_time": "2020-01-25T20:04:31.508134Z",
     "start_time": "2020-01-25T20:04:31.505324Z"
    }
   },
   "outputs": [],
   "source": [
    "RISKY_ASSET = \"AMZN\"\n",
    "MARKET_BENCHMARK = \"^GSPC\"\n",
    "START_DATE = \"2016-01-01\"\n",
    "END_DATE = \"2020-12-31\""
   ]
  },
  {
   "cell_type": "markdown",
   "metadata": {},
   "source": [
    "3. Download data from Yahoo Finance:"
   ]
  },
  {
   "cell_type": "code",
   "execution_count": 8,
   "metadata": {
    "ExecuteTime": {
     "end_time": "2020-01-25T20:04:31.755119Z",
     "start_time": "2020-01-25T20:04:31.516384Z"
    }
   },
   "outputs": [
    {
     "name": "stdout",
     "output_type": "stream",
     "text": [
      "Downloaded 1259 rows of data.\n"
     ]
    }
   ],
   "source": [
    "df = yf.download([RISKY_ASSET, MARKET_BENCHMARK],\n",
    "                 start=START_DATE,\n",
    "                 end=END_DATE,\n",
    "                #  adjusted=True,\n",
    "                 progress=False)\n",
    "\n",
    "print(f'Downloaded {df.shape[0]} rows of data.')"
   ]
  },
  {
   "cell_type": "markdown",
   "metadata": {},
   "source": [
    "4. Resample to monthly data and calculate simple returns:"
   ]
  },
  {
   "cell_type": "code",
   "execution_count": 9,
   "metadata": {
    "ExecuteTime": {
     "end_time": "2020-01-25T20:04:53.657590Z",
     "start_time": "2020-01-25T20:04:53.620402Z"
    }
   },
   "outputs": [
    {
     "data": {
      "text/html": [
       "<div>\n",
       "<style scoped>\n",
       "    .dataframe tbody tr th:only-of-type {\n",
       "        vertical-align: middle;\n",
       "    }\n",
       "\n",
       "    .dataframe tbody tr th {\n",
       "        vertical-align: top;\n",
       "    }\n",
       "\n",
       "    .dataframe thead th {\n",
       "        text-align: right;\n",
       "    }\n",
       "</style>\n",
       "<table border=\"1\" class=\"dataframe\">\n",
       "  <thead>\n",
       "    <tr style=\"text-align: right;\">\n",
       "      <th></th>\n",
       "      <th>asset</th>\n",
       "      <th>market</th>\n",
       "    </tr>\n",
       "    <tr>\n",
       "      <th>Date</th>\n",
       "      <th></th>\n",
       "      <th></th>\n",
       "    </tr>\n",
       "  </thead>\n",
       "  <tbody>\n",
       "    <tr>\n",
       "      <th>2016-01-31</th>\n",
       "      <td>-0.131515</td>\n",
       "      <td>-0.050735</td>\n",
       "    </tr>\n",
       "    <tr>\n",
       "      <th>2016-02-29</th>\n",
       "      <td>-0.058739</td>\n",
       "      <td>-0.004128</td>\n",
       "    </tr>\n",
       "    <tr>\n",
       "      <th>2016-03-31</th>\n",
       "      <td>0.074423</td>\n",
       "      <td>0.065991</td>\n",
       "    </tr>\n",
       "    <tr>\n",
       "      <th>2016-04-30</th>\n",
       "      <td>0.111094</td>\n",
       "      <td>0.002699</td>\n",
       "    </tr>\n",
       "    <tr>\n",
       "      <th>2016-05-31</th>\n",
       "      <td>0.095817</td>\n",
       "      <td>0.015325</td>\n",
       "    </tr>\n",
       "  </tbody>\n",
       "</table>\n",
       "</div>"
      ],
      "text/plain": [
       "               asset    market\n",
       "Date                          \n",
       "2016-01-31 -0.131515 -0.050735\n",
       "2016-02-29 -0.058739 -0.004128\n",
       "2016-03-31  0.074423  0.065991\n",
       "2016-04-30  0.111094  0.002699\n",
       "2016-05-31  0.095817  0.015325"
      ]
     },
     "execution_count": 9,
     "metadata": {},
     "output_type": "execute_result"
    }
   ],
   "source": [
    "X = (\n",
    "    df[\"Adj Close\"]\n",
    "    .rename(columns={RISKY_ASSET: \"asset\", \n",
    "                     MARKET_BENCHMARK: \"market\"})\n",
    "    .resample(\"ME\")\n",
    "    .last()\n",
    "    .pct_change()\n",
    "    .dropna()\n",
    ")\n",
    "X.head()"
   ]
  },
  {
   "cell_type": "markdown",
   "metadata": {
    "ExecuteTime": {
     "end_time": "2019-07-17T21:29:46.889870Z",
     "start_time": "2019-07-17T21:29:46.886160Z"
    }
   },
   "source": [
    "5. Calculate beta using the covariance approach: "
   ]
  },
  {
   "cell_type": "code",
   "execution_count": 10,
   "metadata": {
    "ExecuteTime": {
     "end_time": "2020-01-19T19:54:06.705710Z",
     "start_time": "2020-01-19T19:54:06.699353Z"
    }
   },
   "outputs": [
    {
     "data": {
      "text/plain": [
       "1.2034611811489746"
      ]
     },
     "execution_count": 10,
     "metadata": {},
     "output_type": "execute_result"
    }
   ],
   "source": [
    "covariance = X.cov().iloc[0,1]\n",
    "benchmark_variance = X.market.var()\n",
    "beta = covariance / benchmark_variance\n",
    "beta"
   ]
  },
  {
   "cell_type": "markdown",
   "metadata": {},
   "source": [
    "6. Prepare the input and estimate CAPM as a linear regression:"
   ]
  },
  {
   "cell_type": "markdown",
   "metadata": {},
   "source": [
    "OLS(Ordinary Least Squares)"
   ]
  },
  {
   "cell_type": "code",
   "execution_count": 11,
   "metadata": {
    "ExecuteTime": {
     "end_time": "2020-01-19T19:54:09.193249Z",
     "start_time": "2020-01-19T19:54:09.170750Z"
    }
   },
   "outputs": [
    {
     "name": "stdout",
     "output_type": "stream",
     "text": [
      "                            OLS Regression Results                            \n",
      "==============================================================================\n",
      "Dep. Variable:                  asset   R-squared:                       0.408\n",
      "Model:                            OLS   Adj. R-squared:                  0.398\n",
      "Method:                 Least Squares   F-statistic:                     40.05\n",
      "Date:                Mon, 30 Sep 2024   Prob (F-statistic):           3.89e-08\n",
      "Time:                        17:14:20   Log-Likelihood:                 80.639\n",
      "No. Observations:                  60   AIC:                            -157.3\n",
      "Df Residuals:                      58   BIC:                            -153.1\n",
      "Df Model:                           1                                         \n",
      "Covariance Type:            nonrobust                                         \n",
      "==============================================================================\n",
      "                 coef    std err          t      P>|t|      [0.025      0.975]\n",
      "------------------------------------------------------------------------------\n",
      "const          0.0167      0.009      1.953      0.056      -0.000       0.034\n",
      "market         1.2035      0.190      6.329      0.000       0.823       1.584\n",
      "==============================================================================\n",
      "Omnibus:                        2.202   Durbin-Watson:                   1.783\n",
      "Prob(Omnibus):                  0.333   Jarque-Bera (JB):                1.814\n",
      "Skew:                           0.426   Prob(JB):                        0.404\n",
      "Kurtosis:                       2.989   Cond. No.                         23.0\n",
      "==============================================================================\n",
      "\n",
      "Notes:\n",
      "[1] Standard Errors assume that the covariance matrix of the errors is correctly specified.\n"
     ]
    }
   ],
   "source": [
    "# separate target\n",
    "y = X.pop(\"asset\")\n",
    "\n",
    "# add constant\n",
    "X = sm.add_constant(X)\n",
    "\n",
    "# define and fit the regression model \n",
    "capm_model = sm.OLS(y, X).fit()\n",
    "\n",
    "# print results \n",
    "print(capm_model.summary())"
   ]
  },
  {
   "cell_type": "markdown",
   "metadata": {},
   "source": [
    "Or, using the formula notation:"
   ]
  },
  {
   "cell_type": "code",
   "execution_count": 12,
   "metadata": {},
   "outputs": [
    {
     "name": "stdout",
     "output_type": "stream",
     "text": [
      "                            OLS Regression Results                            \n",
      "==============================================================================\n",
      "Dep. Variable:                  asset   R-squared:                       0.408\n",
      "Model:                            OLS   Adj. R-squared:                  0.398\n",
      "Method:                 Least Squares   F-statistic:                     40.05\n",
      "Date:                Mon, 30 Sep 2024   Prob (F-statistic):           3.89e-08\n",
      "Time:                        17:14:21   Log-Likelihood:                 80.639\n",
      "No. Observations:                  60   AIC:                            -157.3\n",
      "Df Residuals:                      58   BIC:                            -153.1\n",
      "Df Model:                           1                                         \n",
      "Covariance Type:            nonrobust                                         \n",
      "==============================================================================\n",
      "                 coef    std err          t      P>|t|      [0.025      0.975]\n",
      "------------------------------------------------------------------------------\n",
      "Intercept      0.0167      0.009      1.953      0.056      -0.000       0.034\n",
      "market         1.2035      0.190      6.329      0.000       0.823       1.584\n",
      "==============================================================================\n",
      "Omnibus:                        2.202   Durbin-Watson:                   1.783\n",
      "Prob(Omnibus):                  0.333   Jarque-Bera (JB):                1.814\n",
      "Skew:                           0.426   Prob(JB):                        0.404\n",
      "Kurtosis:                       2.989   Cond. No.                         23.0\n",
      "==============================================================================\n",
      "\n",
      "Notes:\n",
      "[1] Standard Errors assume that the covariance matrix of the errors is correctly specified.\n"
     ]
    }
   ],
   "source": [
    "import statsmodels.formula.api as smf\n",
    "\n",
    "# rerun step 4 to have a DF with columns: `asset` and `market`\n",
    "X = df[\"Adj Close\"].rename(columns={RISKY_ASSET: \"asset\", \n",
    "                                    MARKET_BENCHMARK: \"market\"}) \\\n",
    "                   .resample(\"ME\") \\\n",
    "                   .last() \\\n",
    "                   .pct_change() \\\n",
    "                   .dropna()\n",
    "\n",
    "# define and fit the regression model \n",
    "capm_model = smf.ols(formula=\"asset ~ market\", data=X).fit()\n",
    "\n",
    "# print results \n",
    "print(capm_model.summary())"
   ]
  },
  {
   "cell_type": "markdown",
   "metadata": {},
   "source": [
    "이 결과는 베타(여기서는 시장으로 표시됨)가 1.2와 같다는 것을 나타냅니다. 이는 아마존의 수익률이 시장(S&P 500을 기준으로 함)보다 20% 더 변동성이 크다는 의미입니다. 다시 말해, 아마존의 초과 수익률은 시장의 초과 수익률에 비해 1.2배 움직일 것으로 예상된다는 뜻입니다. 절편의 값은 비교적 작으며 5% 유의 수준에서 통계적으로 유의미하지 않습니다."
   ]
  },
  {
   "cell_type": "markdown",
   "metadata": {},
   "source": [
    "### There's more"
   ]
  },
  {
   "cell_type": "markdown",
   "metadata": {},
   "source": [
    "#### Risk-free rate (13 Week Treasury Bill)"
   ]
  },
  {
   "cell_type": "code",
   "execution_count": 13,
   "metadata": {
    "ExecuteTime": {
     "end_time": "2020-01-25T20:30:02.795490Z",
     "start_time": "2020-01-25T20:29:57.736730Z"
    }
   },
   "outputs": [
    {
     "data": {
      "image/png": "[encoded data removed]",
      "text/plain": [
       "<Figure size 864x576 with 1 Axes>"
      ]
     },
     "metadata": {
      "image/png": {
       "height": 548,
       "width": 839
      }
     },
     "output_type": "display_data"
    }
   ],
   "source": [
    "# period length in days\n",
    "N_DAYS = 90\n",
    "\n",
    "# download data from Yahoo finance\n",
    "df_rf = yf.download(\"^IRX\",\n",
    "                    start=START_DATE,\n",
    "                    end=END_DATE,\n",
    "                    progress=False)\n",
    "\n",
    "# resample to monthly by taking last value from each month\n",
    "rf = df_rf.resample(\"ME\").last().Close / 100\n",
    "\n",
    "# calculate the corresponding daily risk-free return  \n",
    "rf = ( 1 / (1 - rf * N_DAYS / 360) )**(1 / N_DAYS)  \n",
    "\n",
    "# convert to monthly and subtract 1\n",
    "rf = (rf ** 30) - 1 \n",
    "\n",
    "# plot the risk-free rate\n",
    "rf.plot(title=\"Risk-free rate (13 Week Treasury Bill)\")\n",
    "\n",
    "sns.despine()\n",
    "plt.tight_layout()\n",
    "# plt.savefig(\"images/figure_9_2\", dpi=200)"
   ]
  },
  {
   "cell_type": "markdown",
   "metadata": {},
   "source": [
    "#### Risk-free rate (3-Month Treasury Bill)"
   ]
  },
  {
   "cell_type": "code",
   "execution_count": 14,
   "metadata": {
    "ExecuteTime": {
     "end_time": "2020-01-25T20:30:19.688513Z",
     "start_time": "2020-01-25T20:30:13.722057Z"
    }
   },
   "outputs": [
    {
     "data": {
      "image/png": "[encoded data removed]",
      "text/plain": [
       "<Figure size 864x576 with 1 Axes>"
      ]
     },
     "metadata": {
      "image/png": {
       "height": 548,
       "width": 839
      }
     },
     "output_type": "display_data"
    }
   ],
   "source": [
    "import pandas_datareader.data as web\n",
    "\n",
    "# download the data \n",
    "rf = web.DataReader(\n",
    "    \"TB3MS\", \"fred\", start=START_DATE, end=END_DATE\n",
    ")\n",
    "\n",
    "# convert to monthly\n",
    "rf = (1 + (rf / 100)) ** (1 / 12) - 1\n",
    "\n",
    "# plot the risk-free rate\n",
    "rf.plot(title=\"Risk-free rate (3-Month Treasury Bill)\")\n",
    "\n",
    "sns.despine()\n",
    "plt.tight_layout()\n",
    "# plt.savefig(\"images/figure_9_3\", dpi=200)"
   ]
  },
  {
   "cell_type": "markdown",
   "metadata": {},
   "source": [
    "## 8.2 Estimating the Fama-French three-factor model"
   ]
  },
  {
   "cell_type": "markdown",
   "metadata": {},
   "source": [
    "시장 요인 (MKT): 이는 시장의 초과 수익률을 측정하며, CAPM에서의 것과 유사합니다.\n",
    "규모 요인 (SMB; Small Minus Big): 이는 소형 시가총액 주식의 초과 수익률을 대형 시가총액 주식에 비해 측정합니다.\n",
    "가치 요인 (HML; High Minus Low): 이는 가치주가 성장주에 비해 갖는 초과 수익률을 측정합니다. 가치주는 장부가 대비 시장가 비율이 높고, 성장주는 이 비율이 낮은 것이 특징입니다."
   ]
  },
  {
   "cell_type": "markdown",
   "metadata": {},
   "source": [
    "### How to do it..."
   ]
  },
  {
   "cell_type": "markdown",
   "metadata": {},
   "source": [
    "1. Import the libraries:"
   ]
  },
  {
   "cell_type": "code",
   "execution_count": 15,
   "metadata": {
    "ExecuteTime": {
     "end_time": "2020-01-25T20:45:47.696443Z",
     "start_time": "2020-01-25T20:45:47.693642Z"
    }
   },
   "outputs": [],
   "source": [
    "import pandas as pd\n",
    "import yfinance as yf\n",
    "import statsmodels.formula.api as smf\n",
    "import pandas_datareader.data as web"
   ]
  },
  {
   "cell_type": "markdown",
   "metadata": {},
   "source": [
    "2. Define parameters:"
   ]
  },
  {
   "cell_type": "code",
   "execution_count": 16,
   "metadata": {},
   "outputs": [],
   "source": [
    "RISKY_ASSET = \"AAPL\"\n",
    "START_DATE = \"2016-01-01\"\n",
    "END_DATE = \"2020-12-31\""
   ]
  },
  {
   "cell_type": "markdown",
   "metadata": {},
   "source": [
    "3. Download the dataset containing the risk factors:"
   ]
  },
  {
   "cell_type": "code",
   "execution_count": 17,
   "metadata": {
    "ExecuteTime": {
     "end_time": "2020-01-25T21:00:16.771198Z",
     "start_time": "2020-01-25T21:00:16.468270Z"
    }
   },
   "outputs": [],
   "source": [
    "ff_dict = web.DataReader(\"F-F_Research_Data_Factors\", \n",
    "                         \"famafrench\", \n",
    "                         start=START_DATE,\n",
    "                         end=END_DATE)"
   ]
  },
  {
   "cell_type": "code",
   "execution_count": 18,
   "metadata": {
    "ExecuteTime": {
     "end_time": "2020-01-25T21:00:16.826373Z",
     "start_time": "2020-01-25T21:00:16.822776Z"
    }
   },
   "outputs": [
    {
     "data": {
      "text/plain": [
       "dict_keys([0, 1, 'DESCR'])"
      ]
     },
     "execution_count": 18,
     "metadata": {},
     "output_type": "execute_result"
    }
   ],
   "source": [
    "ff_dict.keys()"
   ]
  },
  {
   "cell_type": "code",
   "execution_count": 19,
   "metadata": {
    "ExecuteTime": {
     "end_time": "2020-01-25T21:00:16.887440Z",
     "start_time": "2020-01-25T21:00:16.882970Z"
    }
   },
   "outputs": [
    {
     "name": "stdout",
     "output_type": "stream",
     "text": [
      "F-F Research Data Factors\n",
      "-------------------------\n",
      "\n",
      "This file was created by CMPT_ME_BEME_RETS using the 202407 CRSP database. The 1-month TBill rate data until 202405 are from Ibbotson Associates. Starting from 202406, the 1-month TBill rate is from ICE BofA US 1-Month Treasury Bill Index. Copyright 2024 Kenneth R. French\n",
      "\n",
      "  0 : (60 rows x 4 cols)\n",
      "  1 : Annual Factors: January-December (5 rows x 4 cols)\n"
     ]
    }
   ],
   "source": [
    "print(ff_dict['DESCR'])"
   ]
  },
  {
   "cell_type": "markdown",
   "metadata": {},
   "source": [
    "4. Select the appropriate dataset and divide the values by 100:"
   ]
  },
  {
   "cell_type": "code",
   "execution_count": 20,
   "metadata": {},
   "outputs": [
    {
     "data": {
      "text/html": [
       "<div>\n",
       "<style scoped>\n",
       "    .dataframe tbody tr th:only-of-type {\n",
       "        vertical-align: middle;\n",
       "    }\n",
       "\n",
       "    .dataframe tbody tr th {\n",
       "        vertical-align: top;\n",
       "    }\n",
       "\n",
       "    .dataframe thead th {\n",
       "        text-align: right;\n",
       "    }\n",
       "</style>\n",
       "<table border=\"1\" class=\"dataframe\">\n",
       "  <thead>\n",
       "    <tr style=\"text-align: right;\">\n",
       "      <th></th>\n",
       "      <th>MKT</th>\n",
       "      <th>SMB</th>\n",
       "      <th>HML</th>\n",
       "      <th>RF</th>\n",
       "    </tr>\n",
       "    <tr>\n",
       "      <th>Date</th>\n",
       "      <th></th>\n",
       "      <th></th>\n",
       "      <th></th>\n",
       "      <th></th>\n",
       "    </tr>\n",
       "  </thead>\n",
       "  <tbody>\n",
       "    <tr>\n",
       "      <th>2016-01</th>\n",
       "      <td>-0.0577</td>\n",
       "      <td>-0.0342</td>\n",
       "      <td>0.0209</td>\n",
       "      <td>0.0001</td>\n",
       "    </tr>\n",
       "    <tr>\n",
       "      <th>2016-02</th>\n",
       "      <td>-0.0007</td>\n",
       "      <td>0.0074</td>\n",
       "      <td>-0.0057</td>\n",
       "      <td>0.0002</td>\n",
       "    </tr>\n",
       "    <tr>\n",
       "      <th>2016-03</th>\n",
       "      <td>0.0696</td>\n",
       "      <td>0.0082</td>\n",
       "      <td>0.0119</td>\n",
       "      <td>0.0002</td>\n",
       "    </tr>\n",
       "    <tr>\n",
       "      <th>2016-04</th>\n",
       "      <td>0.0091</td>\n",
       "      <td>0.0076</td>\n",
       "      <td>0.0328</td>\n",
       "      <td>0.0001</td>\n",
       "    </tr>\n",
       "    <tr>\n",
       "      <th>2016-05</th>\n",
       "      <td>0.0178</td>\n",
       "      <td>-0.0017</td>\n",
       "      <td>-0.0166</td>\n",
       "      <td>0.0001</td>\n",
       "    </tr>\n",
       "  </tbody>\n",
       "</table>\n",
       "</div>"
      ],
      "text/plain": [
       "            MKT     SMB     HML      RF\n",
       "Date                                   \n",
       "2016-01 -0.0577 -0.0342  0.0209  0.0001\n",
       "2016-02 -0.0007  0.0074 -0.0057  0.0002\n",
       "2016-03  0.0696  0.0082  0.0119  0.0002\n",
       "2016-04  0.0091  0.0076  0.0328  0.0001\n",
       "2016-05  0.0178 -0.0017 -0.0166  0.0001"
      ]
     },
     "execution_count": 20,
     "metadata": {},
     "output_type": "execute_result"
    }
   ],
   "source": [
    "factor_3_df = ff_dict[0].rename(columns={\"Mkt-RF\": \"MKT\"}) \\\n",
    "                        .div(100)\n",
    "\n",
    "factor_3_df.head()"
   ]
  },
  {
   "cell_type": "markdown",
   "metadata": {},
   "source": [
    "5. Download the prices of the risky asset:"
   ]
  },
  {
   "cell_type": "code",
   "execution_count": 21,
   "metadata": {
    "ExecuteTime": {
     "end_time": "2020-01-25T20:48:48.281828Z",
     "start_time": "2020-01-25T20:48:48.103450Z"
    }
   },
   "outputs": [
    {
     "name": "stdout",
     "output_type": "stream",
     "text": [
      "Downloaded 1259 rows of data.\n"
     ]
    }
   ],
   "source": [
    "asset_df = yf.download(RISKY_ASSET,\n",
    "                       start=START_DATE,\n",
    "                       end=END_DATE,\n",
    "                    #    adjusted=True,\n",
    "                       progress=False)\n",
    "\n",
    "print(f\"Downloaded {asset_df.shape[0]} rows of data.\")"
   ]
  },
  {
   "cell_type": "markdown",
   "metadata": {
    "ExecuteTime": {
     "end_time": "2019-07-05T18:30:40.781647Z",
     "start_time": "2019-07-05T18:30:40.778104Z"
    }
   },
   "source": [
    "6. Calculate monthly returns on the risky asset:"
   ]
  },
  {
   "cell_type": "code",
   "execution_count": 22,
   "metadata": {
    "ExecuteTime": {
     "end_time": "2020-01-25T20:48:51.665914Z",
     "start_time": "2020-01-25T20:48:51.651938Z"
    }
   },
   "outputs": [
    {
     "data": {
      "text/plain": [
       "Date\n",
       "2016-01   -0.075242\n",
       "2016-02   -0.001287\n",
       "2016-03    0.127210\n",
       "2016-04   -0.139921\n",
       "2016-05    0.071773\n",
       "Freq: M, Name: rtn, dtype: float64"
      ]
     },
     "execution_count": 22,
     "metadata": {},
     "output_type": "execute_result"
    }
   ],
   "source": [
    "y = asset_df[\"Adj Close\"].resample(\"M\") \\\n",
    "                         .last() \\\n",
    "                         .pct_change() \\\n",
    "                         .dropna()\n",
    "\n",
    "y.index = y.index.to_period(\"m\")\n",
    "y.name = \"rtn\"\n",
    "y.head()"
   ]
  },
  {
   "cell_type": "markdown",
   "metadata": {},
   "source": [
    "7. Merge the datasets and calculate excess returns:"
   ]
  },
  {
   "cell_type": "code",
   "execution_count": 23,
   "metadata": {
    "ExecuteTime": {
     "end_time": "2020-01-25T20:50:09.167046Z",
     "start_time": "2020-01-25T20:50:09.162415Z"
    }
   },
   "outputs": [
    {
     "data": {
      "text/html": [
       "<div>\n",
       "<style scoped>\n",
       "    .dataframe tbody tr th:only-of-type {\n",
       "        vertical-align: middle;\n",
       "    }\n",
       "\n",
       "    .dataframe tbody tr th {\n",
       "        vertical-align: top;\n",
       "    }\n",
       "\n",
       "    .dataframe thead th {\n",
       "        text-align: right;\n",
       "    }\n",
       "</style>\n",
       "<table border=\"1\" class=\"dataframe\">\n",
       "  <thead>\n",
       "    <tr style=\"text-align: right;\">\n",
       "      <th></th>\n",
       "      <th>MKT</th>\n",
       "      <th>SMB</th>\n",
       "      <th>HML</th>\n",
       "      <th>RF</th>\n",
       "      <th>rtn</th>\n",
       "      <th>excess_rtn</th>\n",
       "    </tr>\n",
       "    <tr>\n",
       "      <th>Date</th>\n",
       "      <th></th>\n",
       "      <th></th>\n",
       "      <th></th>\n",
       "      <th></th>\n",
       "      <th></th>\n",
       "      <th></th>\n",
       "    </tr>\n",
       "  </thead>\n",
       "  <tbody>\n",
       "    <tr>\n",
       "      <th>2016-01</th>\n",
       "      <td>-0.0577</td>\n",
       "      <td>-0.0342</td>\n",
       "      <td>0.0209</td>\n",
       "      <td>0.0001</td>\n",
       "      <td>-0.075242</td>\n",
       "      <td>-0.075342</td>\n",
       "    </tr>\n",
       "    <tr>\n",
       "      <th>2016-02</th>\n",
       "      <td>-0.0007</td>\n",
       "      <td>0.0074</td>\n",
       "      <td>-0.0057</td>\n",
       "      <td>0.0002</td>\n",
       "      <td>-0.001287</td>\n",
       "      <td>-0.001487</td>\n",
       "    </tr>\n",
       "    <tr>\n",
       "      <th>2016-03</th>\n",
       "      <td>0.0696</td>\n",
       "      <td>0.0082</td>\n",
       "      <td>0.0119</td>\n",
       "      <td>0.0002</td>\n",
       "      <td>0.127210</td>\n",
       "      <td>0.127010</td>\n",
       "    </tr>\n",
       "    <tr>\n",
       "      <th>2016-04</th>\n",
       "      <td>0.0091</td>\n",
       "      <td>0.0076</td>\n",
       "      <td>0.0328</td>\n",
       "      <td>0.0001</td>\n",
       "      <td>-0.139921</td>\n",
       "      <td>-0.140021</td>\n",
       "    </tr>\n",
       "    <tr>\n",
       "      <th>2016-05</th>\n",
       "      <td>0.0178</td>\n",
       "      <td>-0.0017</td>\n",
       "      <td>-0.0166</td>\n",
       "      <td>0.0001</td>\n",
       "      <td>0.071773</td>\n",
       "      <td>0.071673</td>\n",
       "    </tr>\n",
       "  </tbody>\n",
       "</table>\n",
       "</div>"
      ],
      "text/plain": [
       "            MKT     SMB     HML      RF       rtn  excess_rtn\n",
       "Date                                                         \n",
       "2016-01 -0.0577 -0.0342  0.0209  0.0001 -0.075242   -0.075342\n",
       "2016-02 -0.0007  0.0074 -0.0057  0.0002 -0.001287   -0.001487\n",
       "2016-03  0.0696  0.0082  0.0119  0.0002  0.127210    0.127010\n",
       "2016-04  0.0091  0.0076  0.0328  0.0001 -0.139921   -0.140021\n",
       "2016-05  0.0178 -0.0017 -0.0166  0.0001  0.071773    0.071673"
      ]
     },
     "execution_count": 23,
     "metadata": {},
     "output_type": "execute_result"
    }
   ],
   "source": [
    "factor_3_df = factor_3_df.join(y)\n",
    "factor_3_df[\"excess_rtn\"] = (\n",
    "    factor_3_df[\"rtn\"] - factor_3_df[\"RF\"]\n",
    ")\n",
    "factor_3_df.head()"
   ]
  },
  {
   "cell_type": "markdown",
   "metadata": {},
   "source": [
    "8. Estimate the three-factor model:"
   ]
  },
  {
   "cell_type": "code",
   "execution_count": 24,
   "metadata": {
    "ExecuteTime": {
     "end_time": "2020-01-25T20:50:09.789755Z",
     "start_time": "2020-01-25T20:50:09.762734Z"
    }
   },
   "outputs": [
    {
     "name": "stdout",
     "output_type": "stream",
     "text": [
      "                            OLS Regression Results                            \n",
      "==============================================================================\n",
      "Dep. Variable:             excess_rtn   R-squared:                       0.506\n",
      "Model:                            OLS   Adj. R-squared:                  0.480\n",
      "Method:                 Least Squares   F-statistic:                     19.15\n",
      "Date:                Mon, 30 Sep 2024   Prob (F-statistic):           1.14e-08\n",
      "Time:                        17:14:41   Log-Likelihood:                 82.838\n",
      "No. Observations:                  60   AIC:                            -157.7\n",
      "Df Residuals:                      56   BIC:                            -149.3\n",
      "Df Model:                           3                                         \n",
      "Covariance Type:            nonrobust                                         \n",
      "==============================================================================\n",
      "                 coef    std err          t      P>|t|      [0.025      0.975]\n",
      "------------------------------------------------------------------------------\n",
      "Intercept      0.0084      0.009      0.956      0.343      -0.009       0.026\n",
      "MKT            1.4276      0.197      7.253      0.000       1.033       1.822\n",
      "SMB           -0.4667      0.358     -1.302      0.198      -1.185       0.251\n",
      "HML           -0.7264      0.260     -2.794      0.007      -1.247      -0.205\n",
      "==============================================================================\n",
      "Omnibus:                        8.681   Durbin-Watson:                   2.459\n",
      "Prob(Omnibus):                  0.013   Jarque-Bera (JB):                9.015\n",
      "Skew:                          -0.654   Prob(JB):                       0.0110\n",
      "Kurtosis:                       4.377   Cond. No.                         45.9\n",
      "==============================================================================\n",
      "\n",
      "Notes:\n",
      "[1] Standard Errors assume that the covariance matrix of the errors is correctly specified.\n"
     ]
    }
   ],
   "source": [
    "# define and fit the regression model \n",
    "ff_model = smf.ols(formula=\"excess_rtn ~ MKT + SMB + HML\", \n",
    "                   data=factor_3_df).fit()\n",
    "\n",
    "# print results \n",
    "print(ff_model.summary())"
   ]
  },
  {
   "cell_type": "markdown",
   "metadata": {},
   "source": [
    "세 가지 요인 모형의 결과를 해석할 때는 두 가지 이슈에 주의해야 합니다:\n",
    "\n",
    "    - 절편이 양수이며 통계적으로 유의한지 여부\n",
    "    - 어떤 요인이 통계적으로 유의하며, 그 방향이 과거 연구 결과(예: 문헌 연구에 기반) 또는 우리의 가정과 일치하는지 여부\n",
    "    \n",
    "우리의 경우, 절편은 양수이지만 5% 유의 수준에서 통계적으로 유의하지 않습니다. 위험 요인 중에서는 SMB 요인만 유의하지 않습니다. 그러나 요인들과 그 영향 방향에 대한 가설을 세우기 위해서는 철저한 문헌 연구가 필요합니다.\n",
    "\n",
    "또한 회귀 요약에서 제시된 F-통계를 살펴볼 수 있는데, 이는 회귀 모형의 공동 유의성을 테스트합니다. 영가설은 절편을 제외한 모든 특징(여기서는 요인)의 계수가 0이라는 것을 주장합니다. 관련된 p-값이 0.05보다 훨씬 낮다는 것을 확인할 수 있으며, 이는 5% 유의 수준에서 영가설을 기각할 근거가 된다는 것을 의미합니다."
   ]
  },
  {
   "cell_type": "markdown",
   "metadata": {},
   "source": [
    "### There's more"
   ]
  },
  {
   "cell_type": "markdown",
   "metadata": {},
   "source": [
    "Print available datasets (here only first 5):"
   ]
  },
  {
   "cell_type": "code",
   "execution_count": 25,
   "metadata": {
    "ExecuteTime": {
     "end_time": "2020-01-25T21:00:16.415253Z",
     "start_time": "2020-01-25T21:00:14.609501Z"
    }
   },
   "outputs": [
    {
     "data": {
      "text/plain": [
       "['F-F_Research_Data_Factors',\n",
       " 'F-F_Research_Data_Factors_weekly',\n",
       " 'F-F_Research_Data_Factors_daily',\n",
       " 'F-F_Research_Data_5_Factors_2x3',\n",
       " 'F-F_Research_Data_5_Factors_2x3_daily']"
      ]
     },
     "execution_count": 25,
     "metadata": {},
     "output_type": "execute_result"
    }
   ],
   "source": [
    "from pandas_datareader.famafrench import get_available_datasets\n",
    "\n",
    "get_available_datasets()[:5]"
   ]
  },
  {
   "cell_type": "markdown",
   "metadata": {},
   "source": [
    "### Bonus"
   ]
  },
  {
   "cell_type": "markdown",
   "metadata": {},
   "source": [
    "1. Download data from prof. French's website:"
   ]
  },
  {
   "cell_type": "markdown",
   "metadata": {},
   "source": [
    "To do so, we used the fact that we can execute bash commands in Jupyter Notebooks by preceding them with `!`. First, we downloaded the file using wget and then unzipped it using unzip. There are also ways to do this in Python only, but this seemed like a good place to introduce the possibility of mixing up bash script into the Notebooks. The link to the monthly data is always the same, and the file is updated every month. \n"
   ]
  },
  {
   "cell_type": "code",
   "execution_count": 1,
   "metadata": {
    "ExecuteTime": {
     "end_time": "2020-01-19T19:59:26.513650Z",
     "start_time": "2020-01-19T19:59:24.755998Z"
    }
   },
   "outputs": [],
   "source": [
    "# # download the zip file from Prof. French's website\n",
    "# !wget http://mba.tuck.dartmouth.edu/pages/faculty/ken.french/ftp/F-F_Research_Data_Factors_CSV.zip\n",
    "\n",
    "# # unpack the zip file\n",
    "# !unzip -a F-F_Research_Data_Factors_CSV.zip\n",
    "\n",
    "# # remove the zip file\n",
    "# !rm F-F_Research_Data_Factors_CSV.zip"
   ]
  },
  {
   "cell_type": "markdown",
   "metadata": {},
   "source": [
    "2. Load data from the source CSV file and keep only the monthly data:"
   ]
  },
  {
   "cell_type": "code",
   "execution_count": 3,
   "metadata": {
    "ExecuteTime": {
     "end_time": "2020-01-25T20:47:40.410667Z",
     "start_time": "2020-01-25T20:47:40.400397Z"
    }
   },
   "outputs": [],
   "source": [
    "# # load data from CSV\n",
    "# factor_3_df = pd.read_csv(\"F-F_Research_Data_Factors.csv\", skiprows=3)\n",
    "\n",
    "# # identify where the annual data starts\n",
    "# STR_TO_MATCH = \" Annual Factors: January-December \"\n",
    "# indices = factor_3_df.iloc[:, 0] == STR_TO_MATCH\n",
    "# start_of_annual = factor_3_df[indices].index[0]\n",
    "\n",
    "# # keep only monthly data\n",
    "# factor_3_df = factor_3_df[factor_3_df.index < start_of_annual]"
   ]
  },
  {
   "cell_type": "markdown",
   "metadata": {},
   "source": [
    "3. Rename columns of the DataFrame, set a datetime index and filter by dates:"
   ]
  },
  {
   "cell_type": "code",
   "execution_count": 25,
   "metadata": {
    "ExecuteTime": {
     "end_time": "2020-01-25T20:47:41.016860Z",
     "start_time": "2020-01-25T20:47:41.001267Z"
    }
   },
   "outputs": [],
   "source": [
    "# rename columns\n",
    "factor_3_df.columns = [\"date\", \"mkt\", \"smb\", \"hml\", \"rf\"]\n",
    "\n",
    "# convert strings to datetime\n",
    "factor_3_df[\"date\"] = (\n",
    "    pd.to_datetime(factor_3_df[\"date\"], format=\"%Y%m\")\n",
    "    .dt.strftime(\"%Y-%m\")\n",
    ")\n",
    "\n",
    "# set index\n",
    "factor_3_df = factor_3_df.set_index(\"date\")\n",
    "\n",
    "# filter only required dates\n",
    "factor_3_df = factor_3_df.loc[START_DATE:END_DATE]"
   ]
  },
  {
   "cell_type": "markdown",
   "metadata": {},
   "source": [
    "4. Convert the values to numeric and divide by 100:"
   ]
  },
  {
   "cell_type": "code",
   "execution_count": 26,
   "metadata": {},
   "outputs": [
    {
     "data": {
      "text/html": [
       "<div>\n",
       "<style scoped>\n",
       "    .dataframe tbody tr th:only-of-type {\n",
       "        vertical-align: middle;\n",
       "    }\n",
       "\n",
       "    .dataframe tbody tr th {\n",
       "        vertical-align: top;\n",
       "    }\n",
       "\n",
       "    .dataframe thead th {\n",
       "        text-align: right;\n",
       "    }\n",
       "</style>\n",
       "<table border=\"1\" class=\"dataframe\">\n",
       "  <thead>\n",
       "    <tr style=\"text-align: right;\">\n",
       "      <th></th>\n",
       "      <th>mkt</th>\n",
       "      <th>smb</th>\n",
       "      <th>hml</th>\n",
       "      <th>rf</th>\n",
       "    </tr>\n",
       "    <tr>\n",
       "      <th>date</th>\n",
       "      <th></th>\n",
       "      <th></th>\n",
       "      <th></th>\n",
       "      <th></th>\n",
       "    </tr>\n",
       "  </thead>\n",
       "  <tbody>\n",
       "    <tr>\n",
       "      <th>2016-02</th>\n",
       "      <td>-0.0007</td>\n",
       "      <td>0.0079</td>\n",
       "      <td>-0.0050</td>\n",
       "      <td>0.0002</td>\n",
       "    </tr>\n",
       "    <tr>\n",
       "      <th>2016-03</th>\n",
       "      <td>0.0696</td>\n",
       "      <td>0.0087</td>\n",
       "      <td>0.0116</td>\n",
       "      <td>0.0002</td>\n",
       "    </tr>\n",
       "    <tr>\n",
       "      <th>2016-04</th>\n",
       "      <td>0.0092</td>\n",
       "      <td>0.0069</td>\n",
       "      <td>0.0326</td>\n",
       "      <td>0.0001</td>\n",
       "    </tr>\n",
       "    <tr>\n",
       "      <th>2016-05</th>\n",
       "      <td>0.0178</td>\n",
       "      <td>-0.0027</td>\n",
       "      <td>-0.0181</td>\n",
       "      <td>0.0001</td>\n",
       "    </tr>\n",
       "    <tr>\n",
       "      <th>2016-06</th>\n",
       "      <td>-0.0005</td>\n",
       "      <td>0.0065</td>\n",
       "      <td>-0.0147</td>\n",
       "      <td>0.0002</td>\n",
       "    </tr>\n",
       "  </tbody>\n",
       "</table>\n",
       "</div>"
      ],
      "text/plain": [
       "            mkt     smb     hml      rf\n",
       "date                                   \n",
       "2016-02 -0.0007  0.0079 -0.0050  0.0002\n",
       "2016-03  0.0696  0.0087  0.0116  0.0002\n",
       "2016-04  0.0092  0.0069  0.0326  0.0001\n",
       "2016-05  0.0178 -0.0027 -0.0181  0.0001\n",
       "2016-06 -0.0005  0.0065 -0.0147  0.0002"
      ]
     },
     "execution_count": 26,
     "metadata": {},
     "output_type": "execute_result"
    }
   ],
   "source": [
    "factor_3_df = factor_3_df.apply(pd.to_numeric, \n",
    "                            errors=\"coerce\") \\\n",
    "                     .div(100)\n",
    "factor_3_df.head()"
   ]
  },
  {
   "cell_type": "markdown",
   "metadata": {},
   "source": [
    "## 8.3 Estimating the rolling three-factor model on a portfolio of assets"
   ]
  },
  {
   "cell_type": "markdown",
   "metadata": {},
   "source": [
    "이 설명에서는 롤링 방식으로 3요인 모형을 추정하는 방법을 배웁니다. 롤링 방식이란, 항상 일정한 크기의 추정 창(이 경우 60개월)을 고려하고 이를 전체 데이터셋에서 한 번에 한 기간씩 이동시키는 것을 의미합니다. 이러한 실험을 수행하는 잠재적인 이유는 결과의 안정성을 테스트하기 위해서입니다. 대안으로는 이 실험에서 확장되는 창을 사용할 수도 있습니다.\n",
    "\n",
    "이전 설명들과 달리 이번에는 단일 자산 대신 포트폴리오 수익률을 사용합니다. 간단하게 하기 위해, 우리가 사용하는 할당 전략은 아마존, 구글, 애플, 마이크로소프트의 각 주식에 포트폴리오 총 가치의 동일한 비율을 할당한다고 가정합니다. 이 실험에서는 2010년부터 2020년까지의 주가 데이터를 사용합니다."
   ]
  },
  {
   "cell_type": "markdown",
   "metadata": {},
   "source": [
    "### How to do it..."
   ]
  },
  {
   "cell_type": "markdown",
   "metadata": {},
   "source": [
    "1. Import the libraries:"
   ]
  },
  {
   "cell_type": "code",
   "execution_count": 26,
   "metadata": {
    "ExecuteTime": {
     "end_time": "2020-01-29T09:44:07.710284Z",
     "start_time": "2020-01-29T09:44:06.217752Z"
    }
   },
   "outputs": [],
   "source": [
    "import pandas as pd\n",
    "import numpy as np\n",
    "import yfinance as yf\n",
    "import statsmodels.formula.api as smf\n",
    "import pandas_datareader.data as web"
   ]
  },
  {
   "cell_type": "markdown",
   "metadata": {},
   "source": [
    "2. Define the parameters:"
   ]
  },
  {
   "cell_type": "code",
   "execution_count": 27,
   "metadata": {
    "ExecuteTime": {
     "end_time": "2020-01-29T09:44:07.721786Z",
     "start_time": "2020-01-29T09:44:07.718682Z"
    }
   },
   "outputs": [],
   "source": [
    "ASSETS = [\"AMZN\", \"GOOG\", \"AAPL\", \"MSFT\"]\n",
    "WEIGHTS = [0.25, 0.25, 0.25, 0.25]\n",
    "START_DATE = \"2010-01-01\"\n",
    "END_DATE = \"2020-12-31\""
   ]
  },
  {
   "cell_type": "markdown",
   "metadata": {},
   "source": [
    "3. Download the factor related data:"
   ]
  },
  {
   "cell_type": "code",
   "execution_count": 28,
   "metadata": {
    "ExecuteTime": {
     "end_time": "2020-01-29T09:44:08.624754Z",
     "start_time": "2020-01-29T09:44:08.285860Z"
    }
   },
   "outputs": [],
   "source": [
    "factor_3_df = web.DataReader(\"F-F_Research_Data_Factors\", \n",
    "                             \"famafrench\", \n",
    "                             start=START_DATE,\n",
    "                             end=END_DATE)[0]\n",
    "factor_3_df = factor_3_df.div(100)"
   ]
  },
  {
   "cell_type": "markdown",
   "metadata": {},
   "source": [
    "4. Download the prices of risky assets from Yahoo Finance:"
   ]
  },
  {
   "cell_type": "code",
   "execution_count": 29,
   "metadata": {
    "ExecuteTime": {
     "end_time": "2020-01-29T09:44:09.289538Z",
     "start_time": "2020-01-29T09:44:08.939559Z"
    }
   },
   "outputs": [
    {
     "name": "stdout",
     "output_type": "stream",
     "text": [
      "Downloaded 2769 rows of data.\n"
     ]
    }
   ],
   "source": [
    "asset_df = yf.download(ASSETS,\n",
    "                       start=START_DATE,\n",
    "                       end=END_DATE,\n",
    "                    #    adjusted=True,\n",
    "                       progress=False)\n",
    "\n",
    "print(f\"Downloaded {asset_df.shape[0]} rows of data.\")"
   ]
  },
  {
   "cell_type": "markdown",
   "metadata": {},
   "source": [
    "5. Calculate the monthly returns on the risky assets:"
   ]
  },
  {
   "cell_type": "code",
   "execution_count": 30,
   "metadata": {
    "ExecuteTime": {
     "end_time": "2020-01-29T09:44:10.079311Z",
     "start_time": "2020-01-29T09:44:10.052389Z"
    }
   },
   "outputs": [],
   "source": [
    "asset_df = asset_df[\"Adj Close\"].resample(\"M\") \\\n",
    "                                .last() \\\n",
    "                                .pct_change() \\\n",
    "                                .dropna()\n",
    "# reformat index for joining\n",
    "asset_df.index = asset_df.index.to_period(\"m\")"
   ]
  },
  {
   "cell_type": "markdown",
   "metadata": {},
   "source": [
    "6. Calculate the portfolio returns:"
   ]
  },
  {
   "cell_type": "code",
   "execution_count": 31,
   "metadata": {
    "ExecuteTime": {
     "end_time": "2020-01-29T09:44:11.116482Z",
     "start_time": "2020-01-29T09:44:11.095431Z"
    }
   },
   "outputs": [
    {
     "data": {
      "text/html": [
       "<div>\n",
       "<style scoped>\n",
       "    .dataframe tbody tr th:only-of-type {\n",
       "        vertical-align: middle;\n",
       "    }\n",
       "\n",
       "    .dataframe tbody tr th {\n",
       "        vertical-align: top;\n",
       "    }\n",
       "\n",
       "    .dataframe thead th {\n",
       "        text-align: right;\n",
       "    }\n",
       "</style>\n",
       "<table border=\"1\" class=\"dataframe\">\n",
       "  <thead>\n",
       "    <tr style=\"text-align: right;\">\n",
       "      <th></th>\n",
       "      <th>AAPL</th>\n",
       "      <th>AMZN</th>\n",
       "      <th>GOOG</th>\n",
       "      <th>MSFT</th>\n",
       "      <th>portfolio_returns</th>\n",
       "    </tr>\n",
       "    <tr>\n",
       "      <th>Date</th>\n",
       "      <th></th>\n",
       "      <th></th>\n",
       "      <th></th>\n",
       "      <th></th>\n",
       "      <th></th>\n",
       "    </tr>\n",
       "  </thead>\n",
       "  <tbody>\n",
       "    <tr>\n",
       "      <th>2010-01</th>\n",
       "      <td>-0.088596</td>\n",
       "      <td>-0.067722</td>\n",
       "      <td>-0.145231</td>\n",
       "      <td>-0.075459</td>\n",
       "      <td>-0.094252</td>\n",
       "    </tr>\n",
       "    <tr>\n",
       "      <th>2010-02</th>\n",
       "      <td>0.065396</td>\n",
       "      <td>-0.055897</td>\n",
       "      <td>-0.005925</td>\n",
       "      <td>0.022146</td>\n",
       "      <td>0.006430</td>\n",
       "    </tr>\n",
       "    <tr>\n",
       "      <th>2010-03</th>\n",
       "      <td>0.148470</td>\n",
       "      <td>0.146706</td>\n",
       "      <td>0.076538</td>\n",
       "      <td>0.021626</td>\n",
       "      <td>0.098335</td>\n",
       "    </tr>\n",
       "    <tr>\n",
       "      <th>2010-04</th>\n",
       "      <td>0.111021</td>\n",
       "      <td>0.009796</td>\n",
       "      <td>-0.073036</td>\n",
       "      <td>0.042677</td>\n",
       "      <td>0.022615</td>\n",
       "    </tr>\n",
       "    <tr>\n",
       "      <th>2010-05</th>\n",
       "      <td>-0.016125</td>\n",
       "      <td>-0.084902</td>\n",
       "      <td>-0.076222</td>\n",
       "      <td>-0.151395</td>\n",
       "      <td>-0.082161</td>\n",
       "    </tr>\n",
       "  </tbody>\n",
       "</table>\n",
       "</div>"
      ],
      "text/plain": [
       "             AAPL      AMZN      GOOG      MSFT  portfolio_returns\n",
       "Date                                                              \n",
       "2010-01 -0.088596 -0.067722 -0.145231 -0.075459          -0.094252\n",
       "2010-02  0.065396 -0.055897 -0.005925  0.022146           0.006430\n",
       "2010-03  0.148470  0.146706  0.076538  0.021626           0.098335\n",
       "2010-04  0.111021  0.009796 -0.073036  0.042677           0.022615\n",
       "2010-05 -0.016125 -0.084902 -0.076222 -0.151395          -0.082161"
      ]
     },
     "execution_count": 31,
     "metadata": {},
     "output_type": "execute_result"
    }
   ],
   "source": [
    "asset_df[\"portfolio_returns\"] = np.matmul(\n",
    "    asset_df[ASSETS].values, \n",
    "    WEIGHTS\n",
    ")\n",
    "asset_df.head()"
   ]
  },
  {
   "cell_type": "code",
   "execution_count": 32,
   "metadata": {
    "ExecuteTime": {
     "end_time": "2020-01-29T09:44:31.735019Z",
     "start_time": "2020-01-29T09:44:27.830125Z"
    }
   },
   "outputs": [],
   "source": [
    "# asset_df.plot();"
   ]
  },
  {
   "cell_type": "markdown",
   "metadata": {
    "ExecuteTime": {
     "end_time": "2019-07-27T20:33:39.379864Z",
     "start_time": "2019-07-27T20:33:39.376122Z"
    }
   },
   "source": [
    "7. Merge the datasets:"
   ]
  },
  {
   "cell_type": "code",
   "execution_count": 33,
   "metadata": {
    "ExecuteTime": {
     "end_time": "2020-01-29T09:44:35.683287Z",
     "start_time": "2020-01-29T09:44:35.676407Z"
    }
   },
   "outputs": [],
   "source": [
    "factor_3_df = asset_df.join(factor_3_df).drop(ASSETS, axis=1)\n",
    "factor_3_df.columns = [\"portf_rtn\", \"mkt\", \"smb\", \"hml\", \"rf\"]\n",
    "factor_3_df[\"portf_ex_rtn\"] = (\n",
    "    factor_3_df[\"portf_rtn\"] - factor_3_df[\"rf\"]\n",
    ")"
   ]
  },
  {
   "cell_type": "markdown",
   "metadata": {
    "ExecuteTime": {
     "end_time": "2019-07-27T20:33:41.550073Z",
     "start_time": "2019-07-27T20:33:41.546557Z"
    }
   },
   "source": [
    "8. Define a function for the rolling n-factor model"
   ]
  },
  {
   "cell_type": "code",
   "execution_count": 34,
   "metadata": {
    "ExecuteTime": {
     "end_time": "2020-01-29T10:02:23.597243Z",
     "start_time": "2020-01-29T10:02:23.592062Z"
    }
   },
   "outputs": [],
   "source": [
    "def rolling_factor_model(input_data, formula, window_size):\n",
    "    \"\"\"\n",
    "    Function for estimating the Fama-French (n-factor) model using a rolling window of fixed size.\n",
    "    \n",
    "    Parameters\n",
    "    ------------\n",
    "    input_data : pd.DataFrame\n",
    "        A DataFrame containing the factors and asset/portfolio returns\n",
    "    formula : str\n",
    "        `statsmodels` compatible formula representing the OLS regression  \n",
    "    window_size : int\n",
    "        Rolling window length.\n",
    "    \n",
    "    Returns\n",
    "    -----------\n",
    "    coeffs_df : pd.DataFrame\n",
    "        DataFrame containing the intercept and the three factors for each iteration.\n",
    "    \"\"\"\n",
    "\n",
    "    coeffs = []\n",
    "\n",
    "    for start_ind in range(len(input_data) - window_size + 1):        \n",
    "        end_ind = start_ind + window_size\n",
    "\n",
    "        # define and fit the regression model \n",
    "        ff_model = smf.ols(\n",
    "            formula=formula, \n",
    "            data=input_data[start_ind:end_ind]\n",
    "        ).fit()\n",
    "   \n",
    "        # store coefficients\n",
    "        coeffs.append(ff_model.params)\n",
    "    \n",
    "    coeffs_df = pd.DataFrame(\n",
    "        coeffs, \n",
    "        index=input_data.index[window_size - 1:]\n",
    "    )\n",
    "\n",
    "    return coeffs_df"
   ]
  },
  {
   "cell_type": "markdown",
   "metadata": {},
   "source": [
    "9. Estimate the rolling three-factor model and plot the results:"
   ]
  },
  {
   "cell_type": "code",
   "execution_count": 35,
   "metadata": {
    "ExecuteTime": {
     "end_time": "2020-01-29T10:02:30.494210Z",
     "start_time": "2020-01-29T10:02:25.939840Z"
    }
   },
   "outputs": [
    {
     "data": {
      "image/png": "[encoded data removed]",
      "text/plain": [
       "<Figure size 864x576 with 1 Axes>"
      ]
     },
     "metadata": {
      "image/png": {
       "height": 548,
       "width": 839
      }
     },
     "output_type": "display_data"
    }
   ],
   "source": [
    "MODEL_FORMULA = \"portf_ex_rtn ~ mkt + smb + hml\"\n",
    "results_df = rolling_factor_model(factor_3_df, \n",
    "                                  MODEL_FORMULA, \n",
    "                                  window_size=60)\n",
    "(\n",
    "    results_df\n",
    "    .plot(title = \"Rolling Fama-French Three-Factor model\",\n",
    "          style=[\"-\", \"--\", \"-.\", \":\"])\n",
    "    .legend(loc=\"center left\",bbox_to_anchor=(1.0, 0.5))\n",
    ")\n",
    "\n",
    "sns.despine()\n",
    "plt.tight_layout()\n",
    "# plt.savefig(\"images/figure_9_6\", dpi=200)"
   ]
  },
  {
   "cell_type": "markdown",
   "metadata": {},
   "source": [
    "이전 플롯을 검토해 보면 다음과 같은 점을 확인할 수 있습니다:\n",
    "\n",
    "절편은 거의 일정하며 0에 매우 가깝습니다.\n",
    "요인들 간에는 약간의 변동성이 있지만, 갑작스러운 반전이나 예상치 못한 급등은 없습니다."
   ]
  },
  {
   "cell_type": "markdown",
   "metadata": {},
   "source": [
    "## 8.4 Estimating the four- and five-factor models"
   ]
  },
  {
   "cell_type": "markdown",
   "metadata": {},
   "source": [
    "이 설명에서는 Fama-French 3요인 모형의 두 가지 확장을 구현합니다.\n",
    "\n",
    "첫 번째는 Carhart의 4요인 모형입니다. 이 확장의 기본 가정은 단기간 내에 승자 주식은 승자로 남고, 패자 주식은 패자로 남는다는 것입니다. 승자와 패자를 분류하는 기준으로는 예를 들어 지난 12개월간의 누적 총 수익률을 사용할 수 있습니다. 두 그룹을 식별한 후, 승자 주식을 매수(Long)하고 패자 주식을 매도(Short)하는 전략을 특정 보유 기간 동안 실행할 수 있습니다.\n",
    "\n",
    "모멘텀 요인(WML; Winners Minus Losers)은 지난 12개월 동안 승자 주식이 패자 주식에 비해 갖는 초과 수익률을 측정합니다. (모멘텀 요인 계산에 대한 참조는 이 설명의 '참고' 섹션을 참고하십시오.)\n",
    "\n",
    "\n",
    "두 번째 확장은 Fama-French의 5요인 모형입니다. Fama와 French는 기존의 3요인 모형에 두 가지 요인을 추가하여 확장했습니다:\n",
    "\n",
    "수익성 요인 (RMW; Robust Minus Weak): 수익성이 높은 기업(강한 수익성)이 수익성이 낮은 기업(약한 수익성)에 비해 갖는 초과 수익률을 측정합니다.\n",
    "투자 요인 (CMA; Conservative Minus Aggressive): 보수적인 투자 정책을 가진 기업(투자가 적은 기업)이 더 공격적인 투자 정책을 가진 기업(투자가 많은 기업)에 비해 갖는 초과 수익률을 측정합니다.\n",
    "이 두 가지 요인은 기존의 시장 요인, 규모 요인, 가치 요인에 추가되어 더 넓은 범위에서 주식 수익률을 설명합니다.\n"
   ]
  },
  {
   "cell_type": "markdown",
   "metadata": {},
   "source": [
    "### How to do it..."
   ]
  },
  {
   "cell_type": "markdown",
   "metadata": {},
   "source": [
    "1. Import the libraries:"
   ]
  },
  {
   "cell_type": "code",
   "execution_count": 36,
   "metadata": {
    "ExecuteTime": {
     "end_time": "2020-01-25T21:32:59.744013Z",
     "start_time": "2020-01-25T21:32:59.121212Z"
    }
   },
   "outputs": [],
   "source": [
    "import pandas as pd\n",
    "import yfinance as yf\n",
    "import statsmodels.formula.api as smf\n",
    "import pandas_datareader.data as web"
   ]
  },
  {
   "cell_type": "markdown",
   "metadata": {
    "ExecuteTime": {
     "end_time": "2019-07-30T21:13:07.117897Z",
     "start_time": "2019-07-30T21:13:07.113317Z"
    }
   },
   "source": [
    "2. Specify the risky asset and the time horizon:"
   ]
  },
  {
   "cell_type": "code",
   "execution_count": 37,
   "metadata": {
    "ExecuteTime": {
     "end_time": "2020-01-25T21:32:59.882469Z",
     "start_time": "2020-01-25T21:32:59.880245Z"
    }
   },
   "outputs": [],
   "source": [
    "RISKY_ASSET = \"AMZN\"\n",
    "START_DATE = \"2016-01-01\"\n",
    "END_DATE = \"2020-12-31\""
   ]
  },
  {
   "cell_type": "markdown",
   "metadata": {},
   "source": [
    "3. Download the risk factors from prof. French's website:"
   ]
  },
  {
   "cell_type": "code",
   "execution_count": 38,
   "metadata": {
    "ExecuteTime": {
     "end_time": "2020-01-25T21:37:47.321394Z",
     "start_time": "2020-01-25T21:37:46.722478Z"
    }
   },
   "outputs": [],
   "source": [
    "# three factors \n",
    "factor_3_df = web.DataReader(\"F-F_Research_Data_Factors\", \n",
    "                             \"famafrench\", \n",
    "                             start=START_DATE,\n",
    "                             end=END_DATE)[0]\n",
    "\n",
    "# momentum factor\n",
    "momentum_df = web.DataReader(\"F-F_Momentum_Factor\", \n",
    "                             \"famafrench\", \n",
    "                             start=START_DATE,\n",
    "                             end=END_DATE)[0]\n",
    "      \n",
    "# five factors\n",
    "factor_5_df = web.DataReader(\"F-F_Research_Data_5_Factors_2x3\", \n",
    "                             \"famafrench\", \n",
    "                             start=START_DATE,\n",
    "                             end=END_DATE)[0]"
   ]
  },
  {
   "cell_type": "markdown",
   "metadata": {},
   "source": [
    "4. Download the data of the risky asset from Yahoo Finance:"
   ]
  },
  {
   "cell_type": "code",
   "execution_count": 39,
   "metadata": {
    "ExecuteTime": {
     "end_time": "2020-01-25T21:32:45.021706Z",
     "start_time": "2020-01-25T21:32:44.855063Z"
    }
   },
   "outputs": [
    {
     "name": "stdout",
     "output_type": "stream",
     "text": [
      "Downloaded 1259 rows of data.\n"
     ]
    }
   ],
   "source": [
    "asset_df = yf.download(RISKY_ASSET,\n",
    "                       start=START_DATE,\n",
    "                       end=END_DATE,\n",
    "                    #    adjusted=True,\n",
    "                       progress=False)\n",
    "\n",
    "print(f\"Downloaded {asset_df.shape[0]} rows of data.\")"
   ]
  },
  {
   "cell_type": "markdown",
   "metadata": {
    "ExecuteTime": {
     "end_time": "2019-07-30T21:13:14.206767Z",
     "start_time": "2019-07-30T21:13:14.203304Z"
    }
   },
   "source": [
    "5. Calculate monthly returns:"
   ]
  },
  {
   "cell_type": "code",
   "execution_count": 40,
   "metadata": {
    "ExecuteTime": {
     "end_time": "2020-01-19T20:31:09.165863Z",
     "start_time": "2020-01-19T20:31:09.154418Z"
    }
   },
   "outputs": [],
   "source": [
    "y = asset_df[\"Adj Close\"].resample(\"M\") \\\n",
    "                         .last() \\\n",
    "                         .pct_change() \\\n",
    "                         .dropna()\n",
    "\n",
    "y.index = y.index.to_period(\"m\")\n",
    "y.name = \"rtn\""
   ]
  },
  {
   "cell_type": "markdown",
   "metadata": {},
   "source": [
    "6. Merge the datasets for the four-factor models:"
   ]
  },
  {
   "cell_type": "code",
   "execution_count": 41,
   "metadata": {
    "ExecuteTime": {
     "end_time": "2020-01-19T20:31:11.312066Z",
     "start_time": "2020-01-19T20:31:11.289272Z"
    }
   },
   "outputs": [
    {
     "data": {
      "text/html": [
       "<div>\n",
       "<style scoped>\n",
       "    .dataframe tbody tr th:only-of-type {\n",
       "        vertical-align: middle;\n",
       "    }\n",
       "\n",
       "    .dataframe tbody tr th {\n",
       "        vertical-align: top;\n",
       "    }\n",
       "\n",
       "    .dataframe thead th {\n",
       "        text-align: right;\n",
       "    }\n",
       "</style>\n",
       "<table border=\"1\" class=\"dataframe\">\n",
       "  <thead>\n",
       "    <tr style=\"text-align: right;\">\n",
       "      <th></th>\n",
       "      <th>mkt</th>\n",
       "      <th>smb</th>\n",
       "      <th>hml</th>\n",
       "      <th>rf</th>\n",
       "      <th>mom</th>\n",
       "      <th>rtn</th>\n",
       "      <th>excess_rtn</th>\n",
       "    </tr>\n",
       "    <tr>\n",
       "      <th>Date</th>\n",
       "      <th></th>\n",
       "      <th></th>\n",
       "      <th></th>\n",
       "      <th></th>\n",
       "      <th></th>\n",
       "      <th></th>\n",
       "      <th></th>\n",
       "    </tr>\n",
       "  </thead>\n",
       "  <tbody>\n",
       "    <tr>\n",
       "      <th>2016-01</th>\n",
       "      <td>-0.0577</td>\n",
       "      <td>-0.0342</td>\n",
       "      <td>0.0209</td>\n",
       "      <td>0.0001</td>\n",
       "      <td>0.0144</td>\n",
       "      <td>-0.131515</td>\n",
       "      <td>-0.131615</td>\n",
       "    </tr>\n",
       "    <tr>\n",
       "      <th>2016-02</th>\n",
       "      <td>-0.0007</td>\n",
       "      <td>0.0074</td>\n",
       "      <td>-0.0057</td>\n",
       "      <td>0.0002</td>\n",
       "      <td>-0.0438</td>\n",
       "      <td>-0.058739</td>\n",
       "      <td>-0.058939</td>\n",
       "    </tr>\n",
       "    <tr>\n",
       "      <th>2016-03</th>\n",
       "      <td>0.0696</td>\n",
       "      <td>0.0082</td>\n",
       "      <td>0.0119</td>\n",
       "      <td>0.0002</td>\n",
       "      <td>-0.0501</td>\n",
       "      <td>0.074423</td>\n",
       "      <td>0.074223</td>\n",
       "    </tr>\n",
       "    <tr>\n",
       "      <th>2016-04</th>\n",
       "      <td>0.0091</td>\n",
       "      <td>0.0076</td>\n",
       "      <td>0.0328</td>\n",
       "      <td>0.0001</td>\n",
       "      <td>-0.0602</td>\n",
       "      <td>0.111094</td>\n",
       "      <td>0.110994</td>\n",
       "    </tr>\n",
       "    <tr>\n",
       "      <th>2016-05</th>\n",
       "      <td>0.0178</td>\n",
       "      <td>-0.0017</td>\n",
       "      <td>-0.0166</td>\n",
       "      <td>0.0001</td>\n",
       "      <td>0.0143</td>\n",
       "      <td>0.095817</td>\n",
       "      <td>0.095717</td>\n",
       "    </tr>\n",
       "  </tbody>\n",
       "</table>\n",
       "</div>"
      ],
      "text/plain": [
       "            mkt     smb     hml      rf     mom       rtn  excess_rtn\n",
       "Date                                                                 \n",
       "2016-01 -0.0577 -0.0342  0.0209  0.0001  0.0144 -0.131515   -0.131615\n",
       "2016-02 -0.0007  0.0074 -0.0057  0.0002 -0.0438 -0.058739   -0.058939\n",
       "2016-03  0.0696  0.0082  0.0119  0.0002 -0.0501  0.074423    0.074223\n",
       "2016-04  0.0091  0.0076  0.0328  0.0001 -0.0602  0.111094    0.110994\n",
       "2016-05  0.0178 -0.0017 -0.0166  0.0001  0.0143  0.095817    0.095717"
      ]
     },
     "execution_count": 41,
     "metadata": {},
     "output_type": "execute_result"
    }
   ],
   "source": [
    "# join all datasets on the index\n",
    "factor_4_df = factor_3_df.join(momentum_df).join(y)\n",
    "\n",
    "# rename columns\n",
    "factor_4_df.columns = [\"mkt\", \"smb\", \"hml\", \"rf\", \"mom\", \"rtn\"]\n",
    "\n",
    "# divide everything (except returns) by 100\n",
    "factor_4_df.loc[:, factor_4_df.columns != \"rtn\"] /= 100\n",
    "\n",
    "# calculate excess returns\n",
    "factor_4_df[\"excess_rtn\"] = (\n",
    "    factor_4_df[\"rtn\"] - factor_4_df[\"rf\"]\n",
    ")\n",
    "\n",
    "factor_4_df.head()"
   ]
  },
  {
   "cell_type": "markdown",
   "metadata": {},
   "source": [
    "7. Merge the datasets for the five-factor models:"
   ]
  },
  {
   "cell_type": "code",
   "execution_count": 42,
   "metadata": {
    "ExecuteTime": {
     "end_time": "2020-01-19T20:31:14.376169Z",
     "start_time": "2020-01-19T20:31:14.353016Z"
    }
   },
   "outputs": [
    {
     "data": {
      "text/html": [
       "<div>\n",
       "<style scoped>\n",
       "    .dataframe tbody tr th:only-of-type {\n",
       "        vertical-align: middle;\n",
       "    }\n",
       "\n",
       "    .dataframe tbody tr th {\n",
       "        vertical-align: top;\n",
       "    }\n",
       "\n",
       "    .dataframe thead th {\n",
       "        text-align: right;\n",
       "    }\n",
       "</style>\n",
       "<table border=\"1\" class=\"dataframe\">\n",
       "  <thead>\n",
       "    <tr style=\"text-align: right;\">\n",
       "      <th></th>\n",
       "      <th>mkt</th>\n",
       "      <th>smb</th>\n",
       "      <th>hml</th>\n",
       "      <th>rmw</th>\n",
       "      <th>cma</th>\n",
       "      <th>rf</th>\n",
       "      <th>rtn</th>\n",
       "      <th>excess_rtn</th>\n",
       "    </tr>\n",
       "    <tr>\n",
       "      <th>Date</th>\n",
       "      <th></th>\n",
       "      <th></th>\n",
       "      <th></th>\n",
       "      <th></th>\n",
       "      <th></th>\n",
       "      <th></th>\n",
       "      <th></th>\n",
       "      <th></th>\n",
       "    </tr>\n",
       "  </thead>\n",
       "  <tbody>\n",
       "    <tr>\n",
       "      <th>2016-01</th>\n",
       "      <td>-0.0577</td>\n",
       "      <td>-0.0347</td>\n",
       "      <td>0.0209</td>\n",
       "      <td>0.0281</td>\n",
       "      <td>0.0307</td>\n",
       "      <td>0.0001</td>\n",
       "      <td>-0.131515</td>\n",
       "      <td>-0.131615</td>\n",
       "    </tr>\n",
       "    <tr>\n",
       "      <th>2016-02</th>\n",
       "      <td>-0.0007</td>\n",
       "      <td>0.0088</td>\n",
       "      <td>-0.0057</td>\n",
       "      <td>0.0325</td>\n",
       "      <td>0.0202</td>\n",
       "      <td>0.0002</td>\n",
       "      <td>-0.058739</td>\n",
       "      <td>-0.058939</td>\n",
       "    </tr>\n",
       "    <tr>\n",
       "      <th>2016-03</th>\n",
       "      <td>0.0696</td>\n",
       "      <td>0.0107</td>\n",
       "      <td>0.0119</td>\n",
       "      <td>0.0077</td>\n",
       "      <td>-0.0008</td>\n",
       "      <td>0.0002</td>\n",
       "      <td>0.074423</td>\n",
       "      <td>0.074223</td>\n",
       "    </tr>\n",
       "    <tr>\n",
       "      <th>2016-04</th>\n",
       "      <td>0.0091</td>\n",
       "      <td>0.0123</td>\n",
       "      <td>0.0328</td>\n",
       "      <td>-0.0297</td>\n",
       "      <td>0.0190</td>\n",
       "      <td>0.0001</td>\n",
       "      <td>0.111094</td>\n",
       "      <td>0.110994</td>\n",
       "    </tr>\n",
       "    <tr>\n",
       "      <th>2016-05</th>\n",
       "      <td>0.0178</td>\n",
       "      <td>-0.0061</td>\n",
       "      <td>-0.0166</td>\n",
       "      <td>-0.0109</td>\n",
       "      <td>-0.0249</td>\n",
       "      <td>0.0001</td>\n",
       "      <td>0.095817</td>\n",
       "      <td>0.095717</td>\n",
       "    </tr>\n",
       "  </tbody>\n",
       "</table>\n",
       "</div>"
      ],
      "text/plain": [
       "            mkt     smb     hml     rmw     cma      rf       rtn  excess_rtn\n",
       "Date                                                                         \n",
       "2016-01 -0.0577 -0.0347  0.0209  0.0281  0.0307  0.0001 -0.131515   -0.131615\n",
       "2016-02 -0.0007  0.0088 -0.0057  0.0325  0.0202  0.0002 -0.058739   -0.058939\n",
       "2016-03  0.0696  0.0107  0.0119  0.0077 -0.0008  0.0002  0.074423    0.074223\n",
       "2016-04  0.0091  0.0123  0.0328 -0.0297  0.0190  0.0001  0.111094    0.110994\n",
       "2016-05  0.0178 -0.0061 -0.0166 -0.0109 -0.0249  0.0001  0.095817    0.095717"
      ]
     },
     "execution_count": 42,
     "metadata": {},
     "output_type": "execute_result"
    }
   ],
   "source": [
    "# join all datasets on the index\n",
    "factor_5_df = factor_5_df.join(y)\n",
    "\n",
    "# rename columns\n",
    "factor_5_df.columns = [\n",
    "    \"mkt\", \"smb\", \"hml\", \"rmw\", \"cma\", \"rf\", \"rtn\"\n",
    "]\n",
    "\n",
    "# divide everything (except returns) by 100\n",
    "factor_5_df.loc[:, factor_5_df.columns != \"rtn\"] /= 100\n",
    "\n",
    "# calculate excess returns\n",
    "factor_5_df[\"excess_rtn\"] = (\n",
    "    factor_5_df[\"rtn\"] - factor_5_df[\"rf\"]\n",
    ")\n",
    "\n",
    "factor_5_df.head()"
   ]
  },
  {
   "cell_type": "markdown",
   "metadata": {},
   "source": [
    "8. Estimate the four-factor model:"
   ]
  },
  {
   "cell_type": "code",
   "execution_count": 43,
   "metadata": {
    "ExecuteTime": {
     "end_time": "2020-01-19T20:31:16.823818Z",
     "start_time": "2020-01-19T20:31:16.795323Z"
    }
   },
   "outputs": [
    {
     "name": "stdout",
     "output_type": "stream",
     "text": [
      "                            OLS Regression Results                            \n",
      "==============================================================================\n",
      "Dep. Variable:             excess_rtn   R-squared:                       0.564\n",
      "Model:                            OLS   Adj. R-squared:                  0.532\n",
      "Method:                 Least Squares   F-statistic:                     17.79\n",
      "Date:                Mon, 30 Sep 2024   Prob (F-statistic):           2.01e-09\n",
      "Time:                        17:15:08   Log-Likelihood:                 89.722\n",
      "No. Observations:                  60   AIC:                            -169.4\n",
      "Df Residuals:                      55   BIC:                            -159.0\n",
      "Df Model:                           4                                         \n",
      "Covariance Type:            nonrobust                                         \n",
      "==============================================================================\n",
      "                 coef    std err          t      P>|t|      [0.025      0.975]\n",
      "------------------------------------------------------------------------------\n",
      "Intercept      0.0055      0.008      0.692      0.492      -0.010       0.021\n",
      "mkt            1.4431      0.187      7.721      0.000       1.069       1.818\n",
      "smb           -0.4214      0.340     -1.238      0.221      -1.104       0.261\n",
      "hml           -0.7916      0.274     -2.891      0.005      -1.340      -0.243\n",
      "mom            0.2310      0.269      0.857      0.395      -0.309       0.771\n",
      "==============================================================================\n",
      "Omnibus:                        0.457   Durbin-Watson:                   2.031\n",
      "Prob(Omnibus):                  0.796   Jarque-Bera (JB):                0.293\n",
      "Skew:                           0.170   Prob(JB):                        0.864\n",
      "Kurtosis:                       2.966   Cond. No.                         50.9\n",
      "==============================================================================\n",
      "\n",
      "Notes:\n",
      "[1] Standard Errors assume that the covariance matrix of the errors is correctly specified.\n"
     ]
    }
   ],
   "source": [
    "four_factor_model = smf.ols(\n",
    "    formula=\"excess_rtn ~ mkt + smb + hml + mom\", \n",
    "    data=factor_4_df\n",
    ").fit()\n",
    "\n",
    "print(four_factor_model.summary())"
   ]
  },
  {
   "cell_type": "markdown",
   "metadata": {},
   "source": [
    "9. Estimate the five-factor model:"
   ]
  },
  {
   "cell_type": "code",
   "execution_count": 44,
   "metadata": {
    "ExecuteTime": {
     "end_time": "2020-01-19T20:31:18.527101Z",
     "start_time": "2020-01-19T20:31:18.495505Z"
    }
   },
   "outputs": [
    {
     "name": "stdout",
     "output_type": "stream",
     "text": [
      "                            OLS Regression Results                            \n",
      "==============================================================================\n",
      "Dep. Variable:             excess_rtn   R-squared:                       0.610\n",
      "Model:                            OLS   Adj. R-squared:                  0.574\n",
      "Method:                 Least Squares   F-statistic:                     16.89\n",
      "Date:                Mon, 30 Sep 2024   Prob (F-statistic):           5.09e-10\n",
      "Time:                        17:15:09   Log-Likelihood:                 93.061\n",
      "No. Observations:                  60   AIC:                            -174.1\n",
      "Df Residuals:                      54   BIC:                            -161.6\n",
      "Df Model:                           5                                         \n",
      "Covariance Type:            nonrobust                                         \n",
      "==============================================================================\n",
      "                 coef    std err          t      P>|t|      [0.025      0.975]\n",
      "------------------------------------------------------------------------------\n",
      "Intercept      0.0058      0.008      0.767      0.446      -0.009       0.021\n",
      "mkt            1.5125      0.192      7.862      0.000       1.127       1.898\n",
      "smb           -0.9327      0.337     -2.768      0.008      -1.608      -0.257\n",
      "hml           -0.5595      0.282     -1.985      0.052      -1.125       0.006\n",
      "rmw           -1.1499      0.514     -2.237      0.029      -2.180      -0.119\n",
      "cma           -0.4822      0.506     -0.952      0.345      -1.497       0.533\n",
      "==============================================================================\n",
      "Omnibus:                        0.075   Durbin-Watson:                   2.067\n",
      "Prob(Omnibus):                  0.963   Jarque-Bera (JB):                0.176\n",
      "Skew:                          -0.079   Prob(JB):                        0.916\n",
      "Kurtosis:                       2.787   Cond. No.                         79.3\n",
      "==============================================================================\n",
      "\n",
      "Notes:\n",
      "[1] Standard Errors assume that the covariance matrix of the errors is correctly specified.\n"
     ]
    }
   ],
   "source": [
    "five_factor_model = smf.ols(\n",
    "    formula=\"excess_rtn ~ mkt + smb + hml + rmw + cma\", \n",
    "    data=factor_5_df\n",
    ").fit()\n",
    "\n",
    "print(five_factor_model.summary())"
   ]
  },
  {
   "cell_type": "markdown",
   "metadata": {},
   "source": [
    "5요인 모형에 따르면, 아마존의 초과 수익률은 대부분의 요인(시장 요인을 제외한 모든 요인)에 부정적으로 노출되어 있습니다. 여기에서 계수 해석의 예시를 제공합니다: 시장 요인이 1%포인트 증가하면, 아마존의 초과 수익률이 0.015%포인트 증가합니다. 다시 말해, 시장 요인이 1%의 수익률을 기록하면, 아마존 주식이 위험 프리미엄을 초과하여 1.5117 * 1%의 수익을 낼 것으로 예상할 수 있습니다.\n",
    "\n",
    "3요인 모형과 마찬가지로, 5요인 모형이 주식의 초과 수익률을 완전히 설명한다면, 추정된 절편은 통계적으로 0과 구별되지 않아야 합니다(이 문제에서 그렇습니다). 이는 모형이 주식의 초과 수익률을 잘 설명하며, 추가적인 설명 변수가 필요하지 않다는 것을 의미합니다."
   ]
  },
  {
   "cell_type": "markdown",
   "metadata": {},
   "source": [
    "## 8.5 Estimating cross-sectional factor models using the Fama-MacBeth regression"
   ]
  },
  {
   "cell_type": "markdown",
   "metadata": {},
   "source": [
    "이전 설명에서 우리는 단일 자산이나 포트폴리오를 종속 변수로 사용하여 다양한 요인 모형을 추정하는 방법을 다루었습니다. 그러나 교차 섹션(패널) 데이터를 사용하여 여러 자산에 대해 요인 모형을 동시에 추정할 수 있습니다.\n",
    "\n",
    "이 접근 방식을 따르면:\n",
    "\n",
    "포트폴리오가 위험 요인에 얼마나 노출되었는지 추정하고, 그 요인들이 포트폴리오 수익률에 얼마나 영향을 미치는지 알 수 있습니다.\n",
    "특정 위험을 감수하는 대가가 얼마인지 이해할 수 있으며, 시장이 특정 요인에 대한 노출에 대해 지불하는 프리미엄을 파악할 수 있습니다.\n",
    "위험 프리미엄을 알면, 포트폴리오가 어떤 요인에 얼마나 노출되었는지를 대략적으로 파악할 수 있는 경우 해당 포트폴리오의 수익률을 추정할 수 있습니다.\n",
    "\n",
    "교차 섹션 회귀분석을 추정할 때, 선형 회귀의 몇 가지 가정이 충족되지 않을 수 있어 여러 문제가 발생할 수 있습니다:\n",
    "\n",
    "이분산성과 자기상관성으로 인해 잔차들이 공분산을 가질 수 있습니다.\n",
    "다중공선성\n",
    "측정 오류\n",
    "\n",
    "이러한 문제를 해결하기 위해, Fama-MacBeth 회귀분석이라는 기법을 사용할 수 있습니다. 이는 특정 위험 요인에 대한 노출에 대해 시장이 보상하는 프리미엄을 추정하기 위해 고안된 두 단계 절차입니다.\n",
    "\n",
    "Fama-MacBeth 회귀분석 절차:\n",
    "**요인 부하(factor loadings)**를 얻기 위해, N개의 포트폴리오 또는 자산의 초과 수익률을 요인에 대해 시계열 회귀분석을 수행합니다.\n",
    "\n",
    "\n",
    "**위험 프리미엄(risk premiums)**을 얻기 위해, 각 기간에 대해 T개의 교차 섹션 회귀분석을 수행합니다.\n",
    "​\n",
    " \n",
    "이 설명에서는, Fama-MacBeth 회귀분석을 5개의 위험 요인과 12개의 산업 포트폴리오 수익률을 사용하여 추정합니다. 이 데이터는 프렌치 교수의 웹사이트에서 이용할 수 있습니다.\n",
    "이 두 단계 과정은 교차 섹션 데이터를 기반으로 각 요인이 자산 수익률에 미치는 영향을 더 정확하게 측정하고, 특정 요인에 대한 노출에 대해 시장이 어떻게 보상하는지 분석하는 데 유용합니다."
   ]
  },
  {
   "cell_type": "markdown",
   "metadata": {},
   "source": [
    "### How to do it..."
   ]
  },
  {
   "cell_type": "markdown",
   "metadata": {},
   "source": [
    "1. Import the libraries:"
   ]
  },
  {
   "cell_type": "code",
   "execution_count": 49,
   "metadata": {},
   "outputs": [],
   "source": [
    "import pandas as pd\n",
    "import pandas_datareader.data as web\n",
    "from linearmodels.asset_pricing import LinearFactorModel"
   ]
  },
  {
   "cell_type": "markdown",
   "metadata": {},
   "source": [
    "2. Specify the time horizon:"
   ]
  },
  {
   "cell_type": "code",
   "execution_count": 50,
   "metadata": {},
   "outputs": [],
   "source": [
    "START_DATE = \"2010\"\n",
    "END_DATE = \"2020-12\""
   ]
  },
  {
   "cell_type": "markdown",
   "metadata": {},
   "source": [
    "3. Download and adjust the risk factors from prof. French's website:"
   ]
  },
  {
   "cell_type": "code",
   "execution_count": 51,
   "metadata": {},
   "outputs": [
    {
     "data": {
      "text/html": [
       "<div>\n",
       "<style scoped>\n",
       "    .dataframe tbody tr th:only-of-type {\n",
       "        vertical-align: middle;\n",
       "    }\n",
       "\n",
       "    .dataframe tbody tr th {\n",
       "        vertical-align: top;\n",
       "    }\n",
       "\n",
       "    .dataframe thead th {\n",
       "        text-align: right;\n",
       "    }\n",
       "</style>\n",
       "<table border=\"1\" class=\"dataframe\">\n",
       "  <thead>\n",
       "    <tr style=\"text-align: right;\">\n",
       "      <th></th>\n",
       "      <th>Mkt-RF</th>\n",
       "      <th>SMB</th>\n",
       "      <th>HML</th>\n",
       "      <th>RMW</th>\n",
       "      <th>CMA</th>\n",
       "      <th>RF</th>\n",
       "    </tr>\n",
       "    <tr>\n",
       "      <th>Date</th>\n",
       "      <th></th>\n",
       "      <th></th>\n",
       "      <th></th>\n",
       "      <th></th>\n",
       "      <th></th>\n",
       "      <th></th>\n",
       "    </tr>\n",
       "  </thead>\n",
       "  <tbody>\n",
       "    <tr>\n",
       "      <th>2010-01</th>\n",
       "      <td>-0.0336</td>\n",
       "      <td>0.0034</td>\n",
       "      <td>0.0043</td>\n",
       "      <td>-0.0127</td>\n",
       "      <td>0.0046</td>\n",
       "      <td>0.0000</td>\n",
       "    </tr>\n",
       "    <tr>\n",
       "      <th>2010-02</th>\n",
       "      <td>0.0340</td>\n",
       "      <td>0.0151</td>\n",
       "      <td>0.0322</td>\n",
       "      <td>-0.0027</td>\n",
       "      <td>0.0142</td>\n",
       "      <td>0.0000</td>\n",
       "    </tr>\n",
       "    <tr>\n",
       "      <th>2010-03</th>\n",
       "      <td>0.0631</td>\n",
       "      <td>0.0185</td>\n",
       "      <td>0.0221</td>\n",
       "      <td>-0.0065</td>\n",
       "      <td>0.0169</td>\n",
       "      <td>0.0001</td>\n",
       "    </tr>\n",
       "    <tr>\n",
       "      <th>2010-04</th>\n",
       "      <td>0.0200</td>\n",
       "      <td>0.0498</td>\n",
       "      <td>0.0289</td>\n",
       "      <td>0.0069</td>\n",
       "      <td>0.0172</td>\n",
       "      <td>0.0001</td>\n",
       "    </tr>\n",
       "    <tr>\n",
       "      <th>2010-05</th>\n",
       "      <td>-0.0789</td>\n",
       "      <td>0.0005</td>\n",
       "      <td>-0.0244</td>\n",
       "      <td>0.0130</td>\n",
       "      <td>-0.0022</td>\n",
       "      <td>0.0001</td>\n",
       "    </tr>\n",
       "  </tbody>\n",
       "</table>\n",
       "</div>"
      ],
      "text/plain": [
       "         Mkt-RF     SMB     HML     RMW     CMA      RF\n",
       "Date                                                   \n",
       "2010-01 -0.0336  0.0034  0.0043 -0.0127  0.0046  0.0000\n",
       "2010-02  0.0340  0.0151  0.0322 -0.0027  0.0142  0.0000\n",
       "2010-03  0.0631  0.0185  0.0221 -0.0065  0.0169  0.0001\n",
       "2010-04  0.0200  0.0498  0.0289  0.0069  0.0172  0.0001\n",
       "2010-05 -0.0789  0.0005 -0.0244  0.0130 -0.0022  0.0001"
      ]
     },
     "execution_count": 51,
     "metadata": {},
     "output_type": "execute_result"
    }
   ],
   "source": [
    "factor_5_df = (\n",
    "    web.DataReader(\"F-F_Research_Data_5_Factors_2x3\", \n",
    "                   \"famafrench\", \n",
    "                   start=START_DATE, \n",
    "                   end=END_DATE)[0]\n",
    "    .div(100)\n",
    ")\n",
    "factor_5_df.head()"
   ]
  },
  {
   "cell_type": "markdown",
   "metadata": {},
   "source": [
    "4. Download and adjust the returns of 12 Industry Portfolios from prof. French's website:"
   ]
  },
  {
   "cell_type": "code",
   "execution_count": 52,
   "metadata": {},
   "outputs": [
    {
     "data": {
      "text/html": [
       "<div>\n",
       "<style scoped>\n",
       "    .dataframe tbody tr th:only-of-type {\n",
       "        vertical-align: middle;\n",
       "    }\n",
       "\n",
       "    .dataframe tbody tr th {\n",
       "        vertical-align: top;\n",
       "    }\n",
       "\n",
       "    .dataframe thead th {\n",
       "        text-align: right;\n",
       "    }\n",
       "</style>\n",
       "<table border=\"1\" class=\"dataframe\">\n",
       "  <thead>\n",
       "    <tr style=\"text-align: right;\">\n",
       "      <th></th>\n",
       "      <th>NoDur</th>\n",
       "      <th>Durbl</th>\n",
       "      <th>Manuf</th>\n",
       "      <th>Enrgy</th>\n",
       "      <th>Chems</th>\n",
       "      <th>BusEq</th>\n",
       "      <th>Telcm</th>\n",
       "      <th>Utils</th>\n",
       "      <th>Shops</th>\n",
       "      <th>Hlth</th>\n",
       "      <th>Money</th>\n",
       "      <th>Other</th>\n",
       "    </tr>\n",
       "    <tr>\n",
       "      <th>Date</th>\n",
       "      <th></th>\n",
       "      <th></th>\n",
       "      <th></th>\n",
       "      <th></th>\n",
       "      <th></th>\n",
       "      <th></th>\n",
       "      <th></th>\n",
       "      <th></th>\n",
       "      <th></th>\n",
       "      <th></th>\n",
       "      <th></th>\n",
       "      <th></th>\n",
       "    </tr>\n",
       "  </thead>\n",
       "  <tbody>\n",
       "    <tr>\n",
       "      <th>2010-01</th>\n",
       "      <td>-0.0240</td>\n",
       "      <td>-0.0043</td>\n",
       "      <td>-0.0446</td>\n",
       "      <td>-0.0484</td>\n",
       "      <td>-0.0117</td>\n",
       "      <td>-0.0791</td>\n",
       "      <td>-0.0672</td>\n",
       "      <td>-0.0444</td>\n",
       "      <td>-0.0184</td>\n",
       "      <td>-0.0002</td>\n",
       "      <td>-0.0065</td>\n",
       "      <td>-0.0030</td>\n",
       "    </tr>\n",
       "    <tr>\n",
       "      <th>2010-02</th>\n",
       "      <td>0.0266</td>\n",
       "      <td>0.0739</td>\n",
       "      <td>0.0585</td>\n",
       "      <td>0.0261</td>\n",
       "      <td>0.0404</td>\n",
       "      <td>0.0485</td>\n",
       "      <td>0.0276</td>\n",
       "      <td>-0.0042</td>\n",
       "      <td>0.0430</td>\n",
       "      <td>0.0038</td>\n",
       "      <td>0.0291</td>\n",
       "      <td>0.0475</td>\n",
       "    </tr>\n",
       "    <tr>\n",
       "      <th>2010-03</th>\n",
       "      <td>0.0588</td>\n",
       "      <td>0.0934</td>\n",
       "      <td>0.0782</td>\n",
       "      <td>0.0322</td>\n",
       "      <td>0.0408</td>\n",
       "      <td>0.0667</td>\n",
       "      <td>0.0762</td>\n",
       "      <td>0.0311</td>\n",
       "      <td>0.0625</td>\n",
       "      <td>0.0362</td>\n",
       "      <td>0.0830</td>\n",
       "      <td>0.0778</td>\n",
       "    </tr>\n",
       "    <tr>\n",
       "      <th>2010-04</th>\n",
       "      <td>-0.0103</td>\n",
       "      <td>0.0725</td>\n",
       "      <td>0.0415</td>\n",
       "      <td>0.0404</td>\n",
       "      <td>0.0131</td>\n",
       "      <td>0.0229</td>\n",
       "      <td>0.0340</td>\n",
       "      <td>0.0284</td>\n",
       "      <td>0.0254</td>\n",
       "      <td>-0.0219</td>\n",
       "      <td>0.0112</td>\n",
       "      <td>0.0290</td>\n",
       "    </tr>\n",
       "    <tr>\n",
       "      <th>2010-05</th>\n",
       "      <td>-0.0574</td>\n",
       "      <td>-0.0907</td>\n",
       "      <td>-0.0926</td>\n",
       "      <td>-0.1028</td>\n",
       "      <td>-0.0679</td>\n",
       "      <td>-0.0780</td>\n",
       "      <td>-0.0587</td>\n",
       "      <td>-0.0630</td>\n",
       "      <td>-0.0537</td>\n",
       "      <td>-0.0807</td>\n",
       "      <td>-0.0911</td>\n",
       "      <td>-0.0821</td>\n",
       "    </tr>\n",
       "  </tbody>\n",
       "</table>\n",
       "</div>"
      ],
      "text/plain": [
       "          NoDur   Durbl   Manuf   Enrgy   Chems   BusEq   Telcm   Utils  \\\n",
       "Date                                                                      \n",
       "2010-01 -0.0240 -0.0043 -0.0446 -0.0484 -0.0117 -0.0791 -0.0672 -0.0444   \n",
       "2010-02  0.0266  0.0739  0.0585  0.0261  0.0404  0.0485  0.0276 -0.0042   \n",
       "2010-03  0.0588  0.0934  0.0782  0.0322  0.0408  0.0667  0.0762  0.0311   \n",
       "2010-04 -0.0103  0.0725  0.0415  0.0404  0.0131  0.0229  0.0340  0.0284   \n",
       "2010-05 -0.0574 -0.0907 -0.0926 -0.1028 -0.0679 -0.0780 -0.0587 -0.0630   \n",
       "\n",
       "          Shops   Hlth    Money   Other  \n",
       "Date                                     \n",
       "2010-01 -0.0184 -0.0002 -0.0065 -0.0030  \n",
       "2010-02  0.0430  0.0038  0.0291  0.0475  \n",
       "2010-03  0.0625  0.0362  0.0830  0.0778  \n",
       "2010-04  0.0254 -0.0219  0.0112  0.0290  \n",
       "2010-05 -0.0537 -0.0807 -0.0911 -0.0821  "
      ]
     },
     "execution_count": 52,
     "metadata": {},
     "output_type": "execute_result"
    }
   ],
   "source": [
    "portfolio_df = (\n",
    "    web.DataReader(\"12_Industry_Portfolios\", \n",
    "                   \"famafrench\", \n",
    "                   start=START_DATE, \n",
    "                   end=END_DATE)[0]\n",
    "    .div(100)\n",
    "    .sub(factor_5_df[\"RF\"], axis=0)\n",
    ")\n",
    "portfolio_df.head()"
   ]
  },
  {
   "cell_type": "markdown",
   "metadata": {},
   "source": [
    "5. Drop the risk-free rate from the factor data set:"
   ]
  },
  {
   "cell_type": "code",
   "execution_count": 53,
   "metadata": {},
   "outputs": [
    {
     "data": {
      "text/html": [
       "<div>\n",
       "<style scoped>\n",
       "    .dataframe tbody tr th:only-of-type {\n",
       "        vertical-align: middle;\n",
       "    }\n",
       "\n",
       "    .dataframe tbody tr th {\n",
       "        vertical-align: top;\n",
       "    }\n",
       "\n",
       "    .dataframe thead th {\n",
       "        text-align: right;\n",
       "    }\n",
       "</style>\n",
       "<table border=\"1\" class=\"dataframe\">\n",
       "  <thead>\n",
       "    <tr style=\"text-align: right;\">\n",
       "      <th></th>\n",
       "      <th>Mkt-RF</th>\n",
       "      <th>SMB</th>\n",
       "      <th>HML</th>\n",
       "      <th>RMW</th>\n",
       "      <th>CMA</th>\n",
       "    </tr>\n",
       "    <tr>\n",
       "      <th>Date</th>\n",
       "      <th></th>\n",
       "      <th></th>\n",
       "      <th></th>\n",
       "      <th></th>\n",
       "      <th></th>\n",
       "    </tr>\n",
       "  </thead>\n",
       "  <tbody>\n",
       "    <tr>\n",
       "      <th>2010-01</th>\n",
       "      <td>-0.0336</td>\n",
       "      <td>0.0034</td>\n",
       "      <td>0.0043</td>\n",
       "      <td>-0.0127</td>\n",
       "      <td>0.0046</td>\n",
       "    </tr>\n",
       "    <tr>\n",
       "      <th>2010-02</th>\n",
       "      <td>0.0340</td>\n",
       "      <td>0.0151</td>\n",
       "      <td>0.0322</td>\n",
       "      <td>-0.0027</td>\n",
       "      <td>0.0142</td>\n",
       "    </tr>\n",
       "    <tr>\n",
       "      <th>2010-03</th>\n",
       "      <td>0.0631</td>\n",
       "      <td>0.0185</td>\n",
       "      <td>0.0221</td>\n",
       "      <td>-0.0065</td>\n",
       "      <td>0.0169</td>\n",
       "    </tr>\n",
       "    <tr>\n",
       "      <th>2010-04</th>\n",
       "      <td>0.0200</td>\n",
       "      <td>0.0498</td>\n",
       "      <td>0.0289</td>\n",
       "      <td>0.0069</td>\n",
       "      <td>0.0172</td>\n",
       "    </tr>\n",
       "    <tr>\n",
       "      <th>2010-05</th>\n",
       "      <td>-0.0789</td>\n",
       "      <td>0.0005</td>\n",
       "      <td>-0.0244</td>\n",
       "      <td>0.0130</td>\n",
       "      <td>-0.0022</td>\n",
       "    </tr>\n",
       "  </tbody>\n",
       "</table>\n",
       "</div>"
      ],
      "text/plain": [
       "         Mkt-RF     SMB     HML     RMW     CMA\n",
       "Date                                           \n",
       "2010-01 -0.0336  0.0034  0.0043 -0.0127  0.0046\n",
       "2010-02  0.0340  0.0151  0.0322 -0.0027  0.0142\n",
       "2010-03  0.0631  0.0185  0.0221 -0.0065  0.0169\n",
       "2010-04  0.0200  0.0498  0.0289  0.0069  0.0172\n",
       "2010-05 -0.0789  0.0005 -0.0244  0.0130 -0.0022"
      ]
     },
     "execution_count": 53,
     "metadata": {},
     "output_type": "execute_result"
    }
   ],
   "source": [
    "factor_5_df = factor_5_df.drop(\"RF\", axis=1)\n",
    "factor_5_df.head()"
   ]
  },
  {
   "cell_type": "markdown",
   "metadata": {},
   "source": [
    "6. Estimate the Fama-MacBeth regression and print the summary:"
   ]
  },
  {
   "cell_type": "code",
   "execution_count": 54,
   "metadata": {},
   "outputs": [
    {
     "name": "stdout",
     "output_type": "stream",
     "text": [
      "                      LinearFactorModel Estimation Summary                      \n",
      "================================================================================\n",
      "No. Test Portfolios:                 12   R-squared:                      0.7908\n",
      "No. Factors:                          5   J-statistic:                    9.9201\n",
      "No. Observations:                   132   P-value                         0.1931\n",
      "Date:                  Mon, Sep 30 2024   Distribution:                  chi2(7)\n",
      "Time:                          17:16:01                                         \n",
      "Cov. Estimator:                  robust                                         \n",
      "                                                                                \n",
      "                            Risk Premia Estimates                             \n",
      "==============================================================================\n",
      "            Parameter  Std. Err.     T-stat    P-value    Lower CI    Upper CI\n",
      "------------------------------------------------------------------------------\n",
      "Mkt-RF         0.0123     0.0038     3.2628     0.0011      0.0049      0.0198\n",
      "SMB           -0.0064     0.0052    -1.2137     0.2249     -0.0166      0.0039\n",
      "HML           -0.0089     0.0032    -2.7484     0.0060     -0.0152     -0.0025\n",
      "RMW           -0.0011     0.0046    -0.2428     0.8081     -0.0101      0.0079\n",
      "CMA           -0.0024     0.0041    -0.5981     0.5498     -0.0104      0.0055\n",
      "==============================================================================\n",
      "\n",
      "Covariance estimator:\n",
      "HeteroskedasticCovariance\n",
      "See full_summary for complete results\n"
     ]
    }
   ],
   "source": [
    "five_factor_model = LinearFactorModel(\n",
    "    portfolios=portfolio_df, \n",
    "    factors=factor_5_df\n",
    ")\n",
    "result = five_factor_model.fit()\n",
    "print(result)"
   ]
  },
  {
   "cell_type": "markdown",
   "metadata": {},
   "source": [
    "We can also print the full summary (1 aggregate and 12 individual ones for each portfolio separately)."
   ]
  },
  {
   "cell_type": "code",
   "execution_count": 55,
   "metadata": {},
   "outputs": [
    {
     "name": "stdout",
     "output_type": "stream",
     "text": [
      "                      LinearFactorModel Estimation Summary                      \n",
      "================================================================================\n",
      "No. Test Portfolios:                 12   R-squared:                      0.7908\n",
      "No. Factors:                          5   J-statistic:                    9.9201\n",
      "No. Observations:                   132   P-value                         0.1931\n",
      "Date:                  Mon, Sep 30 2024   Distribution:                  chi2(7)\n",
      "Time:                          17:16:01                                         \n",
      "Cov. Estimator:                  robust                                         \n",
      "                                                                                \n",
      "                            Risk Premia Estimates                             \n",
      "==============================================================================\n",
      "            Parameter  Std. Err.     T-stat    P-value    Lower CI    Upper CI\n",
      "------------------------------------------------------------------------------\n",
      "Mkt-RF         0.0123     0.0038     3.2628     0.0011      0.0049      0.0198\n",
      "SMB           -0.0064     0.0052    -1.2137     0.2249     -0.0166      0.0039\n",
      "HML           -0.0089     0.0032    -2.7484     0.0060     -0.0152     -0.0025\n",
      "RMW           -0.0011     0.0046    -0.2428     0.8081     -0.0101      0.0079\n",
      "CMA           -0.0024     0.0041    -0.5981     0.5498     -0.0104      0.0055\n",
      "\n",
      "\n",
      "                              NoDur Coefficients                              \n",
      "==============================================================================\n",
      "            Parameter  Std. Err.     T-stat    P-value    Lower CI    Upper CI\n",
      "------------------------------------------------------------------------------\n",
      "alpha         -0.0009     0.0015    -0.5975     0.5501     -0.0038      0.0020\n",
      "Mkt-RF         0.7865     0.0458     17.154     0.0000      0.6966      0.8763\n",
      "SMB           -0.2241     0.0951    -2.3560     0.0185     -0.4105     -0.0377\n",
      "HML           -0.0825     0.0993    -0.8305     0.4063     -0.2772      0.1122\n",
      "RMW            0.4710     0.1220     3.8592     0.0001      0.2318      0.7102\n",
      "CMA            0.3291     0.1471     2.2366     0.0253      0.0407      0.6175\n",
      "\n",
      "\n",
      "                              Durbl Coefficients                              \n",
      "==============================================================================\n",
      "alpha          0.0021     0.0022     0.9680     0.3331     -0.0022      0.0064\n",
      "Mkt-RF         1.5571     0.1505     10.344     0.0000      1.2621      1.8522\n",
      "SMB            0.5586     0.1791     3.1195     0.0018      0.2076      0.9095\n",
      "HML           -0.1692     0.1706    -0.9915     0.3214     -0.5035      0.1652\n",
      "RMW            0.2972     0.4911     0.6053     0.5450     -0.6653      1.2598\n",
      "CMA            0.3192     0.2684     1.1895     0.2342     -0.2068      0.8453\n",
      "\n",
      "\n",
      "                              Manuf Coefficients                              \n",
      "==============================================================================\n",
      "alpha          0.0013     0.0016     0.7950     0.4266     -0.0019      0.0044\n",
      "Mkt-RF         1.1013     0.0478     23.054     0.0000      1.0077      1.1949\n",
      "SMB            0.2948     0.0634     4.6516     0.0000      0.1706      0.4190\n",
      "HML            0.1496     0.0607     2.4646     0.0137      0.0306      0.2687\n",
      "RMW            0.0795     0.1188     0.6689     0.5035     -0.1534      0.3124\n",
      "CMA           -0.0097     0.1208    -0.0806     0.9358     -0.2465      0.2270\n",
      "\n",
      "\n",
      "                              Enrgy Coefficients                              \n",
      "==============================================================================\n",
      "alpha         -0.0037     0.0021    -1.7836     0.0745     -0.0077      0.0004\n",
      "Mkt-RF         1.2488     0.1282     9.7376     0.0000      0.9975      1.5002\n",
      "SMB            0.4961     0.1803     2.7517     0.0059      0.1428      0.8495\n",
      "HML            0.6326     0.1691     3.7415     0.0002      0.3012      0.9640\n",
      "RMW            0.2436     0.3066     0.7946     0.4268     -0.3573      0.8446\n",
      "CMA            0.3994     0.2689     1.4855     0.1374     -0.1276      0.9264\n",
      "\n",
      "\n",
      "                              Chems Coefficients                              \n",
      "==============================================================================\n",
      "alpha         -0.0013     0.0015    -0.8373     0.4024     -0.0042      0.0017\n",
      "Mkt-RF         0.8804     0.0471     18.685     0.0000      0.7881      0.9728\n",
      "SMB           -0.1057     0.0850    -1.2432     0.2138     -0.2724      0.0610\n",
      "HML           -0.0181     0.0568    -0.3181     0.7504     -0.1293      0.0932\n",
      "RMW            0.1551     0.0903     1.7171     0.0860     -0.0219      0.3321\n",
      "CMA            0.2259     0.1058     2.1361     0.0327      0.0186      0.4332\n",
      "\n",
      "\n",
      "                              BusEq Coefficients                              \n",
      "==============================================================================\n",
      "alpha         -0.0022     0.0015    -1.4315     0.1523     -0.0052      0.0008\n",
      "Mkt-RF         1.1177     0.0339     32.943     0.0000      1.0512      1.1842\n",
      "SMB           -0.1860     0.0639    -2.9121     0.0036     -0.3112     -0.0608\n",
      "HML           -0.1348     0.0726    -1.8552     0.0636     -0.2772      0.0076\n",
      "RMW           -0.0144     0.0986    -0.1458     0.8841     -0.2076      0.1788\n",
      "CMA           -0.5414     0.1111    -4.8727     0.0000     -0.7592     -0.3236\n",
      "\n",
      "\n",
      "                              Telcm Coefficients                              \n",
      "==============================================================================\n",
      "alpha          0.0010     0.0021     0.4719     0.6370     -0.0031      0.0050\n",
      "Mkt-RF         0.8944     0.0484     18.492     0.0000      0.7996      0.9892\n",
      "SMB           -0.1033     0.0923    -1.1189     0.2632     -0.2842      0.0776\n",
      "HML           -0.0830     0.1245    -0.6668     0.5049     -0.3270      0.1610\n",
      "RMW            0.2467     0.1196     2.0627     0.0391      0.0123      0.4811\n",
      "CMA            0.6710     0.2020     3.3225     0.0009      0.2752      1.0668\n",
      "\n",
      "\n",
      "                              Utils Coefficients                              \n",
      "==============================================================================\n",
      "alpha          0.0029     0.0025     1.2002     0.2300     -0.0019      0.0078\n",
      "Mkt-RF         0.4572     0.0767     5.9609     0.0000      0.3069      0.6075\n",
      "SMB           -0.1276     0.1404    -0.9084     0.3636     -0.4028      0.1477\n",
      "HML            0.0800     0.1822     0.4391     0.6606     -0.2771      0.4371\n",
      "RMW            0.3191     0.2113     1.5103     0.1310     -0.0950      0.7332\n",
      "CMA            0.1857     0.2707     0.6860     0.4927     -0.3449      0.7164\n",
      "\n",
      "\n",
      "                              Shops Coefficients                              \n",
      "==============================================================================\n",
      "alpha          0.0008     0.0019     0.4283     0.6684     -0.0028      0.0044\n",
      "Mkt-RF         0.9509     0.0455     20.919     0.0000      0.8618      1.0400\n",
      "SMB            0.0550     0.0770     0.7147     0.4748     -0.0959      0.2060\n",
      "HML           -0.3376     0.0613    -5.5124     0.0000     -0.4577     -0.2176\n",
      "RMW            0.4420     0.1080     4.0928     0.0000      0.2303      0.6537\n",
      "CMA            0.2826     0.1067     2.6489     0.0081      0.0735      0.4918\n",
      "\n",
      "\n",
      "                              Hlth  Coefficients                              \n",
      "==============================================================================\n",
      "alpha         -0.0015     0.0021    -0.7420     0.4581     -0.0055      0.0025\n",
      "Mkt-RF         0.8185     0.0506     16.182     0.0000      0.7194      0.9177\n",
      "SMB            0.0302     0.0960     0.3144     0.7532     -0.1580      0.2183\n",
      "HML           -0.4530     0.0945    -4.7951     0.0000     -0.6381     -0.2678\n",
      "RMW           -0.3529     0.1406    -2.5100     0.0121     -0.6284     -0.0773\n",
      "CMA            0.2688     0.1612     1.6671     0.0955     -0.0472      0.5848\n",
      "\n",
      "\n",
      "                              Money Coefficients                              \n",
      "==============================================================================\n",
      "alpha          0.0023     0.0017     1.3806     0.1674     -0.0010      0.0057\n",
      "Mkt-RF         1.0367     0.0336     30.834     0.0000      0.9708      1.1026\n",
      "SMB           -0.0008     0.0700    -0.0111     0.9911     -0.1379      0.1363\n",
      "HML            0.6457     0.0667     9.6757     0.0000      0.5149      0.7764\n",
      "RMW           -0.5637     0.0818    -6.8941     0.0000     -0.7240     -0.4035\n",
      "CMA           -0.3531     0.1091    -3.2377     0.0012     -0.5669     -0.1394\n",
      "\n",
      "\n",
      "                              Other Coefficients                              \n",
      "==============================================================================\n",
      "alpha      -3.425e-05     0.0012    -0.0283     0.9774     -0.0024      0.0023\n",
      "Mkt-RF         1.0398     0.0331     31.387     0.0000      0.9748      1.1047\n",
      "SMB            0.1311     0.0521     2.5147     0.0119      0.0289      0.2333\n",
      "HML            0.0635     0.0597     1.0633     0.2876     -0.0535      0.1805\n",
      "RMW            0.0640     0.0929     0.6883     0.4913     -0.1182      0.2461\n",
      "CMA            0.0869     0.0935     0.9299     0.3524     -0.0963      0.2701\n",
      "==============================================================================\n",
      "\n",
      "Covariance estimator:\n",
      "HeteroskedasticCovariance\n",
      "See full_summary for complete results\n"
     ]
    }
   ],
   "source": [
    "print(result.full_summary)"
   ]
  },
  {
   "cell_type": "markdown",
   "metadata": {},
   "source": [
    "### There's more"
   ]
  },
  {
   "cell_type": "markdown",
   "metadata": {},
   "source": [
    "1. Import the libraries:"
   ]
  },
  {
   "cell_type": "code",
   "execution_count": 56,
   "metadata": {},
   "outputs": [],
   "source": [
    "from statsmodels.api import OLS, add_constant"
   ]
  },
  {
   "cell_type": "markdown",
   "metadata": {},
   "source": [
    "2. First step - estimate the factor loadings:"
   ]
  },
  {
   "cell_type": "code",
   "execution_count": 57,
   "metadata": {},
   "outputs": [],
   "source": [
    "factor_loadings = []\n",
    "for portfolio in portfolio_df:\n",
    "    reg_1 = OLS(\n",
    "        endog=portfolio_df.loc[:, portfolio], \n",
    "        exog=add_constant(factor_5_df)\n",
    "    ).fit()\n",
    "    factor_loadings.append(reg_1.params.drop(\"const\"))"
   ]
  },
  {
   "cell_type": "markdown",
   "metadata": {},
   "source": [
    "3. Store the factor loadings in a DataFrame:"
   ]
  },
  {
   "cell_type": "code",
   "execution_count": 58,
   "metadata": {},
   "outputs": [
    {
     "data": {
      "text/html": [
       "<div>\n",
       "<style scoped>\n",
       "    .dataframe tbody tr th:only-of-type {\n",
       "        vertical-align: middle;\n",
       "    }\n",
       "\n",
       "    .dataframe tbody tr th {\n",
       "        vertical-align: top;\n",
       "    }\n",
       "\n",
       "    .dataframe thead th {\n",
       "        text-align: right;\n",
       "    }\n",
       "</style>\n",
       "<table border=\"1\" class=\"dataframe\">\n",
       "  <thead>\n",
       "    <tr style=\"text-align: right;\">\n",
       "      <th></th>\n",
       "      <th>Mkt-RF</th>\n",
       "      <th>SMB</th>\n",
       "      <th>HML</th>\n",
       "      <th>RMW</th>\n",
       "      <th>CMA</th>\n",
       "    </tr>\n",
       "  </thead>\n",
       "  <tbody>\n",
       "    <tr>\n",
       "      <th>NoDur</th>\n",
       "      <td>0.786477</td>\n",
       "      <td>-0.224060</td>\n",
       "      <td>-0.082485</td>\n",
       "      <td>0.470981</td>\n",
       "      <td>0.329098</td>\n",
       "    </tr>\n",
       "    <tr>\n",
       "      <th>Durbl</th>\n",
       "      <td>1.557110</td>\n",
       "      <td>0.558580</td>\n",
       "      <td>-0.169151</td>\n",
       "      <td>0.297248</td>\n",
       "      <td>0.319242</td>\n",
       "    </tr>\n",
       "    <tr>\n",
       "      <th>Manuf</th>\n",
       "      <td>1.101314</td>\n",
       "      <td>0.294820</td>\n",
       "      <td>0.149646</td>\n",
       "      <td>0.079494</td>\n",
       "      <td>-0.009732</td>\n",
       "    </tr>\n",
       "    <tr>\n",
       "      <th>Enrgy</th>\n",
       "      <td>1.248843</td>\n",
       "      <td>0.496143</td>\n",
       "      <td>0.632640</td>\n",
       "      <td>0.243634</td>\n",
       "      <td>0.399419</td>\n",
       "    </tr>\n",
       "    <tr>\n",
       "      <th>Chems</th>\n",
       "      <td>0.880427</td>\n",
       "      <td>-0.105721</td>\n",
       "      <td>-0.018053</td>\n",
       "      <td>0.155062</td>\n",
       "      <td>0.225931</td>\n",
       "    </tr>\n",
       "  </tbody>\n",
       "</table>\n",
       "</div>"
      ],
      "text/plain": [
       "         Mkt-RF       SMB       HML       RMW       CMA\n",
       "NoDur  0.786477 -0.224060 -0.082485  0.470981  0.329098\n",
       "Durbl  1.557110  0.558580 -0.169151  0.297248  0.319242\n",
       "Manuf  1.101314  0.294820  0.149646  0.079494 -0.009732\n",
       "Enrgy  1.248843  0.496143  0.632640  0.243634  0.399419\n",
       "Chems  0.880427 -0.105721 -0.018053  0.155062  0.225931"
      ]
     },
     "execution_count": 58,
     "metadata": {},
     "output_type": "execute_result"
    }
   ],
   "source": [
    "factor_load_df = pd.DataFrame(\n",
    "    factor_loadings, \n",
    "    columns=factor_5_df.columns, \n",
    "    index=portfolio_df.columns\n",
    ")\n",
    "factor_load_df.head()"
   ]
  },
  {
   "cell_type": "markdown",
   "metadata": {},
   "source": [
    "4. Second step - estimate the risk premia:"
   ]
  },
  {
   "cell_type": "code",
   "execution_count": 59,
   "metadata": {},
   "outputs": [],
   "source": [
    "risk_premia = []\n",
    "for period in portfolio_df.index:\n",
    "    reg_2 = OLS(\n",
    "        endog=portfolio_df.loc[period, factor_load_df.index], \n",
    "        exog=factor_load_df\n",
    "    ).fit()\n",
    "    risk_premia.append(reg_2.params)"
   ]
  },
  {
   "cell_type": "markdown",
   "metadata": {},
   "source": [
    "5. Store the risk premia in a DataFrame:"
   ]
  },
  {
   "cell_type": "code",
   "execution_count": 60,
   "metadata": {},
   "outputs": [
    {
     "data": {
      "text/html": [
       "<div>\n",
       "<style scoped>\n",
       "    .dataframe tbody tr th:only-of-type {\n",
       "        vertical-align: middle;\n",
       "    }\n",
       "\n",
       "    .dataframe tbody tr th {\n",
       "        vertical-align: top;\n",
       "    }\n",
       "\n",
       "    .dataframe thead th {\n",
       "        text-align: right;\n",
       "    }\n",
       "</style>\n",
       "<table border=\"1\" class=\"dataframe\">\n",
       "  <thead>\n",
       "    <tr style=\"text-align: right;\">\n",
       "      <th></th>\n",
       "      <th>Mkt-RF</th>\n",
       "      <th>SMB</th>\n",
       "      <th>HML</th>\n",
       "      <th>RMW</th>\n",
       "      <th>CMA</th>\n",
       "    </tr>\n",
       "    <tr>\n",
       "      <th>Date</th>\n",
       "      <th></th>\n",
       "      <th></th>\n",
       "      <th></th>\n",
       "      <th></th>\n",
       "      <th></th>\n",
       "    </tr>\n",
       "  </thead>\n",
       "  <tbody>\n",
       "    <tr>\n",
       "      <th>2010-01</th>\n",
       "      <td>-0.029810</td>\n",
       "      <td>0.055069</td>\n",
       "      <td>-0.023958</td>\n",
       "      <td>-0.041338</td>\n",
       "      <td>0.012765</td>\n",
       "    </tr>\n",
       "    <tr>\n",
       "      <th>2010-02</th>\n",
       "      <td>0.037031</td>\n",
       "      <td>0.021759</td>\n",
       "      <td>-0.014474</td>\n",
       "      <td>0.026292</td>\n",
       "      <td>-0.031823</td>\n",
       "    </tr>\n",
       "    <tr>\n",
       "      <th>2010-03</th>\n",
       "      <td>0.065399</td>\n",
       "      <td>-0.031192</td>\n",
       "      <td>-0.003587</td>\n",
       "      <td>-0.002300</td>\n",
       "      <td>-0.004288</td>\n",
       "    </tr>\n",
       "    <tr>\n",
       "      <th>2010-04</th>\n",
       "      <td>0.018661</td>\n",
       "      <td>0.047772</td>\n",
       "      <td>0.009254</td>\n",
       "      <td>0.040722</td>\n",
       "      <td>-0.017509</td>\n",
       "    </tr>\n",
       "    <tr>\n",
       "      <th>2010-05</th>\n",
       "      <td>-0.077033</td>\n",
       "      <td>0.023324</td>\n",
       "      <td>-0.020309</td>\n",
       "      <td>0.021153</td>\n",
       "      <td>-0.013902</td>\n",
       "    </tr>\n",
       "  </tbody>\n",
       "</table>\n",
       "</div>"
      ],
      "text/plain": [
       "           Mkt-RF       SMB       HML       RMW       CMA\n",
       "Date                                                     \n",
       "2010-01 -0.029810  0.055069 -0.023958 -0.041338  0.012765\n",
       "2010-02  0.037031  0.021759 -0.014474  0.026292 -0.031823\n",
       "2010-03  0.065399 -0.031192 -0.003587 -0.002300 -0.004288\n",
       "2010-04  0.018661  0.047772  0.009254  0.040722 -0.017509\n",
       "2010-05 -0.077033  0.023324 -0.020309  0.021153 -0.013902"
      ]
     },
     "execution_count": 60,
     "metadata": {},
     "output_type": "execute_result"
    }
   ],
   "source": [
    "risk_premia_df = pd.DataFrame(\n",
    "    risk_premia, \n",
    "    index=portfolio_df.index,\n",
    "    columns=factor_load_df.columns.tolist())\n",
    "risk_premia_df.head()"
   ]
  },
  {
   "cell_type": "markdown",
   "metadata": {},
   "source": [
    "6. Calculate the average risk premia:"
   ]
  },
  {
   "cell_type": "code",
   "execution_count": 61,
   "metadata": {},
   "outputs": [
    {
     "data": {
      "text/plain": [
       "Mkt-RF    0.012342\n",
       "SMB      -0.006363\n",
       "HML      -0.008861\n",
       "RMW      -0.001117\n",
       "CMA      -0.002430\n",
       "dtype: float64"
      ]
     },
     "execution_count": 61,
     "metadata": {},
     "output_type": "execute_result"
    }
   ],
   "source": [
    "risk_premia_df.mean()"
   ]
  }
 ],
 "metadata": {
  "kernelspec": {
   "display_name": "Python 3 (ipykernel)",
   "language": "python",
   "name": "python3"
  },
  "language_info": {
   "codemirror_mode": {
    "name": "ipython",
    "version": 3
   },
   "file_extension": ".py",
   "mimetype": "text/x-python",
   "name": "python",
   "nbconvert_exporter": "python",
   "pygments_lexer": "ipython3",
   "version": "3.9.5"
  },
  "toc": {
   "base_numbering": 1,
   "nav_menu": {},
   "number_sections": true,
   "sideBar": true,
   "skip_h1_title": false,
   "title_cell": "Table of Contents",
   "title_sidebar": "Contents",
   "toc_cell": false,
   "toc_position": {
    "height": "calc(100% - 180px)",
    "left": "10px",
    "top": "150px",
    "width": "373.297px"
   },
   "toc_section_display": true,
   "toc_window_display": true
  },
  "varInspector": {
   "cols": {
    "lenName": 16,
    "lenType": 16,
    "lenVar": 40
   },
   "kernels_config": {
    "python": {
     "delete_cmd_postfix": "",
     "delete_cmd_prefix": "del ",
     "library": "var_list.py",
     "varRefreshCmd": "print(var_dic_list())"
    },
    "r": {
     "delete_cmd_postfix": ") ",
     "delete_cmd_prefix": "rm(",
     "library": "var_list.r",
     "varRefreshCmd": "cat(var_dic_list()) "
    }
   },
   "types_to_exclude": [
    "module",
    "function",
    "builtin_function_or_method",
    "instance",
    "_Feature"
   ],
   "window_display": false
  },
  "vscode": {
   "interpreter": {
    "hash": "0117835dafdb051235b33d006a7ad155411608685e1d44af6fb551f6db3e7774"
   }
  }
 },
 "nbformat": 4,
 "nbformat_minor": 4
}
