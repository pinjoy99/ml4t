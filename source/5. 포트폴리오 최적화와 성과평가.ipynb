{
 "cells": [
  {
   "cell_type": "markdown",
   "id": "25601b72-4f9e-4541-acba-10d04b061631",
   "metadata": {},
   "source": [
    "# 포트폴리오 최적화와 성과평가\n",
    "- Alpha factor는 알고리즘 전략을 거래로 변환하여 매수 및 매도 포지션 신호를 생성\n",
    "    - 생성된 포트폴리오의 수익률과 리스크가 전략의 성공을 결정\n",
    "- 알고리즘 시뮬레이션 / 전략검증 (파라미터 최적화 포함)\n"
   ]
  },
  {
   "cell_type": "markdown",
   "id": "6fa1ed0d-3af6-42e8-bcb7-9c52812ad7e3",
   "metadata": {},
   "source": [
    "## 포트폴리오 성과를 측정하는 방법\n",
    "- 다른 전략, 기존 전략과 비교 / 개선하려면 성과를 반영하는 비교 지표가 필요\n",
    "- 비교지표로는 대체 투자 기회를 나타내는 벤치마크 : S&P 500, 채권에대한 무위험 수익률 등 \n",
    "- 집라인을 사용하여 시장과 전략의 상호작용을 시뮬레이션 하며, 이후 파이폴리오를 사용한 관련성과를 계산"
   ]
  },
  {
   "cell_type": "markdown",
   "id": "9b0f54ce-fca5-4919-8db6-d4fa6c7e7598",
   "metadata": {},
   "source": [
    "## 단일 숫자로 리스크수익 트레이드오프 포착\n",
    "- 수익과 리스크를 트레이트오프 관계이기에 리스크단위단 수익률을 측정하는 계산이 인기\n",
    "- 샤프비율 : 포트폴리오의 기대수익률을 표준편차로 측정되는 변동성으로 비교하는것. 즉, 리스크를 감수한 단위당 평균초과수익률\n",
    "$$\\mu=E(R_t)=\\frac{1}{T}\\sum{r_t^e}$$\n",
    "$$\\sigma_{R^e}=Var(R-R^f)=\\frac{1}{T}\\sum{(r_t^e-\\hat\\mu_{R^e})^2}$$\n",
    "$$SR=\\frac{\\mu-R_f}{\\sigma_{R^e}}=\\frac{\\hat\\mu-R_f}{\\hat\\sigma_{R^e}}$$\n",
    "- 기대 수익률과 변동성은 관찰할 수 없으나 위와 같이 과저 데이터를 사용하여 추정할 수 있다\n",
    "- 무위험 이자율이 (신흥시장처럼) 변동성이 크지 않다면 초과 수익률과 수익률의 표준편차는 유사해짐 \n",
    "    - 독립적으로 동일하게 분포된 수익률에 대해 통계적 유의성 검정을 위한 SR 추정치 분포의 편차는 중심극한정리를 적용하여\n",
    "    - ~ $N(\\mu,\\hat\\sigma^2)$를 따른다"
   ]
  },
  {
   "cell_type": "markdown",
   "id": "cf818b85-57ec-4548-a8b3-94a3476066b1",
   "metadata": {},
   "source": [
    "- 정보비율 : 샤프비율과 비슷하지만 무위험이자율보다 벤치마크(S&P500...등)를 사용\n",
    "$$IR = \\frac{Alpha}{Tracking Error}$$\n",
    "    > IR은 초과수익률이 매니저의 기술과 전략의 성격에 따라 어떻게 달라지는지 설명하는데 사용"
   ]
  },
  {
   "cell_type": "markdown",
   "id": "a71cc5c6-6c52-4b0a-8eae-74ac3025db9e",
   "metadata": {},
   "source": [
    "## 적극적 운영의 근본법칙\n",
    "> \"분산투자는 무지에서 자신을 보호하기 위한 것이다. 자신의 투자를 정확히 꿰뚫고 있다면 분산투자는 거의 의미없다\" - 워렌버핏\n",
    "- 높은 정보비율은 추가적 리스크와 비교해 매력인 초과성과를 반영한다\n",
    "- 적극적 운용의 기본법칙은 **정보계수(IC)** 와 **전략폭(Breadth of strategy)** 의 곱으로 IR을 근사화한다\n",
    "    - 정보계수(IC) : 수익률 예측과 실제 선도수익률간의 순위상관관계 측정 (잘 플레이 하는지)\n",
    "    - 전략의 폭 : 투자자가 특정기간동안 베팅(거래)의 독립적 수 (자주 거래하는지)"
   ]
  },
  {
   "cell_type": "markdown",
   "id": "da94c59c-cce2-4d1b-a799-4b6678388806",
   "metadata": {},
   "source": [
    "## 포트폴리오 리스크와 수익률 관리 방법\n",
    "- 목적 : 벤치마크 관련, 원하는 리스크수익률 트레이드오프를 달성하는 금융상품 포지션을 선택/크기를 조정\n",
    "- 포트폴리오 매니저는 걱가건머더 분산투자를 최적화하는 포지션을 선택/목표수익률 관리"
   ]
  },
  {
   "cell_type": "markdown",
   "id": "9b29d594-0014-41b1-a9f8-4cab074543a2",
   "metadata": {},
   "source": [
    "## 현대 포트폴리오 관리의 진화\n",
    "- 붅산투자는 불완전한 상관관계 이용, 한 자산의 이익이 다른자산의 손실을 메우기에 리스크 감소시킴.\n",
    "- 헤리마코위츠(1952)는  현대 포트폴리오이론에서 리스크의 최대수준을 감안 시 수익을 최적화 하는 효율적 프론티어 존재함 주장\n",
    "    - 포트폴리오 리스크가 모든 자산수익률과 상대적 가중치 사이 공분산에 어떻게 의존하는지 보여줌\n",
    "- 평균 분산 프론티어는 수익률, 변동성, 상관관계 같은 입력변수의 추정치에 민감, 표본오차를 줄이기 위한 입력변수를 제약하는 평균 분산 포트폴리오가 나은성과\n",
    "    - 제약 : 동일가중, 최소분산, 리스크패러티 등\n",
    "- CAPM은 리스크 수익률 관계를 기반으로 하는 자산가치평가모형 \n",
    "    - 투자자가 리스크 자산을 보유하고자 <U> 시장 균형에서 <U>기대할 수 있는 리스크 프리미엄 개념 도입\n",
    "    - 분산 불가능 리스크에 대한 경제적 근거에 대한 예> 비즈니스 리스크 거시 팩터가 주식의 기대수익률이나, 채무불이행(부도)에 영향을 줌\n",
    "    - 자산의 기대 수익률 $E[r_i]$ = 무위험 이자율 $r_i$ + 무위험 이자율을 초과하는 시장포트폴리오 $r_m$  + 기대 초과 수익률에 대한 자산의 노출에 비례하는 리스크프리미엄 $\\beta_i$의 수익률\n",
    "    $$E[r_i] = \\alpha_i + r_f + \\beta_i(E[r_m]-r_f)$$\n",
    "        - 이론적으로 시장 포트폴리오는 투자 가능한 모든 자산을 포함하고 균형 상태에서 모든 합리적 투자자가 보유하는 것의미 = S&P500\n",
    "        - 베타 : 초과수익률에 대한 노출\n",
    "        - CAPM이 유효하다면 절편항 $\\alpha_i$는 0이어야 한다. \n",
    "        - 하지만 실제로 CAPM 가정은 충족하지 않는 경우가 많으며 알파는 넓은 시장에 노출되어 설명되지 않은 상태로 남겨진 수익률을 포착\n",
    "            - 예> 4장에서 본 투자자의 과소/과잉반응 등 행태적 편향 \n",
    "        - 이러한 팩터는 전문 인덱스 펀드로 거래 될 수 있도록 대안적 베타를 포착하고자 설계된 투자스타일로 진화\n",
    "- 효율적시장가설(EMH) : 불완전한 정보, 거래, 자금조달, 대리인과 관련된 비용을 포함해 CAPM의 원래 단점을 수정하고자 수십년간 개선 \n",
    "    - 평균분산최적화와 단점\n",
    "    - 최소 리스크와 1/n 자산배분과 같은 대안\n",
    "    - 리스크 패리티 접근법\n",
    "    - 리스크 팩터 접근법"
   ]
  },
  {
   "cell_type": "markdown",
   "id": "ab41a70d-3691-4581-82d5-2306c2a2f267",
   "metadata": {},
   "source": [
    "## 평균분산 최적화\n",
    "- 입력변수 조정으로 주어진 목표수익률에서 변동성을 최소화하는 최적의 포트폴리오 가중치 구함\n",
    "    - 필수 입력변수 : 기대자산수익률, 표준편차, 공분산 행렬\n",
    "- 완전한 상관관계 없는 자산을 포함하며, 자산 분산의 가중평균 이하로 줄임\n",
    "- $\\sigma_{PF}=w^t\\sum w$\n",
    "- $min_w \\sigma_{PF}^2=w^T\\sum w$ \n",
    "- $s.t. w^T=\\sigma_{PF}^2$\n"
   ]
  },
  {
   "cell_type": "markdown",
   "id": "350fceae-2a53-4c41-8e5b-737ee94508ce",
   "metadata": {},
   "source": [
    "데이터 준비"
   ]
  },
  {
   "cell_type": "code",
   "execution_count": 1,
   "id": "d9e6e391-d211-4c9d-9ede-b6bdceaf26df",
   "metadata": {
    "tags": []
   },
   "outputs": [],
   "source": [
    "%matplotlib inline\n",
    "\n",
    "import pandas as pd\n",
    "import numpy as np\n",
    "from numpy.random import random, uniform, dirichlet, choice\n",
    "from numpy.linalg import inv\n",
    "\n",
    "from scipy.optimize import minimize\n",
    "\n",
    "import pandas_datareader.data as web\n",
    "import matplotlib.pyplot as plt\n",
    "from matplotlib.ticker import FuncFormatter\n",
    "import seaborn as sns\n",
    "\n",
    "sns.set_style('whitegrid')\n",
    "np.random.seed(42)\n",
    "cmap = sns.diverging_palette(10, 240, n=9, as_cmap=True)\n",
    "\n",
    "# Prepare Data\n",
    "with pd.HDFStore('../data/assets.h5') as store:\n",
    "    sp500_stocks = store['sp500/stocks']"
   ]
  },
  {
   "cell_type": "code",
   "execution_count": 19,
   "id": "c6597944-5b57-447c-b86a-c8ba95f8d128",
   "metadata": {},
   "outputs": [
    {
     "name": "stderr",
     "output_type": "stream",
     "text": [
      "C:\\Users\\masta\\AppData\\Local\\Temp\\ipykernel_1180\\519585991.py:12: FutureWarning: The default fill_method='pad' in DataFrame.pct_change is deprecated and will be removed in a future version. Either fill in any non-leading NA values prior to calling pct_change or specify 'fill_method=None' to not fill NA values.\n",
      "  weekly_returns = sampled_prices.loc[start:end].resample('W').last().pct_change().dropna(how='all')\n"
     ]
    }
   ],
   "source": [
    "import pandas as pd\n",
    "\n",
    "start = pd.Timestamp('2015-01-01')\n",
    "end = pd.Timestamp('2017-01-01')\n",
    "\n",
    "prices_df = pd.read_csv('../data/wiki_prices.csv')\n",
    "prices_df['date'] = pd.to_datetime(prices_df['date'])\n",
    "prices_df = prices_df.set_index(['ticker', 'date'])\n",
    "\n",
    "prices = prices_df.adj_close.unstack('ticker')\n",
    "sampled_prices = prices.sample(n=30, axis=1)\n",
    "weekly_returns = sampled_prices.loc[start:end].resample('W').last().pct_change().dropna(how='all')"
   ]
  },
  {
   "cell_type": "code",
   "execution_count": 20,
   "id": "41339b3a-794c-41df-a76c-6594c61ad229",
   "metadata": {
    "tags": []
   },
   "outputs": [
    {
     "name": "stderr",
     "output_type": "stream",
     "text": [
      "C:\\Users\\masta\\AppData\\Local\\Temp\\ipykernel_1180\\528973838.py:9: FutureWarning: 'A' is deprecated and will be removed in a future version, please use 'YE' instead.\n",
      "  periods_per_year = round(weekly_returns.resample('A').size().mean())\n",
      "C:\\Users\\masta\\AppData\\Local\\Temp\\ipykernel_1180\\528973838.py:18: FutureWarning: 'M' is deprecated and will be removed in a future version, please use 'ME' instead.\n",
      "  treasury_10yr_monthly = (web.DataReader('DGS10', 'fred', start, end)\n"
     ]
    }
   ],
   "source": [
    "# Set Parameters\n",
    "stocks = weekly_returns.columns\n",
    "n_obs, n_assets = weekly_returns.shape\n",
    "NUM_PF = 100000 # no of portfolios to simulate\n",
    "x0 = uniform(0, 1, n_assets)\n",
    "x0 /= np.sum(np.abs(x0))\n",
    "\n",
    "# Annualization Factor\n",
    "periods_per_year = round(weekly_returns.resample('A').size().mean())\n",
    "\n",
    "# Compute Mean Returns, Covariance and Precision Matrix\n",
    "mean_returns = weekly_returns.mean()\n",
    "cov_matrix = weekly_returns.cov()\n",
    "precision_matrix = pd.DataFrame(inv(cov_matrix),\n",
    "                                index=stocks, columns=stocks)\n",
    "\n",
    "# Risk-Free Rate (Load historical 10-year Treasury rate)\n",
    "treasury_10yr_monthly = (web.DataReader('DGS10', 'fred', start, end)\n",
    "                         .resample('M')\n",
    "                         .last()\n",
    "                         .div(periods_per_year)\n",
    "                         .div(100)\n",
    "                         .squeeze())\n",
    "rf_rate = treasury_10yr_monthly.mean()"
   ]
  },
  {
   "cell_type": "markdown",
   "id": "34abb3ca-6b49-44a5-a396-9d1ecab9c422",
   "metadata": {},
   "source": [
    "디리클레 분포를 사용해 확률가중치를 생성하고 과저 수익률 데이터를 사용하여 각표본의 평균, 표준편차, SR을 계산"
   ]
  },
  {
   "cell_type": "code",
   "execution_count": 21,
   "id": "1244fc76-16ec-4d86-8044-a5d06e3889ba",
   "metadata": {},
   "outputs": [],
   "source": [
    "def simulate_portfolios(mean_ret, cov, rf_rate=rf_rate, short=True):\n",
    "    alpha = np.full(shape=n_assets, fill_value=.05)\n",
    "    weights = dirichlet(alpha=alpha, size=NUM_PF)\n",
    "    if short:\n",
    "        weights *= choice([-1, 1], size=weights.shape)\n",
    "\n",
    "    returns = weights @ mean_ret.values + 1\n",
    "    returns = returns ** periods_per_year - 1\n",
    "    std = (weights @ weekly_returns.T).std(1)\n",
    "    std *= np.sqrt(periods_per_year)\n",
    "    sharpe = (returns - rf_rate) / std\n",
    "    return pd.DataFrame({'연간 표준편차': std,\n",
    "                         '연간 수익': returns,\n",
    "                         'Sharpe Ratio': sharpe}), weights"
   ]
  },
  {
   "cell_type": "markdown",
   "id": "b19707c9-fa08-4f13-9db2-18b0159f1399",
   "metadata": {},
   "source": [
    "주어진 수익률에 대한 최소표준편차나 최대SR을 해결할 2차 최적화문제를 설정. 이를 위해 주요성과 메트릭을 측정하는 함수를 정의"
   ]
  },
  {
   "cell_type": "code",
   "execution_count": 22,
   "id": "7f9c3322-e41b-4a4c-9487-89504b0a1ce5",
   "metadata": {},
   "outputs": [],
   "source": [
    "def portfolio_std(wt, rt=None, cov=None):\n",
    "    \"\"\"Annualized PF standard deviation\"\"\"\n",
    "    return np.sqrt(wt @ cov @ wt * periods_per_year)\n",
    "def portfolio_returns(wt, rt=None, cov=None):\n",
    "    \"\"\"Annualized PF returns\"\"\"\n",
    "    return (wt @ rt + 1) ** periods_per_year - 1\n",
    "def portfolio_performance(wt, rt, cov):\n",
    "    \"\"\"Annualized PF returns & standard deviation\"\"\"\n",
    "    r = portfolio_returns(wt, rt=rt)\n",
    "    sd = portfolio_std(wt, cov=cov)\n",
    "    return r, sd"
   ]
  },
  {
   "cell_type": "markdown",
   "id": "91630f64-29d3-43b8-ac06-fdd0d72a5b04",
   "metadata": {},
   "source": [
    "가중치가 [0,1]로 제한되고 합이 절대적으로 1이 되는 제약조건을 고려해 최적화를 위한 scipy의 최소화 함수에 대한 음(-)의 SR로 나타나는 목표함수를 정의"
   ]
  },
  {
   "cell_type": "code",
   "execution_count": 23,
   "id": "908fb9e5-2c97-4908-bddb-931d85f5ef8c",
   "metadata": {},
   "outputs": [],
   "source": [
    "def neg_sharpe_ratio(weights, mean_ret, cov):\n",
    "    r, sd = portfolio_performance(weights, mean_ret, cov)\n",
    "    return -(r - rf_rate) / sd\n",
    "weight_constraint = {'type': 'eq', \n",
    "                     'fun': lambda x: np.sum(np.abs(x))-1}\n",
    "def max_sharpe_ratio(mean_ret, cov, short=False):\n",
    "    return minimize(fun=neg_sharpe_ratio,\n",
    "                    x0=x0,\n",
    "                    args=(mean_ret, cov),\n",
    "                    method='SLSQP',\n",
    "                    bounds=((-1 if short else 0, 1),) * n_assets,\n",
    "                    constraints=weight_constraint,\n",
    "                    options={'tol':1e-10, 'maxiter':1e4})"
   ]
  },
  {
   "cell_type": "markdown",
   "id": "d7361ccd-610d-434f-8900-d555314a63d2",
   "metadata": {},
   "source": [
    "- 목표수익률의 범위를 반복하고 대응되는 최소분산 포트폴리오를 해결하여 효율적 프론티어를 계산\n",
    "    - 포트폴리오의 리스크와 수익률의 제약조건을 가중치 함수로 사용하여 최적화 문제 공식화\n"
   ]
  },
  {
   "cell_type": "code",
   "execution_count": 24,
   "id": "9b577140-8a3c-449a-85f5-504fa15c9f84",
   "metadata": {},
   "outputs": [],
   "source": [
    "def min_vol_target(mean_ret, cov, target, short=False):\n",
    "\n",
    "    def ret_(wt):\n",
    "        return portfolio_returns(wt, mean_ret)\n",
    "\n",
    "    constraints = [{'type': 'eq',\n",
    "                    'fun': lambda x: ret_(x) - target},\n",
    "                   weight_constraint]\n",
    "\n",
    "    bounds = ((-1 if short else 0, 1),) * n_assets\n",
    "    return minimize(portfolio_std,\n",
    "                    x0=x0,\n",
    "                    args=(mean_ret, cov),\n",
    "                    method='SLSQP',\n",
    "                    bounds=bounds,\n",
    "                    constraints=constraints,\n",
    "                    options={'tol': 1e-10, 'maxiter': 1e4})"
   ]
  },
  {
   "cell_type": "markdown",
   "id": "d3afa3f6-b004-46f1-a4cc-7363a120d5da",
   "metadata": {},
   "source": [
    "솔루션은 최적의 리스크 수익 조합을 식별하고자 허용한 값의 범위에서 반복계산이 필요"
   ]
  },
  {
   "cell_type": "code",
   "execution_count": 25,
   "id": "3c6d331e-ec10-4cb7-907b-725e1b1d09c7",
   "metadata": {},
   "outputs": [],
   "source": [
    "def efficient_frontier(mean_ret, cov, ret_range, short=False):\n",
    "    return [min_vol_target(mean_ret, cov, ret) for ret in ret_range]"
   ]
  },
  {
   "cell_type": "markdown",
   "id": "0eeeee02-c0b6-407b-a509-5b442b57f4c4",
   "metadata": {},
   "source": [
    "- 공분산 행렬은 다소 신뢰성 있게 추정될 수 있으며, 대안적 접근법이 생김\n",
    "- 상관관계 있는 자산을 보유한 공분산 행렬은, 최적화시 역행렬 과정에서 계산의 어려움야기\n",
    "(마코위츠 저주)\n",
    "    - 최근은 부담이 적은 투입 요건을 가진 포트폴리오 최적화 기법 선호"
   ]
  },
  {
   "cell_type": "markdown",
   "id": "b81b104c-c244-4ff1-aa5a-ea5ad04c8c22",
   "metadata": {},
   "source": [
    "### 대안 1/n 포트폴리오"
   ]
  },
  {
   "cell_type": "code",
   "execution_count": null,
   "id": "51248956-85fa-4cef-8999-1ac9b4eb4ab3",
   "metadata": {},
   "outputs": [],
   "source": []
  },
  {
   "cell_type": "markdown",
   "id": "cd698ef0-e045-4d87-a30c-52ef42bc3ab4",
   "metadata": {},
   "source": [
    "### 대안 최소분산 포트폴리오"
   ]
  },
  {
   "cell_type": "code",
   "execution_count": null,
   "id": "4f6b7dac-3a54-4deb-a1fd-18a9e3dc396e",
   "metadata": {},
   "outputs": [],
   "source": []
  },
  {
   "cell_type": "markdown",
   "id": "f76a8343-d975-46cf-9598-f975d8d6351e",
   "metadata": {},
   "source": [
    "### 대안 배팅의 크기를 정하는 방법 : 켈리공식"
   ]
  },
  {
   "cell_type": "markdown",
   "id": "0c0a22d1-28fa-4094-b39c-2b34cc7ac6a9",
   "metadata": {
    "tags": []
   },
   "source": [
    "## 리스크팩터 투자\n",
    "- 리스크패러티 : 지난 15년간 글로벌 주식시장에서 지속우상향하는 수익률 곡선과 전반적 금리하락으로 리스크 패러티가 선호\n",
    "- 많은 금융 기관은 포트폴리오를 다양화하고자 리스크 패리티에 대한 전략적 자산배분 세분화\n",
    "    - 상관관계를 무시(특히 수익률예측을 무시)하고 분산의 역수에 따라 자산을 할당\n"
   ]
  },
  {
   "cell_type": "code",
   "execution_count": null,
   "id": "9a8eb190-af34-42ec-8f19-b7c856cbb9e9",
   "metadata": {},
   "outputs": [],
   "source": [
    "var = monthly_returns.var()\n",
    "risk_parity_weight = var / var.sum()"
   ]
  },
  {
   "cell_type": "markdown",
   "id": "699331b3-6d3d-465c-84d0-6e06f1c82c8e",
   "metadata": {},
   "source": [
    "## 계층적 리스크 패리티"
   ]
  },
  {
   "cell_type": "code",
   "execution_count": null,
   "id": "cd1320d7-fc0b-45cf-b97a-e176e93cf734",
   "metadata": {},
   "outputs": [],
   "source": []
  },
  {
   "cell_type": "markdown",
   "id": "6157abd6-4e22-44ec-947c-e2a3899610f7",
   "metadata": {},
   "source": [
    "## 트레이딩과 포트폴리오 관리"
   ]
  },
  {
   "cell_type": "code",
   "execution_count": null,
   "id": "a888c7b6-6000-4cdc-b8d1-0de717c98189",
   "metadata": {},
   "outputs": [],
   "source": []
  },
  {
   "cell_type": "markdown",
   "id": "bef12610-bb9f-4b7d-b2c3-1055888edb5e",
   "metadata": {},
   "source": [
    "## 평균 분산 포트폴리오 최적화 구현"
   ]
  },
  {
   "cell_type": "code",
   "execution_count": null,
   "id": "85a9f4c3-bff6-4a2c-81d1-40c35756a815",
   "metadata": {},
   "outputs": [],
   "source": []
  },
  {
   "cell_type": "markdown",
   "id": "8a976890-6bf7-46d4-ac3f-e6faef0ff5c1",
   "metadata": {},
   "source": [
    "## 파이폴리오를 이용한 백테스트 성과 측정"
   ]
  },
  {
   "cell_type": "code",
   "execution_count": null,
   "id": "ef0bc265-7369-457f-8e0a-061ea4678b7e",
   "metadata": {},
   "outputs": [],
   "source": []
  },
  {
   "cell_type": "markdown",
   "id": "867602c5-a1c0-4874-be77-eb554db2988d",
   "metadata": {},
   "source": [
    "## 수익률과 벤치마크 입력"
   ]
  },
  {
   "cell_type": "code",
   "execution_count": null,
   "id": "f38877ba-8a17-45cc-828a-723e7f68ef76",
   "metadata": {},
   "outputs": [],
   "source": []
  },
  {
   "cell_type": "markdown",
   "id": "9a6789f6-ddc5-42f7-8030-49257742fd03",
   "metadata": {},
   "source": [
    "## 표본 외 수익률로 전진분석"
   ]
  },
  {
   "cell_type": "code",
   "execution_count": null,
   "id": "50f873dc-a516-422e-acb0-fa7befb5ce2c",
   "metadata": {},
   "outputs": [],
   "source": []
  },
  {
   "cell_type": "markdown",
   "id": "11c56a7f-6090-45ac-82d6-a1b17f7515a6",
   "metadata": {},
   "source": [
    "## 요약"
   ]
  },
  {
   "cell_type": "code",
   "execution_count": null,
   "id": "2b0b02e7-0c82-472e-bbf3-6410f66bc2f8",
   "metadata": {},
   "outputs": [],
   "source": []
  }
 ],
 "metadata": {
  "kernelspec": {
   "display_name": "ml4t",
   "language": "python",
   "name": "ml4t"
  },
  "language_info": {
   "codemirror_mode": {
    "name": "ipython",
    "version": 3
   },
   "file_extension": ".py",
   "mimetype": "text/x-python",
   "name": "python",
   "nbconvert_exporter": "python",
   "pygments_lexer": "ipython3",
   "version": "3.9.19"
  }
 },
 "nbformat": 4,
 "nbformat_minor": 5
}
