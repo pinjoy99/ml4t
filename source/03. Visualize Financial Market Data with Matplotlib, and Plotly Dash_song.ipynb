{
 "cells": [
  {
   "cell_type": "markdown",
   "id": "f89e009a",
   "metadata": {},
   "source": [
    "# Matplotlib, Seaborn, 그리고 Plotly Dash를 사용한 금융 시장 데이터 시각화\n",
    "\n",
    "데이터 작업의 첫 번째 단계는 데이터를 시각화하고 탐색하는 것입니다. 이는 특히 거래를 위해 사용하는 금융 시장 데이터를 다룰 때 더욱 중요합니다. 이 장에서는 pandas, Matplotlib, Seaborn, Plotly, 그리고 Plotly Dash라는 다섯 가지 강력한 데이터 시각화 기법을 소개합니다.\n",
    "\n",
    "각 도구는 장단점이 있으며, 사용 사례에 따라 선택해야 합니다. pandas는 Matplotlib과 Plotly를 사용하여 차트를 렌더링하는 내장 플로팅 기능을 제공합니다. Matplotlib은 3차원 표면 및 애니메이션 차트를 생성하는 고급 기능을 제공합니다. Seaborn은 다양한 통계적 데이터 시각화를 제공합니다. Plotly는 JavaScript를 사용하여 상호작용형 차트를 생성하며, Plotly Dash는 Python으로 상호작용형 웹 애플리케이션을 구축하기 위한 프레임워크입니다.\n",
    "\n",
    "이 장을 마치면 알고리즘 거래 애플리케이션을 연구하고 구축하는 데 필요한 금융 시장 데이터를 시각적으로 검토할 수 있는 다양한 도구와 차트 유형을 다룰 수 있게 될 것입니다.\n",
    "\n",
    "이 장에서는 다음의 레시피를 제공합니다:\n",
    "- pandas를 사용한 데이터 빠르게 시각화하기\n",
    "- Matplotlib을 사용하여 수익률 곡선의 변화를 애니메이션으로 표현하기\n",
    "- Matplotlib을 사용하여 옵션 암묵적 변동성 곡면 그리기\n",
    "- Seaborn을 사용하여 통계적 관계 시각화하기\n",
    "- Plotly Dash를 사용하여 상호작용형 PCA 분석 대시보드 생성하기\n",
    "\n",
    "---"
   ]
  },
  {
   "cell_type": "code",
   "execution_count": 10,
   "id": "37488939",
   "metadata": {},
   "outputs": [
    {
     "data": {
      "image/png": "[encoded data removed]",
      "text/plain": [
       "<Figure size 640x480 with 1 Axes>"
      ]
     },
     "metadata": {},
     "output_type": "display_data"
    }
   ],
   "source": [
    "# matplotlib 라이브러리와 한글 폰트 지원을 위한 koreanize-matplotlib 불러오기\n",
    "import matplotlib.pyplot as plt\n",
    "import koreanize_matplotlib\n",
    "\n",
    "# 간단한 그래프를 그려서 한글 폰트가 정상적으로 적용되는지 테스트\n",
    "# x축: [1,2,3], y축: [1,4,9]로 2차 함수 형태의 그래프 생성\n",
    "plt.plot([1, 2, 3], [1, 4, 9])\n",
    "\n",
    "# 그래프의 제목과 축 레이블에 한글을 사용하여 폰트 적용 확인\n",
    "plt.title('한글 제목 테스트') # 그래프 제목\n",
    "plt.xlabel('X축') # x축 레이블 \n",
    "plt.ylabel('Y축') # y축 레이블\n",
    "\n",
    "# 그래프 출력\n",
    "plt.show()"
   ]
  },
  {
   "cell_type": "markdown",
   "id": "79cb4f1e",
   "metadata": {},
   "source": [
    "## pandas를 사용한 데이터 빠르게 시각화하기\n",
    "\n",
    "pandas는 범용 데이터 조작 라이브러리입니다. Chapter 1(최첨단 Python 라이브러리를 사용하여 무료 금융 시장 데이터 획득하기) 및 Chapter 2(pandas를 사용하여 금융 시장 데이터 분석 및 변환하기)에서 확인한 것처럼, 데이터 획득 및 조작에 사용할 수 있을 뿐만 아니라 플로팅에도 사용할 수 있습니다. pandas는 플로팅 시 공통 메서드를 사용하는 다양한 \"백엔드\"를 제공합니다. 이 레시피에서는 기본 백엔드인 Matplotlib을 사용하여 금융 시장 데이터를 빠르게 시각화하는 방법을 배웁니다. 여기에는 라인 차트, 막대 차트, 히스토그램 등이 포함됩니다.\n",
    "\n",
    "---"
   ]
  },
  {
   "cell_type": "markdown",
   "id": "889aa642",
   "metadata": {},
   "source": [
    "### 어떻게 할까요...\n",
    "\n",
    "Matplotlib 플롯은 pandas를 통해 가져와 사용할 수 있습니다."
   ]
  },
  {
   "cell_type": "markdown",
   "id": "563c53a1",
   "metadata": {},
   "source": [
    "1. 라이브러리를 가져옵니다:"
   ]
  },
  {
   "cell_type": "code",
   "execution_count": 1,
   "id": "77e9af5a",
   "metadata": {},
   "outputs": [],
   "source": [
    "import matplotlib.pyplot as plt\n",
    "import pandas as pd\n",
    "from IPython.display import display\n",
    "from openbb import obb\n",
    "from pandas.plotting import bootstrap_plot, scatter_matrix"
   ]
  },
  {
   "cell_type": "code",
   "execution_count": 2,
   "id": "e6ec8080",
   "metadata": {},
   "outputs": [],
   "source": [
    "obb.user.preferences.output_type = \"dataframe\""
   ]
  },
  {
   "cell_type": "markdown",
   "id": "790cabb0",
   "metadata": {},
   "source": [
    "2. 주가 데이터를 다운로드합니다:\n",
    "\n",
    "\"yfinance\" 제공자를 사용하여 \"AAPL\" 주식의 과거 가격 데이터를 가져와서 'df'에 저장합니다"
   ]
  },
  {
   "cell_type": "code",
   "execution_count": 3,
   "id": "7b4ba645",
   "metadata": {},
   "outputs": [],
   "source": [
    "df = obb.equity.price.historical(\"AAPL\", provider=\"yfinance\")"
   ]
  },
  {
   "cell_type": "markdown",
   "id": "de88115b",
   "metadata": {},
   "source": [
    "3. 종가를 플롯하는 라인 차트를 생성합니다:\n",
    "\n",
    "'AAPL'의 종가를 플롯합니다"
   ]
  },
  {
   "cell_type": "code",
   "execution_count": null,
   "id": "36237421",
   "metadata": {},
   "outputs": [],
   "source": [
    "df.close.plot()"
   ]
  },
  {
   "cell_type": "markdown",
   "id": "075d6728",
   "metadata": {},
   "source": [
    "4. 추가 스타일 옵션을 사용하여 일일 수익률을 막대 차트로 그립니다:\n",
    "\n",
    "종가의 변화율을 계산하여 'returns'에 저장합니다"
   ]
  },
  {
   "cell_type": "code",
   "execution_count": 5,
   "id": "197f68a6",
   "metadata": {},
   "outputs": [],
   "source": [
    "returns = df.close.pct_change()\n",
    "returns.name = \"return\""
   ]
  },
  {
   "cell_type": "markdown",
   "id": "71ff6db3",
   "metadata": {},
   "source": [
    "제목이 있고 격자와 x축 눈금이 없는 수익률 막대 차트를 그립니다"
   ]
  },
  {
   "cell_type": "code",
   "execution_count": null,
   "id": "145f79d6",
   "metadata": {},
   "outputs": [],
   "source": [
    "returns.plot.bar(title=\"AAPL returns\", grid=False, legend=True, xticks=[])"
   ]
  },
  {
   "cell_type": "markdown",
   "id": "eb2c5849",
   "metadata": {},
   "source": [
    "5. 50개의 구간으로 수익률의 히스토그램을 생성합니다:\n",
    "\n",
    "50개의 구간으로 수익률의 히스토그램을 그립니다"
   ]
  },
  {
   "cell_type": "code",
   "execution_count": null,
   "id": "ad39dc79",
   "metadata": {},
   "outputs": [],
   "source": [
    "returns.plot.hist(bins=50)"
   ]
  },
  {
   "cell_type": "markdown",
   "id": "fb66883f",
   "metadata": {},
   "source": [
    "6. 박스-수염 그림을 생성합니다:\n",
    "\n",
    "수익률을 박스 플롯으로 그립니다"
   ]
  },
  {
   "cell_type": "code",
   "execution_count": null,
   "id": "c2ab2212",
   "metadata": {},
   "outputs": [],
   "source": [
    "returns.plot.box()"
   ]
  },
  {
   "cell_type": "markdown",
   "id": "185c74c5",
   "metadata": {},
   "source": [
    ">상자 그림(Box plot)은 숫자 데이터의 분포를 사분위수를 통해 시각적으로 나타내는 그래픽 표현입니다. 상자는 첫 번째 사분위수(Q1)에서 세 번째 사분위수(Q3)까지 걸쳐 있으며, 중앙값(Q2)을 나타내는 선이 포함됩니다. 상자 끝에서 뻗어나가는 \"수염(whiskers)\"은 데이터 범위를 나타내며, 기본적으로 IQR(사분위 범위, Q3 - Q1)의 1.5배까지 확장됩니다. 수염을 넘어선 데이터 포인트는 이상치로 간주됩니다.\n",
    "\n",
    "### 작동 방식\n",
    "pandas의 `plot` 메서드는 DataFrame 및 Series를 사용하여 다양한 유형의 플롯을 생성할 수 있습니다. 내부적으로 pandas는 지정된 백엔드(기본값: Matplotlib)를 사용하여 시각화를 생성합니다. 이 메서드를 사용하려면 먼저 DataFrame 또는 Series를 생성한 다음, 해당 객체에서 `plot` 메서드를 호출하면 됩니다. 플롯의 색상, 크기, 제목, 축 레이블과 같은 외형을 제어하는 추가 매개변수를 선택적으로 지정할 수 있습니다.\n",
    "\n",
    ">`plot` 메서드를 사용하면 막대 그래프, 밀도 그래프, 산점도 등 다양한 플롯을 생성할 수 있습니다. `kind` 매개변수를 사용하여 플롯 유형을 정의할 수 있습니다. 그러나 모든 백엔드가 모든 플롯 유형을 지원하는 것은 아닙니다. 예를 들어, `hexbin` 플롯 유형은 Plotly 백엔드에서 작동하지 않습니다. 자세한 내용은 pandas 문서를 참조하세요.\n",
    "\n",
    "### 더 알아보기...\n",
    "정량적 포트폴리오 구성 및 위험 관리에서 일반적으로 수행되는 단계 중 하나는 두 개 이상의 자산 간 관계를 분석하는 것입니다. 산점도(Scatter plot)는 두 주식 간의 관계를 탐색하는 데 사용되는 시각적 표현 유형입니다. 산점도의 각 점은 특정 시점에서 두 주식의 값 쌍을 나타냅니다. 점의 x좌표는 한 주식의 값을, y좌표는 다른 주식의 값을 나타냅니다.\n",
    "\n",
    "만약 점들이 왼쪽 아래에서 오른쪽 위로 기울어진 패턴을 형성한다면, 이는 주식 간의 양의 상관관계를 나타냅니다. 즉, 한 주식의 가격이 오르면 다른 주식의 가격도 오르는 경향이 있다는 뜻입니다. 반대로 점들이 오른쪽 아래로 기울어진 패턴을 형성한다면 음의 상관관계를 의미하며, 한 주식의 가격이 오를 때 다른 주식의 가격은 하락하는 경향이 있다는 것을 뜻합니다. 점들이 임의로 흩어져 특정한 패턴이 보이지 않는다면, 이는 상관관계가 없거나 약한 것을 나타냅니다.\n",
    "\n",
    "다음은 AAPL과 나스닥 추적 ETF(QQQ)를 비교하는 예시입니다:"
   ]
  },
  {
   "cell_type": "markdown",
   "id": "1e7bf39c",
   "metadata": {},
   "source": [
    "\"yfinance\" 제공자를 사용하여 \"QQQ\" 주식의 과거 가격 데이터를 가져와서 'qqq'에 저장합니다"
   ]
  },
  {
   "cell_type": "code",
   "execution_count": 9,
   "id": "b7f568ef",
   "metadata": {},
   "outputs": [],
   "source": [
    "qqq = obb.equity.price.historical(\"QQQ\", provider=\"yfinance\")"
   ]
  },
  {
   "cell_type": "markdown",
   "id": "ea3fb76d",
   "metadata": {},
   "source": [
    "'QQQ'의 종가 변화율을 계산하여 'qqq_returns'에 저장합니다"
   ]
  },
  {
   "cell_type": "code",
   "execution_count": 10,
   "id": "c176e1f0",
   "metadata": {},
   "outputs": [],
   "source": [
    "qqq_returns = qqq.close.pct_change()"
   ]
  },
  {
   "cell_type": "markdown",
   "id": "12e98d67",
   "metadata": {},
   "source": [
    "'returns'와 'qqq_returns'를 DataFrame 'asset_bench'로 연결하고 열 이름을 변경합니다"
   ]
  },
  {
   "cell_type": "code",
   "execution_count": 11,
   "id": "cec38109",
   "metadata": {},
   "outputs": [],
   "source": [
    "asset_bench = pd.concat([returns, qqq_returns], axis=1)\n",
    "asset_bench.columns = [\"AAPL\", \"QQQ\"]"
   ]
  },
  {
   "cell_type": "markdown",
   "id": "859cb2b6",
   "metadata": {},
   "source": [
    "결과는 AAPL 수익률과 QQQ 수익률 간의 긍정적인 관계를 나타내는 산점도를 보여줍니다.\n",
    "\n",
    "AAPL 수익률과 QQQ 수익률을 점 크기 0.25로 산점도를 그립니다"
   ]
  },
  {
   "cell_type": "code",
   "execution_count": null,
   "id": "8e6e3ce5",
   "metadata": {},
   "outputs": [],
   "source": [
    "asset_bench.plot.scatter(x=\"QQQ\", y=\"AAPL\", s=0.25)"
   ]
  },
  {
   "cell_type": "markdown",
   "id": "b4e8c4b1",
   "metadata": {},
   "source": [
    "pandas의 scatter_matrix 함수는 변수들 간의 쌍별 관계를 시각화합니다. 이 함수는 산점도 행렬을 생성하며, 각 산점도는 두 열을 서로 비교하여 그립니다. 이를 통해 데이터 내의 잠재적인 상관관계나 패턴을 빠르게 시각적으로 검사할 수 있습니다. 또한 주대각선(왼쪽 상단에서 오른쪽 하단까지)에는 각 열의 히스토그램이 표시되어 데이터 분포를 시각화하는 데 도움이 됩니다.\n",
    "\n",
    "asset_bench의 산점도 행렬을 그립니다"
   ]
  },
  {
   "cell_type": "code",
   "execution_count": null,
   "id": "51ee1288",
   "metadata": {},
   "outputs": [],
   "source": [
    "scatter_matrix(asset_bench)"
   ]
  },
  {
   "cell_type": "markdown",
   "id": "2e699e4a",
   "metadata": {},
   "source": [
    "`bootstrap_plot`은 평균, 중앙값, 중간범위를 포함한 특정 통계량과 관련된 변동성을 시각적으로 평가하는 데 사용됩니다. 데이터 세트에서 지정된 크기의 부분집합을 무작위로 샘플링하고, 이 부분집합에 대해 목표 통계량을 계산합니다. 이 절차는 미리 정해진 횟수만큼 반복적으로 수행됩니다. 이렇게 생성된 플롯과 히스토그램이 모여 부트스트랩 플롯을 형성합니다.\n",
    "\n",
    "기본적으로 bootstrap_plot은 각 샘플링마다 50개의 데이터 포인트를 선택합니다. 결과는 부트스트랩 플롯입니다.\n",
    "\n",
    "`returns`의 부트스트랩 플롯을 그립니다"
   ]
  },
  {
   "cell_type": "code",
   "execution_count": null,
   "id": "ee9ddf02",
   "metadata": {},
   "outputs": [],
   "source": [
    "bootstrap_plot(returns)"
   ]
  },
  {
   "cell_type": "markdown",
   "id": "4de41d57",
   "metadata": {},
   "source": [
    "### 참고 자료\n",
    "pandas는 플롯(plot)에 대한 자세한 문서를 제공합니다. 자세한 내용은 아래 링크를 참고하세요:\n",
    "\n",
    "- pandas 플롯 문서: [https://pandas.pydata.org/docs/reference/api/pandas.DataFrame.plot.html](https://pandas.pydata.org/docs/reference/api/pandas.DataFrame.plot.html)  \n",
    "- pandas `scatter_matrix` 문서: [https://pandas.pydata.org/docs/reference/api/pandas.plotting.scatter_matrix.html](https://pandas.pydata.org/docs/reference/api/pandas.plotting.scatter_matrix.html)  \n",
    "- pandas `bootstrap_plot` 문서: [https://pandas.pydata.org/docs/reference/api/pandas.plotting.bootstrap_plot.html](https://pandas.pydata.org/docs/reference/api/pandas.plotting.bootstrap_plot.html)  \n",
    "\n",
    "pandas 플로팅의 실제 사용 예를 더 보려면 PyQuant 뉴스레터의 지난 호를 확인하세요: [https://www.pyquantnews.com/past-pyquant-newsletter-issues](https://www.pyquantnews.com/past-pyquant-newsletter-issues)\n",
    "\n",
    "--- "
   ]
  },
  {
   "cell_type": "markdown",
   "id": "e4731e5e",
   "metadata": {},
   "source": [
    "## Matplotlib을 사용한 수익률 곡선의 변화 애니메이션화\n",
    "\n",
    "pandas가 Matplotlib을 백엔드로 사용하더라도 더 깊이 작업해야 할 경우가 있습니다. 예를 들어, 데이터를 시간에 따라 변화하는 모습을 시각화하고자 할 때입니다. 수익률 곡선(yield curve)은 동일한 신용등급의 채권이 만기에 따라 가지는 수익률을 나타내며, 일반적으로 우상향하는 경향이 있습니다. 이는 장기 채권이 단기 채권보다 더 높은 수익률을 가지기 때문이며, 이는 장기 채권 보유 시 더 많은 위험(예: 인플레이션, 높은 이자율 변동성)을 감수해야 하기 때문입니다.\n",
    "\n",
    "그러나 때로는 수익률 곡선이 역전되기도 합니다. 이는 단기 채권이 장기 채권보다 더 높은 수익률을 제공한다는 것을 의미합니다. 많은 트레이더와 경제학자들은 역전된 수익률 곡선을 경기 침체의 전조로 간주합니다.\n",
    "\n",
    "역전된 수익률 곡선은 역사적으로 미국 경기 침체에 앞서 나타나며, 이는 미래 금리 하락과 경제 둔화를 예상하는 투자자들의 심리를 반영합니다. 이러한 역전은 은행의 수익성을 제한하여 대출 감소와 경제 성장 둔화를 초래할 수 있습니다. 또한, 경기 침체에 대한 기대는 기업과 소비자의 지출 감소로 이어지면서 자기충족적 예언이 될 수 있습니다. 투자자들은 더 안전한 자산으로 자금을 옮길 수 있으며, 이는 위험 자산에 대한 자금 조달을 제한할 수 있습니다.\n",
    "\n",
    "---"
   ]
  },
  {
   "cell_type": "markdown",
   "id": "a0c1bda5",
   "metadata": {},
   "source": [
    "### 어떻게 할까요...\n",
    "\n",
    "애니메이션화된 플롯을 생성하려면 Matplotlib에서 제공하는 `animation`이라는 특수 기능을 사용해야 합니다.\n",
    "\n",
    "1. **라이브러리 가져오기**:"
   ]
  },
  {
   "cell_type": "code",
   "execution_count": 18,
   "id": "fdebe3cb",
   "metadata": {},
   "outputs": [],
   "source": [
    "import matplotlib.pyplot as plt\n",
    "import numpy as np\n",
    "from IPython.display import display\n",
    "from matplotlib import animation\n",
    "from mpl_toolkits.mplot3d import Axes3D\n",
    "from openbb import obb"
   ]
  },
  {
   "cell_type": "code",
   "execution_count": 19,
   "id": "03f31e84",
   "metadata": {},
   "outputs": [],
   "source": [
    "obb.user.preferences.output_type = \"dataframe\""
   ]
  },
  {
   "cell_type": "markdown",
   "id": "9d713ccb",
   "metadata": {},
   "source": [
    "2. **만기 목록 생성 및 데이터 다운로드**:\n",
    "\n",
    "국채 만기 정의"
   ]
  },
  {
   "cell_type": "code",
   "execution_count": 20,
   "id": "45a8d9ae",
   "metadata": {},
   "outputs": [],
   "source": [
    "maturities = [\"3m\", \"6m\", \"1y\", \"2y\", \"3y\", \"5y\", \"7y\", \"10y\", \"30y\"]"
   ]
  },
  {
   "cell_type": "markdown",
   "id": "be07e8ab",
   "metadata": {},
   "source": [
    "연방준비제도로부터 국채 금리 데이터를 가져오고, NaN 값과 불필요한 열을 제거한 후 열 이름을 변경"
   ]
  },
  {
   "cell_type": "code",
   "execution_count": 21,
   "id": "e07d619f",
   "metadata": {},
   "outputs": [],
   "source": [
    "# 연방준비제도로부터 국채 금리 데이터를 가져옴\n",
    "# start_date: 1985년 1월 1일부터 데이터 조회\n",
    "# provider: 연방준비제도 데이터 사용\n",
    "# dropna: 모든 값이 NaN인 행 제거\n",
    "# drop: month_1, year_20 열 제거 \n",
    "# columns: 만기 기간으로 열 이름 변경\n",
    "data = (\n",
    "    obb.fixedincome.government.treasury_rates(\n",
    "        start_date=\"1985-01-01\",\n",
    "        provider=\"federal_reserve\",\n",
    "    )\n",
    "    .dropna(how=\"all\")\n",
    "    .drop(columns=[\"month_1\", \"year_20\"])\n",
    ")\n",
    "data.columns = maturities"
   ]
  },
  {
   "cell_type": "markdown",
   "id": "35ae91da",
   "metadata": {},
   "source": [
    "3. **수익률 곡선 역전을 표시하기 위한 불리언 인덱싱 사용**:\n",
    "\n",
    "수익률 곡선이 역전되었는지 나타내는 열 추가 (30년물 < 3개월물)"
   ]
  },
  {
   "cell_type": "code",
   "execution_count": 22,
   "id": "66d9e861",
   "metadata": {},
   "outputs": [],
   "source": [
    "data[\"inverted\"] = data[\"30y\"] < data[\"3m\"]"
   ]
  },
  {
   "cell_type": "markdown",
   "id": "6640b6fd",
   "metadata": {},
   "source": [
    "4. **도형 초기화**:"
   ]
  },
  {
   "cell_type": "code",
   "execution_count": null,
   "id": "994f67df",
   "metadata": {},
   "outputs": [],
   "source": [
    "# 그래프를 그리기 위한 figure 객체 생성\n",
    "fig = plt.figure()\n",
    "\n",
    "# 1x1 그리드의 첫 번째 위치에 subplot 추가\n",
    "ax = fig.add_subplot(1, 1, 1)\n",
    "\n",
    "# 빈 라인 플롯 생성 (나중에 데이터가 추가될 예정)\n",
    "(line,) = ax.plot([], [])"
   ]
  },
  {
   "cell_type": "markdown",
   "id": "ba278cdd",
   "metadata": {},
   "source": [
    "5. **눈금 범위 설정**:"
   ]
  },
  {
   "cell_type": "code",
   "execution_count": null,
   "id": "73291aad",
   "metadata": {},
   "outputs": [],
   "source": [
    "# x축 범위를 0-8로 설정 (모든 열을 수용하도록 범위 조정)\n",
    "ax.set_xlim(0, 8)  \n",
    "# y축 범위를 0-20으로 설정 (금리 범위를 포함하도록)\n",
    "ax.set_ylim(0, 20)"
   ]
  },
  {
   "cell_type": "markdown",
   "id": "2287bd06",
   "metadata": {},
   "source": [
    "6. **눈금 위치 설정**:"
   ]
  },
  {
   "cell_type": "code",
   "execution_count": null,
   "id": "96bd2940",
   "metadata": {},
   "outputs": [],
   "source": [
    "# x축 눈금을 0부터 8까지 설정 (9개의 만기 기간에 대응)\n",
    "ax.set_xticks(range(9))\n",
    "# y축 눈금을 2부터 18까지 2씩 증가하도록 설정 (수익률 범위)\n",
    "ax.set_yticks([2, 4, 6, 8, 10, 12, 14, 16, 18])"
   ]
  },
  {
   "cell_type": "markdown",
   "id": "8bb8406c",
   "metadata": {},
   "source": [
    "7. **축 레이블 설정**:"
   ]
  },
  {
   "cell_type": "code",
   "execution_count": null,
   "id": "6199e398",
   "metadata": {},
   "outputs": [],
   "source": [
    "# x축 눈금에 만기 기간 레이블 설정\n",
    "ax.set_xticklabels(maturities)\n",
    "# y축 눈금에 수익률 값 레이블 설정 \n",
    "ax.set_yticklabels([2, 4, 6, 8, 10, 12, 14, 16, 18])"
   ]
  },
  {
   "cell_type": "markdown",
   "id": "209da1e1",
   "metadata": {},
   "source": [
    "8. **y축 레이블을 왼쪽으로 강제 배치**:"
   ]
  },
  {
   "cell_type": "code",
   "execution_count": 27,
   "id": "1e9d3065",
   "metadata": {},
   "outputs": [],
   "source": [
    "# y축 레이블과 눈금을 왼쪽에 배치\n",
    "ax.yaxis.set_label_position(\"left\")  # y축 레이블을 왼쪽에 배치\n",
    "ax.yaxis.tick_left()  # y축 눈금을 왼쪽에 배치"
   ]
  },
  {
   "cell_type": "markdown",
   "id": "ddc5b0b7",
   "metadata": {},
   "source": [
    "9. **축 레이블 추가**:"
   ]
  },
  {
   "cell_type": "code",
   "execution_count": null,
   "id": "86dfa280",
   "metadata": {},
   "outputs": [],
   "source": [
    "# y축 레이블을 \"수익률 (%)\"로 설정\n",
    "plt.ylabel(\"수익률 (%)\")\n",
    "# x축 레이블을 \"만기까지의 기간\"으로 설정\n",
    "plt.xlabel(\"만기까지의 기간\")\n",
    "# 그래프 제목을 \"미국 국채 수익률 곡선\"으로 설정 \n",
    "plt.title(\"미국 국채 수익률 곡선\")"
   ]
  },
  {
   "cell_type": "markdown",
   "id": "a2efb4de",
   "metadata": {
    "lines_to_next_cell": 2
   },
   "source": [
    "10. **애니메이션이 초기화될 때 실행되는 함수 생성**:"
   ]
  },
  {
   "cell_type": "code",
   "execution_count": 29,
   "id": "a4a23543",
   "metadata": {
    "lines_to_next_cell": 2
   },
   "outputs": [],
   "source": [
    "def init_func():\n",
    "    \"\"\"\n",
    "    애니메이션의 초기 상태를 설정하는 함수\n",
    "    \n",
    "    Returns:\n",
    "        tuple: 빈 데이터로 초기화된 line 객체를 포함하는 튜플\n",
    "    \"\"\"\n",
    "    # 라인 객체의 데이터를 빈 리스트로 초기화\n",
    "    line.set_data([], [])\n",
    "    # 업데이트된 라인 객체를 튜플로 반환\n",
    "    return (line,)"
   ]
  },
  {
   "cell_type": "markdown",
   "id": "24e87c6d",
   "metadata": {
    "lines_to_next_cell": 2
   },
   "source": [
    "11. 데이터를 반복 처리하며 실행되는 함수 생성:\n",
    "\n",
    "각 프레임마다 플롯을 업데이트하는 애니메이션 함수"
   ]
  },
  {
   "cell_type": "code",
   "execution_count": 13,
   "id": "18a5ad3c",
   "metadata": {},
   "outputs": [],
   "source": [
    "def animate(i):\n",
    "    \"\"\"\n",
    "    각 프레임마다 수익률 곡선을 업데이트하는 애니메이션 함수\n",
    "    \n",
    "    Args:\n",
    "        i (int): 현재 프레임 번호\n",
    "        \n",
    "    Returns:\n",
    "        tuple: 업데이트된 line 객체를 포함하는 튜플\n",
    "    \"\"\"\n",
    "    # x축 데이터 생성 (만기 기간)\n",
    "    x = range(0, len(maturities))\n",
    "    # y축 데이터 가져오기 (해당 시점의 수익률)\n",
    "    y = data[maturities].iloc[i]\n",
    "    # 현재 날짜 문자열 생성\n",
    "    dt_ = data.index[i].strftime(\"%Y-%m-%d\")\n",
    "\n",
    "    # 수익률 곡선이 역전되었는지 확인하여 색상 설정\n",
    "    if data.inverted.iloc[i]:\n",
    "        line.set_color(\"r\")  # 역전된 경우 빨간색\n",
    "    else:\n",
    "        line.set_color(\"y\")  # 정상인 경우 노란색\n",
    "\n",
    "    # 라인 데이터 업데이트\n",
    "    line.set_data(x, y)\n",
    "\n",
    "    # 그래프 제목 업데이트 (날짜 포함)\n",
    "    plt.title(f\"미국 국채 수익률 곡선 ({dt_})\")\n",
    "    return (line,)"
   ]
  },
  {
   "cell_type": "code",
   "execution_count": 31,
   "id": "d893662f",
   "metadata": {},
   "outputs": [],
   "source": [
    "# 상수 정의\n",
    "INVERTED_COLOR = \"r\"  # 역전된 수익률 곡선용 색상\n",
    "NORMAL_COLOR = \"y\"    # 정상 수익률 곡선용 색상\n",
    "DATE_FORMAT = \"%Y-%m-%d\"\n",
    "\n",
    "def animate(i):\n",
    "    \"\"\"\n",
    "    각 프레임마다 수익률 곡선을 업데이트하는 애니메이션 함수\n",
    "    \n",
    "    Args:\n",
    "        i (int): 현재 프레임 번호\n",
    "        \n",
    "    Returns:\n",
    "        tuple: 업데이트된 line 객체를 포함하는 튜플\n",
    "    \"\"\"\n",
    "    try:\n",
    "        x = range(0, len(maturities))\n",
    "        y = data[maturities].iloc[i]\n",
    "        dt_ = data.index[i].strftime(DATE_FORMAT)\n",
    "        \n",
    "        if data.inverted.iloc[i]:\n",
    "            line.set_color(INVERTED_COLOR)\n",
    "        else:\n",
    "            line.set_color(NORMAL_COLOR)\n",
    "            \n",
    "        line.set_data(x, y)\n",
    "        plt.title(f\"미국 국채 수익률 곡선 ({dt_})\")\n",
    "        return (line,)\n",
    "        \n",
    "    except Exception as e:\n",
    "        print(f\"애니메이션 프레임 {i} 처리 중 오류 발생: {e}\")\n",
    "        return (line,)"
   ]
  },
  {
   "cell_type": "markdown",
   "id": "30f8cc19",
   "metadata": {},
   "source": [
    "12. 애니메이션 생성 및 통합:"
   ]
  },
  {
   "cell_type": "code",
   "execution_count": 32,
   "id": "a2784bd1",
   "metadata": {},
   "outputs": [],
   "source": [
    "# animation.FuncAnimation을 사용하여 애니메이션 생성\n",
    "# fig: 애니메이션을 표시할 figure 객체\n",
    "# animate: 각 프레임마다 호출되는 애니메이션 함수\n",
    "# init_func: 애니메이션 초기화 함수\n",
    "# frames: 총 프레임 수 (데이터 포인트 수)\n",
    "# interval: 프레임 간 시간 간격(ms)\n",
    "# blit: True로 설정하여 변경된 부분만 다시 그리도록 최적화\n",
    "ani = animation.FuncAnimation(\n",
    "    fig, animate, init_func=init_func, frames=len(data.index), interval=250, blit=True\n",
    ")"
   ]
  },
  {
   "cell_type": "markdown",
   "id": "828a51e4",
   "metadata": {},
   "source": [
    "13. 플롯 유지 및 차트 표시:"
   ]
  },
  {
   "cell_type": "code",
   "execution_count": null,
   "id": "5c605ec3",
   "metadata": {},
   "outputs": [],
   "source": [
    "# plt.show()\n",
    "# 주피터 노트북에서 애니메이션 표시\n",
    "from IPython.display import HTML\n",
    "\n",
    "plt.rcParams['animation.embed_limit'] = 50 * 1024 * 1024  # 50MB로 제한 증가\n",
    "\n",
    "HTML(ani.to_jshtml())"
   ]
  },
  {
   "cell_type": "code",
   "execution_count": null,
   "id": "cb1c5f92",
   "metadata": {},
   "outputs": [],
   "source": [
    "import numpy as np\n",
    "import matplotlib.pyplot as plt\n",
    "from matplotlib.animation import FuncAnimation\n",
    "from IPython.display import HTML\n",
    "\n",
    "# 주피터 노트북에서 애니메이션을 표시하기 위한 설정\n",
    "%matplotlib inline\n",
    "from IPython.display import HTML\n",
    "\n",
    "# 그래프 설정\n",
    "fig, ax = plt.subplots()\n",
    "x = np.linspace(0, 2*np.pi, 100)\n",
    "line, = ax.plot(x, np.sin(x))\n",
    "\n",
    "# 애니메이션 함수\n",
    "def animate(frame):\n",
    "    line.set_ydata(np.sin(x + frame/10.0))\n",
    "    return line,\n",
    "\n",
    "# 애니메이션 생성\n",
    "ani = FuncAnimation(fig, animate, frames=100, \n",
    "                   interval=50, blit=True)\n",
    "\n",
    "# 주피터 노트북에서 애니메이션 표시\n",
    "HTML(ani.to_jshtml())"
   ]
  },
  {
   "cell_type": "markdown",
   "id": "154f16f1",
   "metadata": {},
   "source": [
    "---\n",
    "\n",
    "### 작동 방식\n",
    "\n",
    "수익률 데이터를 표시하기 위해 가로축에 만기 시간, 세로축에 수익률 값을 갖는 플롯을 준비합니다. 그런 다음 라인 플롯을 설정하여 데이터를 표시합니다.  \n",
    "초기화 함수(`init_func`)는 애니메이션의 시작 프레임을 설정합니다. 주요 애니메이션 함수(`animate`)는 데이터가 업데이트되는 곳으로, 각 채권 만기의 수익률 데이터를 다른 시간 포인트에서 다시 그립니다. 특정 날짜에 데이터가 역전된 수익률 곡선을 나타내는 경우, 선의 색상이 빨간색으로 변경되며, 그렇지 않으면 노란색으로 유지됩니다.\n",
    "\n",
    "실제 애니메이션은 `FuncAnimation` 클래스를 사용하여 생성됩니다. 이 클래스는 250밀리초 간격으로 `animate` 함수를 호출합니다. 블리팅(blitting)을 사용하면 플롯의 변경된 부분만 다시 그리도록 하여 애니메이션 효율성을 높입니다. 마지막의 `show` 명령은 애니메이션을 표시합니다.\n",
    "\n",
    "---"
   ]
  },
  {
   "cell_type": "markdown",
   "id": "a2c371c9-cbe0-4987-b17b-81e5c008d531",
   "metadata": {},
   "source": [
    "### 더 알아보기...\n",
    "\n",
    "`FuncAnimation`은 다재다능한 클래스입니다. 위에서 사용된 인수 외에도 다음을 허용합니다:\n",
    "\n",
    "1. **`repeat`**: 모든 프레임이 표시된 후 애니메이션을 반복할지 여부를 나타내는 부울 값.\n",
    "2. **`repeat_delay`**: 애니메이션 반복 사이의 지연 시간(밀리초 단위).\n",
    "3. **`fargs`**: `func`(애니메이션 함수)에 전달할 추가 인수.\n",
    "4. **`save_count`**: 애니메이션 저장 시 성능을 개선하기 위해 캐시할 프레임 값의 수. `None`인 경우 모든 프레임이 캐시됩니다.\n",
    "5. **`cache_frame_data`**: `True`로 설정하면 `animate` 함수의 반환값을 캐시하여 긴 애니메이션 저장 속도를 높일 수 있습니다. `False`로 설정하면 저장 과정에서 프레임이 애니메이션 함수에 의해 다시 생성됩니다.\n",
    "6. **`event_source`**: `EventSource`의 인스턴스 또는 `None`. `None`인 경우 새로운 `TimerBase` 인스턴스가 생성됩니다. 이는 여러 애니메이션을 동기화하려는 경우 유용합니다.\n",
    "\n",
    "이것들은 `FuncAnimation`에서 사용할 수 있는 주요 인수 중 일부입니다. 또한 몇 가지 내부 및 기본 클래스 인수가 있지만 대부분의 애플리케이션에서 자주 사용되지는 않습니다.\n",
    "\n",
    "---\n",
    "\n",
    "### 참고 자료\n",
    "\n",
    "애니메이션 API는 풍부한 애니메이션 옵션을 제공합니다. 자세한 내용은 다음 링크를 참고하세요:  \n",
    "- [Matplotlib 애니메이션 API 문서](https://matplotlib.org/stable/api/animation_api.html)\n",
    "\n",
    "---"
   ]
  },
  {
   "cell_type": "markdown",
   "id": "d4746e9f",
   "metadata": {},
   "source": [
    "## Matplotlib을 사용한 옵션 암묵적 변동성 표면 그리기\n",
    "\n",
    "트레이더들은 Matplotlib을 사용하여 옵션의 암묵적 변동성 표면과 같은 복잡한 데이터를 시각화합니다. 이러한 시각화는 옵션의 암묵적 변동성이 만기일과 행사가격에 따라 어떻게 변화하는지 이해하는 데 도움을 줍니다. 암묵적 변동성 표면은 시장이 미래 변동성에 대해 가지는 기대를 파악하는 데 중요한 정보를 제공합니다.\n",
    "\n",
    "이 표면은 두 가지 주요 특징을 보여줍니다: **왜도(skew)** 와 **기간 구조(term structure)** 입니다.  \n",
    "- **왜도(skew)**: 동일한 만기일에 대해 서로 다른 행사가격에서 암묵적 변동성이 어떻게 변하는지를 나타냅니다. 이는 시장이 중요한 가격 변동을 기대하는지를 보여줄 수 있습니다.  \n",
    "- **기간 구조(term structure)**: 동일한 행사가격이지만 다른 만기일을 가진 옵션에서 암묵적 변동성이 시간에 따라 어떻게 변화하는지를 나타냅니다. 이는 변동성이 시간이 지나며 어떻게 변화할 것으로 예상되는지를 보여줍니다.\n",
    "\n",
    "왜도와 기간 구조에 대한 자세한 설명은 이 책의 범위를 벗어나지만, 이러한 변동성 표면의 측면들은 정보에 입각한 거래 결정을 내리는 데 중요합니다. 또한, 헤징에 적합한 옵션을 선택하고, 더 복잡한 금융 상품에 대한 가격 책정 및 리스크 평가 모델을 미세 조정하는 데 중요한 역할을 합니다.\n",
    "\n",
    "---"
   ]
  },
  {
   "cell_type": "markdown",
   "id": "521c2731",
   "metadata": {},
   "source": [
    "### 준비하기...\n",
    "\n",
    "애니메이션 플롯과 같은 축에서 표면 플롯을 그리지 않기 위해 새 Jupyter Notebook을 시작합니다.\n",
    "\n",
    "---"
   ]
  },
  {
   "cell_type": "markdown",
   "id": "102e274e",
   "metadata": {},
   "source": [
    "### 어떻게 할까요...\n",
    "\n",
    "애니메이션 차트와 마찬가지로 3차원 표면을 생성하려면 `mpl_toolkits` 모듈의 `Axes3D` 클래스를 가져와야 합니다.\n",
    "\n",
    "1. **라이브러리 가져오기**:"
   ]
  },
  {
   "cell_type": "code",
   "execution_count": 35,
   "id": "0c2186e9",
   "metadata": {},
   "outputs": [],
   "source": [
    "import matplotlib.pyplot as plt\n",
    "import numpy as np\n",
    "from IPython.display import display\n",
    "from mpl_toolkits.mplot3d import Axes3D\n",
    "from openbb import obb"
   ]
  },
  {
   "cell_type": "code",
   "execution_count": 36,
   "id": "c140d565",
   "metadata": {},
   "outputs": [],
   "source": [
    "obb.user.preferences.output_type = \"dataframe\""
   ]
  },
  {
   "cell_type": "markdown",
   "id": "523e5eff",
   "metadata": {},
   "source": [
    "2. **OpenBB SDK를 사용하여 옵션 데이터 다운로드**:\n",
    "\n",
    "\"cboe\" 제공자를 사용하여 \"AAPL\" 주식의 옵션 체인을 가져와서 'chains'에 저장"
   ]
  },
  {
   "cell_type": "code",
   "execution_count": 37,
   "id": "05c1c9d2",
   "metadata": {},
   "outputs": [],
   "source": [
    "chains = obb.derivatives.options.chains(\n",
    "    \"AAPL\",\n",
    "    provider=\"cboe\",\n",
    ")"
   ]
  },
  {
   "cell_type": "markdown",
   "id": "ba99888b",
   "metadata": {},
   "source": [
    "3. **만기일까지의 기간이 3개월 미만이고 행사가격이 100 이상인 콜 데이터를 필터링하고 중복 제거**:\n",
    "\n",
    "콜 옵션만 포함하도록 옵션 체인을 필터링"
   ]
  },
  {
   "cell_type": "code",
   "execution_count": 38,
   "id": "d2e913bd",
   "metadata": {},
   "outputs": [],
   "source": [
    "calls = chains[chains.option_type == \"call\"]"
   ]
  },
  {
   "cell_type": "markdown",
   "id": "f1fc4562",
   "metadata": {},
   "source": [
    "만기까지 90일 미만이고 행사가격이 100 이상인 콜 옵션만 필터링"
   ]
  },
  {
   "cell_type": "code",
   "execution_count": 39,
   "id": "63b903aa",
   "metadata": {},
   "outputs": [],
   "source": [
    "calls = calls[(calls.dte < 90) & (calls.strike >= 100)]"
   ]
  },
  {
   "cell_type": "markdown",
   "id": "ff1c9b55",
   "metadata": {},
   "source": [
    "'strike'와 'dte' 열을 기준으로 중복된 행을 제거하고 첫 번째 발생을 유지"
   ]
  },
  {
   "cell_type": "code",
   "execution_count": 40,
   "id": "d2df648c",
   "metadata": {},
   "outputs": [],
   "source": [
    "calls.drop_duplicates(subset=[\"strike\", \"dte\"], keep=False, inplace=True)"
   ]
  },
  {
   "cell_type": "markdown",
   "id": "8bf25723",
   "metadata": {},
   "source": [
    "4. **행에 행사가격, 열에 만기일까지의 기간, 셀에 암묵적 변동성을 배치하도록 DataFrame 피벗**:\n",
    "\n",
    "'strike'와 'dte'를 기준으로 데이터를 피벗하고 'implied_volatility'를 값으로 사용하여 변동성 표면을 생성하고, 모든 값이 NaN인 열을 제거합니다"
   ]
  },
  {
   "cell_type": "code",
   "execution_count": 41,
   "id": "ce5a5fcc",
   "metadata": {},
   "outputs": [],
   "source": [
    "vol_surface = calls.pivot(\n",
    "    index=\"strike\", columns=\"dte\", values=\"implied_volatility\"\n",
    ").dropna(how=\"all\", axis=1)"
   ]
  },
  {
   "cell_type": "markdown",
   "id": "fc2ac900",
   "metadata": {},
   "source": [
    "5. **NumPy의 `meshgrid` 메서드를 사용하여 플롯에 사용할 행사가격과 만기일로 2차원 격자 생성**:\n",
    "\n",
    "변동성 표면을 기반으로 'strike'와 'dte'에 대한 메시그리드 생성"
   ]
  },
  {
   "cell_type": "code",
   "execution_count": 42,
   "id": "67d4feae",
   "metadata": {},
   "outputs": [],
   "source": [
    "strike, dte = np.meshgrid(vol_surface.columns, vol_surface.index)"
   ]
  },
  {
   "cell_type": "markdown",
   "id": "1d1cd6b9",
   "metadata": {},
   "source": [
    "6. 마지막으로 표면을 그립니다:\n",
    "\n",
    "3D 플롯 생성"
   ]
  },
  {
   "cell_type": "code",
   "execution_count": null,
   "id": "e49a26de",
   "metadata": {},
   "outputs": [],
   "source": [
    "# 15x15 크기의 새로운 figure 생성\n",
    "fig = plt.figure(figsize=(15, 15))\n",
    "# 3D 프로젝션을 사용하여 subplot 추가\n",
    "ax = fig.add_subplot(111, projection=\"3d\")\n",
    "\n",
    "# x축 레이블을 '만기까지 남은 일수'로 설정\n",
    "ax.set_xlabel(\"만기까지 남은 일수\")\n",
    "# y축 레이블을 '행사가격'으로 설정 \n",
    "ax.set_ylabel(\"행사가격\")\n",
    "# z축 레이블을 '내재변동성'으로 설정\n",
    "ax.set_zlabel(\"내재변동성\")\n",
    "\n",
    "# viridis 컬러맵을 사용하여 3D 표면 플롯 생성\n",
    "ax.plot_surface(strike, dte, vol_surface.values, cmap=\"viridis\")"
   ]
  },
  {
   "cell_type": "markdown",
   "id": "c4fe7bd3",
   "metadata": {},
   "source": [
    "결과는 x축에 행사가격, y축에 만기일까지의 기간, z축에 암묵적 변동성을 표시하는 3차원 표면 플롯입니다.\n",
    "\n",
    "---\n",
    "\n",
    "### 작동 방식\n",
    "\n",
    "옵션 데이터를 다운로드하고, 만기일이 90일 이내이고 행사가격이 $100 이상인 옵션으로 데이터셋을 좁힙니다. 그 후 동일한 행사가격과 만기일을 가진 항목을 제거하여 데이터의 고유성을 보장합니다. 프로세스의 핵심은 각 행과 열이 서로 다른 행사가격과 만기일을 나타내는 DataFrame으로 데이터를 재구성하는 것입니다. 그런 다음 NumPy의 `meshgrid` 메서드를 사용하여 행사가격과 만기일에 해당하는 2차원 격자를 생성합니다. 이 격자는 `vol_surface` DataFrame과 동일한 구조를 가집니다. 이 과정을 통해 최종적으로 x축에 행사가격, y축에 만기일, z축에 암묵적 변동성을 나타내는 3D 플롯이 생성됩니다.\n",
    "\n",
    "---\n",
    "\n",
    "### 더 알아보기...\n",
    "\n",
    "Matplotlib의 3D 축의 `plot_surface` 메서드는 3차원 표면 플롯을 쉽게 생성할 수 있는 방법을 제공합니다. 이전 섹션에서 사용된 인수 외에도 알고리즘 거래에서 자주 사용되는 몇 가지 인수가 있습니다:\n",
    "\n",
    "1. **`rstride`와 `cstride`**: 표면 플롯을 생성하는 데 사용되는 행(row) 및 열(column) 데이터의 단계 크기를 설정합니다.\n",
    "2. **`color`**: 전체 표면에 사용할 수 있는 단일 색상.\n",
    "3. **`facecolors`**: Z와 동일한 크기의 행렬로, 표면 플롯의 각 면에 대한 색상을 제공합니다.\n",
    "4. **`linewidth`**: 표면 플롯에 그려진 와이어프레임의 선 두께를 설정합니다. 기본값은 0으로, 와이어프레임이 없습니다.\n",
    "5. **`antialiased`**: `True`로 설정하면 표면이 부드럽게(안티앨리어싱) 표시됩니다.\n",
    "6. **`shade`**: `True`로 설정하면 표면 플롯이 조명과 방향에 따라 그라데이션 효과를 갖습니다.\n",
    "7. **`vmin`과 `vmax`**: 컬러바 범위. `None`이면 각각 `min(z)` 또는 `max(z)`를 사용하여 계산됩니다.\n",
    "8. **`facecolors`**: 표면 플롯의 개별 패치의 면 색상.\n",
    "\n",
    "---\n",
    "\n",
    "### 참고 자료\n",
    "\n",
    "플롯팅, 수익률 곡선, 암묵적 변동성 표면에 대해 더 알아보려면 아래 리소스를 참조하세요:\n",
    "- Matplotlib의 `plot_surface` 메서드에 대한 문서: [Matplotlib Plot Surface Documentation](https://matplotlib.org/stable/api/_as_gen/mpl_toolkits.mplot3d.axes3d.Axes3D.plot_surface.html)\n",
    "- 역전된 수익률 곡선의 역사에 대한 정보: [Inverted Yield Curve - Investopedia](https://www.investopedia.com/terms/i/invertedyieldcurve.asp)\n",
    "- 암묵적 변동성 표면의 실제 사용 사례에 대한 정보: [Volatility Surface Explained - Investopedia](https://www.investopedia.com/articles/stock-analysis/081916/volatility-surface-explained.asp)\n",
    "\n",
    "---"
   ]
  },
  {
   "cell_type": "markdown",
   "id": "24a9df60",
   "metadata": {},
   "source": [
    "## Seaborn을 사용한 통계적 관계 시각화\n",
    "\n",
    "알고리즘 거래의 주요 부분 중 하나는 **팩터 엔지니어링**입니다. 팩터 엔지니어링은 종종 **알파 팩터(alpha factors)** 라고 불리는 알고리즘 거래 모델을 위한 예측자를 생성하는 과정을 포함합니다. 이 팩터들은 시장에서 발견되는 패턴이나 이상 현상을 나타냅니다. 이러한 팩터는 과거 및 실시간 데이터를 기반으로 미래 가격 움직임을 예측하는 데 목적을 둡니다.  \n",
    "\n",
    "팩터 엔지니어링은 점점 더 머신 러닝과 통계적 방법에 의존하고 있습니다. 이러한 도구는 방대한 데이터 세트에서 패턴을 자동으로 추출하는 데 도움을 줍니다. 예를 들어, 신경망과 같은 머신 러닝 모델은 전통적인 방법에서 놓칠 수 있는 비선형 관계를 식별할 수 있습니다.  \n",
    "- **특징 선택(feature selection)**: 가장 관련성이 높은 예측 변수를 결정합니다.  \n",
    "- **정규화(regularization)**: 과적합을 방지하여 모델의 견고성을 보장합니다.  \n",
    "- **클러스터링 및 차원 축소**: 복잡한 데이터 세트를 관리하는 데 도움을 줍니다.\n",
    "\n",
    "**Seaborn** 라이브러리는 통계적 관계를 시각화하는 데 특화되어 있으며, 팩터 엔지니어링에 중요한 도구입니다. Seaborn은 Matplotlib 위에 구축되었으며 pandas와 통합되어 이러한 도구를 사용하는 사용자들에게 친숙합니다.\n",
    "\n",
    "---\n",
    "\n",
    "### 어떻게 할까요...\n",
    "\n",
    "다음은 통계적 플롯을 위해 Seaborn을 사용하는 방법입니다:\n",
    "\n",
    "1. **라이브러리 가져오기**:"
   ]
  },
  {
   "cell_type": "code",
   "execution_count": 11,
   "id": "5135ed73",
   "metadata": {},
   "outputs": [],
   "source": [
    "import warnings"
   ]
  },
  {
   "cell_type": "code",
   "execution_count": 12,
   "id": "0f00a626",
   "metadata": {},
   "outputs": [],
   "source": [
    "import matplotlib.pyplot as plt\n",
    "import numpy as np\n",
    "import pandas as pd\n",
    "import seaborn as sns\n",
    "from IPython.display import display\n",
    "from openbb import obb"
   ]
  },
  {
   "cell_type": "code",
   "execution_count": 13,
   "id": "6d7c76ef",
   "metadata": {},
   "outputs": [],
   "source": [
    "warnings.filterwarnings(\"ignore\")\n",
    "obb.user.preferences.output_type = \"dataframe\""
   ]
  },
  {
   "cell_type": "markdown",
   "id": "1404110d",
   "metadata": {},
   "source": [
    "2. **OpenBB SDK를 사용하여 주가 이력 다운로드**:\n",
    "\n",
    "\"yfinance\" 제공자를 사용하여 2020-01-01부터 시작하는 \"AAPL\"과 \"SPY\"의 과거 가격 데이터를 가져오고 데이터를 피벗합니다"
   ]
  },
  {
   "cell_type": "code",
   "execution_count": 14,
   "id": "ba9e7b61",
   "metadata": {},
   "outputs": [],
   "source": [
    "data = obb.equity.price.historical(\n",
    "    [\"AAPL\", \"SPY\"], start_date=\"2020-01-01\", provider=\"yfinance\"\n",
    ").pivot(columns=\"symbol\", values=\"close\")"
   ]
  },
  {
   "cell_type": "markdown",
   "id": "d41576b2",
   "metadata": {},
   "source": [
    "3. **일일 수익률 계산**:\n",
    "\n",
    "가격의 백분율 변화를 계산하고 NaN 값을 제거합니다"
   ]
  },
  {
   "cell_type": "code",
   "execution_count": 15,
   "id": "6d234919",
   "metadata": {},
   "outputs": [],
   "source": [
    "returns = data.pct_change(fill_method=None).dropna()"
   ]
  },
  {
   "cell_type": "markdown",
   "id": "938679f0",
   "metadata": {},
   "source": [
    "4. **pandas의 `melt` 메서드를 사용하여 데이터를 긴 형식으로 변환**:\n",
    "\n",
    "'returns'의 인덱스를 재설정합니다"
   ]
  },
  {
   "cell_type": "code",
   "execution_count": 16,
   "id": "9a69f0d7",
   "metadata": {},
   "outputs": [],
   "source": [
    "returns = returns.reset_index()"
   ]
  },
  {
   "cell_type": "markdown",
   "id": "b9916398",
   "metadata": {},
   "source": [
    "쉬운 플로팅을 위해 'returns' DataFrame을 변환합니다"
   ]
  },
  {
   "cell_type": "code",
   "execution_count": 17,
   "id": "8a69fba5",
   "metadata": {},
   "outputs": [],
   "source": [
    "melted = pd.melt(\n",
    "    returns,\n",
    "    id_vars=[\"date\"],\n",
    "    value_vars=[\"AAPL\"],\n",
    "    var_name=\"stock\",\n",
    "    value_name=\"returns\",\n",
    ")"
   ]
  },
  {
   "cell_type": "markdown",
   "id": "832ea986",
   "metadata": {},
   "source": [
    "5. **월별 데이터를 위한 새 열 추가**:\n",
    "\n",
    "melted DataFrame에 'month' 열을 추가합니다"
   ]
  },
  {
   "cell_type": "code",
   "execution_count": 18,
   "id": "c5996df8",
   "metadata": {},
   "outputs": [],
   "source": [
    "melted[\"month\"] = pd.to_datetime(melted.date).dt.to_period(\"M\")"
   ]
  },
  {
   "cell_type": "markdown",
   "id": "469fcd41",
   "metadata": {},
   "source": [
    "6. **박스 플롯 생성**:\n",
    "\n",
    "월별 수익률의 박스 플롯을 생성합니다"
   ]
  },
  {
   "cell_type": "code",
   "execution_count": 19,
   "id": "878015cf",
   "metadata": {},
   "outputs": [
    {
     "data": {
      "image/png": "[encoded data removed]",
      "text/plain": [
       "<Figure size 2000x800 with 1 Axes>"
      ]
     },
     "metadata": {},
     "output_type": "display_data"
    }
   ],
   "source": [
    "plt.figure(figsize=(20, 8))  # 가로로 더 긴 그림 크기 설정\n",
    "g = sns.boxplot(x=\"month\", y=\"returns\", hue=\"stock\", data=melted)\n",
    "g.set_xticklabels(melted[\"month\"].unique(), rotation=45)\n",
    "plt.tight_layout()  # 여백 자동 조정"
   ]
  },
  {
   "cell_type": "markdown",
   "id": "b89f3d94",
   "metadata": {},
   "source": [
    "### 작동 방식\n",
    "\n",
    "코드는 AAPL 종가의 일일 퍼센트 변화를 계산하고 모든 `NaN` 값을 제거합니다. 그런 다음 이 수익률 시리즈를 날짜와 해당 날짜의 수익률이라는 두 개의 열을 가진 DataFrame으로 변환합니다. `melt`를 사용하여 DataFrame을 Seaborn의 `boxplot` 함수와 호환되도록 재구성합니다. 또한 각 날짜에서 월(month)을 추출하여 새 열로 추가합니다. 마지막으로, `boxplot` 메서드는 x축에 월, y축에 수익률을 표시하는 박스 플롯을 생성합니다. x축 레이블(월)은 가독성을 위해 45도 회전하여 설정됩니다.\n",
    "\n",
    "최종 시각화는 데이터의 각 월에 대한 AAPL의 일일 수익률 분포를 보여줍니다.\n",
    "\n",
    "---\n",
    "\n",
    "### 더 알아보기...\n",
    "\n",
    "또 다른 인기 있는 차트 유형은 **`jointplot`** 입니다. 이는 산점도와 각 변수의 히스토그램을 가장자리 영역에 결합한 차트입니다. 트레이더들은 **`jointplot`** 을 사용하여 자산 간의 상관관계를 시각적으로 평가하며, 이는 분산 투자, 페어 트레이딩, 리스크 관리를 지원합니다. 이 플롯은 선형 관계, 분포 패턴, 잠재적 이상치를 식별하는 데 도움을 줍니다."
   ]
  },
  {
   "cell_type": "markdown",
   "id": "6ccd07e7",
   "metadata": {},
   "source": [
    "\"SPY\"와 \"AAPL\" 수익률의 조인트 플롯을 회귀선과 함께 생성합니다"
   ]
  },
  {
   "cell_type": "code",
   "execution_count": 20,
   "id": "1253f6e1",
   "metadata": {},
   "outputs": [
    {
     "data": {
      "image/png": "[encoded data removed]",
      "text/plain": [
       "<Figure size 600x600 with 3 Axes>"
      ]
     },
     "metadata": {},
     "output_type": "display_data"
    }
   ],
   "source": [
    "g = sns.jointplot(\n",
    "    x=\"SPY\",\n",
    "    y=\"AAPL\",\n",
    "    data=returns,\n",
    "    kind=\"reg\",\n",
    "    truncate=False,\n",
    ")"
   ]
  },
  {
   "cell_type": "markdown",
   "id": "6235fa80",
   "metadata": {},
   "source": [
    "결과는 **조인트 플롯(joint plot)** 입니다.\n",
    "\n",
    ">팁\n",
    ">`kind` 매개변수에 전달된 **`reg`** 인수는 그릴 플롯의 유형을 나타냅니다. \"reg\"는 회귀를 의미하며, Seaborn은 SPY와 AAPL 수익률의 산점도를 그릴 뿐만 아니라 데이터를 기반으로 선형 회귀선을 계산하고 표시합니다.\n",
    "\n",
    "트레이더들은 상관 행렬을 사용하여 여러 자산 간의 선형 관계를 동시에 이해합니다. 이제 다우 존스 산업 평균지수(DJIA) 내 주식의 상관 행렬을 만들어 보겠습니다."
   ]
  },
  {
   "cell_type": "markdown",
   "id": "ebe65e2b",
   "metadata": {},
   "source": [
    "1. **첫 번째 단계는 회사 목록과 DJIA Wikipedia 페이지에서 티커 심볼을 가져오는 것입니다**:\n",
    "\n",
    "Wikipedia에서 다우존스 산업평균지수 데이터를 가져옵니다"
   ]
  },
  {
   "cell_type": "code",
   "execution_count": 21,
   "id": "cdddc4b3",
   "metadata": {},
   "outputs": [],
   "source": [
    "dji = pd.read_html(\"https://en.wikipedia.org/wiki/Dow_Jones_Industrial_Average\")[2]"
   ]
  },
  {
   "cell_type": "markdown",
   "id": "c359d02d",
   "metadata": {},
   "source": [
    "pandas의 `read_html` 메서드는 웹페이지에서 표를 추출하는 편리한 함수입니다. 여기서는 두 번째 표(인덱스 1)를 사용합니다. 이 표는 DJIA에 포함된 회사에 대한 세부 정보를 포함합니다."
   ]
  },
  {
   "cell_type": "markdown",
   "id": "6c6bd06f",
   "metadata": {},
   "source": [
    "2. **티커 심볼을 확보한 후, 이를 사용하여 과거 주가 데이터를 가져오고 일일 수익률을 계산합니다**:\n",
    "\n",
    "\"yfinance\" 제공자를 사용하여 2020-01-01부터 시작하는 DJI 구성 종목의 과거 가격 데이터를 가져오고 피벗합니다"
   ]
  },
  {
   "cell_type": "code",
   "execution_count": 22,
   "id": "b4caa767",
   "metadata": {},
   "outputs": [
    {
     "data": {
      "text/html": [
       "<div>\n",
       "<style scoped>\n",
       "    .dataframe tbody tr th:only-of-type {\n",
       "        vertical-align: middle;\n",
       "    }\n",
       "\n",
       "    .dataframe tbody tr th {\n",
       "        vertical-align: top;\n",
       "    }\n",
       "\n",
       "    .dataframe thead th {\n",
       "        text-align: right;\n",
       "    }\n",
       "</style>\n",
       "<table border=\"1\" class=\"dataframe\">\n",
       "  <thead>\n",
       "    <tr style=\"text-align: right;\">\n",
       "      <th></th>\n",
       "      <th>Company</th>\n",
       "      <th>Exchange</th>\n",
       "      <th>Symbol</th>\n",
       "      <th>Industry</th>\n",
       "      <th>Date added</th>\n",
       "      <th>Notes</th>\n",
       "      <th>Index weighting</th>\n",
       "    </tr>\n",
       "  </thead>\n",
       "  <tbody>\n",
       "    <tr>\n",
       "      <th>0</th>\n",
       "      <td>3M</td>\n",
       "      <td>NYSE</td>\n",
       "      <td>MMM</td>\n",
       "      <td>Conglomerate</td>\n",
       "      <td>1976-08-09</td>\n",
       "      <td>As Minnesota Mining and Manufacturing</td>\n",
       "      <td>1.83%</td>\n",
       "    </tr>\n",
       "    <tr>\n",
       "      <th>1</th>\n",
       "      <td>American Express</td>\n",
       "      <td>NYSE</td>\n",
       "      <td>AXP</td>\n",
       "      <td>Financial services</td>\n",
       "      <td>1982-08-30</td>\n",
       "      <td>NaN</td>\n",
       "      <td>4.12%</td>\n",
       "    </tr>\n",
       "    <tr>\n",
       "      <th>2</th>\n",
       "      <td>Amgen</td>\n",
       "      <td>NASDAQ</td>\n",
       "      <td>AMGN</td>\n",
       "      <td>Biopharmaceutical</td>\n",
       "      <td>2020-08-31</td>\n",
       "      <td>NaN</td>\n",
       "      <td>3.76%</td>\n",
       "    </tr>\n",
       "    <tr>\n",
       "      <th>3</th>\n",
       "      <td>Amazon</td>\n",
       "      <td>NASDAQ</td>\n",
       "      <td>AMZN</td>\n",
       "      <td>Retailing</td>\n",
       "      <td>2024-02-26</td>\n",
       "      <td>NaN</td>\n",
       "      <td>3.02%</td>\n",
       "    </tr>\n",
       "    <tr>\n",
       "      <th>4</th>\n",
       "      <td>Apple</td>\n",
       "      <td>NASDAQ</td>\n",
       "      <td>AAPL</td>\n",
       "      <td>Information technology</td>\n",
       "      <td>2015-03-19</td>\n",
       "      <td>NaN</td>\n",
       "      <td>3.33%</td>\n",
       "    </tr>\n",
       "  </tbody>\n",
       "</table>\n",
       "</div>"
      ],
      "text/plain": [
       "            Company Exchange Symbol                Industry  Date added  \\\n",
       "0                3M     NYSE    MMM            Conglomerate  1976-08-09   \n",
       "1  American Express     NYSE    AXP      Financial services  1982-08-30   \n",
       "2             Amgen   NASDAQ   AMGN       Biopharmaceutical  2020-08-31   \n",
       "3            Amazon   NASDAQ   AMZN               Retailing  2024-02-26   \n",
       "4             Apple   NASDAQ   AAPL  Information technology  2015-03-19   \n",
       "\n",
       "                                   Notes Index weighting  \n",
       "0  As Minnesota Mining and Manufacturing           1.83%  \n",
       "1                                    NaN           4.12%  \n",
       "2                                    NaN           3.76%  \n",
       "3                                    NaN           3.02%  \n",
       "4                                    NaN           3.33%  "
      ]
     },
     "execution_count": 22,
     "metadata": {},
     "output_type": "execute_result"
    }
   ],
   "source": [
    "dji.head()"
   ]
  },
  {
   "cell_type": "code",
   "execution_count": 24,
   "id": "045d7fb5",
   "metadata": {},
   "outputs": [],
   "source": [
    "dji_data = (\n",
    "    obb.equity.price.historical(\n",
    "        dji.Symbol, start_date=\"2020-01-01\", provider=\"yfinance\"\n",
    "    )\n",
    ").pivot(columns=\"symbol\", values=\"close\")"
   ]
  },
  {
   "cell_type": "markdown",
   "id": "b09c7317",
   "metadata": {},
   "source": [
    "3. **pandas의 `corr` 메서드를 사용하여 모든 주식 간의 쌍별 상관관계를 계산합니다**:\n",
    "\n",
    "Calculates the percentage change in prices and drops any NaN values for the DJI data"
   ]
  },
  {
   "cell_type": "code",
   "execution_count": 25,
   "id": "1aedaa6d",
   "metadata": {},
   "outputs": [],
   "source": [
    "dji_returns = dji_data.pct_change(fill_method=None).dropna()"
   ]
  },
  {
   "cell_type": "markdown",
   "id": "76b4e2af",
   "metadata": {},
   "source": [
    "DJI 수익률에 대한 상관 행렬을 계산합니다"
   ]
  },
  {
   "cell_type": "code",
   "execution_count": 26,
   "id": "778e8d00",
   "metadata": {},
   "outputs": [],
   "source": [
    "corr = dji_returns.corr()"
   ]
  },
  {
   "cell_type": "markdown",
   "id": "3de2806e",
   "metadata": {},
   "source": [
    "4. **상관 행렬을 시각화하기 전에 히트맵을 더 직관적으로 만들기 위해 몇 가지 조정을 합니다. 먼저, 상관 행렬의 상삼각형을 숨기기 위한 마스크를 생성합니다**:\n",
    "\n",
    "상관 행렬의 상삼각형을 숨기기 위한 마스크를 생성합니다"
   ]
  },
  {
   "cell_type": "code",
   "execution_count": 27,
   "id": "3225be08",
   "metadata": {},
   "outputs": [],
   "source": [
    "mask = np.triu(np.ones_like(corr, dtype=bool))"
   ]
  },
  {
   "cell_type": "markdown",
   "id": "6156525f",
   "metadata": {},
   "source": [
    "5. **히트맵에서 양의 상관관계와 음의 상관관계를 시각적으로 구분하기 위해 색상 팔레트를 생성합니다**:\n",
    "\n",
    "사용자 정의 발산 컬러맵을 생성합니다"
   ]
  },
  {
   "cell_type": "code",
   "execution_count": 28,
   "id": "11278e14",
   "metadata": {},
   "outputs": [],
   "source": [
    "cmap = sns.diverging_palette(230, 20, as_cmap=True)"
   ]
  },
  {
   "cell_type": "markdown",
   "id": "14a7bd65",
   "metadata": {},
   "source": [
    "6. **폰트 크기를 4포인트로 설정하여 더 많은 레이블을 포함시키고 히트맵을 플롯합니다**:\n",
    "\n",
    "Draws the heatmap with the mask and correct aspect ratio"
   ]
  },
  {
   "cell_type": "code",
   "execution_count": 29,
   "id": "eb451621",
   "metadata": {},
   "outputs": [
    {
     "data": {
      "text/plain": [
       "<Axes: xlabel='symbol', ylabel='symbol'>"
      ]
     },
     "execution_count": 29,
     "metadata": {},
     "output_type": "execute_result"
    },
    {
     "data": {
      "image/png": "[encoded data removed]",
      "text/plain": [
       "<Figure size 640x480 with 2 Axes>"
      ]
     },
     "metadata": {},
     "output_type": "display_data"
    }
   ],
   "source": [
    "plt.rcParams[\"font.size\"] = 6\n",
    "sns.heatmap(\n",
    "    corr,\n",
    "    mask=mask,\n",
    "    cmap=cmap,\n",
    "    vmin=-1.0,\n",
    "    vmax=1.0,\n",
    "    center=0,\n",
    "    square=True,\n",
    "    linewidths=0.5,\n",
    ")"
   ]
  },
  {
   "cell_type": "markdown",
   "id": "ca634486",
   "metadata": {},
   "source": [
    "---\n",
    "\n",
    "### 참고 자료\n",
    "\n",
    "Seaborn은 독창적인 시각화 유형이 많은 인기 있는 차트 라이브러리입니다. 자세한 내용을 보려면 아래 링크를 참고하세요:\n",
    "\n",
    "- [Seaborn 박스플롯 문서](https://seaborn.pydata.org/generated/seaborn.boxplot.html)  \n",
    "- [Seaborn 조인트플롯 문서](https://seaborn.pydata.org/generated/seaborn.jointplot.html)  \n",
    "- [Seaborn 히트맵 문서](https://seaborn.pydata.org/generated/seaborn.heatmap.html)  \n",
    "\n",
    "---"
   ]
  },
  {
   "cell_type": "markdown",
   "id": "db09243b-1e8f-4c57-8d55-6d7f6022a8fe",
   "metadata": {},
   "source": [
    "## Plotly Dash를 사용한 대화형 PCA 분석 대시보드 생성\n",
    "\n",
    "**주성분 분석(Principal Component Analysis, PCA)**은 데이터 과학에서 널리 사용되는 기법으로, 데이터 세트의 차원을 줄이는 데 활용됩니다. 주식 포트폴리오의 경우, 하나의 차원은 특정 주식의 수익률 열일 수 있습니다. 100개의 주식으로 구성된 포트폴리오에서는 100개의 차원이 존재합니다. PCA는 이러한 100개의 차원을 데이터의 분산을 가장 잘 설명하는 소수의 차원으로 변환합니다.\n",
    "\n",
    "PCA는 포트폴리오의 통계적 수익률 요인을 분리합니다. 이러한 요인은 **알파 팩터(alpha factors)**라고 하며, 벤치마크로 설명되지 않는 수익률을 생성하기 때문입니다. 퀀트는 이러한 요인을 거래 전략에서 사용합니다. 먼저 요인을 분리한 후, 특정 요인에 가장 많이 노출된 주식을 매수하고, 가장 적게 노출된 주식을 매도합니다.  \n",
    "\n",
    "이번 레시피에서는 PCA를 사용하여 **Plotly Dash 웹 애플리케이션**을 생성합니다. 이 앱은 티커 심볼 목록을 받아들이고, 주요 구성 요소를 식별하며, 상위 요인을 시각화하는 플롯을 생성합니다.\n",
    "\n",
    "---\n",
    "\n",
    "### 준비하기\n",
    "\n",
    "이전에 작성했던 코드는 Jupyter Notebook에서 실행되었습니다. 이번 레시피에서는 `app.py`라는 Python 스크립트를 작성하고 명령줄에서 실행합니다. 목표는 기본적인 PCA 분석 앱에는 필수적이지 않더라도, Plotly Dash의 흥미로운 기능을 강조하는 것입니다.\n",
    "\n",
    "**필요한 라이브러리 설치**\n",
    "\n",
    "아래 명령어를 실행하여 새로운 라이브러리를 설치합니다:\n",
    "```bash\n",
    "pip install dash plotly dash-bootstrap-components scikit-learn\n",
    "```\n",
    "**Plotly**와 **scikit-learn**은 OpenBB 플랫폼 설치를 통해 이미 설치되었을 수 있습니다.\n",
    "\n",
    "---"
   ]
  },
  {
   "cell_type": "markdown",
   "id": "13285cd2",
   "metadata": {},
   "source": [
    "### 어떻게 할까요...\n",
    "\n",
    "모든 코드는 `app.py` 파일에 작성해야 합니다.\n",
    "\n",
    "1. **웹 애플리케이션 생성에 필요한 모든 라이브러리 가져오기**:\n",
    "```python\n",
    "import datetime\n",
    "import numpy as np\n",
    "import pandas as pd\n",
    "import dash\n",
    "from dash import dcc, html\n",
    "import dash_bootstrap_components as dbc\n",
    "from dash.dependencies import Input, Output\n",
    "import plotly.graph_objs as go\n",
    "import plotly.io as pio\n",
    "from sklearn.decomposition import PCA\n",
    "from openbb import obb\n",
    "obb.user.preferences.output_type = \"dataframe\"\n",
    "```\n",
    "\n",
    "2. **기본 스타일, 차트 템플릿 설정 및 앱 초기화**:\n",
    "```python\n",
    "pio.templates.default = \"plotly\"\n",
    "app = dash.Dash(__name__, external_stylesheets=[dbc.themes.BOOTSTRAP])\n",
    "```"
   ]
  },
  {
   "cell_type": "markdown",
   "id": "f851cd05",
   "metadata": {},
   "source": [
    "3. 사용자 인터페이스 구성 요소 생성\n",
    "\n",
    "- 텍스트 필드에서 티커 심볼 목록을 입력하도록 하고, 드롭다운을 통해 구성 요소 수를 선택하며, 날짜 선택기를 사용하여 데이터 범위를 선택하고, 앱을 실행하기 위한 제출 버튼을 추가합니다:\n",
    "\n",
    "```python\n",
    "ticker_field = [\n",
    "    html.Label(\"Enter Ticker Symbols:\"),\n",
    "    dcc.Input(\n",
    "        id=\"ticker-input\",\n",
    "        type=\"text\",\n",
    "        placeholder=\"Enter Tickers separated by commas (e.g., AAPL, MSFT)\",\n",
    "        style={\"width\": \"50%\"}\n",
    "    )\n",
    "]\n",
    "\n",
    "components_field = [\n",
    "    html.Label(\"Select Number of Components:\"),\n",
    "    dcc.Dropdown(\n",
    "        id=\"component-dropdown\",\n",
    "        options=[{\"label\": i, \"value\": i} for i in range(1, 6)],\n",
    "        value=3,\n",
    "        style={\"width\": \"50%\"}\n",
    "    )\n",
    "]\n",
    "\n",
    "date_picker_field = [\n",
    "    html.Label(\"Select Date Range:\"),  # 날짜 선택기를 위한 레이블\n",
    "    dcc.DatePickerRange(\n",
    "        id=\"date-picker\",\n",
    "        start_date=datetime.datetime.now() - datetime.timedelta(365 * 3),\n",
    "        end_date=datetime.datetime.now(),  # 기본값: 오늘 날짜\n",
    "        display_format=\"YYYY-MM-DD\",\n",
    "    )\n",
    "]\n",
    "\n",
    "submit = [\n",
    "    html.Button(\"Submit\", id=\"submit-button\"),\n",
    "]\n",
    "```\n",
    "\n",
    "4. 시각화를 위한 폼 요소와 자리 표시자를 결합하여 앱 레이아웃 구성\n",
    "\n",
    "```python\n",
    "app.layout = dbc.Container(\n",
    "    [\n",
    "        html.H1(\"PCA on Stock Returns\"),\n",
    "        dbc.Row([dbc.Col(ticker_field)]),\n",
    "        dbc.Row([dbc.Col(components_field)]),\n",
    "        dbc.Row([dbc.Col(date_picker_field)]),\n",
    "        dbc.Row([dbc.Col(submit)]),\n",
    "        dbc.Row(\n",
    "            [\n",
    "                dbc.Col(dcc.Graph(id=\"bar-chart\"), width=4),\n",
    "                dbc.Col(dcc.Graph(id=\"line-chart\"), width=4),\n",
    "                dbc.Col(dcc.Graph(id=\"scatter-plot\"), width=4),\n",
    "            ]\n",
    "        ),\n",
    "    ]\n",
    ")\n",
    "```\n",
    "\n",
    "5. 사용자 입력에 따라 차트를 업데이트하는 함수 구현\n",
    "\n",
    "**중요**: 5단계와 13단계 사이의 모든 코드는 동일한 함수에 속합니다. 정의 후 코드를 적절히 들여쓰는 것을 확인하세요.\n",
    "\n",
    "```python\n",
    "@app.callback(\n",
    "    [\n",
    "        Output(\"bar-chart\", \"figure\"),\n",
    "        Output(\"line-chart\", \"figure\"),\n",
    "        Output(\"scatter-plot\", \"figure\"),\n",
    "    ],\n",
    "    [Input(\"submit-button\", \"n_clicks\")],\n",
    "    [\n",
    "        dash.dependencies.State(\"ticker-input\", \"value\"),\n",
    "        dash.dependencies.State(\"component-dropdown\", \"value\"),\n",
    "        dash.dependencies.State(\"date-picker\", \"start_date\"),\n",
    "        dash.dependencies.State(\"date-picker\", \"end_date\"),\n",
    "    ],\n",
    ")\n",
    "def update_graphs(n_clicks, tickers, n_components, start_date, end_date):\n",
    "    if not tickers:\n",
    "        return {}, {}, {}\n",
    "```\n",
    "\n",
    "6. 사용자 입력을 파싱\n",
    "\n",
    "```python\n",
    "tickers = tickers.split(\",\")\n",
    "start_date = datetime.datetime.strptime(start_date, \"%Y-%m-%dT%H:%M:%S.%f\").date()\n",
    "end_date = datetime.datetime.strptime(end_date, \"%Y-%m-%dT%H:%M:%S.%f\").date()\n",
    "```\n",
    "\n",
    "7. 주식 데이터 다운로드\n",
    "\n",
    "```python\n",
    "data = obb.equity.price.historical(\n",
    "    tickers,\n",
    "    start_date=start_date,\n",
    "    end_date=end_date,\n",
    "    provider=\"yfinance\"\n",
    ").pivot(columns=\"symbol\", values=\"close\")\n",
    "daily_returns = data.pct_change().dropna()\n",
    "```\n",
    "\n",
    "8. 주성분 분석 모델 적합\n",
    "\n",
    "```python\n",
    "pca = PCA(n_components=n_components)\n",
    "pca.fit(daily_returns)\n",
    "explained_var_ratio = pca.explained_variance_ratio_\n",
    "```\n",
    "\n",
    "9. 개별 설명 분산을 위한 막대 차트 생성\n",
    "\n",
    "```python\n",
    "bar_chart = go.Figure(\n",
    "    data=[\n",
    "        go.Bar(\n",
    "            x=[\"PC\" + str(i + 1) for i in range(n_components)],\n",
    "            y=explained_var_ratio,\n",
    "        )\n",
    "    ],\n",
    "    layout=go.Layout(\n",
    "        title=\"Explained Variance by Component\",\n",
    "        xaxis=dict(title=\"Principal Component\"),\n",
    "        yaxis=dict(title=\"Explained Variance\"),\n",
    "    ),\n",
    ")\n",
    "```\n",
    "\n",
    "10. 누적 설명 분산에 대한 선형 차트 생성\n",
    "\n",
    "```python\n",
    "cumulative_var_ratio = np.cumsum(explained_var_ratio)\n",
    "line_chart = go.Figure(\n",
    "    data=[\n",
    "        go.Scatter(\n",
    "            x=[\"PC\" + str(i + 1) for i in range(n_components)],\n",
    "            y=cumulative_var_ratio,\n",
    "            mode=\"lines+markers\",\n",
    "        )\n",
    "    ],\n",
    "    layout=go.Layout(\n",
    "        title=\"Cumulative Explained Variance\",\n",
    "        xaxis=dict(title=\"Principal Component\"),\n",
    "        yaxis=dict(title=\"Cumulative Explained Variance\"),\n",
    "    ),\n",
    ")\n",
    "```\n",
    "\n",
    "11. 요인 노출 계산\n",
    "\n",
    "```python\n",
    "X = np.asarray(daily_returns)\n",
    "factor_returns = pd.DataFrame(\n",
    "    columns=[\"f\" + str(i + 1) for i in range(n_components)],\n",
    "    index=daily_returns.index,\n",
    "    data=X.dot(pca.components_.T),\n",
    ")\n",
    "factor_exposures = pd.DataFrame(\n",
    "    index=[\"f\" + str(i + 1) for i in range(n_components)],\n",
    "    columns=daily_returns.columns,\n",
    "    data=pca.components_,\n",
    ").T\n",
    "labels = factor_exposures.index\n",
    "data = factor_exposures.values\n",
    "```\n",
    "\n",
    "12. 요인 노출에 대한 차트 생성\n",
    "\n",
    "```python\n",
    "scatter_plot = go.Figure(\n",
    "    data=[\n",
    "        go.Scatter(\n",
    "            x=factor_exposures[\"f1\"],\n",
    "            y=factor_exposures[\"f2\"],\n",
    "            mode=\"markers+text\",\n",
    "            text=labels,\n",
    "            textposition=\"top center\",\n",
    "        )\n",
    "    ],\n",
    "    layout=go.Layout(\n",
    "        title=\"Scatter Plot of First Two Factors\",\n",
    "        xaxis=dict(title=\"Factor 1\"),\n",
    "        yaxis=dict(title=\"Factor 2\"),\n",
    "    ),\n",
    ")\n",
    "```\n",
    "\n",
    "13. 앱에 차트 반환\n",
    "\n",
    "```python\n",
    "return bar_chart, line_chart, scatter_plot\n",
    "```\n",
    "\n",
    "---\n",
    "\n",
    "**앱 실행 방법**\n",
    "\n",
    "1. 터미널을 열고 `app.py` 스크립트가 있는 디렉터리로 이동합니다.\n",
    "2. 다음 명령어를 실행합니다:\n",
    "   ```bash\n",
    "   python app.py\n",
    "   ```\n",
    "\n",
    "코드를 실행하면 앱이 시작되고 실행 중인 URL이 출력됩니다. 해당 URL로 이동하여 티커 목록을 입력하고 \"Submit\"을 누릅니다. 결과는 아래와 같은 모습일 것입니다."
   ]
  },
  {
   "cell_type": "markdown",
   "id": "749ab19f",
   "metadata": {},
   "source": [
    "### 작동 방식\n",
    "\n",
    "Plotly Dash의 **콜백(callback)** 은 애플리케이션 내 구성 요소를 연결하는 논리를 정의합니다. 이러한 콜백은 사용자 상호작용을 가능하게 하며, 특정 입력 구성 요소의 속성이 변경될 때마다 Dash에 의해 자동으로 실행되는 Python 함수를 의미합니다. 이 앱에서 콜백은 **`update_graphs`** 로 정의됩니다.\n",
    "\n",
    "**주요 작업:**\n",
    "\n",
    "1. **필요한 라이브러리 가져오기**  \n",
    "   분석 및 웹 앱 작성을 위해 다음과 같은 라이브러리를 가져옵니다:  \n",
    "   - **datetime**: 날짜 처리를 위해 사용  \n",
    "   - **NumPy**: 수치 연산을 위해 사용  \n",
    "   - **pandas**: 데이터 조작을 위해 사용  \n",
    "   - Dash 및 확장 패키지: 애플리케이션의 주요 구조를 제공합니다.  \n",
    "   - **dash_bootstrap_components**: 스타일링 지원  \n",
    "   - OpenBB: 주식 데이터를 가져오는 데 사용  \n",
    "   - **scikit-learn**의 PCA: 주성분 분석 수행  \n",
    "\n",
    "2. **기본 템플릿 및 Dash 앱 초기화**  \n",
    "   차트를 스타일링하기 위한 기본 템플릿을 선택하고, Bootstrap 테마를 사용하여 Dash 앱을 초기화합니다.  \n",
    "   \n",
    "3. **사용자 인터페이스 구성 요소 생성**  \n",
    "   - 티커 심볼을 입력하기 위한 텍스트 필드  \n",
    "   - 주성분 수를 선택하기 위한 드롭다운 메뉴  \n",
    "   - 날짜 범위를 지정하기 위한 날짜 선택기  \n",
    "   - 분석 시작을 위한 제출 버튼  \n",
    "   \n",
    "4. **UI 레이아웃 구성**  \n",
    "   이러한 구성 요소를 레이아웃에 정리합니다.\n",
    "\n",
    "**콜백 함수 구현**\n",
    "\n",
    "콜백 함수 **`update_graphs`** 는 사용자 입력을 시각화 출력과 연결합니다. 사용자가 제출 버튼을 누를 때마다 이 함수가 데이터를 가져오고, PCA를 수행하며, 시각화를 업데이트합니다. Dash의 **`callback`** 데코레이터를 사용하여 콜백을 정의합니다.  \n",
    "\n",
    "- **`Output`**: 콜백 함수 실행 후 업데이트할 구성 요소를 지정합니다.  \n",
    "- **`Input`**: 콜백이 청취할 구성 요소를 지정합니다.  \n",
    "- **`State`**: 함수 실행 없이 현재 값을 읽을 구성 요소를 지정합니다.  \n",
    "\n",
    "사용자가 제출 버튼을 클릭하면, **`update_graphs`** 가 호출되고, 지정된 구성 요소의 현재 값이 함수에 인수로 전달됩니다. 그런 다음 함수 내부의 논리가 실행되어 시각화 결과를 반환하며, 이는 지정된 **`Output`** 구성 요소에 렌더링됩니다.\n",
    "\n",
    "---\n",
    "\n"
   ]
  },
  {
   "cell_type": "markdown",
   "id": "e185e94f",
   "metadata": {},
   "source": [
    "### 더 알아보기...\n",
    "\n",
    "다양한 Python 라이브러리를 활용한 플로팅은 상황에 따라 서로 다른 장점을 제공합니다:\n",
    "- **pandas**: 데이터 조작에 탁월하지만, 간단한 시각화에 적합하며 상호작용 기능이 부족합니다.  \n",
    "- **Matplotlib**: 유연성과 커스터마이징 기능이 뛰어나지만, 일반적으로 상호작용 기능은 제한적입니다.  \n",
    "- **Seaborn**: Matplotlib 위에 구축되어 시각적 미학을 강화하고, 통계적 시각화에 특화된 기능을 제공합니다.  \n",
    "- **Plotly Express**: 현대적인 상호작용 중심의 라이브러리로, Plotly Dash와 같은 동적 환경에 적합합니다.\n",
    "\n",
    "---"
   ]
  },
  {
   "cell_type": "markdown",
   "id": "d4c944ef",
   "metadata": {},
   "source": [
    "### 참고 자료\n",
    "\n",
    "1. **PCA 설명**: [PCA 개요 - Wikipedia](https://en.wikipedia.org/wiki/Principal_component_analysis)  \n",
    "2. **Plotly Dash 사용자 가이드**: [Plotly Dash User Guide](https://dash.plotly.com)  \n",
    "\n",
    "---"
   ]
  }
 ],
 "metadata": {
  "jupytext": {
   "cell_metadata_filter": "-all",
   "main_language": "python",
   "notebook_metadata_filter": "-all"
  },
  "kernelspec": {
   "display_name": "Python 3 (ipykernel)",
   "language": "python",
   "name": "python3"
  },
  "language_info": {
   "codemirror_mode": {
    "name": "ipython",
    "version": 3
   },
   "file_extension": ".py",
   "mimetype": "text/x-python",
   "name": "python",
   "nbconvert_exporter": "python",
   "pygments_lexer": "ipython3",
   "version": "3.10.15"
  }
 },
 "nbformat": 4,
 "nbformat_minor": 5
}
