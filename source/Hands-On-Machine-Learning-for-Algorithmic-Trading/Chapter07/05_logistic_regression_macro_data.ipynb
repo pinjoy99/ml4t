{
 "cells": [
  {
   "cell_type": "code",
   "execution_count": null,
   "metadata": {
    "ExecuteTime": {
     "end_time": "2018-09-11T00:00:46.475222Z",
     "start_time": "2018-09-11T00:00:46.376415Z"
    }
   },
   "outputs": [],
   "source": [
    "import pandas as pd\n",
    "import statsmodels.api as sm\n",
    "import matplotlib.pyplot as plt"
   ]
  },
  {
   "cell_type": "code",
   "execution_count": null,
   "metadata": {
    "ExecuteTime": {
     "end_time": "2018-09-11T00:00:49.678008Z",
     "start_time": "2018-09-11T00:00:49.657404Z"
    }
   },
   "outputs": [],
   "source": [
    "%matplotlib inline\n",
    "plt.style.use('fivethirtyeight')"
   ]
  },
  {
   "cell_type": "markdown",
   "metadata": {},
   "source": [
    "## Data Set"
   ]
  },
  {
   "cell_type": "markdown",
   "metadata": {},
   "source": [
    "| Variable   | Description                                  | Transformation     |\n",
    "|------------|----------------------------------------------|--------------------|\n",
    "| realgdp    | Real gross domestic product                  | Annual Growth Rate |\n",
    "| realcons   | Real personal consumption expenditures       | Annual Growth Rate |\n",
    "| realinv    | Real gross private domestic investment       | Annual Growth Rate |\n",
    "| realgovt   | Real federal expenditures & gross investment | Annual Growth Rate |\n",
    "| realdpi    | Real private disposable income               | Annual Growth Rate |\n",
    "| m1         | M1 nominal money stock                       | Annual Growth Rate |\n",
    "| tbilrate   | Monthly 3 treasury bill rate                 | Level              |\n",
    "| unemp      | Seasonally adjusted unemployment rate (%)    | Level              |\n",
    "| infl       | Inflation rate                               | Level              |\n",
    "| realint    |  Real interest rate                          | Level              |"
   ]
  },
  {
   "cell_type": "code",
   "execution_count": null,
   "metadata": {
    "ExecuteTime": {
     "end_time": "2018-09-11T00:19:08.023207Z",
     "start_time": "2018-09-11T00:19:07.997822Z"
    }
   },
   "outputs": [],
   "source": [
    "data = pd.DataFrame(sm.datasets.macrodata.load().data)\n",
    "data.info()"
   ]
  },
  {
   "cell_type": "code",
   "execution_count": null,
   "metadata": {
    "ExecuteTime": {
     "end_time": "2018-09-11T00:19:08.236682Z",
     "start_time": "2018-09-11T00:19:08.210938Z"
    }
   },
   "outputs": [],
   "source": [
    "data.head()"
   ]
  },
  {
   "cell_type": "markdown",
   "metadata": {},
   "source": [
    "## Data Prep"
   ]
  },
  {
   "cell_type": "markdown",
   "metadata": {},
   "source": [
    "To obtain a binary target variable, we compute the 20-quarter rolling average of the annual growth rate of quarterly real GDP. We then assign 1 if current growth exceeds the moving average and 0 otherwise. Finally, we shift the indicator variables to align next quarter's outcome with the current quarter."
   ]
  },
  {
   "cell_type": "code",
   "execution_count": null,
   "metadata": {
    "ExecuteTime": {
     "end_time": "2018-09-11T00:19:13.382273Z",
     "start_time": "2018-09-11T00:19:13.378105Z"
    }
   },
   "outputs": [],
   "source": [
    "data['growth_rate'] = data.realgdp.pct_change(4)\n",
    "data['target'] = (data.growth_rate > data.growth_rate.rolling(20).mean()).astype(int).shift(-1)\n",
    "data.quarter = data.quarter.astype(int)"
   ]
  },
  {
   "cell_type": "code",
   "execution_count": null,
   "metadata": {
    "ExecuteTime": {
     "end_time": "2018-09-11T00:19:13.850353Z",
     "start_time": "2018-09-11T00:19:13.842291Z"
    }
   },
   "outputs": [],
   "source": [
    "data.target.value_counts()"
   ]
  },
  {
   "cell_type": "code",
   "execution_count": null,
   "metadata": {
    "ExecuteTime": {
     "end_time": "2018-09-11T00:19:33.400843Z",
     "start_time": "2018-09-11T00:19:33.364941Z"
    }
   },
   "outputs": [],
   "source": [
    "data.tail()"
   ]
  },
  {
   "cell_type": "code",
   "execution_count": null,
   "metadata": {
    "ExecuteTime": {
     "end_time": "2018-09-11T00:19:45.020789Z",
     "start_time": "2018-09-11T00:19:45.015620Z"
    }
   },
   "outputs": [],
   "source": [
    "pct_cols = ['realcons', 'realinv', 'realgovt', 'realdpi', 'm1']\n",
    "drop_cols = ['year', 'realgdp', 'pop', 'cpi', 'growth_rate']\n",
    "data.loc[:, pct_cols] = data.loc[:, pct_cols].pct_change(4)"
   ]
  },
  {
   "cell_type": "code",
   "execution_count": null,
   "metadata": {
    "ExecuteTime": {
     "end_time": "2018-09-11T00:19:45.533751Z",
     "start_time": "2018-09-11T00:19:45.514393Z"
    }
   },
   "outputs": [],
   "source": [
    "data = pd.get_dummies(data.drop(drop_cols, axis=1), columns=['quarter'], drop_first=True).dropna()"
   ]
  },
  {
   "cell_type": "code",
   "execution_count": null,
   "metadata": {
    "ExecuteTime": {
     "end_time": "2018-09-11T00:27:40.868588Z",
     "start_time": "2018-09-11T00:27:40.832772Z"
    }
   },
   "outputs": [],
   "source": [
    "data.head()"
   ]
  },
  {
   "cell_type": "code",
   "execution_count": null,
   "metadata": {
    "ExecuteTime": {
     "end_time": "2018-09-11T00:27:41.721540Z",
     "start_time": "2018-09-11T00:27:41.702945Z"
    }
   },
   "outputs": [],
   "source": [
    "data.info()"
   ]
  },
  {
   "cell_type": "markdown",
   "metadata": {},
   "source": [
    "We use an intercept and convert the quarter values to dummy variables and train the logistic regression model as follows:"
   ]
  },
  {
   "cell_type": "markdown",
   "metadata": {},
   "source": [
    "This produces the following summary for our model with 198 observations and 13 variables, including intercept:\n",
    "The summary indicates that the model has been trained using maximum likelihood and provides the maximized value of the log-likelihood function at -67.9."
   ]
  },
  {
   "cell_type": "code",
   "execution_count": null,
   "metadata": {
    "ExecuteTime": {
     "end_time": "2018-09-11T00:27:47.165219Z",
     "start_time": "2018-09-11T00:27:47.097723Z"
    }
   },
   "outputs": [],
   "source": [
    "data = pd.get_dummies(data.drop(drop_cols, axis=1), columns=['quarter'], drop_first=True).dropna()\n",
    "model = sm.Logit(data.target, sm.add_constant(data.drop('target', axis=1)))\n",
    "result = model.fit()\n",
    "result.summary()"
   ]
  },
  {
   "cell_type": "markdown",
   "metadata": {},
   "source": [
    "The LL-Null value of -136.42 is the result of the maximized log-likelihood function when only an intercept is included. It forms the basis for the pseudo-R2 statistic and the Log-Likelihood Ratio (LLR) test. \n",
    "The pseudo-R2 statistic is a substitute for the familiar R2 available under least squares. It is computed based on the ratio of the maximized log-likelihood function for the null model m0 and the full model m1 as follows:\n",
    "The values vary from 0 (when the model does not improve the likelihood) to 1 where the model fits perfectly and the log-likelihood is maximized at 0. Consequently, higher values indicate a better fit.\n"
   ]
  },
  {
   "cell_type": "code",
   "execution_count": null,
   "metadata": {
    "ExecuteTime": {
     "end_time": "2018-09-11T00:27:55.301259Z",
     "start_time": "2018-09-11T00:27:53.760224Z"
    }
   },
   "outputs": [],
   "source": [
    "plt.rc('figure', figsize=(12, 7))\n",
    "plt.text(0.01, 0.05, str(result.summary()), {'fontsize': 14}, fontproperties = 'monospace')\n",
    "plt.axis('off')\n",
    "plt.tight_layout()\n",
    "plt.subplots_adjust(left=0.2, right=0.8, top=0.8, bottom=0.1)\n",
    "plt.savefig('logistic_example.png', bbox_inches='tight', dpi=300);"
   ]
  },
  {
   "cell_type": "code",
   "execution_count": null,
   "metadata": {},
   "outputs": [],
   "source": []
  }
 ],
 "metadata": {
  "kernelspec": {
   "display_name": "Python 3 (ipykernel)",
   "language": "python",
   "name": "python3"
  },
  "language_info": {
   "codemirror_mode": {
    "name": "ipython",
    "version": 3
   },
   "file_extension": ".py",
   "mimetype": "text/x-python",
   "name": "python",
   "nbconvert_exporter": "python",
   "pygments_lexer": "ipython3",
   "version": "3.10.14"
  },
  "toc": {
   "base_numbering": 1,
   "nav_menu": {},
   "number_sections": true,
   "sideBar": true,
   "skip_h1_title": false,
   "title_cell": "Table of Contents",
   "title_sidebar": "Contents",
   "toc_cell": false,
   "toc_position": {},
   "toc_section_display": true,
   "toc_window_display": false
  }
 },
 "nbformat": 4,
 "nbformat_minor": 4
}
