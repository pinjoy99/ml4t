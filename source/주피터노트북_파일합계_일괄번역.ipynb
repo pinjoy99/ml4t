{
 "cells": [
  {
   "cell_type": "code",
   "execution_count": 1,
   "id": "33be73b5-f695-4ca1-bba2-f40bb9aa023d",
   "metadata": {},
   "outputs": [
    {
     "name": "stdout",
     "output_type": "stream",
     "text": [
      "다음 노트북이 병합됩니다.\n",
      "01_updating_conjugate_priors.ipynb\n",
      "02_pymc3_workflow.ipynb\n",
      "03_bayesian_sharpe_ratio.ipynb\n",
      "04_rolling_regression.ipynb\n",
      "05_stochastic_volatility.ipynb\n",
      "c.ipynb\n",
      "병합된 파일: 10_bayesian_machine_learning.ipynb\n"
     ]
    }
   ],
   "source": [
    "# 주피터 노트북 파일의 병합\n",
    "# 1. 먼저 병합 하려는 노트북 파일과 첨부 프로그램을 다운받아\n",
    "#    별도의 폴더를 만들어 한 곳에 모읍니다. \n",
    "#    파일이름 순으로 병합되므로 파일 이름을 잘 조정해 놓습니다.원본 파일은 변경되지 않습니다.\n",
    "# 2. 프로그램을 run하면 병합 파일이 생성됩니다. 병합된 결과 파일명은 \"merged.ipynb\" 입니다.\n",
    "\n",
    "import json\n",
    "import os\n",
    "\n",
    "def get_files():\n",
    "    # 병합할 노트북 파일의 list 만들기\n",
    "    notebooks_to_merge = [file.name for file in os.scandir() if file.name.endswith('.ipynb') and file.is_file()]\n",
    "\n",
    "    # 병합하는 노트북 파일을 정렬한다. 순서대로 병합하는 것으로 간주\n",
    "    notebooks_to_merge.sort()\n",
    "\n",
    "    print(\"다음 노트북이 병합됩니다.\")\n",
    "    for notebook in notebooks_to_merge:\n",
    "        print(notebook)\n",
    "    \n",
    "    return notebooks_to_merge\n",
    "\n",
    "def merge_notebooks(notebooks, merged_notebook):\n",
    "    \n",
    "    '''\n",
    "    parameters:\n",
    "    notebooks : 병합할 주피터노트북 파일들 이름\n",
    "    merged_notebook : 병합된 결과물 파일\n",
    "    returns : 없음\n",
    "    '''\n",
    "    with open (notebooks[0], mode = 'r', encoding = 'utf-8') as f:\n",
    "        base = json.load(f)\n",
    "    \n",
    "    for notebook in notebooks[1:]:\n",
    "        with open (notebook, mode = 'r', encoding = 'utf-8') as f:\n",
    "            add = json.load(f)\n",
    "            base['cells'].extend (add['cells']) \n",
    "     \n",
    "    with open(merged_notebook, mode='w', encoding='utf-8') as f:\n",
    "        json.dump(base, f)\n",
    "    \n",
    "    print(f'병합된 파일: {merged_notebook}')\n",
    "    \n",
    "notebooks_to_merge = get_files()\n",
    "nfile = os.getcwd().split('\\\\')[-1]\n",
    "merge_notebooks(notebooks_to_merge, f\"{nfile}.ipynb\")"
   ]
  },
  {
   "cell_type": "code",
   "execution_count": 29,
   "id": "8762b545-1500-45a6-9b50-edca57602d2c",
   "metadata": {},
   "outputs": [
    {
     "name": "stdout",
     "output_type": "stream",
     "text": [
      "./10_bayesian_machine_learning_jeong.ipynb 번역 완료\n"
     ]
    }
   ],
   "source": [
    "import os\n",
    "import json\n",
    "import openai\n",
    "from langchain.chat_models import ChatOpenAI\n",
    "from langchain.schema import HumanMessage, SystemMessage\n",
    "from langchain import PromptTemplate\n",
    "\n",
    "from dotenv import load_dotenv\n",
    "load_dotenv()\n",
    "\n",
    "# OpenAI API 키 설정\n",
    "\n",
    "filepath = './10_bayesian_machine_learning.ipynb'\n",
    "outpath = './10_bayesian_machine_learning_jeong.ipynb'\n",
    "\n",
    "\n",
    "prompt_template = PromptTemplate(\n",
    "    template=\"Translate the following text from English to Korean: {line}\",\n",
    "    input_variables=[\"line\"]\n",
    ")\n",
    "\n",
    "# ChatOpenAI 인스턴스 생성\n",
    "chat_openai = ChatOpenAI(openai_api_key=os.getenv('OPENAI_API_KEY'), model=\"gpt-3.5-turbo\")\n",
    "\n",
    "# .ipynb 파일 읽기\n",
    "with open(filepath, 'r', encoding='utf-8') as f:\n",
    "    notebook = json.load(f)\n",
    "\n",
    "# 각 셀의 내용 번역\n",
    "for cell in notebook['cells']:\n",
    "    if cell['cell_type'] == 'code':\n",
    "        # 코드 셀은 건너뛰기\n",
    "        continue\n",
    "\n",
    "    source = cell['source']\n",
    "    if isinstance(source, list):\n",
    "        # 여러 줄인 경우\n",
    "        translated = []\n",
    "        for line in source:\n",
    "            prompt = [HumanMessage(prompt_template.format(line=line))]\n",
    "            response = chat_openai(prompt)\n",
    "            translated.append(response.content.strip())\n",
    "    else:\n",
    "        # 한 줄인 경우\n",
    "        prompt = [HumanMessage(prompt_template.format(line=source))]\n",
    "        response = chat_openai(prompt)\n",
    "        translated = [response.content.strip()]\n",
    "\n",
    "    cell['source'] = translated\n",
    "\n",
    "# 번역된 내용으로 .ipynb 파일 저장\n",
    "with open(outpath, 'w', encoding='utf-8') as f:\n",
    "    json.dump(notebook, f, ensure_ascii=False, indent=4)\n",
    "\n",
    "print(f'{outpath} 번역 완료')"
   ]
  }
 ],
 "metadata": {
  "kernelspec": {
   "display_name": "lang310",
   "language": "python",
   "name": "lang310"
  },
  "language_info": {
   "codemirror_mode": {
    "name": "ipython",
    "version": 3
   },
   "file_extension": ".py",
   "mimetype": "text/x-python",
   "name": "python",
   "nbconvert_exporter": "python",
   "pygments_lexer": "ipython3",
   "version": "3.10.14"
  }
 },
 "nbformat": 4,
 "nbformat_minor": 5
}
