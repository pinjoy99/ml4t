{
 "cells": [
  {
   "cell_type": "markdown",
   "metadata": {},
   "source": [
    "# 크롤링을 위한 웹 기본지식\n",
    "\n",
    "> 크롤링 위해 사전에 알고 있으면 도움이 되는 인코딩, 웹의 동작 방식, HTML과 CSS에 대해 알아보자\n"
   ]
  },
  {
   "cell_type": "markdown",
   "metadata": {},
   "source": [
    "\n",
    "## 인코딩에 대한 이해\n",
    "\n",
    "### 인간과 컴퓨터 간 번역의 시작, ASCII\n",
    "\n",
    "- 한글이 포함된 엑셀이나 CSV 파일을 불러올 때, 혹은 한글로 된 데이터를 크롤링하면 오류가 뜨거나 읽을 수 없는 문자로 나타나는 경우 \n",
    "- 한글 인코딩 때문에 발생하는 문제이며, 이러한 현상을 흔히 '인코딩이 깨졌다'라고 표현\n",
    "     - 인코딩이란 언어를 컴퓨터 용 0과 1로 변환하는 과정, 반대의 과정을 디코딩\n",
    "\n",
    "- 최초로 사용된 방식이 아스키(ASCII: American Standard Code for Information Interchange)\n",
    "- 0부터 127까지 총 128개 바이트에 알파벳과 숫자, 특수문자 값 부여, 문자가 입력되면 이에 대응되는 바이트 저장. \n",
    "- 영어의 알파벳이 아닌 다른 문자를 표현하는 데 한계, 이를 보완하기 위한 여러 방법 등장\n",
    "\n",
    "![]( image/web/ascii_code.png)<br>\n",
    "아스키 코드 표\n",
    "\n",
    "\n",
    "### 한글 인코딩 방식의 종류\n",
    "\n",
    "- 한글을 인코딩 :  **EUC-KR**, **CP949**, **UTF-8** \n",
    "    - '퀀트'이라는 단어를 인코딩한다면 어떤 방법이 있을까?\n",
    "        - 먼저 '퀀'과 '트'라는 문자 자체에 해당하는 코드를 부여해 나타내는 방법 \n",
    "        - 아니면 이를 구성하는 모음과 자음을 나누어 'ㅋ','ㅜ','ㅓ','ㄴ','ㅌ','ㅡ' 각각에 해당하는 코드를 부여하고 이를 조합\n",
    "        - 전자와 같이 완성된 문자 자체로 나타내는 방법을 완성형, 후자와 같이 각 자모로 나타내는 방법을 조합형\n",
    "\n",
    "- **EUC-KR** : 현대 한글에서 많이 쓰이는 문자 2,350개에 번호를 붙인 방법\n",
    "- CP949 : 11,720개 한글 문자에 번호를 붙인 방법. 윈도우의 경우 기본 인코딩이 CP949로 되어있다.\n",
    "- **UTF-8**: 모음과 자음 각각에 코드를 부여한 후 조합. 전 세계 웹페이지의 대부분이 UTF-8로 생성\n",
    "\n",
    "\n",
    "![](image/web/encoding_ratio.png)<br>\n",
    "웹페이지에서 사용되는 인코딩 비율\n",
    "\n",
    "## 웹의 동작 방식\n",
    "\n",
    "- 크롤링은 웹사이트의 정보를 수집하는 과정이다. 따라서 웹이 어떻게 동작하는지 이해할 필요가 있다.\n",
    "\n",
    "- 클라이언트 :  데스크톱이나 휴대폰과 같은 장치와 크롬, 엣지 같은 소프트웨어\n",
    "- 서버 : 웹사이트와 앱을 저장하는 컴퓨터\n",
    "- 클라이언트가 특정 정보를 요구하는 과정을 '**요청**', 서버가 해당 정보를 제공하는 과정을 '**응답**'\n",
    "- 클라이언트와 서버가 연결되어 있지 않다면 둘 사이에 정보를 주고받을 수 없으며, 이를 연결하는 공간이 인터넷\n",
    "- 건물에도 고유의 주소가 있는 것처럼, 각 서버에도 고유의 주소가 있는데 이것이 인터넷 주소 혹은 URL\n",
    "\n",
    "> 네이버에서 경제 기사를 클릭하는 경우를 생각해보자. 클라이언트는 사용자인 여러분이고, 서버는 네이버이며, URL은 www.naver.com 이 된다. \n",
    "> - 경제 기사를 클릭하는 과정이 요청이며, 클릭 후 해당 페이지를 보여주는 과정이 응답\n",
    "\n",
    "![](image/web/web_str.png)<br>\n",
    "웹 환경 구조\n",
    "\n",
    "### HTTP\n",
    "\n",
    "- 클라이언트가 각기 다른 방법으로 데이터를 요청한다면, 서버는 해당 요청을 알아듣지 못할 것. → 약속, 표준에 맞추어 데이터 요청 필요 이러한 약속을 HTTP(HyperText Transfer Protocol)\n",
    "    - 클라이언트가 서버에게 요청의 목적이나 종류를 알리는 방법을 HTTP 요청 방식(HTTP Request Method)\n",
    "- HTTP 요청 방식은 크게 {numref}`http`와 같이 GET, POST, PUT, DELETE라는 네 가지로 나눌 수 있지만 \n",
    "- 크롤링에는 GET과 POST 방식 있음\n",
    "\n",
    "> HTTP 요청 방식과 설명\n",
    "\n",
    "| 요청방식 | 내용 | \n",
    "| --- | --- |\n",
    "| GET | 특정 정보 조회 |\n",
    "| POST | 새로운 정보 등록 |\n",
    "| PUT | 기존 특정 정보 갱신 |\n",
    "| DELETE | 기존 특정 정보 삭제 |\n",
    "\n",
    "\n",
    "- '**이 페이지를 볼 수 있는 권한이 없음(HTTP 오류 403 - 사용할 수 없음)**' 혹은 '**페이지를 찾을 수 없음(HTTP 오류 404 - 파일을 찾을 수 없음)**'이라는 오류\n",
    "- 403과 404라는 숫자는 클라이언트의 요청에 대한 서버의 응답 상태를 나타내는 HTTP 상태 코드\n",
    "    - HTTP 상태 코드는 100번대부터 500번대까지 있으며, 성공적으로 응답을 받을 시 200번 코드를 받음\n",
    "    - 각 코드에 대한 내용은 HTTP 상태 코드를 검색하면 확인할 수 있으며, 크롤링 과정에서 오류가 발생할 시 해당 코드를 통해 어떤 부분에서 오류가 발생했는지 확인 가능\n",
    "\n",
    "> HTTP 상태 코드 그룹 별 내용\n",
    "\n",
    "| 코드 | 상태 | 내용 | \n",
    "| --- | --- | --- |\n",
    "| 1xx |\tInformational (조건부 응답) | 리퀘스트를 받고, 처리 중에 있음 |\n",
    "| 2xx | Success (성공) | 리퀘스트를 정상적으로 처리함 |\n",
    "| 3xx | Redirection (리디렉션) | 리퀘스트 완료를 위해 추가 동작이 필요함 |\n",
    "| 4xx | Client Error (클라이언트 오류)\t| 클라이언트 요청을 처리할 수 없어 오류 발생 |\n",
    "| 5xx | Server Error (서버 오류) | 서버에서 처리를 하지 못하여 오류 발생 |\n",
    "\n",
    "\n",
    "## HTML과 CSS\n",
    "\n",
    "- 응답받은 정보를 사람이 확인하려면 보기 편한 방식으로 바꾸어줄 필요가 있는데 웹페이지가 그러한 역할\n",
    "- 웹페이지의 제목, 단락, 목록 등 레이아웃을 잡아주는 데 쓰이는 대표적인 마크업 언어가 HTML(HyperText Markup Language)\n",
    "- HTML을 통해 잡혀진 뼈대에 글자의 색상이나 폰트, 배경색, 배치 등 화면을 꾸며주는 역할을 하는 것이 CSS(Cascading Style Sheets)\n",
    "\n",
    "- 크롤링하고자 하는 데이터가 웹페이지의 어떤 태그 내에 위치하고 있는지, 어떻게 크롤링하면 될지 파악하기 위해서는 HTML과 CSS에 대한 기본적인 지식은 알아야 한다.\n",
    "- HTML과 CSS의 실습은 아래 페이지에서 해볼 수 있다.\n",
    "\n",
    "https://www.w3schools.com/html/tryit.asp?filename=tryhtml_intro\n",
    "\n",
    "\n",
    "### HTML 기본 구조\n",
    "\n",
    "- HTML은 크게 메타 데이터를 나타내는 head와 본문을 나타내는 body로 구성\n",
    "- head에서 title은 웹페이지에서 나타나는 제목을 나타내며 body 내에는 본문에 들어갈 각종 내용들이 포함 w3schools 사이트에서 아래 소스코드를 복사해 좌측에 붙여넣은 후, 상단의 [Run] 버튼을 클릭해보자."
   ]
  },
  {
   "cell_type": "raw",
   "metadata": {
    "deletable": false,
    "editable": false,
    "run_control": {
     "frozen": true
    }
   },
   "source": [
    "<html>\n",
    "<head>\n",
    "<title>Page Title</title>\n",
    "</head>\n",
    "\n",
    "<body>\n",
    "<h2> This is page heading </h2>\n",
    "<p> This is first paragraph text </p>\n",
    "</body>\n",
    "</html>"
   ]
  },
  {
   "cell_type": "markdown",
   "metadata": {},
   "source": [
    "![](image/web/html_1.png)<br>\n",
    "\n",
    "HTML 기본 구조\n",
    "\n",
    "\n",
    "- \\<head> 부분에 입력한 내역은 실습 페이지 구조 상 확인되지 않지만, \\<body> 부분에 입력한 글자들은 우측 결과물 페이지에서 확인 가능. \\<h2>와 \\<p> 등의 태그가 하는 역할들에 대해서 더욱 자세히 알아보도록 하겠다.\n",
    "    \n",
    "### 태그와 속성\n",
    "\n",
    "- HTML 코드는 태그와 속성, 내용으로 구성. 크롤링한 데이터에서 특정 태그의 데이터만을 찾는 방법, 특정 속성의 데이터만을 찾는 방법, 뽑은 자료에서 내용만을 찾는 방법 등 원하는 값을 찾는 방법이 모두 다름\n",
    "\n",
    "![](image/web/html_tag.png)<br>\n",
    "HTML 구성 요소 분석\n",
    "\n",
    "\n",
    "- 꺾쇠(<>)로 감싸져 있는 부분을 태그라고 하며, 여는 태그 <>가 있으면 반드시 이를 닫는 태그인 \\</>가 쌍으로 있어야 한다. \n",
    "- 속성은 해당 태그에 대한 추가적인 정보를 제공해주는 것으로, 뒤에 속성값이 따라와야 한다. 내용은 우리가 눈으로 보는 텍스트 부분을 의미\n",
    "- {numref}`html_tag`의 HTML 코드는 문단을 나타내는 \\<p> 태그, 정렬을 나타내는 align 속성과 center 속성값을 통해 가운데 정렬을 지정하며, 내용에는 '퀀트 투자'를 나타내고, \\</p> 태그를 통해 태그를 마침\n",
    "\n",
    "### h 태그와 p 태그\n",
    "\n",
    "- h 태그는 폰트의 크기를 나타내는 태그이며, p 태그는 문단을 나타내는 태그다. 이를 사용한 간단한 예제는 다음과 같다."
   ]
  },
  {
   "cell_type": "code",
   "execution_count": null,
   "metadata": {
    "deletable": false,
    "editable": false,
    "run_control": {
     "frozen": true
    }
   },
   "outputs": [],
   "source": [
    "<html>\n",
    "<body>\n",
    "\n",
    "<h1>Page heading: size 1</h1>\n",
    "<h2>Page heading: size 2</h2>\n",
    "<h3>Page heading: size 3</h3>\n",
    "\n",
    "<p>Quant Portfolio</p>\n",
    "<p>By Henry</p>\n",
    "\n",
    "</body>\n",
    "</html>"
   ]
  },
  {
   "cell_type": "markdown",
   "metadata": {},
   "source": [
    "![](image/web/html_2.png)<br>\n",
    "h 태그와 p 태그 예제\n",
    "\n",
    "\n",
    "- h 태그의 숫자가 작을수록 텍스트 크기는 커지며, 숫자는 1에서 6까지 지원. 또한 p 태그를 사용하면 각각의 문단이 생성\n",
    "\n",
    "### 리스트를 나타내는 ul 태그와 ol 태그\n",
    "\n",
    "- ul과 ol 태그는 리스트(글머리 기호)를 만들 때 사용. ul은 순서가 없는 리스트(unordered list), ol은 순서가 있는 리스트(ordered list)를 생성."
   ]
  },
  {
   "cell_type": "raw",
   "metadata": {
    "deletable": false,
    "editable": false,
    "run_control": {
     "frozen": true
    }
   },
   "source": [
    "<html>\n",
    "<body>\n",
    "\n",
    "<h2> Unordered List</h2>\n",
    "<ul>\n",
    "  <li>List 1</li>\n",
    "  <li>List 2</li>\n",
    "  <li>List 3</li>\n",
    "</ul>  \n",
    "\n",
    "<h2> Ordered List</h2>\n",
    "<ol>\n",
    "  <li>List A</li>\n",
    "  <li>List B</li>\n",
    "  <li>List C</li>\n",
    "  <li>List D</li>\n",
    " </ol> \n",
    "\n",
    "</body>\n",
    "</html>"
   ]
  },
  {
   "cell_type": "markdown",
   "metadata": {},
   "source": [
    "![](image/web/html_3.png)<br>\n",
    "리스트 관련 태그 예제\n",
    "\n",
    "\n",
    "- ul 태그로 감싼 부분은 글머리 기호가 순서가 없는 •으로 표현되며, ol 태그로 감싼 부분은 숫자가 순서대로 표현된다. 각각의 리스트는 li를 통해 생성\n",
    "\n",
    "### table 태그\n",
    "\n",
    "- table 태그는 표를 만드는 태그"
   ]
  },
  {
   "cell_type": "raw",
   "metadata": {
    "deletable": false,
    "editable": false,
    "run_control": {
     "frozen": true
    }
   },
   "source": [
    "<html>\n",
    "<body>\n",
    "\n",
    "<h2>Sample Table</h2>\n",
    "\n",
    "<table>\n",
    "  <tr>\n",
    "    <th>Column 1</th>\n",
    "    <th>Column 2</th>\n",
    "    <th>Column 3</th>    \n",
    "  </tr>\n",
    "  <tr>\n",
    "    <td>1</td>\n",
    "    <td>2</td>\n",
    "    <td>3</td>\n",
    "  </tr>\n",
    "  <tr>\n",
    "    <td>A</td>\n",
    "    <td>B</td>\n",
    "    <td>C</td>\n",
    "  </tr>\n",
    "  <tr>\n",
    "    <td>a</td>\n",
    "    <td>b</td>\n",
    "    <td>c</td>\n",
    "  </tr>\n",
    "</table>\n",
    "\n",
    "</body>\n",
    "</html>"
   ]
  },
  {
   "cell_type": "markdown",
   "metadata": {},
   "source": [
    "![](image/web/html_4.png)<br>\n",
    "\n",
    "리스트 관련 태그 예제\n",
    "\n",
    "- table 태그 내의 tr 태그는 각 행을 의미하며, 각 셀의 구분은 th 혹은 td 태그를 통해 구분 가능. th 태그는 진하게 표현되므로 주로 테이블의 제목에 사용되고, td 태그는 테이블의 내용에 사용된다.\n",
    "\n",
    "### a 태그와 img 태그 및 속성\n",
    "\n",
    "- a 태그와 img 태그는 다른 태그와는 다르게, 혼자 쓰이기보다는 속성과 결합해 사용. a 태그는 href 속성과 결합해 다른 페이지의 링크를 걸 수 있다. img 태그는 src 속성과 결합해 이미지를 로드"
   ]
  },
  {
   "cell_type": "raw",
   "metadata": {
    "deletable": false,
    "editable": false,
    "run_control": {
     "frozen": true
    }
   },
   "source": [
    "<html>\n",
    "<body>\n",
    "\n",
    "<h2>a tag & href attribute</h2>\n",
    "<p>HTML links are defined with the a tag.\n",
    "The link address is specified in the href attribute:</p>\n",
    "\n",
    "<a href=\"https://blog.naver.com/leebisu\">Henry's Quantopia</a>\n",
    "\n",
    "<h2>img tag & src attribute</h2>\n",
    "<p>HTML images are defined with the img tag,\n",
    "and the filename of the image source is\n",
    "specified in the src attribute:</p>\n",
    "\n",
    "<img src=\"https://www.python.org/static/img/python-logo.png\",\n",
    "width=\"200\",height=\"100\">\n",
    "\n",
    "</body>\n",
    "</html>"
   ]
  },
  {
   "cell_type": "markdown",
   "metadata": {},
   "source": [
    "![](image/web/html_5.png)<br>\n",
    "a 태그와 src 태그 예제\n",
    "\n",
    "\n",
    "- a 태그 뒤 href 속성에 연결하려는 웹페이지 주소를 속성값(https://blog.naver.com/leebisu)으로 입력한 후 내용(Henry's Quantopia)을 입력하면, 내용 텍스트에 웹페이지의 링크가 추가\n",
    "- img 태그 뒤 src 속성의 속성값에는 불러오려는 이미지 주소를 입력하며, width 속성과 height 속성을 통해 이미지의 가로 세로 길이를 조절 가능\n",
    "- 페이지 내에서 링크된 주소를 모두 찾거나, 모든 이미지를 저장하려고 할 때 속성값을 찾으면 손쉽게 원하는 작업 가능\n",
    "\n",
    "### div 태그\n",
    "\n",
    "- div 태그는 화면의 전체적인 틀(레이아웃)을 만들 때 주로 사용하는 태그. 단독으로도 사용될 수 있으며, 꾸밈을 담당하는 style 속성과 결합되어 사용 가능"
   ]
  },
  {
   "cell_type": "raw",
   "metadata": {
    "deletable": false,
    "editable": false,
    "run_control": {
     "frozen": true
    }
   },
   "source": [
    "<html>\n",
    "<body>\n",
    "\n",
    "<div style=\"background-color:black;color:white\">\n",
    "  <h5>First Div</h5>\n",
    "  <p>Black backgrond, White Color</p>\n",
    "</div> \n",
    "\n",
    "<div style=\"background-color:yellow;color:red\">\n",
    "  <h5>Second Div</h5>\n",
    "  <p>Yellow backgrond, Red Color</p>\n",
    "</div> \n",
    "\n",
    "<div style=\"background-color:blue;color:grey\">\n",
    "  <h5>Second Div</h5>\n",
    "  <p>Blue backgrond, Grey Color</p>\n",
    "</div> \n",
    "\n",
    "</body>\n",
    "</html>"
   ]
  },
  {
   "cell_type": "markdown",
   "metadata": {},
   "source": [
    "![]( image/web/html_6.png)\n",
    "<br>\n",
    "div 태그 예제\n",
    "\n",
    "\n",
    "- div 태그를 통해 총 세 개의 레이아웃으로 나누어진 것을 알 수 있다. style 속성 중 background-color는 배경 색상을, color는 글자 색상을 의미하며, 각 레이아웃마다 다른 스타일이 적용\n",
    "\n",
    "### CSS\n",
    "\n",
    "- CSS는 앞서 설명했듯이 웹페이지를 꾸며주는 역할을 한다. head에서 각 태그에 CSS 효과를 입력하면 본문의 모든 해당 태그에 CSS 효과가 적용된다. 이처럼 웹페이지를 꾸미기 위해 특정 요소에 접근하는 것을 셀렉터(Selector)라고 함"
   ]
  },
  {
   "cell_type": "raw",
   "metadata": {
    "deletable": false,
    "editable": false,
    "run_control": {
     "frozen": true
    }
   },
   "source": [
    "<html>\n",
    "<head>\n",
    "<style>\n",
    "body {background-color: powderblue;}\n",
    "h4   {color: blue;}\n",
    "</style>\n",
    "</head>\n",
    "<body>\n",
    "\n",
    "<h4>This is a heading</h4>\n",
    "<p>This is a first paragraph.</p>\n",
    "<p>This is a second paragraph.</p>\n",
    "\n",
    "</body>\n",
    "</html>"
   ]
  },
  {
   "cell_type": "markdown",
   "metadata": {},
   "source": [
    "![](image/web/html_7.png)<br>\n",
    "css 예제\n",
    "\n",
    "\n",
    "head의 style 태그에서 여러 CSS 효과가 정의되었다. 먼저 body의 전체 배경 색상을 powderblue로 설정했으며, h4 태그의 글자 색상은 파란색(blue)으로 설정했다. body 태그 내에서 style에 태그를 주지 않더라도, head에서 정의한 CSS 효과가 모두 적용된다.\n",
    "\n",
    "### 클래스와 id\n",
    "\n",
    "위의 예제에서 클래스 속성을 이용하면 특정 이름을 가진 클래스에 동일한 효과를 적용할 수 있다."
   ]
  },
  {
   "cell_type": "raw",
   "metadata": {
    "deletable": false,
    "editable": false,
    "run_control": {
     "frozen": true
    }
   },
   "source": [
    "<html>\n",
    "<style>\n",
    ".language {\n",
    "  background-color: tomato;\n",
    "  color: white;\n",
    "  padding: 10px;\n",
    "} \n",
    ".desc {\n",
    "  background-color: moccasin;\n",
    "  color: black;\n",
    "  padding: 10px;\n",
    "} \n",
    "</style>\n",
    "\n",
    "<div>\n",
    "<h2 class=\"language\">Python</h2>\n",
    "<p class=\"desc\"> Python is a high-level, general-purpose programming language.</p>\n",
    "</div>\n",
    "\n",
    "<div>\n",
    "<h2>SQL</h2>\n",
    "<p>SQL is a domain-specific language used in programming and designed for managing data held in a RDBMS, or for stream processing in a RDBMS. </p>\n",
    "</div>\n",
    "\n",
    "<div>\n",
    "<h2 class=\"language\">R</h2>\n",
    "<p class=\"desc\">R is a free software environment for statistical computing and graphics.</p>\n",
    "<div>\n",
    "</html>"
   ]
  },
  {
   "cell_type": "markdown",
   "metadata": {},
   "source": [
    "![](image/web/html_8.png)<br>\n",
    "class 예제\n",
    "\n",
    "- 셀렉터를 클래스에 적용할 때는 클래스명 앞에 마침표(.)를 붙여 표현\n",
    "    - 위 예제에서 language 클래스는 배경 색상이 tomato, 글자 색상은 흰색, 여백은 10px로 정의\n",
    "    - desc 클래스는 배경 색상이 moccasin, 글자 색상은 검은색, 여백은 10px로 정의\n",
    "    - 본문의 첫 번째(Python)와 세 번째(R) 레이아웃의 h2 태그 뒤에는 language 클래스를, p 태그 뒤에는 desc 클래스를 속성으로 입력\n",
    "    -  해당 레이아웃에만 CSS 효과가 적용되며, 클래스 값이 없는 두 번째 레이아웃에는 효과가 적용되지 않는다.\n",
    "\n",
    "- id 또한 이와 비슷한 역할을 한다. HTML 내에서 클래스는 여러 개가 정의될 수 있는 반면, id는 단 하나만 사용하기를 권장"
   ]
  },
  {
   "cell_type": "raw",
   "metadata": {
    "deletable": false,
    "editable": false,
    "run_control": {
     "frozen": true
    }
   },
   "source": [
    "<html>\n",
    "<head>\n",
    "<style>\n",
    "\n",
    "#myHeader {\n",
    "  background-color: lightblue;\n",
    "  color: black;\n",
    "  padding: 15px;\n",
    "  text-align: center;\n",
    "}\n",
    "\n",
    "</style>\n",
    "</head>\n",
    "<body>\n",
    "\n",
    "<h1 id=\"myHeader\">My Header</h1>\n",
    "\n",
    "</body>\n",
    "</html>"
   ]
  },
  {
   "cell_type": "markdown",
   "metadata": {},
   "source": [
    "![]( image/web/html_9.png)<br>\n",
    "class 예제\n",
    "\n",
    "\n",
    "- 셀렉터를 id에 적용할 때는 id명 앞에 샵(#)를 붙여 표현하며, 페이지에서 한 번만 사용된다는 점을 제외하면 클래스와 사용 방법이 거의 동일\n",
    "- 클래스나 id 값을 통해 원하는 내용을 크롤링하는 경우도 많으므로, 각각의 이름 앞에 마침표(.)와 샵(#) 을 붙여야 한다는 점을 꼭 기억해야 한다.\n",
    "\n",
    "> HTML과 관련해 추가적인 정보가 필요하거나 내용이 궁금하다면 아래 웹사이트를 참고하기 바란다.\n",
    "\n",
    "- w3schools: https://www.w3schools.in/html-tutorial/\n"
   ]
  },
  {
   "cell_type": "markdown",
   "metadata": {},
   "source": [
    "# 정적 크롤링 실습\n",
    "\n",
    "- 각종 금융 웹사이트에는 주가, 재무정보 등 우리가 원하는 대부분의 주식 정보가 제공되고 있으며, 크롤링을 통해 이러한 데이터를 수집할 수 있다. \n",
    "- 크롤링 혹은 스크래핑이란 웹사이트에서 원하는 정보를 수집하는 기술\n",
    "\n",
    "\n",
    "- 크롤링을 할 때 주의해야 할 점이 있다. 특정 웹사이트의 페이지를 쉬지 않고 크롤링하는 행위를 무한 크롤링이라고 한다. \n",
    "    - 무한 크롤링은 해당 웹사이트의 자원을 독점하게 되어 타인의 사용을 막게 되며 웹사이트에 부하를 준다. \n",
    "        - 일부 웹사이트에서는 동일한 IP로 쉬지 않고 크롤링을 할 경우 접속을 막아버리는 경우도 있다.\n",
    "        - 따라서 하나의 페이지를 크롤링한 후 1~2초 가량 정지하고 다시 다음 페이지를 크롤링하는 것이 좋다.\n",
    "\n",
    "- 신문기사나 책, 논문, 사진 등 저작권이 있는 자료를 통해 부당이득을 얻는다는 등의 행위를 할 경우 법적 제재를 받을 수 있다. \n",
    "- 이 책에서 설명하는 크롤링을 통해, 상업적 가치가 있는 데이터에 접근을 시도하여 발생할 수 있는 어떠한 상황에 대해서도 책임을 질 수 없다는 점을 명심하기 바란다.\n",
    "\n",
    "\n",
    "## GET과 POST 방식 이해하기\n",
    "\n",
    "- 우리가 인터넷에 접속해 서버에 파일을 요청(Request)하면, 서버는 이에 해당하는 파일을 우리에게 보내준다(Response). \n",
    "- 크롬과 같은 웹 브라우저는 이러한 과정을 사람이 수행하기 편하고 시각적으로 보기 편하도록 만들어진 것이며, 인터넷 주소는 서버의 주소를 기억하기 쉽게 만든 것이다. \n",
    "- 우리가 서버에 데이터를 요청하는 형태는 다양하지만 크롤링에서는 주로 GET과 POST 방식을 사용한다.\n",
    "\n",
    "![](image/crawl_basic/flow.png)<BR>\n",
    "클라이언트와 서버 간의 요청/응답 과정\n",
    "\n"
   ]
  },
  {
   "cell_type": "markdown",
   "metadata": {},
   "source": [
    "### GET 방식\n",
    "\n",
    "- GET 방식은 인터넷 주소를 기준으로 이에 해당하는 데이터나 파일을 요청하는 것\n",
    "- 주로 클라이언트가 요청하는 쿼리를 앰퍼샌드(&) 혹은 물음표(?) 형식으로 결합해 서버에 전달<BR><BR>\n",
    "\n",
    "- 네이버 홈페이지에 접속한 후 [퀀트]를 검색하면, 주소 끝부분에 [&query=퀀트]가 추가되며 이에 해당하는 페이지의 내용을 보여줌. \n",
    "- 즉, 해당 페이지는 GET 방식을 사용하고 있으며 입력 종류는 query, 입력값은 퀀트임을 알 수 있다.\n",
    "\n",
    "![](image/crawl_basic/naver_search_1.png)<BR>\n",
    "네이버 검색 결과\n",
    "\n",
    "\n",
    "- [헤지펀드]를 다시 검색하면, 주소 끝부분이 [&query=헤지펀드&oquery=퀀트...]로 변경된다. \n",
    "    - 현재 입력값은 헤지펀드, 기존 입력값은 퀀트이며 이러한 과정을 통해 연관검색어가 생성됨도 유추해볼 수 있다.\n",
    "\n",
    "![](image/crawl_basic/naver_search_2.png)<BR>\n",
    "네이버 재검색 결과\n",
    "```\n"
   ]
  },
  {
   "cell_type": "markdown",
   "metadata": {},
   "source": [
    "### POST 방식\n",
    "\n",
    "- POST 방식은 사용자가 필요한 값을 추가해서 요청하는 방법이다\n",
    "- GET 방식과 달리 클라이언트가 요청하는 쿼리를 body에 넣어서 전송하므로 요청 내역을 직접 볼 수 없다. \n",
    "동행복권 홈페이지에 접속해 [당첨결과] 메뉴를 확인해보자.\n",
    "\n",
    "- https://www.dhlottery.co.kr/gameResult.do?method=byWin\n",
    "\n",
    "![](image/crawl_basic/lotto.png)\n",
    "\n",
    "회차별 당첨번호\n",
    "\n",
    "\n",
    "- 이번엔 회차 바로가기를 변경한 후 [조회]를 클릭한다. 페이지의 내용은 선택일 기준으로 변경되었지만, 주소는 변경되지 않고 그대로 남아 있다.\n",
    "- GET 방식에서는 입력 항목에 따라 웹페이지 주소가 변경되었지만, POST 방식을 사용해 서버에 데이터를 요청하는 해당 웹사이트는 그렇지 않은 것을 알 수 있다.\n",
    "\n",
    "- POST 방식의 데이터 요청 과정을 살펴보려면 개발자도구를 이용해야 하며, 크롬에서는 [F12]키를 눌러 개발자도구 화면을 열 수 있다. \n",
    "    - 개발자도구 화면을 연 상태에서 다시 한번 [조회]를 클릭해보자.\n",
    "- [Network] 탭을 클릭하면, [조회]을 클릭함과 동시에 브라우저와 서버 간의 통신 과정을 살펴볼 수 있다. 이 중 상단의 gameResult.do?method=byWin 이라는 항목이 POST 형태임을 알 수 있다.\n",
    "\n",
    "![](image/crawl_basic/lotto_post.png)\n",
    "\n",
    "크롬 개발자도구의 Network 화면\n",
    "\n",
    "\n",
    "해당 메뉴를 클릭하면 통신 과정을 좀 더 자세히 알 수 있다. [Payload] 탭의 [Form Data]에는 서버에 데이터를 요청하는 내역이 있다. drwNo와 dwrNoList에는 선택한 회차의 숫자가 들어가있다.\n",
    "\n",
    "\n",
    "![](image/crawl_basic/lotto_query.png)\n",
    "\n",
    "\n",
    "- 이처럼 POST 방식은 요청하는 데이터에 대한 쿼리가 GET 방식처럼 URL을 통해 전송되는 것이 아닌 body를 통해 전송\n",
    "    - 이에 대한 정보는 웹 브라우저를 통해 확인할 수 없으며, 개발자도구 화면을 통해 확인해야 한다."
   ]
  },
  {
   "cell_type": "markdown",
   "metadata": {},
   "source": [
    "## 크롤링 예제\n",
    "\n",
    "- 일반적으로 크롤링은 {numref}`flowchart`의 과정을 따른다.\n",
    "- 먼저, request 패키지의 `get()` 혹은 `post()` 함수를 이용해 데이터를 요청한 후 HTML을 정보를 가져오며, \n",
    "- bs4 패키지의 함수들을 이용해 원하는 데이터를 찾는 과정으로 이루어진다. \n",
    "- 기본적인 크롤링을 시작으로 GET 방식과 POST 방식으로 데이터를 받는 예제를 학습해 보겠다.\n",
    "\n",
    "![](image/crawl_basic/flowchart.png)<BR>\n",
    "\n",
    "일반적인 크롤링 과정\n",
    "\n",
    "\n",
    "### 명언 크롤링하기\n",
    "\n",
    "크롤링의 간단한 예제로 'Quotes to Scrape' 사이트에 있는 명언을 수집하겠다.\n",
    "\n",
    "\n",
    "https://quotes.toscrape.com/\n",
    "\n",
    "\n",
    "> 해당사이트에 접속한 후, 명언에 해당하는 부분에 마우스 커서를 올려둔 후 마우스 오른쪽 버튼을 클릭하고 [검사]를 선택하면 개발자도구 화면이 나타난다. 여기서 해당 글자가 HTML 내에서 어떤 부분에 위치하는지 확인할 수 있다.\n",
    "\n",
    "- 각 네모에 해당하는 부분: [class가 quote인 div 태그]\n",
    "- 명언: 위의 태그 하부의 [class가 text인 span 태그]\n",
    "- 말한 사람은 [span 태그 하단의 class가 author인 small 태그]\n",
    "- 말한 사람에 대한 정보인 about의 링크: [a 태그 href 속성]의 속성값\n",
    "\n",
    "![](image/crawl_basic/quote.png)<BR>\n",
    "\n",
    "Quotes to Scrape의 명언부분 HTML \n",
    "\n",
    "> 이제 위의 내용을 하나씩 크롤링 해보도록 하자. 먼저 해당 페이지의 내용을 불러온다."
   ]
  },
  {
   "cell_type": "code",
   "execution_count": 1,
   "metadata": {},
   "outputs": [
    {
     "name": "stdout",
     "output_type": "stream",
     "text": [
      "<Response [200]>\n"
     ]
    }
   ],
   "source": [
    "import requests as rq\n",
    "\n",
    "url = 'https://quotes.toscrape.com/'\n",
    "quote = rq.get(url)\n",
    "\n",
    "print(quote)"
   ]
  },
  {
   "cell_type": "markdown",
   "metadata": {},
   "source": [
    "- url에 해당 주소를 입력한 후 `get()` 함수를 이용해 해당 페이지의 내용을 받았다. 이를 확인해보면 Response가 200, 즉 데이터가 이상 없이 받아졌음이 확인된다."
   ]
  },
  {
   "cell_type": "code",
   "execution_count": 2,
   "metadata": {},
   "outputs": [
    {
     "data": {
      "text/plain": [
       "b'<!DOCTYPE html>\\n<html lang=\"en\">\\n<head>\\n\\t<meta charset=\"UTF-8\">\\n\\t<title>Quotes to Scrape</title>\\n    <link rel=\"stylesheet\" href=\"/static/bootstrap.min.css\">\\n    <link rel=\"stylesheet\" href=\"/static/main.css\">\\n</head>\\n<body>\\n    <div class=\"container\">\\n        <div class=\"row header-box\">\\n            <div class=\"col-md-8\">\\n                <h1>\\n                    <a href=\"/\" style=\"text-decoration: none\">Quotes to Scrape</a>\\n                </h1>\\n            </div>\\n            <div class=\"col-md-4\">\\n                <p>\\n                \\n                    <a href=\"/login\">Login</a>\\n                \\n                </p>\\n            </div>\\n        </div>\\n    \\n\\n<div class=\"row\">\\n    <div class=\"col-md-8\">\\n\\n    <div class=\"quote\" itemscope itemtype=\"http://schema.org/CreativeWork\">\\n        <span class=\"text\" itemprop=\"text\">\\xe2\\x80\\x9cThe world as we have created it is a process of our thinking. It cannot be changed without changing our thinking.\\xe2\\x80\\x9d</span>\\n        <span>by <small class=\"author\" it'"
      ]
     },
     "execution_count": 2,
     "metadata": {},
     "output_type": "execute_result"
    }
   ],
   "source": [
    "quote.content[:1000]"
   ]
  },
  {
   "cell_type": "markdown",
   "metadata": {},
   "source": [
    "- `content`를 통해 함수를 통해 받아온 내용을 확인할 수 있으며, 텍스트 형태로 이루어져있다. `BeautifulSoup()` 함수를 이용해 원하는 HTML 요소에 접근하기 쉬운 BeautifulSoup 객체로 변경할 수 있다."
   ]
  },
  {
   "cell_type": "code",
   "execution_count": 3,
   "metadata": {},
   "outputs": [
    {
     "data": {
      "text/plain": [
       "[<meta charset=\"utf-8\"/>,\n",
       " <title>Quotes to Scrape</title>,\n",
       " <link href=\"/static/bootstrap.min.css\" rel=\"stylesheet\"/>,\n",
       " <link href=\"/static/main.css\" rel=\"stylesheet\"/>]"
      ]
     },
     "execution_count": 3,
     "metadata": {},
     "output_type": "execute_result"
    }
   ],
   "source": [
    "from bs4 import BeautifulSoup\n",
    "\n",
    "quote_html = BeautifulSoup(quote.content, 'html.parser')\n",
    "quote_html.head()"
   ]
  },
  {
   "cell_type": "markdown",
   "metadata": {},
   "source": [
    "- `BeautifulSoup()` 함수 내에 HTML 정보에 해당하는 `quote.content`와 파싱 방법에 해당하는 `html.parser`를 입력하면 \n",
    "    - 개발자도구 화면에서 보던 것과 비슷한 형태인 BeautifulSoup 객체로 변경되며, 이를 통해 원하는 요소의 데이터를 읽어올 수 있다.\n",
    "\n",
    "\n",
    "> `BeautifulSoup()` 함수는 다양한 파서를 지원하며, 그 내용은 다음과 같다.\n",
    "\n",
    "| Parser | 선언방법 | 장점 | 단점 |\n",
    "| --- | --- | --- | --- |\n",
    "| html.parser | `BeautifulSoup(내용, 'html.parser')` | 설치할 필요 없음 <br> 적당한 속도 | \n",
    "| lxml HTML parser | `BeautifulSoup(내용, 'lxml')` | 매우 빠름 | lxml 추가 설치 필요 |\n",
    "| lxml XML parser | `BeautifulSoup(내용, 'xml')` | 매우 빠름 <br> 유일하게 XML 파싱 | lxml 추가 설치 필요 |\n",
    "| html5lib | `BeautifulSoup(내용, 'html5lib')` | 웹 브라우저와 같은 방식으로 페이지 파싱. <br> 유효한 HTML5 생성 | html5lib 추가 설치 필요 <br> 매우 느림 |"
   ]
  },
  {
   "cell_type": "markdown",
   "metadata": {},
   "source": [
    "#### `find()` 함수 이용\n",
    "> 먼저 BeautifulSoup 모듈의 `find()` 함수를 통해 크롤링 하는법을 알아보자. \n",
    "- 우리는 개발자도구 화면에서 명언에 해당하는 부분이 [class가 quote인 div 태그 → class가 text인 span 태그]에 위치하고 있음을 살펴보았다.\n",
    "- 이를 활용해 명언만을 추출하는 방법은 다음과 같다."
   ]
  },
  {
   "cell_type": "code",
   "execution_count": 4,
   "metadata": {},
   "outputs": [
    {
     "data": {
      "text/plain": [
       "<div class=\"quote\" itemscope=\"\" itemtype=\"http://schema.org/CreativeWork\">\n",
       "<span class=\"text\" itemprop=\"text\">“The world as we have created it is a process of our thinking. It cannot be changed without changing our thinking.”</span>\n",
       "<span>by <small class=\"author\" itemprop=\"author\">Albert Einstein</small>\n",
       "<a href=\"/author/Albert-Einstein\">(about)</a>\n",
       "</span>\n",
       "<div class=\"tags\">\n",
       "            Tags:\n",
       "            <meta class=\"keywords\" content=\"change,deep-thoughts,thinking,world\" itemprop=\"keywords\"/>\n",
       "<a class=\"tag\" href=\"/tag/change/page/1/\">change</a>\n",
       "<a class=\"tag\" href=\"/tag/deep-thoughts/page/1/\">deep-thoughts</a>\n",
       "<a class=\"tag\" href=\"/tag/thinking/page/1/\">thinking</a>\n",
       "<a class=\"tag\" href=\"/tag/world/page/1/\">world</a>\n",
       "</div>\n",
       "</div>"
      ]
     },
     "execution_count": 4,
     "metadata": {},
     "output_type": "execute_result"
    }
   ],
   "source": [
    "quote_div = quote_html.find_all('div', class_='quote')\n",
    "\n",
    "quote_div[0]"
   ]
  },
  {
   "cell_type": "markdown",
   "metadata": {},
   "source": [
    "- `find_all()` 함수를 이용할 경우 원하는 태그의 내용들을 찾아올 수 있다. \n",
    "    - 먼저 태그에 해당하는 'div'를 입력하고, class 이름인 'quote'를 입력한다. \n",
    "    - class라는 키워드는 파이썬에서 클래스를 만들 때 사용하는 키워드이므로 언더바(\\_)를 통해 중복을 피해준다. \n",
    "    - 조건에 만족하는 결과가 리스트 형태로 반환되므로, 첫번째 내용만 확인해보면 `div class=\"quote\"`에 해당하는 내용을 찾아왔으며, \n",
    "    - 이제 여기서 [class가 text인 span 태그]에 해당하는 내용을 추가로 찾도록 하자."
   ]
  },
  {
   "cell_type": "code",
   "execution_count": 5,
   "metadata": {},
   "outputs": [
    {
     "data": {
      "text/plain": [
       "[<span class=\"text\" itemprop=\"text\">“The world as we have created it is a process of our thinking. It cannot be changed without changing our thinking.”</span>]"
      ]
     },
     "execution_count": 5,
     "metadata": {},
     "output_type": "execute_result"
    }
   ],
   "source": [
    "quote_span = quote_div[0].find_all('span', class_='text')\n",
    "\n",
    "quote_span"
   ]
  },
  {
   "cell_type": "markdown",
   "metadata": {},
   "source": [
    "- 다시 한번 `find_all()` 함수를 이용해 원하는 부분(`'span', class_='text'`)을 입력하면 우리가 원하던 명언에 해당하는 내용이 찾아진다."
   ]
  },
  {
   "cell_type": "code",
   "execution_count": 6,
   "metadata": {},
   "outputs": [
    {
     "data": {
      "text/plain": [
       "'“The world as we have created it is a process of our thinking. It cannot be changed without changing our thinking.”'"
      ]
     },
     "execution_count": 6,
     "metadata": {},
     "output_type": "execute_result"
    }
   ],
   "source": [
    "quote_span[0].text"
   ]
  },
  {
   "cell_type": "markdown",
   "metadata": {},
   "source": [
    "- 결과물 마지막에 `.text`를 입력하면 텍스트 데이터만을 출력할 수 있다. for문 중에서 리스트 내포 형태를 이용하여 명언에 해당하는 부분을 한번에 추출해보도록 하자."
   ]
  },
  {
   "cell_type": "code",
   "execution_count": 7,
   "metadata": {},
   "outputs": [
    {
     "data": {
      "text/plain": [
       "['“The world as we have created it is a process of our thinking. It cannot be changed without changing our thinking.”',\n",
       " '“It is our choices, Harry, that show what we truly are, far more than our abilities.”',\n",
       " '“There are only two ways to live your life. One is as though nothing is a miracle. The other is as though everything is a miracle.”',\n",
       " '“The person, be it gentleman or lady, who has not pleasure in a good novel, must be intolerably stupid.”',\n",
       " \"“Imperfection is beauty, madness is genius and it's better to be absolutely ridiculous than absolutely boring.”\",\n",
       " '“Try not to become a man of success. Rather become a man of value.”',\n",
       " '“It is better to be hated for what you are than to be loved for what you are not.”',\n",
       " \"“I have not failed. I've just found 10,000 ways that won't work.”\",\n",
       " \"“A woman is like a tea bag; you never know how strong it is until it's in hot water.”\",\n",
       " '“A day without sunshine is like, you know, night.”']"
      ]
     },
     "execution_count": 7,
     "metadata": {},
     "output_type": "execute_result"
    }
   ],
   "source": [
    "quote_div = quote_html.find_all('div', class_ = 'quote')\n",
    "\n",
    "[i.find_all('span', class_ ='text')[0].text for i in quote_div]"
   ]
  },
  {
   "cell_type": "markdown",
   "metadata": {},
   "source": [
    "> `find_all()` 함수가 아닌 `find()` 함수를 사용하면 해당 태그의 첫번째 내용만을 가져온다.\n",
    "\n"
   ]
  },
  {
   "cell_type": "markdown",
   "metadata": {},
   "source": [
    "#### `select()` 함수 이용\n",
    "\n",
    "- 데이터가 존재하는 곳의 태그를 여러번 찾아 내려가야 할 경우 `find_all()` 함수를 이용하는 방법은 매우 번거롭다. \n",
    "- `select()` 함수의 경우 좀더 쉬운 방법으로 원하는 데이터가 존재하는 태그를 입력할 수 있다. \n",
    "- 위의 동일한 내용을 `select()` 함수를 이용해 크롤링해보도록 하자."
   ]
  },
  {
   "cell_type": "code",
   "execution_count": null,
   "metadata": {},
   "outputs": [
    {
     "data": {
      "text/plain": [
       "[<span class=\"text\" itemprop=\"text\">“The world as we have created it is a process of our thinking. It cannot be changed without changing our thinking.”</span>,\n",
       " <span class=\"text\" itemprop=\"text\">“It is our choices, Harry, that show what we truly are, far more than our abilities.”</span>,\n",
       " <span class=\"text\" itemprop=\"text\">“There are only two ways to live your life. One is as though nothing is a miracle. The other is as though everything is a miracle.”</span>,\n",
       " <span class=\"text\" itemprop=\"text\">“The person, be it gentleman or lady, who has not pleasure in a good novel, must be intolerably stupid.”</span>,\n",
       " <span class=\"text\" itemprop=\"text\">“Imperfection is beauty, madness is genius and it's better to be absolutely ridiculous than absolutely boring.”</span>,\n",
       " <span class=\"text\" itemprop=\"text\">“Try not to become a man of success. Rather become a man of value.”</span>,\n",
       " <span class=\"text\" itemprop=\"text\">“It is better to be hated for what you are than to be loved for what you are not.”</span>,\n",
       " <span class=\"text\" itemprop=\"text\">“I have not failed. I've just found 10,000 ways that won't work.”</span>,\n",
       " <span class=\"text\" itemprop=\"text\">“A woman is like a tea bag; you never know how strong it is until it's in hot water.”</span>,\n",
       " <span class=\"text\" itemprop=\"text\">“A day without sunshine is like, you know, night.”</span>]"
      ]
     },
     "execution_count": 11,
     "metadata": {},
     "output_type": "execute_result"
    }
   ],
   "source": [
    "quote_text = quote_html.select('div.quote > span.text')\n",
    "\n",
    "quote_text"
   ]
  },
  {
   "cell_type": "markdown",
   "metadata": {},
   "source": [
    "`select()` 함수 내에 찾고자 하는 태그를 입력하며, 클래스명이 존재할 경우 점(.)을 붙여준다. 또한 여러 태그를 찾아 내려가야할 경우 `>` 기호를 이용해 순서대로 입력해주면 된다. 즉 'div.quote > span.text'는 [class가 quote인 div 태그] 중에서 [class가 text인 span 태그]를 찾는다. 이제 텍스트 데이터만 추출해보도록 하자."
   ]
  },
  {
   "cell_type": "code",
   "execution_count": 9,
   "metadata": {},
   "outputs": [
    {
     "data": {
      "text/plain": [
       "['“The world as we have created it is a process of our thinking. It cannot be changed without changing our thinking.”',\n",
       " '“It is our choices, Harry, that show what we truly are, far more than our abilities.”',\n",
       " '“There are only two ways to live your life. One is as though nothing is a miracle. The other is as though everything is a miracle.”',\n",
       " '“The person, be it gentleman or lady, who has not pleasure in a good novel, must be intolerably stupid.”',\n",
       " \"“Imperfection is beauty, madness is genius and it's better to be absolutely ridiculous than absolutely boring.”\",\n",
       " '“Try not to become a man of success. Rather become a man of value.”',\n",
       " '“It is better to be hated for what you are than to be loved for what you are not.”',\n",
       " \"“I have not failed. I've just found 10,000 ways that won't work.”\",\n",
       " \"“A woman is like a tea bag; you never know how strong it is until it's in hot water.”\",\n",
       " '“A day without sunshine is like, you know, night.”']"
      ]
     },
     "execution_count": 9,
     "metadata": {},
     "output_type": "execute_result"
    }
   ],
   "source": [
    "quote_text_list = [i.text for i in quote_text]\n",
    "\n",
    "quote_text_list"
   ]
  },
  {
   "cell_type": "markdown",
   "metadata": {},
   "source": [
    "`find_all()` 함수를 이용한 것 보다 훨씬 간단하게 원하는 데이터를 찾을 수 있었다.\n",
    "\n",
    "이번에는 명언을 말한 사람 역시 크롤링해보도록 하자. 해당 데이터는 [class가 quote인 div 태그] 하단의 [span 태그], 다시 하단의 [class가 author인 small 태그]에 위치하고 있다."
   ]
  },
  {
   "cell_type": "code",
   "execution_count": 10,
   "metadata": {},
   "outputs": [
    {
     "data": {
      "text/plain": [
       "['Albert Einstein',\n",
       " 'J.K. Rowling',\n",
       " 'Albert Einstein',\n",
       " 'Jane Austen',\n",
       " 'Marilyn Monroe',\n",
       " 'Albert Einstein',\n",
       " 'André Gide',\n",
       " 'Thomas A. Edison',\n",
       " 'Eleanor Roosevelt',\n",
       " 'Steve Martin']"
      ]
     },
     "execution_count": 10,
     "metadata": {},
     "output_type": "execute_result"
    }
   ],
   "source": [
    "quote_author = quote_html.select('div.quote > span > small.author')\n",
    "quote_author_list = [i.text for i in quote_author]\n",
    "\n",
    "quote_author_list"
   ]
  },
  {
   "cell_type": "markdown",
   "metadata": {},
   "source": [
    "위와 동일한 방법을 이용해 말한 사람 역시 손쉽게 추출이 가능합니다.\n",
    "\n",
    "마지막으로 말한 사람에 대한 정보인 (about)에 해당하는 링크도 추출해보자. 해당 주소는 [class가 quote인 div 태그] 하단의 [span 태그], 다시 하단의 [a 태그의 href 속성] 중 속성값에 위치하고 있다."
   ]
  },
  {
   "cell_type": "code",
   "execution_count": 11,
   "metadata": {},
   "outputs": [
    {
     "data": {
      "text/plain": [
       "[<a href=\"/author/Albert-Einstein\">(about)</a>,\n",
       " <a href=\"/author/J-K-Rowling\">(about)</a>,\n",
       " <a href=\"/author/Albert-Einstein\">(about)</a>,\n",
       " <a href=\"/author/Jane-Austen\">(about)</a>,\n",
       " <a href=\"/author/Marilyn-Monroe\">(about)</a>,\n",
       " <a href=\"/author/Albert-Einstein\">(about)</a>,\n",
       " <a href=\"/author/Andre-Gide\">(about)</a>,\n",
       " <a href=\"/author/Thomas-A-Edison\">(about)</a>,\n",
       " <a href=\"/author/Eleanor-Roosevelt\">(about)</a>,\n",
       " <a href=\"/author/Steve-Martin\">(about)</a>]"
      ]
     },
     "execution_count": 11,
     "metadata": {},
     "output_type": "execute_result"
    }
   ],
   "source": [
    "quote_link = quote_html.select('div.quote > span > a')\n",
    "\n",
    "quote_link"
   ]
  },
  {
   "cell_type": "markdown",
   "metadata": {},
   "source": [
    "이 중에서 우리는 속성값에 해당하는 정보만 필요하다. 속성값의 경우 HTML 정보 뒤에 ['속성']을 입력하면 추출할 수 있다."
   ]
  },
  {
   "cell_type": "code",
   "execution_count": 12,
   "metadata": {},
   "outputs": [
    {
     "data": {
      "text/plain": [
       "'/author/Albert-Einstein'"
      ]
     },
     "execution_count": 12,
     "metadata": {},
     "output_type": "execute_result"
    }
   ],
   "source": [
    "quote_link[0]['href']"
   ]
  },
  {
   "cell_type": "markdown",
   "metadata": {},
   "source": [
    "모든 속성값을 한 번에 추출한 후, 완전한 URL을 만들기 위해 주소 부분도 합쳐주도록 하자."
   ]
  },
  {
   "cell_type": "code",
   "execution_count": 13,
   "metadata": {},
   "outputs": [
    {
     "data": {
      "text/plain": [
       "['https://quotes.toscrape.com/author/Albert-Einstein',\n",
       " 'https://quotes.toscrape.com/author/J-K-Rowling',\n",
       " 'https://quotes.toscrape.com/author/Albert-Einstein',\n",
       " 'https://quotes.toscrape.com/author/Jane-Austen',\n",
       " 'https://quotes.toscrape.com/author/Marilyn-Monroe',\n",
       " 'https://quotes.toscrape.com/author/Albert-Einstein',\n",
       " 'https://quotes.toscrape.com/author/Andre-Gide',\n",
       " 'https://quotes.toscrape.com/author/Thomas-A-Edison',\n",
       " 'https://quotes.toscrape.com/author/Eleanor-Roosevelt',\n",
       " 'https://quotes.toscrape.com/author/Steve-Martin']"
      ]
     },
     "execution_count": 13,
     "metadata": {},
     "output_type": "execute_result"
    }
   ],
   "source": [
    "['https://quotes.toscrape.com' + i['href'] for i in quote_link]"
   ]
  },
  {
   "cell_type": "markdown",
   "metadata": {},
   "source": [
    "#### 모든 페이지 데이터 크롤링하기\n",
    "\n",
    "- 화면 하단의 [Next→] 부분을 클릭하면 URL이 https://quotes.toscrape.com/page/2/ 로 바뀌며 다음 페이지의 내용 넘어감\n",
    "- 이처럼 웹페이지 하단에서 다음 페이지 혹은 이전 페이지로 넘어가게 해주는 것을 페이지네이션\n",
    "\n",
    "![](image/crawl_basic/pagination.png)<br>\n",
    "페이지네이션\n",
    "\n",
    "\n",
    "- URL의 'page/' 뒤에 위치하는 숫자를 for문을 이용해 바꿔준다면, 모든 페이지의 데이터를 크롤링 가능"
   ]
  },
  {
   "cell_type": "code",
   "execution_count": 19,
   "metadata": {},
   "outputs": [],
   "source": [
    "import requests as rq\n",
    "from bs4 import BeautifulSoup\n",
    "import time\n",
    "\n",
    "text_list = []\n",
    "author_list = []\n",
    "infor_list = []\n",
    "\n",
    "for i in range(1, 100):\n",
    "\n",
    "    url = f'https://quotes.toscrape.com/page/{i}/'\n",
    "    quote = rq.get(url)\n",
    "    quote_html = BeautifulSoup(quote.content, 'html.parser')\n",
    "\n",
    "    quote_text = quote_html.select('div.quote > span.text')\n",
    "    quote_text_list = [i.text for i in quote_text]\n",
    "\n",
    "    quote_author = quote_html.select('div.quote > span > small.author')\n",
    "    quote_author_list = [i.text for i in quote_author]\n",
    "    \n",
    "    quote_link = quote_html.select('div.quote > span > a')\n",
    "    qutoe_link_list = ['https://quotes.toscrape.com' + i['href'] for i in quote_link]\n",
    "\n",
    "    if len(quote_text_list) > 0:\n",
    "\n",
    "        text_list.extend(quote_text_list)\n",
    "        author_list.extend(quote_author_list)        \n",
    "        infor_list.extend(qutoe_link_list)        \n",
    "        time.sleep(1)\n",
    "\n",
    "    else:\n",
    "        break"
   ]
  },
  {
   "cell_type": "markdown",
   "metadata": {},
   "source": [
    "1. 명언과 말한 사람, 링크가 들어갈 빈 리스트(text_list, author_list, infor_list)를 만든다.\n",
    "2. for문을 1부터 100까지 적용하여 URL을 생성한다.\n",
    "3. HTML 정보를 받아온 후 `BeautifulSoup()` 함수를 통해 파싱한다.\n",
    "4. 명언과 말한 사람, 링크에 해당하는 내용을 각각 추출한다.\n",
    "5. 해당 웹페이지는 10페이지까지 데이터가 존재하며, 11페이지부터는 아무런 내용이 없다. 그러나 이러한 정보는 사전에 알 수 없기에 만약 데이터가 있는 경우 위에서 생성한 리스트에 `extend()` 함수를 사용하여 데이터를 추가하며, 그렇지 않을 경우 `break`를 통해 for문을 종료한다.\n",
    "6. 한 번 루프가 돌때마다 1초간 정지를 준다.\n",
    "\n",
    "text_list와 author_list, infor_list를 확인해보면 모든 페이지의 내용이 저장되어 있다. 이제 크롤링 한 내용을 데이터프레임 형태로 만들도록 한다."
   ]
  },
  {
   "cell_type": "code",
   "execution_count": 20,
   "metadata": {},
   "outputs": [
    {
     "data": {
      "text/html": [
       "<div>\n",
       "<style scoped>\n",
       "    .dataframe tbody tr th:only-of-type {\n",
       "        vertical-align: middle;\n",
       "    }\n",
       "\n",
       "    .dataframe tbody tr th {\n",
       "        vertical-align: top;\n",
       "    }\n",
       "\n",
       "    .dataframe thead th {\n",
       "        text-align: right;\n",
       "    }\n",
       "</style>\n",
       "<table border=\"1\" class=\"dataframe\">\n",
       "  <thead>\n",
       "    <tr style=\"text-align: right;\">\n",
       "      <th></th>\n",
       "      <th>text</th>\n",
       "      <th>author</th>\n",
       "      <th>infor</th>\n",
       "    </tr>\n",
       "  </thead>\n",
       "  <tbody>\n",
       "    <tr>\n",
       "      <th>0</th>\n",
       "      <td>“The world as we have created it is a process ...</td>\n",
       "      <td>Albert Einstein</td>\n",
       "      <td>https://quotes.toscrape.com/author/Albert-Eins...</td>\n",
       "    </tr>\n",
       "    <tr>\n",
       "      <th>1</th>\n",
       "      <td>“It is our choices, Harry, that show what we t...</td>\n",
       "      <td>J.K. Rowling</td>\n",
       "      <td>https://quotes.toscrape.com/author/J-K-Rowling</td>\n",
       "    </tr>\n",
       "    <tr>\n",
       "      <th>2</th>\n",
       "      <td>“There are only two ways to live your life. On...</td>\n",
       "      <td>Albert Einstein</td>\n",
       "      <td>https://quotes.toscrape.com/author/Albert-Eins...</td>\n",
       "    </tr>\n",
       "    <tr>\n",
       "      <th>3</th>\n",
       "      <td>“The person, be it gentleman or lady, who has ...</td>\n",
       "      <td>Jane Austen</td>\n",
       "      <td>https://quotes.toscrape.com/author/Jane-Austen</td>\n",
       "    </tr>\n",
       "    <tr>\n",
       "      <th>4</th>\n",
       "      <td>“Imperfection is beauty, madness is genius and...</td>\n",
       "      <td>Marilyn Monroe</td>\n",
       "      <td>https://quotes.toscrape.com/author/Marilyn-Monroe</td>\n",
       "    </tr>\n",
       "    <tr>\n",
       "      <th>...</th>\n",
       "      <td>...</td>\n",
       "      <td>...</td>\n",
       "      <td>...</td>\n",
       "    </tr>\n",
       "    <tr>\n",
       "      <th>95</th>\n",
       "      <td>“You never really understand a person until yo...</td>\n",
       "      <td>Harper Lee</td>\n",
       "      <td>https://quotes.toscrape.com/author/Harper-Lee</td>\n",
       "    </tr>\n",
       "    <tr>\n",
       "      <th>96</th>\n",
       "      <td>“You have to write the book that wants to be w...</td>\n",
       "      <td>Madeleine L'Engle</td>\n",
       "      <td>https://quotes.toscrape.com/author/Madeleine-L...</td>\n",
       "    </tr>\n",
       "    <tr>\n",
       "      <th>97</th>\n",
       "      <td>“Never tell the truth to people who are not wo...</td>\n",
       "      <td>Mark Twain</td>\n",
       "      <td>https://quotes.toscrape.com/author/Mark-Twain</td>\n",
       "    </tr>\n",
       "    <tr>\n",
       "      <th>98</th>\n",
       "      <td>“A person's a person, no matter how small.”</td>\n",
       "      <td>Dr. Seuss</td>\n",
       "      <td>https://quotes.toscrape.com/author/Dr-Seuss</td>\n",
       "    </tr>\n",
       "    <tr>\n",
       "      <th>99</th>\n",
       "      <td>“... a mind needs books as a sword needs a whe...</td>\n",
       "      <td>George R.R. Martin</td>\n",
       "      <td>https://quotes.toscrape.com/author/George-R-R-...</td>\n",
       "    </tr>\n",
       "  </tbody>\n",
       "</table>\n",
       "<p>100 rows × 3 columns</p>\n",
       "</div>"
      ],
      "text/plain": [
       "                                                 text              author  \\\n",
       "0   “The world as we have created it is a process ...     Albert Einstein   \n",
       "1   “It is our choices, Harry, that show what we t...        J.K. Rowling   \n",
       "2   “There are only two ways to live your life. On...     Albert Einstein   \n",
       "3   “The person, be it gentleman or lady, who has ...         Jane Austen   \n",
       "4   “Imperfection is beauty, madness is genius and...      Marilyn Monroe   \n",
       "..                                                ...                 ...   \n",
       "95  “You never really understand a person until yo...          Harper Lee   \n",
       "96  “You have to write the book that wants to be w...   Madeleine L'Engle   \n",
       "97  “Never tell the truth to people who are not wo...          Mark Twain   \n",
       "98        “A person's a person, no matter how small.”           Dr. Seuss   \n",
       "99  “... a mind needs books as a sword needs a whe...  George R.R. Martin   \n",
       "\n",
       "                                                infor  \n",
       "0   https://quotes.toscrape.com/author/Albert-Eins...  \n",
       "1      https://quotes.toscrape.com/author/J-K-Rowling  \n",
       "2   https://quotes.toscrape.com/author/Albert-Eins...  \n",
       "3      https://quotes.toscrape.com/author/Jane-Austen  \n",
       "4   https://quotes.toscrape.com/author/Marilyn-Monroe  \n",
       "..                                                ...  \n",
       "95      https://quotes.toscrape.com/author/Harper-Lee  \n",
       "96  https://quotes.toscrape.com/author/Madeleine-L...  \n",
       "97      https://quotes.toscrape.com/author/Mark-Twain  \n",
       "98        https://quotes.toscrape.com/author/Dr-Seuss  \n",
       "99  https://quotes.toscrape.com/author/George-R-R-...  \n",
       "\n",
       "[100 rows x 3 columns]"
      ]
     },
     "execution_count": 20,
     "metadata": {},
     "output_type": "execute_result"
    }
   ],
   "source": [
    "import pandas as pd\n",
    "\n",
    "pd.DataFrame({'text': text_list, 'author': author_list, 'infor': infor_list})"
   ]
  },
  {
   "cell_type": "markdown",
   "metadata": {},
   "source": [
    "### 금융 속보 크롤링\n",
    "\n",
    "> 금융 속보의 제목을 추출먼저 네이버 금융에 접속한 후 [뉴스 → 실시간 속보]를 선택\n",
    "\n",
    "https://finance.naver.com/news/news_list.nhn?mode=LSS2D&section_id=101&section_id2=258\n",
    "\n",
    "- 이 중 뉴스의 제목에 해당하는 텍스트만 추출\n",
    "- 개발자도구 화면을 통헤 제목에 해당하는 부분은 [dl 태그 → class가 articleSubject 인 dd 태그 → a 태그 중 title 속성]에 위치하고 있음을 확인\n",
    "\n",
    "![](image/crawl_basic/naver_news.png)<br>\n",
    "실시간 속보의 제목 부분 HTML\n"
   ]
  },
  {
   "cell_type": "code",
   "execution_count": 22,
   "metadata": {},
   "outputs": [
    {
     "data": {
      "text/plain": [
       "[<a href=\"/news/news_read.naver?article_id=0014760680&amp;office_id=001&amp;mode=LSS2D&amp;type=0§ion_id=101§ion_id2=258§ion_id3=&amp;date=20240620&amp;page=1\" title=\"英 총선전 기준금리 인하 없어…5.25%로 7회연속 동결(종합)\">英 총선전 기준금리 인하 없어…5.25%로 7회연속 동결(종합)</a>,\n",
       " <a href=\"/news/news_read.naver?article_id=0005322404&amp;office_id=009&amp;mode=LSS2D&amp;type=0§ion_id=101§ion_id2=258§ion_id3=&amp;date=20240620&amp;page=1\" title=\"“올해 번 돈, 다 날아갔네”…선거 앞두고 고꾸라진 ‘이 나라’ 증시\">“올해 번 돈, 다 날아갔네”…선거 앞두고 고꾸라진 ‘이 나라’ 증시</a>,\n",
       " <a href=\"/news/news_read.naver?article_id=0005322396&amp;office_id=009&amp;mode=LSS2D&amp;type=0§ion_id=101§ion_id2=258§ion_id3=&amp;date=20240620&amp;page=1\" title=\"“외국인 웰컴”…역대급 ‘바이 코리아’에 코스피 2800선 탈환\">“외국인 웰컴”…역대급 ‘바이 코리아’에 코스피 2800선 탈환</a>]"
      ]
     },
     "execution_count": 22,
     "metadata": {},
     "output_type": "execute_result"
    }
   ],
   "source": [
    "import requests as rq\n",
    "from bs4 import BeautifulSoup\n",
    "\n",
    "url = 'https://finance.naver.com/news/news_list.nhn?mode=LSS2D&section_id=101&section_id2=258'\n",
    "data = rq.get(url)\n",
    "html = BeautifulSoup(data.content, 'html.parser')\n",
    "html_select = html.select('dl > dd.articleSubject > a')\n",
    "\n",
    "html_select[0:3]"
   ]
  },
  {
   "cell_type": "markdown",
   "metadata": {},
   "source": [
    "1. `get()` 함수를 이용해 페이지의 내용을 받아온다.\n",
    "2. `BeautifulSoup()` 함수를 통해 HTML 정보를 BeautifulSoup 객체로 만든다.\n",
    "3. `select()` 함수를 통해 원하는 태그로 접근해 들어간다. \n",
    "\n",
    "출력된 내용을 살펴 보면 우리가 원하는 제목은 title 속성에 위치하고 있다."
   ]
  },
  {
   "cell_type": "code",
   "execution_count": 23,
   "metadata": {},
   "outputs": [
    {
     "data": {
      "text/plain": [
       "'英 총선전 기준금리 인하 없어…5.25%로 7회연속 동결(종합)'"
      ]
     },
     "execution_count": 23,
     "metadata": {},
     "output_type": "execute_result"
    }
   ],
   "source": [
    "html_select[0]['title']"
   ]
  },
  {
   "cell_type": "markdown",
   "metadata": {},
   "source": [
    "속성값에 해당하는 내용을 추출했다. 이제 for문으로 묶어 한번에 제목들을 추출하도록 하겠다."
   ]
  },
  {
   "cell_type": "code",
   "execution_count": 24,
   "metadata": {},
   "outputs": [
    {
     "data": {
      "text/plain": [
       "['英 총선전 기준금리 인하 없어…5.25%로 7회연속 동결(종합)',\n",
       " '“올해 번 돈, 다 날아갔네”…선거 앞두고 고꾸라진 ‘이 나라’ 증시',\n",
       " '“외국인 웰컴”…역대급 ‘바이 코리아’에 코스피 2800선 탈환',\n",
       " \"中, EU '전기차 관세폭탄'에 보복조치‥유제품 반덤핑 조사 시사\",\n",
       " \"주차장까지만 가면 나머지는 로봇이 척척…'주차 로봇' 시대 열렸다\",\n",
       " '[555 기획] \"국민연금만으로는 부족해\"…은퇴 후 \\'평생 돈줄\\' 전략은?',\n",
       " '[1보] 영국 기준금리 연 5.25%로 동결…7회 연속',\n",
       " \"문 닫고 일제히 에어컨 '풀가동'…올여름도 전력수급 '아슬아슬'\",\n",
       " \"'서든 데스' 위기 SK그룹, 방만한 투자·실적 부진에 '대수술'(종합)\",\n",
       " '이용우·경제부총리실·금감원도 참석한 상법 개정 포럼',\n",
       " '푸틴-베트남 주석 회담…\"서로 적대국과는 동맹·조약 안맺는다\"',\n",
       " '[마켓인]눌러앉는 회계사들…빅4 회계법인 채용문 더 좁아진다',\n",
       " \"[마켓인]'사상초유' 이노그리드 예심 승인 취소 사태…VC, 투자회수 어쩌나\",\n",
       " '“딸 위해 가입한 펀드 팔수밖에”…연말정산도 금투세 도입땐 손해',\n",
       " '“제2의 맥도날드 될 거라 믿었는데”… 대산F&B 거래 재개 위해 집단행동 나선 주주연대',\n",
       " '반도체 랠리 뜨겁다.. 2800 되찾은 코스피 [대형주만 잘 나가는 증시]',\n",
       " '삼성 뛰고 SK 나는데… \"반도체 쏠림에 내 주식은 죽쑨다\" [대형주만 잘 나가는 증시]',\n",
       " '김갑순 신임 회계학회장 “회계투명성 중요”']"
      ]
     },
     "execution_count": 24,
     "metadata": {},
     "output_type": "execute_result"
    }
   ],
   "source": [
    "[i['title'] for i in html_select]"
   ]
  },
  {
   "cell_type": "markdown",
   "metadata": {},
   "source": [
    "### 테이블 크롤링하기\n",
    "\n",
    "우리가 크롤링하고자 하는 데이터가 테이블 형태로 제공될 경우, 위와 같이 복잡한 과정을 거칠 필요 없이 매우 간단하게 테이블에 해당하는 내용만 가져올 수 있다. 먼저 아래 사이트에는 각 국가별 GDP가 테이블 형태로 제공되고 있다.\n",
    "\n",
    "https://en.wikipedia.org/wiki/List_of_countries_by_stock_market_capitalization\n",
    "\n",
    "\n",
    "![](image/crawl_basic/cap.png)?<br>\n",
    "국가별 시가총액 데이터\n"
   ]
  },
  {
   "cell_type": "code",
   "execution_count": 26,
   "metadata": {},
   "outputs": [
    {
     "data": {
      "text/html": [
       "<div>\n",
       "<style scoped>\n",
       "    .dataframe tbody tr th:only-of-type {\n",
       "        vertical-align: middle;\n",
       "    }\n",
       "\n",
       "    .dataframe tbody tr th {\n",
       "        vertical-align: top;\n",
       "    }\n",
       "\n",
       "    .dataframe thead tr th {\n",
       "        text-align: left;\n",
       "    }\n",
       "</style>\n",
       "<table border=\"1\" class=\"dataframe\">\n",
       "  <thead>\n",
       "    <tr>\n",
       "      <th></th>\n",
       "      <th>Country / Territory</th>\n",
       "      <th colspan=\"2\" halign=\"left\">Total market cap</th>\n",
       "      <th>Number of domestic companies listed[2]</th>\n",
       "      <th>Year</th>\n",
       "    </tr>\n",
       "    <tr>\n",
       "      <th></th>\n",
       "      <th>Country / Territory</th>\n",
       "      <th>(in millions of US$)[3]</th>\n",
       "      <th>(as a % of GDP)[4]</th>\n",
       "      <th>Number of domestic companies listed[2]</th>\n",
       "      <th>Year</th>\n",
       "    </tr>\n",
       "  </thead>\n",
       "  <tbody>\n",
       "    <tr>\n",
       "      <th>0</th>\n",
       "      <td>United States</td>\n",
       "      <td>54000000</td>\n",
       "      <td>194.5</td>\n",
       "      <td>4642</td>\n",
       "      <td>2024</td>\n",
       "    </tr>\n",
       "    <tr>\n",
       "      <th>1</th>\n",
       "      <td>China</td>\n",
       "      <td>10,776,170[5]</td>\n",
       "      <td>65.1[6]</td>\n",
       "      <td>11497</td>\n",
       "      <td>2024</td>\n",
       "    </tr>\n",
       "    <tr>\n",
       "      <th>2</th>\n",
       "      <td>Japan</td>\n",
       "      <td>6,285,886[7]</td>\n",
       "      <td>126.7[8]</td>\n",
       "      <td>3865</td>\n",
       "      <td>2024</td>\n",
       "    </tr>\n",
       "    <tr>\n",
       "      <th>3</th>\n",
       "      <td>India</td>\n",
       "      <td>5,180,000[9]</td>\n",
       "      <td>120</td>\n",
       "      <td>5376</td>\n",
       "      <td>2024</td>\n",
       "    </tr>\n",
       "    <tr>\n",
       "      <th>4</th>\n",
       "      <td>France</td>\n",
       "      <td>4118528</td>\n",
       "      <td>84.9</td>\n",
       "      <td>457</td>\n",
       "      <td>2024</td>\n",
       "    </tr>\n",
       "  </tbody>\n",
       "</table>\n",
       "</div>"
      ],
      "text/plain": [
       "  Country / Territory        Total market cap                     \\\n",
       "  Country / Territory (in millions of US$)[3] (as a % of GDP)[4]   \n",
       "0       United States                54000000              194.5   \n",
       "1               China           10,776,170[5]            65.1[6]   \n",
       "2               Japan            6,285,886[7]           126.7[8]   \n",
       "3               India            5,180,000[9]                120   \n",
       "4              France                 4118528               84.9   \n",
       "\n",
       "  Number of domestic companies listed[2]  Year  \n",
       "  Number of domestic companies listed[2]  Year  \n",
       "0                                   4642  2024  \n",
       "1                                  11497  2024  \n",
       "2                                   3865  2024  \n",
       "3                                   5376  2024  \n",
       "4                                    457  2024  "
      ]
     },
     "execution_count": 26,
     "metadata": {},
     "output_type": "execute_result"
    }
   ],
   "source": [
    "import pandas as pd\n",
    "\n",
    "url = 'https://en.wikipedia.org/wiki/List_of_countries_by_stock_market_capitalization'\n",
    "tbl = pd.read_html(url)\n",
    "\n",
    "tbl[0].head()"
   ]
  },
  {
   "cell_type": "markdown",
   "metadata": {},
   "source": [
    "1. URL을 입력한다.\n",
    "2. pandas 패키지의 `read_html()` 함수에 URL을 입력하면, 해당 페이지에 존재하는 테이블을 가져온 후 데이터프레임 형태로 불러온다. \n",
    "\n",
    "- 이처럼 테이블 형태로 존재하는 데이터는 HTML 정보를 불러온 후 태그와 속성을 찾을필요 없이 `read_html()` 함수를 이용해 매우 손쉽게 불러올 수 있다.\n",
    "\n",
    "### 기업공시채널에서 오늘의 공시 불러오기\n",
    "\n",
    "- 한국거래소 상장공시시스템(kind.krx.co.kr)에 접속한 후 [오늘의 공시 → 전체 → 더보기]를 선택해 전체 공시내용을 확인 가능\n",
    "https://kind.krx.co.kr\n",
    "\n",
    "![](image/crawl_basic/kind.png)<br>\n",
    "오늘의공시 확인하기\n",
    "\n",
    "- 해당 페이지에서 날짜를 변경한 후 [검색]을 누르면, 페이지의 내용은 해당일의 공시로 변경되지만 URL은 변경되지 않는다.\n",
    "-  POST 방식은 요청하는 데이터에 대한 쿼리가 body의 형태를 통해 전송되므로, 개발자도구 화면을 통해 해당 쿼리에 대한 내용을 확인\n",
    "\n",
    "- 개발자도구 화면을 연 상태에서 조회일자를 원하는 날짜로 선택, [검색]을 클릭한 후 [Network] 탭의 todaydisclosure.do 항목에서 [Headers]탭의 [General] 부분에는 데이터를 요청하는 서버 주소가, [Payload] 탭의 [Form Data]를 통해 서버에 데이터를 요청하는 내역을 확인할 수 있다. \n",
    "    - 여러 항목 중 selDate 부분이 우리가 선택한 일자로 설정\n",
    "\n",
    "![](image/crawl_basic/kind_post.png)<br>\n",
    "POST 방식의 데이터 요청\n",
    "> POST 방식으로 쿼리를 요청하는 방법을 코드로 나타내면 다음과 같다."
   ]
  },
  {
   "cell_type": "code",
   "execution_count": 29,
   "metadata": {
    "collapsed": true,
    "jupyter": {
     "outputs_hidden": true
    },
    "tags": []
   },
   "outputs": [
    {
     "name": "stdout",
     "output_type": "stream",
     "text": [
      "\n",
      "<section class=\"scrarea type-00\">\n",
      "<table class=\"list type-00 mt10\" summary=\"시간, 회사명, 공시제목, 제출인, 차트/주가\">\n",
      "<caption>목록</caption>\n",
      "<colgroup>\n",
      "<col width=\"9%\"/>\n",
      "<col width=\"22%\"/>\n",
      "<col width=\"*\"/>\n",
      "<col width=\"16%\"/>\n",
      "<col width=\"9%\"/>\n",
      "</colgroup>\n",
      "<thead>\n",
      "<tr class=\"first active\" id=\"title-contents\">\n",
      "</tr>\n",
      "</thead>\n",
      "<tbody>\n",
      "<tr class=\"first\" id=\"parkman\">\n",
      "<td class=\"first txc\">18:46</td>\n",
      "<td><img alt=\"코스닥\" class=\"vmiddle legend\" src=\"/images/common/icn_t_ko.gif\"/> <a href=\"#companysum\" id=\"companysum\" onclick=\"companysummary_open('10139'); return false;\" title=\"아이엠\"> 아이엠</a> </td>\n",
      "<td><a href=\"#viewer\" onclick=\"openDisclsViewer('20240620000541','')\" title=\"불성실공시법인지정(공시번복)\">불성실공시법인지정(공시번복)</a></td>\n",
      "<td>코스닥시장본부</td>\n",
      "<td class=\"txc\">\n",
      "<a class=\"btn ico chart-00\" href=\"#\" onclick=\"openDisclsChart('10139');return false;\" title=\"공시차트\"><span>공시차트</span></a>\n",
      "<a class=\"btn ico chart-01\" href=\"#\" onclick=\"fnPopStockPrices('10139');return false;\" title=\"주가차트\"><span>주가차트</span></a>\n",
      "</td>\n",
      "</tr>\n",
      "<tr id=\"parkman\">\n",
      "<td class=\"first txc\">18:45</td>\n",
      "<td><img alt=\"코스닥\" class=\"vmiddle legend\" src=\"/images/common/icn_t_ko.gif\"/> <a href=\"#companysum\" id=\"companysum\" onclick=\"companysummary_open('17832'); return false;\" title=\"서진시스템\"> 서진시스템</a> <img alt=\"KOSDAQ150\" class=\"vmiddle legend\" src=\"/images/common/icn_t_q150.gif\"/> <img alt=\"KRX300\" class=\"vmiddle legend\" src=\"/images/common/icn_t_x300.gif\"/> </td>\n",
      "<td><a href=\"#viewer\" onclick=\"openDisclsViewer('20240620000538','')\" title=\"불성실공시법인지정(공시번복)\">불성실공시법인지정(공시번복)</a></td>\n",
      "<td>코스닥시장본부</td>\n",
      "<td class=\"txc\">\n",
      "<a class=\"btn ico chart-00\" href=\"#\" onclick=\"openDisclsChart('17832');return false;\" title=\"공시차트\"><span>공시차트</span></a>\n",
      "<a class=\"btn ico chart-01\" href=\"#\" onclick=\"fnPopStockPrices('17832');return false;\" title=\"주가차트\"><span>주가차트</span></a>\n",
      "</td>\n",
      "</tr>\n",
      "<tr id=\"parkman\">\n",
      "<td class=\"first txc\">18:42</td>\n",
      "<td><img alt=\"유가증권\" class=\"vmiddle legend\" src=\"/images/common/icn_t_yu.gif\"/> <a href=\"#companysum\" id=\"companysum\" onclick=\"companysummary_open('09109'); return false;\" title=\"세원이앤씨\"> 세원이앤씨</a> <img alt=\"관리종목\" class=\"vmiddle legend\" src=\"/images/common/icn_t_kwan.gif\"> </img></td>\n",
      "<td><a href=\"#viewer\" onclick=\"openDisclsViewer('20240620000534','')\" title=\"유상증자 또는 주식관련사채 등의 발행결과(자율공시)\"><font color=\"#FF8040\">[정정]</font>유상증자 또는 주식관련사채 등의 발행결과(자율공시)</a></td>\n",
      "<td>세원이앤씨</td>\n",
      "<td class=\"txc\">\n",
      "<a class=\"btn ico chart-00\" href=\"#\" onclick=\"openDisclsChart('09109');return false;\" title=\"공시차트\"><span>공시차트</span></a>\n",
      "<a class=\"btn ico chart-01\" href=\"#\" onclick=\"fnPopStockPrices('09109');return false;\" title=\"주가차트\"><span>주가차트</span></a>\n",
      "</td>\n",
      "</tr>\n",
      "<tr id=\"parkman\">\n",
      "<td class=\"first txc\">18:40</td>\n",
      "<td><img alt=\"코스닥\" class=\"vmiddle legend\" src=\"/images/common/icn_t_ko.gif\"/> <a href=\"#companysum\" id=\"companysum\" onclick=\"companysummary_open('32323'); return false;\" title=\"엠에프엠코리아\"> 엠에프엠코리아</a> <img alt=\"관리종목\" class=\"vmiddle legend\" src=\"/images/common/icn_t_kwan.gif\"> </img></td>\n",
      "<td><a href=\"#viewer\" onclick=\"openDisclsViewer('20240620000536','')\" title=\"주권매매거래정지(불성실공시법인 지정)\">주권매매거래정지(불성실공시법인 지정)</a></td>\n",
      "<td>코스닥시장본부</td>\n",
      "<td class=\"txc\">\n",
      "<a class=\"btn ico chart-00\" href=\"#\" onclick=\"openDisclsChart('32323');return false;\" title=\"공시차트\"><span>공시차트</span></a>\n",
      "<a class=\"btn ico chart-01\" href=\"#\" onclick=\"fnPopStockPrices('32323');return false;\" title=\"주가차트\"><span>주가차트</span></a>\n",
      "</td>\n",
      "</tr>\n",
      "<tr id=\"parkman\">\n",
      "<td class=\"first txc\">18:39</td>\n",
      "<td><img alt=\"코스닥\" class=\"vmiddle legend\" src=\"/images/common/icn_t_ko.gif\"/> <a href=\"#companysum\" id=\"companysum\" onclick=\"companysummary_open('32323'); return false;\" title=\"엠에프엠코리아\"> 엠에프엠코리아</a> <img alt=\"관리종목\" class=\"vmiddle legend\" src=\"/images/common/icn_t_kwan.gif\"> </img></td>\n",
      "<td><a href=\"#viewer\" onclick=\"openDisclsViewer('20240620000539','')\" title=\"불성실공시법인지정(공시불이행 3건)\">불성실공시법인지정(공시불이행 3건)</a></td>\n",
      "<td>코스닥시장본부</td>\n",
      "<td class=\"txc\">\n",
      "<a class=\"btn ico chart-00\" href=\"#\" onclick=\"openDisclsChart('32323');return false;\" title=\"공시차트\"><span>공시차트</span></a>\n",
      "<a class=\"btn ico chart-01\" href=\"#\" onclick=\"fnPopStockPrices('32323');return false;\" title=\"주가차트\"><span>주가차트</span></a>\n",
      "</td>\n",
      "</tr>\n",
      "<tr id=\"parkman\">\n",
      "<td class=\"first txc\">18:25</td>\n",
      "<td><img alt=\"유가증권\" class=\"vmiddle legend\" src=\"/images/common/icn_t_yu.gif\"/> <a href=\"#companysum\" id=\"companysum\" onclick=\"companysummary_open('09109'); return false;\" title=\"세원이앤씨\"> 세원이앤씨</a> <img alt=\"관리종목\" class=\"vmiddle legend\" src=\"/images/common/icn_t_kwan.gif\"> </img></td>\n",
      "<td><a href=\"#viewer\" onclick=\"openDisclsViewer('20240620000530','')\" title=\"소송등의판결ㆍ결정\"><font color=\"#FF8040\">[정정]</font>소송등의판결ㆍ결정</a></td>\n",
      "<td>세원이앤씨</td>\n",
      "<td class=\"txc\">\n",
      "<a class=\"btn ico chart-00\" href=\"#\" onclick=\"openDisclsChart('09109');return false;\" title=\"공시차트\"><span>공시차트</span></a>\n",
      "<a class=\"btn ico chart-01\" href=\"#\" onclick=\"fnPopStockPrices('09109');return false;\" title=\"주가차트\"><span>주가차트</span></a>\n",
      "</td>\n",
      "</tr>\n",
      "<tr id=\"parkman\">\n",
      "<td class=\"first txc\">18:07</td>\n",
      "<td></td>\n",
      "<td><a href=\"#viewer\" onclick=\"openDisclsViewer('20240620000528','')\" title=\"자기주식매매신청내역(코스닥시장)\">자기주식매매신청내역(코스닥시장)</a></td>\n",
      "<td>코스닥시장본부</td>\n",
      "<td class=\"txc\">\n",
      "</td>\n",
      "</tr>\n",
      "<tr id=\"parkman\">\n",
      "<td class=\"first txc\">18:07</td>\n",
      "<td></td>\n",
      "<td><a href=\"#viewer\" onclick=\"openDisclsViewer('20240620000522','')\" title=\"직전1개월 일평균대비 거래량 증가율 상위 10종목(코스닥시장)\">직전1개월 일평균대비 거래량 증가율 상위 10종목(코스닥시장)</a></td>\n",
      "<td>코스닥시장본부</td>\n",
      "<td class=\"txc\">\n",
      "</td>\n",
      "</tr>\n",
      "<tr id=\"parkman\">\n",
      "<td class=\"first txc\">18:07</td>\n",
      "<td></td>\n",
      "<td><a href=\"#viewer\" onclick=\"openDisclsViewer('20240620000520','')\" title=\"일중 변동성 상위 10종목(코스닥시장)\">일중 변동성 상위 10종목(코스닥시장)</a></td>\n",
      "<td>코스닥시장본부</td>\n",
      "<td class=\"txc\">\n",
      "</td>\n",
      "</tr>\n",
      "<tr id=\"parkman\">\n",
      "<td class=\"first txc\">18:07</td>\n",
      "<td></td>\n",
      "<td><a href=\"#viewer\" onclick=\"openDisclsViewer('20240620000519','')\" title=\"일일회전율상위20종목(코스닥시장)\">일일회전율상위20종목(코스닥시장)</a></td>\n",
      "<td>코스닥시장본부</td>\n",
      "<td class=\"txc\">\n",
      "</td>\n",
      "</tr>\n",
      "<tr id=\"parkman\">\n",
      "<td class=\"first txc\">18:07</td>\n",
      "<td></td>\n",
      "<td><a href=\"#viewer\" onclick=\"openDisclsViewer('20240620000523','')\" title=\"대량매매내역(코스닥시장)\">대량매매내역(코스닥시장)</a></td>\n",
      "<td>코스닥시장본부</td>\n",
      "<td class=\"txc\">\n",
      "</td>\n",
      "</tr>\n",
      "<tr id=\"parkman\">\n",
      "<td class=\"first txc\">18:07</td>\n",
      "<td></td>\n",
      "<td><a href=\"#viewer\" onclick=\"openDisclsViewer('20240620000521','')\" title=\"최근 20일중 최저(최고)가 대비 상승(하락)율 상위 10종목(코스닥시장)\">최근 20일중 최저(최고)가 대비 상승(하락)율 상위 10종목(코스닥시장)</a></td>\n",
      "<td>코스닥시장본부</td>\n",
      "<td class=\"txc\">\n",
      "</td>\n",
      "</tr>\n",
      "<tr id=\"parkman\">\n",
      "<td class=\"first txc\">18:07</td>\n",
      "<td></td>\n",
      "<td><a href=\"#viewer\" onclick=\"openDisclsViewer('20240620000516','')\" title=\"자기주식매매체결내역(코스닥시장)\">자기주식매매체결내역(코스닥시장)</a></td>\n",
      "<td>코스닥시장본부</td>\n",
      "<td class=\"txc\">\n",
      "</td>\n",
      "</tr>\n",
      "<tr id=\"parkman\">\n",
      "<td class=\"first txc\">18:07</td>\n",
      "<td></td>\n",
      "<td><a href=\"#viewer\" onclick=\"openDisclsViewer('20240620000518','')\" title=\"대량매매 내역(코넥스시장)\">대량매매 내역(코넥스시장)</a></td>\n",
      "<td>코넥스시장</td>\n",
      "<td class=\"txc\">\n",
      "</td>\n",
      "</tr>\n",
      "<tr id=\"parkman\">\n",
      "<td class=\"first txc\">18:06</td>\n",
      "<td></td>\n",
      "<td><a href=\"#viewer\" onclick=\"openDisclsViewer('20240620000524','')\" title=\"일일 회전율 상위 20종목-ELW제외(유가증권시장)\">일일 회전율 상위 20종목-ELW제외(유가증권시장)</a></td>\n",
      "<td>유가증권시장본부</td>\n",
      "<td class=\"txc\">\n",
      "</td>\n",
      "</tr>\n",
      "</tbody>\n",
      "</table>\n",
      "</section>\n",
      "<!-- 페이징 START -->\n",
      "<section class=\"paging-group\">\n",
      "<div class=\"paging type-00\"><a class=\"pprev\" href=\"#prevPage10\" onclick=\"return false;\"><span>이전10개 페이지</span></a><a class=\"prev\" href=\"#prevPage\" onclick=\"return false;\"><span>이전 페이지</span></a>\n",
      "<a class=\"active\" href=\"#page_link_1\" onclick=\"return false;\">1</a><a href=\"#page_link_2\" onclick=\"fnPageGo('2');return false;\">2</a><a href=\"#page_link_3\" onclick=\"fnPageGo('3');return false;\">3</a><a href=\"#page_link_4\" onclick=\"fnPageGo('4');return false;\">4</a><a href=\"#page_link_5\" onclick=\"fnPageGo('5');return false;\">5</a><a href=\"#page_link_6\" onclick=\"fnPageGo('6');return false;\">6</a><a href=\"#page_link_7\" onclick=\"fnPageGo('7');return false;\">7</a><a href=\"#page_link_8\" onclick=\"fnPageGo('8');return false;\">8</a><a href=\"#page_link_9\" onclick=\"fnPageGo('9');return false;\">9</a><a href=\"#page_link_10\" onclick=\"fnPageGo('10');return false;\">10</a>\n",
      "<a class=\"next\" href=\"#nextPage\" onclick=\"fnPageGo('2');return false;\"><span>다음 페이지</span></a><a class=\"nnext\" href=\"#nextPage10\" onclick=\"fnPageGo('11');return false;\"><span>다음10개 페이지</span></a></div><div class=\"info type-00\">\n",
      "전체 <em>327</em>건 : <strong>1</strong>/22   \n",
      "<select id=\"currentPageSize\" name=\"currentPageSize\">\n",
      "<option selected=\"selected\" value=\"15\">15건</option>\n",
      "<option value=\"30\">30건</option>\n",
      "<option value=\"50\">50건</option>\n",
      "<option value=\"100\">100건</option>\n",
      "</select>  <a class=\"btn-sprite btn-go vmiddle\" href=\"#\" onclick=\"fnSearch1();return false;\" title=\"GO\"><span>GO</span></a>\n",
      "</div>\n",
      "</section>\n",
      "<!-- 페이징 END -->\n",
      "<script type=\"text/JavaScript\">\n",
      "$(document).ready(function(){\n",
      "\tvar svrGubun = \"real2\";\n",
      "\tif( svrGubun.indexOf(\"dr\") >= 0 ){\n",
      "\t\tfn_InitTitle(\"시간,회사명,공시제목,제출인\", \"true,true,true,true\");\n",
      "\t} else {\n",
      "\t\tfn_InitTitle(\"시간,회사명,공시제목,제출인,차트/주가\", \"true,true,true,true,false\");\n",
      "\t}\n",
      "\n",
      "\t$(\"input[name='segment']:radio\").change(function(){\n",
      "\t\tconsole.log(this.value);\n",
      "\t\t$(\"#searchForm > #kosdaqSegment\").val(this.value);\n",
      "\t\tfnSearch();\n",
      "\t});\n",
      "});\n",
      "</script>\n"
     ]
    }
   ],
   "source": [
    "import requests as rq\n",
    "from bs4 import BeautifulSoup\n",
    "import pandas as pd\n",
    "\n",
    "url = 'https://kind.krx.co.kr/disclosure/todaydisclosure.do'\n",
    "payload = {\n",
    "    'method': 'searchTodayDisclosureSub',\n",
    "    'currentPageSize': '15',\n",
    "    'pageIndex': '1',\n",
    "    'orderMode': '0',\n",
    "    'orderStat': 'D',\n",
    "    'forward': 'todaydisclosure_sub',\n",
    "    'chose': 'S',\n",
    "    'todayFlag': 'N',\n",
    "    'selDate': '2024-06-20'\n",
    "}\n",
    "\n",
    "data = rq.post(url, data=payload)\n",
    "html = BeautifulSoup(data.content, 'html.parser')\n",
    "\n",
    "print(html)"
   ]
  },
  {
   "cell_type": "markdown",
   "metadata": {},
   "source": [
    "\n",
    "![](image/crawl_basic/html.png)\n",
    "\n",
    "\n",
    "1. URL과 쿼리를 입력한다. 쿼리는 딕셔너리 형태로 입력하며, Form Data와 동일하게 입력해준다. 쿼리 중 marketType과 같이 값이 없는 항목은 입력하지 않아도 된다.\n",
    "2. `POST()` 함수를 통해 해당 URL에 원하는 쿼리를 요청한다.\n",
    "3. `BeautifulSoup()` 함수를 통해 파싱한다.\n",
    "\n",
    "읽어온 데이터를 확인해보면 엑셀 데이터가 HTML 형태로 나타나있다. 따라서 이를 변형해 데이터프레임 형태로 불러오도록 한다."
   ]
  },
  {
   "cell_type": "code",
   "execution_count": 36,
   "metadata": {
    "collapsed": true,
    "jupyter": {
     "outputs_hidden": true
    },
    "tags": []
   },
   "outputs": [
    {
     "data": {
      "text/plain": [
       "'<section class=\"scrarea type-00\">\\n <table class=\"list type-00 mt10\" summary=\"시간, 회사명, 공시제목, 제출인, 차트/주가\">\\n  <caption>\\n   목록\\n  </caption>\\n  <colgroup>\\n   <col width=\"9%\"/>\\n   <col width=\"22%\"/>\\n   <col width=\"*\"/>\\n   <col width=\"16%\"/>\\n   <col width=\"9%\"/>\\n  </colgroup>\\n  <thead>\\n   <tr class=\"first active\" id=\"title-contents\">\\n   </tr>\\n  </thead>\\n  <tbody>\\n   <tr class=\"first\" id=\"parkman\">\\n    <td class=\"first txc\">\\n     18:46\\n    </td>\\n    <td>\\n     <img alt=\"코스닥\" class=\"vmiddle legend\" src=\"/images/common/icn_t_ko.gif\"/>\\n     <a href=\"#companysum\" id=\"companysum\" onclick=\"companysummary_open(\\'10139\\'); return false;\" title=\"아이엠\">\\n      아이엠\\n     </a>\\n    </td>\\n    <td>\\n     <a href=\"#viewer\" onclick=\"openDisclsViewer(\\'20240620000541\\',\\'\\')\" title=\"불성실공시법인지정(공시번복)\">\\n      불성실공시법인지정(공시번복)\\n     </a>\\n    </td>\\n    <td>\\n     코스닥시장본부\\n    </td>\\n    <td class=\"txc\">\\n     <a class=\"btn ico chart-00\" href=\"#\" onclick=\"openDisclsChart(\\'10139\\');return false;\" title=\"공시차트\">\\n      <span>\\n       공시차트\\n      </span>\\n     </a>\\n     <a class=\"btn ico chart-01\" href=\"#\" onclick=\"fnPopStockPrices(\\'10139\\');return false;\" title=\"주가차트\">\\n      <span>\\n       주가차트\\n      </span>\\n     </a>\\n    </td>\\n   </tr>\\n   <tr id=\"parkman\">\\n    <td class=\"first txc\">\\n     18:45\\n    </td>\\n    <td>\\n     <img alt=\"코스닥\" class=\"vmiddle legend\" src=\"/images/common/icn_t_ko.gif\"/>\\n     <a href=\"#companysum\" id=\"companysum\" onclick=\"companysummary_open(\\'17832\\'); return false;\" title=\"서진시스템\">\\n      서진시스템\\n     </a>\\n     <img alt=\"KOSDAQ150\" class=\"vmiddle legend\" src=\"/images/common/icn_t_q150.gif\"/>\\n     <img alt=\"KRX300\" class=\"vmiddle legend\" src=\"/images/common/icn_t_x300.gif\"/>\\n    </td>\\n    <td>\\n     <a href=\"#viewer\" onclick=\"openDisclsViewer(\\'20240620000538\\',\\'\\')\" title=\"불성실공시법인지정(공시번복)\">\\n      불성실공시법인지정(공시번복)\\n     </a>\\n    </td>\\n    <td>\\n     코스닥시장본부\\n    </td>\\n    <td class=\"txc\">\\n     <a class=\"btn ico chart-00\" href=\"#\" onclick=\"openDisclsChart(\\'17832\\');return false;\" title=\"공시차트\">\\n      <span>\\n       공시차트\\n      </span>\\n     </a>\\n     <a class=\"btn ico chart-01\" href=\"#\" onclick=\"fnPopStockPrices(\\'17832\\');return false;\" title=\"주가차트\">\\n      <span>\\n       주가차트\\n      </span>\\n     </a>\\n    </td>\\n   </tr>\\n   <tr id=\"parkman\">\\n    <td class=\"first txc\">\\n     18:42\\n    </td>\\n    <td>\\n     <img alt=\"유가증권\" class=\"vmiddle legend\" src=\"/images/common/icn_t_yu.gif\"/>\\n     <a href=\"#companysum\" id=\"companysum\" onclick=\"companysummary_open(\\'09109\\'); return false;\" title=\"세원이앤씨\">\\n      세원이앤씨\\n     </a>\\n     <img alt=\"관리종목\" class=\"vmiddle legend\" src=\"/images/common/icn_t_kwan.gif\">\\n     </img>\\n    </td>\\n    <td>\\n     <a href=\"#viewer\" onclick=\"openDisclsViewer(\\'20240620000534\\',\\'\\')\" title=\"유상증자 또는 주식관련사채 등의 발행결과(자율공시)\">\\n      <font color=\"#FF8040\">\\n       [정정]\\n      </font>\\n      유상증자 또는 주식관련사채 등의 발행결과(자율공시)\\n     </a>\\n    </td>\\n    <td>\\n     세원이앤씨\\n    </td>\\n    <td class=\"txc\">\\n     <a class=\"btn ico chart-00\" href=\"#\" onclick=\"openDisclsChart(\\'09109\\');return false;\" title=\"공시차트\">\\n      <span>\\n       공시차트\\n      </span>\\n     </a>\\n     <a class=\"btn ico chart-01\" href=\"#\" onclick=\"fnPopStockPrices(\\'09109\\');return false;\" title=\"주가차트\">\\n      <span>\\n       주가차트\\n      </span>\\n     </a>\\n    </td>\\n   </tr>\\n   <tr id=\"parkman\">\\n    <td class=\"first txc\">\\n     18:40\\n    </td>\\n    <td>\\n     <img alt=\"코스닥\" class=\"vmiddle legend\" src=\"/images/common/icn_t_ko.gif\"/>\\n     <a href=\"#companysum\" id=\"companysum\" onclick=\"companysummary_open(\\'32323\\'); return false;\" title=\"엠에프엠코리아\">\\n      엠에프엠코리아\\n     </a>\\n     <img alt=\"관리종목\" class=\"vmiddle legend\" src=\"/images/common/icn_t_kwan.gif\">\\n     </img>\\n    </td>\\n    <td>\\n     <a href=\"#viewer\" onclick=\"openDisclsViewer(\\'20240620000536\\',\\'\\')\" title=\"주권매매거래정지(불성실공시법인 지정)\">\\n      주권매매거래정지(불성실공시법인 지정)\\n     </a>\\n    </td>\\n    <td>\\n     코스닥시장본부\\n    </td>\\n    <td class=\"txc\">\\n     <a class=\"btn ico chart-00\" href=\"#\" onclick=\"openDisclsChart(\\'32323\\');return false;\" title=\"공시차트\">\\n      <span>\\n       공시차트\\n      </span>\\n     </a>\\n     <a class=\"btn ico chart-01\" href=\"#\" onclick=\"fnPopStockPrices(\\'32323\\');return false;\" title=\"주가차트\">\\n      <span>\\n       주가차트\\n      </span>\\n     </a>\\n    </td>\\n   </tr>\\n   <tr id=\"parkman\">\\n    <td class=\"first txc\">\\n     18:39\\n    </td>\\n    <td>\\n     <img alt=\"코스닥\" class=\"vmiddle legend\" src=\"/images/common/icn_t_ko.gif\"/>\\n     <a href=\"#companysum\" id=\"companysum\" onclick=\"companysummary_open(\\'32323\\'); return false;\" title=\"엠에프엠코리아\">\\n      엠에프엠코리아\\n     </a>\\n     <img alt=\"관리종목\" class=\"vmiddle legend\" src=\"/images/common/icn_t_kwan.gif\">\\n     </img>\\n    </td>\\n    <td>\\n     <a href=\"#viewer\" onclick=\"openDisclsViewer(\\'20240620000539\\',\\'\\')\" title=\"불성실공시법인지정(공시불이행 3건)\">\\n      불성실공시법인지정(공시불이행 3건)\\n     </a>\\n    </td>\\n    <td>\\n     코스닥시장본부\\n    </td>\\n    <td class=\"txc\">\\n     <a class=\"btn ico chart-00\" href=\"#\" onclick=\"openDisclsChart(\\'32323\\');return false;\" title=\"공시차트\">\\n      <span>\\n       공시차트\\n      </span>\\n     </a>\\n     <a class=\"btn ico chart-01\" href=\"#\" onclick=\"fnPopStockPrices(\\'32323\\');return false;\" title=\"주가차트\">\\n      <span>\\n       주가차트\\n      </span>\\n     </a>\\n    </td>\\n   </tr>\\n   <tr id=\"parkman\">\\n    <td class=\"first txc\">\\n     18:25\\n    </td>\\n    <td>\\n     <img alt=\"유가증권\" class=\"vmiddle legend\" src=\"/images/common/icn_t_yu.gif\"/>\\n     <a href=\"#companysum\" id=\"companysum\" onclick=\"companysummary_open(\\'09109\\'); return false;\" title=\"세원이앤씨\">\\n      세원이앤씨\\n     </a>\\n     <img alt=\"관리종목\" class=\"vmiddle legend\" src=\"/images/common/icn_t_kwan.gif\">\\n     </img>\\n    </td>\\n    <td>\\n     <a href=\"#viewer\" onclick=\"openDisclsViewer(\\'20240620000530\\',\\'\\')\" title=\"소송등의판결ㆍ결정\">\\n      <font color=\"#FF8040\">\\n       [정정]\\n      </font>\\n      소송등의판결ㆍ결정\\n     </a>\\n    </td>\\n    <td>\\n     세원이앤씨\\n    </td>\\n    <td class=\"txc\">\\n     <a class=\"btn ico chart-00\" href=\"#\" onclick=\"openDisclsChart(\\'09109\\');return false;\" title=\"공시차트\">\\n      <span>\\n       공시차트\\n      </span>\\n     </a>\\n     <a class=\"btn ico chart-01\" href=\"#\" onclick=\"fnPopStockPrices(\\'09109\\');return false;\" title=\"주가차트\">\\n      <span>\\n       주가차트\\n      </span>\\n     </a>\\n    </td>\\n   </tr>\\n   <tr id=\"parkman\">\\n    <td class=\"first txc\">\\n     18:07\\n    </td>\\n    <td>\\n    </td>\\n    <td>\\n     <a href=\"#viewer\" onclick=\"openDisclsViewer(\\'20240620000528\\',\\'\\')\" title=\"자기주식매매신청내역(코스닥시장)\">\\n      자기주식매매신청내역(코스닥시장)\\n     </a>\\n    </td>\\n    <td>\\n     코스닥시장본부\\n    </td>\\n    <td class=\"txc\">\\n    </td>\\n   </tr>\\n   <tr id=\"parkman\">\\n    <td class=\"first txc\">\\n     18:07\\n    </td>\\n    <td>\\n    </td>\\n    <td>\\n     <a href=\"#viewer\" onclick=\"openDisclsViewer(\\'20240620000522\\',\\'\\')\" title=\"직전1개월 일평균대비 거래량 증가율 상위 10종목(코스닥시장)\">\\n      직전1개월 일평균대비 거래량 증가율 상위 10종목(코스닥시장)\\n     </a>\\n    </td>\\n    <td>\\n     코스닥시장본부\\n    </td>\\n    <td class=\"txc\">\\n    </td>\\n   </tr>\\n   <tr id=\"parkman\">\\n    <td class=\"first txc\">\\n     18:07\\n    </td>\\n    <td>\\n    </td>\\n    <td>\\n     <a href=\"#viewer\" onclick=\"openDisclsViewer(\\'20240620000520\\',\\'\\')\" title=\"일중 변동성 상위 10종목(코스닥시장)\">\\n      일중 변동성 상위 10종목(코스닥시장)\\n     </a>\\n    </td>\\n    <td>\\n     코스닥시장본부\\n    </td>\\n    <td class=\"txc\">\\n    </td>\\n   </tr>\\n   <tr id=\"parkman\">\\n    <td class=\"first txc\">\\n     18:07\\n    </td>\\n    <td>\\n    </td>\\n    <td>\\n     <a href=\"#viewer\" onclick=\"openDisclsViewer(\\'20240620000519\\',\\'\\')\" title=\"일일회전율상위20종목(코스닥시장)\">\\n      일일회전율상위20종목(코스닥시장)\\n     </a>\\n    </td>\\n    <td>\\n     코스닥시장본부\\n    </td>\\n    <td class=\"txc\">\\n    </td>\\n   </tr>\\n   <tr id=\"parkman\">\\n    <td class=\"first txc\">\\n     18:07\\n    </td>\\n    <td>\\n    </td>\\n    <td>\\n     <a href=\"#viewer\" onclick=\"openDisclsViewer(\\'20240620000523\\',\\'\\')\" title=\"대량매매내역(코스닥시장)\">\\n      대량매매내역(코스닥시장)\\n     </a>\\n    </td>\\n    <td>\\n     코스닥시장본부\\n    </td>\\n    <td class=\"txc\">\\n    </td>\\n   </tr>\\n   <tr id=\"parkman\">\\n    <td class=\"first txc\">\\n     18:07\\n    </td>\\n    <td>\\n    </td>\\n    <td>\\n     <a href=\"#viewer\" onclick=\"openDisclsViewer(\\'20240620000521\\',\\'\\')\" title=\"최근 20일중 최저(최고)가 대비 상승(하락)율 상위 10종목(코스닥시장)\">\\n      최근 20일중 최저(최고)가 대비 상승(하락)율 상위 10종목(코스닥시장)\\n     </a>\\n    </td>\\n    <td>\\n     코스닥시장본부\\n    </td>\\n    <td class=\"txc\">\\n    </td>\\n   </tr>\\n   <tr id=\"parkman\">\\n    <td class=\"first txc\">\\n     18:07\\n    </td>\\n    <td>\\n    </td>\\n    <td>\\n     <a href=\"#viewer\" onclick=\"openDisclsViewer(\\'20240620000516\\',\\'\\')\" title=\"자기주식매매체결내역(코스닥시장)\">\\n      자기주식매매체결내역(코스닥시장)\\n     </a>\\n    </td>\\n    <td>\\n     코스닥시장본부\\n    </td>\\n    <td class=\"txc\">\\n    </td>\\n   </tr>\\n   <tr id=\"parkman\">\\n    <td class=\"first txc\">\\n     18:07\\n    </td>\\n    <td>\\n    </td>\\n    <td>\\n     <a href=\"#viewer\" onclick=\"openDisclsViewer(\\'20240620000518\\',\\'\\')\" title=\"대량매매 내역(코넥스시장)\">\\n      대량매매 내역(코넥스시장)\\n     </a>\\n    </td>\\n    <td>\\n     코넥스시장\\n    </td>\\n    <td class=\"txc\">\\n    </td>\\n   </tr>\\n   <tr id=\"parkman\">\\n    <td class=\"first txc\">\\n     18:06\\n    </td>\\n    <td>\\n    </td>\\n    <td>\\n     <a href=\"#viewer\" onclick=\"openDisclsViewer(\\'20240620000524\\',\\'\\')\" title=\"일일 회전율 상위 20종목-ELW제외(유가증권시장)\">\\n      일일 회전율 상위 20종목-ELW제외(유가증권시장)\\n     </a>\\n    </td>\\n    <td>\\n     유가증권시장본부\\n    </td>\\n    <td class=\"txc\">\\n    </td>\\n   </tr>\\n  </tbody>\\n </table>\\n</section>\\n<!-- 페이징 START -->\\n<section class=\"paging-group\">\\n <div class=\"paging type-00\">\\n  <a class=\"pprev\" href=\"#prevPage10\" onclick=\"return false;\">\\n   <span>\\n    이전10개 페이지\\n   </span>\\n  </a>\\n  <a class=\"prev\" href=\"#prevPage\" onclick=\"return false;\">\\n   <span>\\n    이전 페이지\\n   </span>\\n  </a>\\n  <a class=\"active\" href=\"#page_link_1\" onclick=\"return false;\">\\n   1\\n  </a>\\n  <a href=\"#page_link_2\" onclick=\"fnPageGo(\\'2\\');return false;\">\\n   2\\n  </a>\\n  <a href=\"#page_link_3\" onclick=\"fnPageGo(\\'3\\');return false;\">\\n   3\\n  </a>\\n  <a href=\"#page_link_4\" onclick=\"fnPageGo(\\'4\\');return false;\">\\n   4\\n  </a>\\n  <a href=\"#page_link_5\" onclick=\"fnPageGo(\\'5\\');return false;\">\\n   5\\n  </a>\\n  <a href=\"#page_link_6\" onclick=\"fnPageGo(\\'6\\');return false;\">\\n   6\\n  </a>\\n  <a href=\"#page_link_7\" onclick=\"fnPageGo(\\'7\\');return false;\">\\n   7\\n  </a>\\n  <a href=\"#page_link_8\" onclick=\"fnPageGo(\\'8\\');return false;\">\\n   8\\n  </a>\\n  <a href=\"#page_link_9\" onclick=\"fnPageGo(\\'9\\');return false;\">\\n   9\\n  </a>\\n  <a href=\"#page_link_10\" onclick=\"fnPageGo(\\'10\\');return false;\">\\n   10\\n  </a>\\n  <a class=\"next\" href=\"#nextPage\" onclick=\"fnPageGo(\\'2\\');return false;\">\\n   <span>\\n    다음 페이지\\n   </span>\\n  </a>\\n  <a class=\"nnext\" href=\"#nextPage10\" onclick=\"fnPageGo(\\'11\\');return false;\">\\n   <span>\\n    다음10개 페이지\\n   </span>\\n  </a>\\n </div>\\n <div class=\"info type-00\">\\n  전체\\n  <em>\\n   327\\n  </em>\\n  건 :\\n  <strong>\\n   1\\n  </strong>\\n  /22\\n  <select id=\"currentPageSize\" name=\"currentPageSize\">\\n   <option selected=\"selected\" value=\"15\">\\n    15건\\n   </option>\\n   <option value=\"30\">\\n    30건\\n   </option>\\n   <option value=\"50\">\\n    50건\\n   </option>\\n   <option value=\"100\">\\n    100건\\n   </option>\\n  </select>\\n  <a class=\"btn-sprite btn-go vmiddle\" href=\"#\" onclick=\"fnSearch1();return false;\" title=\"GO\">\\n   <span>\\n    GO\\n   </span>\\n  </a>\\n </div>\\n</section>\\n<!-- 페이징 END -->\\n<script type=\"text/JavaScript\">\\n $(document).ready(function(){\\r\\n\\tvar svrGubun = \"real2\";\\r\\n\\tif( svrGubun.indexOf(\"dr\") >= 0 ){\\r\\n\\t\\tfn_InitTitle(\"시간,회사명,공시제목,제출인\", \"true,true,true,true\");\\r\\n\\t} else {\\r\\n\\t\\tfn_InitTitle(\"시간,회사명,공시제목,제출인,차트/주가\", \"true,true,true,true,false\");\\r\\n\\t}\\r\\n\\r\\n\\t$(\"input[name=\\'segment\\']:radio\").change(function(){\\r\\n\\t\\tconsole.log(this.value);\\r\\n\\t\\t$(\"#searchForm > #kosdaqSegment\").val(this.value);\\r\\n\\t\\tfnSearch();\\r\\n\\t});\\r\\n});\\n</script>'"
      ]
     },
     "execution_count": 36,
     "metadata": {},
     "output_type": "execute_result"
    }
   ],
   "source": [
    "html.prettify()"
   ]
  },
  {
   "cell_type": "code",
   "execution_count": 30,
   "metadata": {},
   "outputs": [
    {
     "name": "stderr",
     "output_type": "stream",
     "text": [
      "C:\\Users\\masta\\AppData\\Local\\Temp\\ipykernel_2900\\4194847705.py:2: FutureWarning: Passing literal html to 'read_html' is deprecated and will be removed in a future version. To read from a literal string, wrap it in a 'StringIO' object.\n",
      "  tbl = pd.read_html(html_unicode)\n"
     ]
    },
    {
     "data": {
      "text/html": [
       "<div>\n",
       "<style scoped>\n",
       "    .dataframe tbody tr th:only-of-type {\n",
       "        vertical-align: middle;\n",
       "    }\n",
       "\n",
       "    .dataframe tbody tr th {\n",
       "        vertical-align: top;\n",
       "    }\n",
       "\n",
       "    .dataframe thead th {\n",
       "        text-align: right;\n",
       "    }\n",
       "</style>\n",
       "<table border=\"1\" class=\"dataframe\">\n",
       "  <thead>\n",
       "    <tr style=\"text-align: right;\">\n",
       "      <th></th>\n",
       "      <th>Unnamed: 0</th>\n",
       "      <th>Unnamed: 1</th>\n",
       "      <th>Unnamed: 2</th>\n",
       "      <th>Unnamed: 3</th>\n",
       "      <th>Unnamed: 4</th>\n",
       "    </tr>\n",
       "  </thead>\n",
       "  <tbody>\n",
       "    <tr>\n",
       "      <th>0</th>\n",
       "      <td>18:46</td>\n",
       "      <td>아이엠</td>\n",
       "      <td>불성실공시법인지정(공시번복)</td>\n",
       "      <td>코스닥시장본부</td>\n",
       "      <td>공시차트  주가차트</td>\n",
       "    </tr>\n",
       "    <tr>\n",
       "      <th>1</th>\n",
       "      <td>18:45</td>\n",
       "      <td>서진시스템</td>\n",
       "      <td>불성실공시법인지정(공시번복)</td>\n",
       "      <td>코스닥시장본부</td>\n",
       "      <td>공시차트  주가차트</td>\n",
       "    </tr>\n",
       "    <tr>\n",
       "      <th>2</th>\n",
       "      <td>18:42</td>\n",
       "      <td>세원이앤씨</td>\n",
       "      <td>[정정]  유상증자 또는 주식관련사채 등의 발행결과(자율공시)</td>\n",
       "      <td>세원이앤씨</td>\n",
       "      <td>공시차트  주가차트</td>\n",
       "    </tr>\n",
       "    <tr>\n",
       "      <th>3</th>\n",
       "      <td>18:40</td>\n",
       "      <td>엠에프엠코리아</td>\n",
       "      <td>주권매매거래정지(불성실공시법인 지정)</td>\n",
       "      <td>코스닥시장본부</td>\n",
       "      <td>공시차트  주가차트</td>\n",
       "    </tr>\n",
       "    <tr>\n",
       "      <th>4</th>\n",
       "      <td>18:39</td>\n",
       "      <td>엠에프엠코리아</td>\n",
       "      <td>불성실공시법인지정(공시불이행 3건)</td>\n",
       "      <td>코스닥시장본부</td>\n",
       "      <td>공시차트  주가차트</td>\n",
       "    </tr>\n",
       "  </tbody>\n",
       "</table>\n",
       "</div>"
      ],
      "text/plain": [
       "  Unnamed: 0 Unnamed: 1                          Unnamed: 2 Unnamed: 3  \\\n",
       "0      18:46        아이엠                     불성실공시법인지정(공시번복)    코스닥시장본부   \n",
       "1      18:45      서진시스템                     불성실공시법인지정(공시번복)    코스닥시장본부   \n",
       "2      18:42      세원이앤씨  [정정]  유상증자 또는 주식관련사채 등의 발행결과(자율공시)      세원이앤씨   \n",
       "3      18:40    엠에프엠코리아                주권매매거래정지(불성실공시법인 지정)    코스닥시장본부   \n",
       "4      18:39    엠에프엠코리아                 불성실공시법인지정(공시불이행 3건)    코스닥시장본부   \n",
       "\n",
       "   Unnamed: 4  \n",
       "0  공시차트  주가차트  \n",
       "1  공시차트  주가차트  \n",
       "2  공시차트  주가차트  \n",
       "3  공시차트  주가차트  \n",
       "4  공시차트  주가차트  "
      ]
     },
     "execution_count": 30,
     "metadata": {},
     "output_type": "execute_result"
    }
   ],
   "source": [
    "html_unicode = html.prettify()\n",
    "tbl = pd.read_html(html_unicode)\n",
    "\n",
    "tbl[0].head()"
   ]
  },
  {
   "cell_type": "code",
   "execution_count": 39,
   "metadata": {},
   "outputs": [
    {
     "data": {
      "text/html": [
       "<div>\n",
       "<style scoped>\n",
       "    .dataframe tbody tr th:only-of-type {\n",
       "        vertical-align: middle;\n",
       "    }\n",
       "\n",
       "    .dataframe tbody tr th {\n",
       "        vertical-align: top;\n",
       "    }\n",
       "\n",
       "    .dataframe thead th {\n",
       "        text-align: right;\n",
       "    }\n",
       "</style>\n",
       "<table border=\"1\" class=\"dataframe\">\n",
       "  <thead>\n",
       "    <tr style=\"text-align: right;\">\n",
       "      <th></th>\n",
       "      <th>Unnamed: 0</th>\n",
       "      <th>Unnamed: 1</th>\n",
       "      <th>Unnamed: 2</th>\n",
       "      <th>Unnamed: 3</th>\n",
       "      <th>Unnamed: 4</th>\n",
       "    </tr>\n",
       "  </thead>\n",
       "  <tbody>\n",
       "    <tr>\n",
       "      <th>0</th>\n",
       "      <td>18:46</td>\n",
       "      <td>아이엠</td>\n",
       "      <td>불성실공시법인지정(공시번복)</td>\n",
       "      <td>코스닥시장본부</td>\n",
       "      <td>공시차트  주가차트</td>\n",
       "    </tr>\n",
       "    <tr>\n",
       "      <th>1</th>\n",
       "      <td>18:45</td>\n",
       "      <td>서진시스템</td>\n",
       "      <td>불성실공시법인지정(공시번복)</td>\n",
       "      <td>코스닥시장본부</td>\n",
       "      <td>공시차트  주가차트</td>\n",
       "    </tr>\n",
       "    <tr>\n",
       "      <th>2</th>\n",
       "      <td>18:42</td>\n",
       "      <td>세원이앤씨</td>\n",
       "      <td>[정정]  유상증자 또는 주식관련사채 등의 발행결과(자율공시)</td>\n",
       "      <td>세원이앤씨</td>\n",
       "      <td>공시차트  주가차트</td>\n",
       "    </tr>\n",
       "    <tr>\n",
       "      <th>3</th>\n",
       "      <td>18:40</td>\n",
       "      <td>엠에프엠코리아</td>\n",
       "      <td>주권매매거래정지(불성실공시법인 지정)</td>\n",
       "      <td>코스닥시장본부</td>\n",
       "      <td>공시차트  주가차트</td>\n",
       "    </tr>\n",
       "    <tr>\n",
       "      <th>4</th>\n",
       "      <td>18:39</td>\n",
       "      <td>엠에프엠코리아</td>\n",
       "      <td>불성실공시법인지정(공시불이행 3건)</td>\n",
       "      <td>코스닥시장본부</td>\n",
       "      <td>공시차트  주가차트</td>\n",
       "    </tr>\n",
       "    <tr>\n",
       "      <th>5</th>\n",
       "      <td>18:25</td>\n",
       "      <td>세원이앤씨</td>\n",
       "      <td>[정정]  소송등의판결ㆍ결정</td>\n",
       "      <td>세원이앤씨</td>\n",
       "      <td>공시차트  주가차트</td>\n",
       "    </tr>\n",
       "    <tr>\n",
       "      <th>6</th>\n",
       "      <td>18:07</td>\n",
       "      <td>NaN</td>\n",
       "      <td>자기주식매매신청내역(코스닥시장)</td>\n",
       "      <td>코스닥시장본부</td>\n",
       "      <td>NaN</td>\n",
       "    </tr>\n",
       "    <tr>\n",
       "      <th>7</th>\n",
       "      <td>18:07</td>\n",
       "      <td>NaN</td>\n",
       "      <td>직전1개월 일평균대비 거래량 증가율 상위 10종목(코스닥시장)</td>\n",
       "      <td>코스닥시장본부</td>\n",
       "      <td>NaN</td>\n",
       "    </tr>\n",
       "    <tr>\n",
       "      <th>8</th>\n",
       "      <td>18:07</td>\n",
       "      <td>NaN</td>\n",
       "      <td>일중 변동성 상위 10종목(코스닥시장)</td>\n",
       "      <td>코스닥시장본부</td>\n",
       "      <td>NaN</td>\n",
       "    </tr>\n",
       "    <tr>\n",
       "      <th>9</th>\n",
       "      <td>18:07</td>\n",
       "      <td>NaN</td>\n",
       "      <td>일일회전율상위20종목(코스닥시장)</td>\n",
       "      <td>코스닥시장본부</td>\n",
       "      <td>NaN</td>\n",
       "    </tr>\n",
       "    <tr>\n",
       "      <th>10</th>\n",
       "      <td>18:07</td>\n",
       "      <td>NaN</td>\n",
       "      <td>대량매매내역(코스닥시장)</td>\n",
       "      <td>코스닥시장본부</td>\n",
       "      <td>NaN</td>\n",
       "    </tr>\n",
       "    <tr>\n",
       "      <th>11</th>\n",
       "      <td>18:07</td>\n",
       "      <td>NaN</td>\n",
       "      <td>최근 20일중 최저(최고)가 대비 상승(하락)율 상위 10종목(코스닥시장)</td>\n",
       "      <td>코스닥시장본부</td>\n",
       "      <td>NaN</td>\n",
       "    </tr>\n",
       "    <tr>\n",
       "      <th>12</th>\n",
       "      <td>18:07</td>\n",
       "      <td>NaN</td>\n",
       "      <td>자기주식매매체결내역(코스닥시장)</td>\n",
       "      <td>코스닥시장본부</td>\n",
       "      <td>NaN</td>\n",
       "    </tr>\n",
       "    <tr>\n",
       "      <th>13</th>\n",
       "      <td>18:07</td>\n",
       "      <td>NaN</td>\n",
       "      <td>대량매매 내역(코넥스시장)</td>\n",
       "      <td>코넥스시장</td>\n",
       "      <td>NaN</td>\n",
       "    </tr>\n",
       "    <tr>\n",
       "      <th>14</th>\n",
       "      <td>18:06</td>\n",
       "      <td>NaN</td>\n",
       "      <td>일일 회전율 상위 20종목-ELW제외(유가증권시장)</td>\n",
       "      <td>유가증권시장본부</td>\n",
       "      <td>NaN</td>\n",
       "    </tr>\n",
       "  </tbody>\n",
       "</table>\n",
       "</div>"
      ],
      "text/plain": [
       "   Unnamed: 0 Unnamed: 1                                 Unnamed: 2  \\\n",
       "0       18:46        아이엠                            불성실공시법인지정(공시번복)   \n",
       "1       18:45      서진시스템                            불성실공시법인지정(공시번복)   \n",
       "2       18:42      세원이앤씨         [정정]  유상증자 또는 주식관련사채 등의 발행결과(자율공시)   \n",
       "3       18:40    엠에프엠코리아                       주권매매거래정지(불성실공시법인 지정)   \n",
       "4       18:39    엠에프엠코리아                        불성실공시법인지정(공시불이행 3건)   \n",
       "5       18:25      세원이앤씨                            [정정]  소송등의판결ㆍ결정   \n",
       "6       18:07        NaN                          자기주식매매신청내역(코스닥시장)   \n",
       "7       18:07        NaN         직전1개월 일평균대비 거래량 증가율 상위 10종목(코스닥시장)   \n",
       "8       18:07        NaN                      일중 변동성 상위 10종목(코스닥시장)   \n",
       "9       18:07        NaN                         일일회전율상위20종목(코스닥시장)   \n",
       "10      18:07        NaN                              대량매매내역(코스닥시장)   \n",
       "11      18:07        NaN  최근 20일중 최저(최고)가 대비 상승(하락)율 상위 10종목(코스닥시장)   \n",
       "12      18:07        NaN                          자기주식매매체결내역(코스닥시장)   \n",
       "13      18:07        NaN                             대량매매 내역(코넥스시장)   \n",
       "14      18:06        NaN               일일 회전율 상위 20종목-ELW제외(유가증권시장)   \n",
       "\n",
       "   Unnamed: 3  Unnamed: 4  \n",
       "0     코스닥시장본부  공시차트  주가차트  \n",
       "1     코스닥시장본부  공시차트  주가차트  \n",
       "2       세원이앤씨  공시차트  주가차트  \n",
       "3     코스닥시장본부  공시차트  주가차트  \n",
       "4     코스닥시장본부  공시차트  주가차트  \n",
       "5       세원이앤씨  공시차트  주가차트  \n",
       "6     코스닥시장본부         NaN  \n",
       "7     코스닥시장본부         NaN  \n",
       "8     코스닥시장본부         NaN  \n",
       "9     코스닥시장본부         NaN  \n",
       "10    코스닥시장본부         NaN  \n",
       "11    코스닥시장본부         NaN  \n",
       "12    코스닥시장본부         NaN  \n",
       "13      코넥스시장         NaN  \n",
       "14   유가증권시장본부         NaN  "
      ]
     },
     "execution_count": 39,
     "metadata": {},
     "output_type": "execute_result"
    }
   ],
   "source": [
    "tbl[0]"
   ]
  },
  {
   "cell_type": "markdown",
   "metadata": {},
   "source": [
    "1. `prettify()` 함수를 이용해 BeautifulSoup 에서 파싱한 파서 트리를 유니코드 형태로 다시 돌려준다.\n",
    "2. `read_html()` 함수를 통해 테이블을 읽어온다.\n",
    "\n",
    "데이터를 확인하면 화면과 동일한 내용이 들어가있다. POST 형식의 경우 쿼리 내용을 바꾸어 원하는 데이터를 받을 수 있다. 만일 다른 날짜의 공시를 확인하고자 한다면 위의 코드에서 'selDate'만 해당일로 변경해주면 된다."
   ]
  },
  {
   "cell_type": "markdown",
   "metadata": {},
   "source": [
    "# 동적 크롤링과 정규 표현식\n",
    "\n",
    "> 이번 장에서는 좀 더 복잡한 형태의 데이터를 크롤링하기 위한 동적 크롤링 및 정규 표현식의 사용방법에 대해 알아보자\n",
    "\n",
    "## 동적 크롤링이란?\n",
    "\n",
    "- 일반적인 크롤링으로는 정적 데이터, 즉 변하지 않는 데이터만을 수집할 수 있다.\n",
    "- 반면 입력, 클릭, 로그인 등을 통해 데이터가 바뀌는 것을 동적 데이터라 한다. 예를 들어 네이버 지도에서 매장을 검색을 한 후 좌측에서 원하는 선택할 때 마다 이에 해당하는 내용이 뜬다. \n",
    "\n",
    "![]( image/selenium/twosome.png)<br>\n",
    "동적 페이지\n",
    "\n",
    "\n",
    "> 이는 웹페이지에서 사용자가 클릭 등과 같은 조작을 하면 AJAX 호출이 발생하여 그 결과가 페이지의 일부분에만 반영되어 변경되기 때문이다. 즉 매장을 클릭하면 웹브라우저가 연결된 자바스크립트 코드를 실행하여 해당 매장의 상세 정보가 동일한 페이지에 동적으로 표시된다. {numref}`compare`은 정적 페이지와 동적 페이지의 작동 방식의 차이를 나타낸다.\n",
    "\n",
    "![](image/selenium/compare.png)<br>\n",
    "정적 페이지와 동적 페이지의 차이\n",
    "> 셀레니움을 이용할 경우 정적 페이지와 동적 페이지를 모두 크롤링 할 수 있다는 강력함이 있지만, 상대적으로 속도가 느리다. 따라서 정적 페이지는 기존의 방법을 이용한 크롤링을, 동적 페이지는 셀레니움을 이용한 크롤링을 하는 것이 일반적이다.\n",
    "\n",
    "- 정적 크롤링과 동적 크롤링 비교\n",
    "\n",
    "| 구분 | 정적 크롤링 | 동적 크롤링 |\n",
    "| --- | --- | --- |\n",
    "|사용 패키지\t|requests |\tselenium |\n",
    "|수집 커버리지 |정적 페이지 | 정적/동적 페이지 |\n",
    "| 수집 속도 | 빠름 (별도 페이지 조작 필요 X) | 상대적으로 느림 |\n",
    "| 파싱 패키지 | beautifulsoup | beautifulsoup / selenium |\n",
    "\n",
    "\n",
    "- 셀레니움이란 다양한 브라우저(인터넷 익스플로러, 크롬, 사파리 오페라 등) 및 플랫폼에서 웹 응용 프로그램을 테스트할 수 있게 해주는 라이브러리다. \n",
    "- 웹 자동화 테스트 용도로 개발이 되었기에 실제 브라우저를 사용하며, 페이지가 변화하는 것도 관찰이 가능하기에 동적 크롤링에 사용할 수 있다.\n",
    "\n",
    "### 셀레니움 실습하기\n"
   ]
  },
  {
   "cell_type": "code",
   "execution_count": 2,
   "metadata": {},
   "outputs": [],
   "source": [
    "from selenium import webdriver\n",
    "from selenium.webdriver.chrome.service import Service\n",
    "from webdriver_manager.chrome import ChromeDriverManager\n",
    "from selenium.webdriver.common.by import By\n",
    "from selenium.webdriver.common.keys import Keys\n",
    "import time\n",
    "from bs4 import BeautifulSoup\n",
    "\n",
    "driver = webdriver.Chrome(service=Service(ChromeDriverManager().install()))"
   ]
  },
  {
   "cell_type": "markdown",
   "metadata": {},
   "source": [
    "![](image/selenium/selenium_open.png)<br>\n",
    "셀레니움: 창 열기\n",
    "- webdriver.Chrome(service=Service(ChromeDriverManager().install()))` 코드를 실행하면 크롬 브라우저의 버전을 탐색한 다음, \n",
    "- 버전에 맞는 웹드라이버를 다운로드하여 해당 경로를 셀레니움에 전달해준다.\n",
    "- selenium_open`와 같이 크롬 창이 열리며, 좌측 상단에 'Chrome이 자동화된 테스트 소프트웨어에 의해 제어되고 있습니다.'라는 문구가 뜬다. \n",
    "- 이제 파이썬 코드를 이용해 해당 페이지를 조작할 수 있다. "
   ]
  },
  {
   "cell_type": "code",
   "execution_count": 3,
   "metadata": {},
   "outputs": [
    {
     "data": {
      "text/plain": [
       "'html lang=\"ko\" class=\"fzoom\" data-dark=\"false\"><head><script async=\"\" type=\"text/javascript\" src=\"https://ssl.pstatic.net/tveta/libs/ndpsdk/prod/ndp-core.js\"></script> <meta charset=\"utf-8\"> <meta name=\"Referrer\" content=\"origin\"> <meta http-equiv=\"X-UA-Compatible\" content=\"IE=edge\"> <meta name=\"viewport\" content=\"width=1190\"> <title>NAVER</title> <meta name=\"apple-mobile-web-app-title\" content=\"NAVER\"> <meta name=\"robots\" content=\"index,nofollow\"> <meta name=\"description\" content=\"네이버 메인에서 다양한 정보와 유용한 컨텐츠를 만나 보세요\"> <meta property=\"og:title\" content=\"네이버\"> <meta property=\"og:url\" content=\"https://www.naver.com/\"> <meta property=\"og:image\" content=\"https://s.pstatic.net/static/www/mobile/edit/2016/0705/mobile_212852414260.png\"> <meta property=\"og:description\" content=\"네이버 메인에서 다양한 정보와 유용한 컨텐츠를 만나 보세요\"> <meta name=\"twitter:card\" content=\"summary\"> <meta name=\"twitter:title\" content=\"\"> <meta name=\"twitter:url\" content=\"https://www.naver.com/\"> <meta name=\"twitter:image\" content=\"https:/'"
      ]
     },
     "execution_count": 3,
     "metadata": {},
     "output_type": "execute_result"
    }
   ],
   "source": [
    "url = 'https://www.naver.com/'\n",
    "driver.get(url)\n",
    "driver.page_source[1:1000]"
   ]
  },
  {
   "cell_type": "markdown",
   "metadata": {},
   "source": [
    "\n",
    "![](image/selenium/selenium_naver.png)<br>\n",
    "셀레니움을 이용한 네이버 접속\n",
    "\n",
    "- `driver.get()` 내에 URL 주소를 입력하면 해당 주소로 이동한다. 또한 `driver.page_source`를 통해 열려있는 창의 HTML 코드를 확인할 수도 있다. \n",
    "- 이제 네이버 메인에서 [뉴스]버튼을 누르는 동작을 실행해보자. 개발자도구 화면을 통해 확인해보면 [뉴스] 탭은 아래 HTML에 위치하고 있다.\n",
    "\n",
    "<a href=\"https://news.naver.com/\" class=\"link_service\" target=\"_blank\"><span class=\"service_icon type_news\"></span><span class=\"service_name\">뉴스</span></a>\n",
    "\n",
    "\n",
    "위 정보를 통해 해당 부분을 클릭해보도록 하자.\n",
    "\n",
    "![](image/selenium/selenium_news.png)<br>\n",
    "뉴스 탭의 HTML 확인\n"
   ]
  },
  {
   "cell_type": "code",
   "execution_count": 4,
   "metadata": {},
   "outputs": [],
   "source": [
    "driver.find_element(By.LINK_TEXT , value = '뉴스').click()"
   ]
  },
  {
   "cell_type": "markdown",
   "metadata": {},
   "source": [
    "![](image/selenium/selenium_news2.png)\n",
    "새로운 탭이 열리면서 뉴스 화면이 열린다. 브라우저 상에서 보이는 버튼, 검색창, 사진, 테이블, 동영상 등을 엘레먼트(element, 요소)라고 한다. `find_element()`는 다양한 방법으로 엘레먼트에 접근하게 해주며, `By.*` 를 통해 어떠한 방법으로 엘레먼트에 접근할지 선언한다. LINK_TEXT의 경우 링크가 달려 있는 텍스트로 접근하며, `value = '뉴스'`, 즉 뉴스라는 단어가 있는 엘레먼트로 접근한다. `click()` 함수는 마우스 클릭을 실행하며 결과 적으로 뉴스 탭을 클릭한 후 페이지가 이동되는 것을 확인할 수 있다"
   ]
  },
  {
   "cell_type": "code",
   "execution_count": 5,
   "metadata": {},
   "outputs": [],
   "source": [
    "driver.switch_to.window(driver.window_handles[1])\n",
    "driver.close()"
   ]
  },
  {
   "cell_type": "markdown",
   "metadata": {},
   "source": [
    "`switch_to.window()` 메서드는 인자로 전달된 창의 핸들로 드라이버의 컨트롤을 전환한다. 즉 `driver.window_handles[1]`를 통해 현재 열린 두번째 창으로 포커스를 이동한다. 이 후 `close()`를 통해 해당 페이지를 닫는다.\n",
    "\n",
    "이제 특정 검색어를 검색하는 방법에 대해 알아보자. 먼저 검색창의 위치가 어디에 있는지 확인해보면 query라는 id와 search_input라는 class에 위치하고 있다.\n",
    "\n",
    "\n",
    "![](image/selenium/selenium_search.png)<br>\n",
    "검색 창 위치 확인하기\n"
   ]
  },
  {
   "cell_type": "code",
   "execution_count": 6,
   "metadata": {},
   "outputs": [],
   "source": [
    "driver.switch_to.window(driver.window_handles[0])\n",
    "driver.find_element(By.CLASS_NAME, value = 'search_input').send_keys('퀀트 투자 포트폴리오 만들기')"
   ]
  },
  {
   "cell_type": "markdown",
   "metadata": {},
   "source": [
    "![](image/selenium/selenium_send_keys.png)<br>\n",
    "검색어 입력하기\n",
    "- 먼저 `driver.switch_to.window(driver.window_handles[0])`를 통해 현재 탭으로 다시 포커스를 이동\n",
    "\n",
    "`find_element()` 내에 By.CLASS_NAME을 입력하면 클래스 명에 해당하는 엘레먼트에 접근하며, 여기서는 검색창에 접근한다. 그 후 `send_keys()` 내에 텍스트를 입력하면 해당 내용이 웹페이지에 입력된다. 이제 웹페이지에서 검색 버튼 해당하는 돋보기 모양을 클릭하거나 엔터키를 누르면 검색이 실행된다. 먼저 돋보기 모양의 위치를 확인해보면 btn_search 클래스에 위치하고 있다.\n",
    "\n",
    "![](image/selenium/selenium_searchbutton.png)<br>\n",
    "검색 버튼의 위치 확인"
   ]
  },
  {
   "cell_type": "code",
   "execution_count": 7,
   "metadata": {},
   "outputs": [],
   "source": [
    "driver.find_element(By.CLASS_NAME, value = 'btn_search').send_keys(Keys.ENTER)"
   ]
  },
  {
   "cell_type": "markdown",
   "metadata": {},
   "source": [
    "![](image/selenium/selenium_enter.png)<br>\n",
    "엔터키 제어하기\n",
    "- `find_element(By.CLASS_NAME, value = 'btn_search')`를 통해 검색 버튼에 접근한다. \n",
    "- 그 후 `send_keys(Keys.ENTER)`를 입력하면 엔터키를 누르는 동작이 실행된다. 페이지를 확인해보면 검색이 실행된 후 결과를 확인할 수 있다. \n",
    "\n",
    "- 이번에는 다른 단어를 검색해보도록 하자. 웹에서 기존 검색어 내용을 지운 후, 검색어를 입력하고, 버튼을 클릭해야 한다. 이를 위해 검색어 박스와 검색 버튼의 위치를 찾아보면 다음과 같다.\n",
    "\n",
    "    - 검색어 박스: nx_query id\n",
    "    - 검색 버튼: bt_search 클래스\n",
    "\n",
    "![]( image/selenium/selenium_research.png)<br>\n",
    "검색어 박스와 검색 버튼의 위치 확인"
   ]
  },
  {
   "cell_type": "code",
   "execution_count": 8,
   "metadata": {},
   "outputs": [],
   "source": [
    "driver.find_element(By.ID, value = 'nx_query').clear()\n",
    "driver.find_element(By.ID, value = 'nx_query').send_keys('이현열 퀀트')\n",
    "driver.find_element(By.CLASS_NAME, value = 'bt_search').click()"
   ]
  },
  {
   "cell_type": "markdown",
   "metadata": {},
   "source": [
    "![](image/selenium/selenium_research2.png)<br>\n",
    "새로운 단어 검색하기\n",
    "\n",
    "\n",
    "1. 검색어 박스(nx_query)에 접근한 후, `clear()`를 실행하면 모든 텍스트가 지워진다.\n",
    "2. `send_keys('이현열 퀀트')`를 실행하여 새로운 검색어를 입력한다.\n",
    "3. 검색 버튼(bt_search)에 접근한 후, `click()`을 실행하여 해당 버튼을 클릭한다.\n",
    "\n",
    "- 이번에는 블로그에서 [최신순] 버튼을 클릭하는 동작을 실행 : 이번에는 XPATH를 이용해 접근해보도록 하자. \n",
    "    - XPATH란 XML 중 특정 값의 태그나 속성을 찾기 쉽게 만든 주소다.\n",
    "    - 예를 들어 윈도우 탐색기에서는 특정 폴더의 위치가 '**C:\\Program Files**'과 같이 주소처럼 보이며 이는 윈도우의 PATH 문법이다.\n",
    "- XML 역시 이와 동일한 개념의 XPATH가 있다. 웹페이지에서 XPATH를 찾는 법은 다음과 같다.\n",
    "\n",
    "1. 개발자도구 화면에서 위치를 찾고 싶은 부분에서 마우스 우클릭을 한다.\n",
    "2. [Copy → Copy Xpath]를 선택한다.\n",
    "\n",
    "![](image/selenium/selenium_xpath.png)<br>\n",
    "XPATH 찾기 및 복사하기\n",
    "\n",
    "\n",
    "위 과정을 통해 XPATH가 복사된다. 메모장을 확인해보면 [최신순] 부분의 XPATH는 다음과 같다.\n",
    "\n",
    "\n",
    "//*[@id=\"snb\"]/div[2]/ul/li[1]/div/div/a[2]\n",
    "\n",
    "\n",
    "이를 이용해 해당 부분을 클릭하는 동작을 실행해보자. 실행 순서는 [블로그 클릭 → 옵션 클릭 → 최신순 클릭] 순이다."
   ]
  },
  {
   "cell_type": "code",
   "execution_count": 9,
   "metadata": {},
   "outputs": [],
   "source": [
    "driver.find_element(By.XPATH, value = '//*[@id=\"lnb\"]/div[1]/div/div[1]/div/div[1]/div[1]/a').click()\n",
    "driver.find_element(By.XPATH, value = '//*[@id=\"snb\"]/div[1]/div/div[2]/a').click()\n",
    "driver.find_element(By.XPATH, value = '//*[@id=\"snb\"]/div[2]/ul/li[1]/div/div/a[2]').click()"
   ]
  },
  {
   "cell_type": "markdown",
   "metadata": {},
   "source": [
    "![](image/selenium/selenium_new.png)<br>\n",
    "최신순 정렬\n",
    "위의 순서대로 클릭하는 동작을 수행하여 검색어가 최신순으로 정렬되었다. 이제 page down 기능을 수행해보도록 하자."
   ]
  },
  {
   "cell_type": "code",
   "execution_count": 11,
   "metadata": {},
   "outputs": [],
   "source": [
    "driver.execute_script('window.scrollTo(0, document.body.scrollHeight);')\n",
    "# driver.find_element(By.TAG_NAME, value = 'body').send_keys(Keys.PAGE_DOWN)"
   ]
  },
  {
   "cell_type": "markdown",
   "metadata": {},
   "source": [
    "- `document.body.scrollHeight`는 웹페이지의 높이\n",
    "- `window.scrollTo(0, document.body.scrollHeight);`는 웹페이지의 가장 하단까지 스크롤을 내리라는 자바스크립트 명령어\n",
    "- `driver.execute_script()`를 통해 해당 명령어를 실행하면 웹페이지가 아래로 스크롤이 이동\n",
    "- send_keys(Keys.PAGE_DOWN)` 는 키보드의 페이지다운(PgDn) 버튼을 누르는 동작이며 이 역시 페이지가 아래로 이동시킨다.\n",
    "\n",
    "- 결과를 살펴보면 스크롤이 끝까지 내려간 후 얼마간의 로딩이 있은 후에 새로운 데이터가 생성\n",
    "- 이처럼 유튜브나 인스타그램, 페이스북 등 많은 검색결과를 보여줘야 하는 경우 웹페이지 상에서 한 번에 모든 데이터를 보여주기 보다는 스크롤을 가장 아래로 위치하면 로딩을 거쳐 추가적인 결과를 보여준다. 따라서 스크롤을 한 번만 내리는 것이 아닌 모든 결과가 나올 때까지 내리는 동작을 실행해야 한다."
   ]
  },
  {
   "cell_type": "code",
   "execution_count": 10,
   "metadata": {},
   "outputs": [],
   "source": [
    "prev_height = driver.execute_script('return document.body.scrollHeight')\n",
    "\n",
    "while True:\n",
    "    driver.execute_script('window.scrollTo(0, document.body.scrollHeight);')\n",
    "    time.sleep(2)\n",
    "    \n",
    "    curr_height = driver.execute_script('return document.body.scrollHeight')\n",
    "    if curr_height == prev_height:\n",
    "        break\n",
    "    prev_height = curr_height"
   ]
  },
  {
   "cell_type": "markdown",
   "metadata": {},
   "source": [
    "1. `return document.body.scrollHeight`은 현재의 창 높이는 반환하는 자바스크립트 명령어이며, 이를 prev_height에 저장한다.\n",
    "2. while문을 통해 반복문을 실행한다.\n",
    "3. 셀레니움을 통해 페이지의 최하단으로 스크롤을 내린다.\n",
    "4. 페이지가 로딩되는 시간을 기다리기 위해 2초간 슬립을 준다.\n",
    "5. curr_height에 현재 창 높이를 저장한다.\n",
    "6. curr_height와 prev_height가 동일하다는 의미는 페이지가 끝까지 내려왔다는 의미이다. 따라서 이 경우 `break`를 통해 while문을 멈추며, 그렇지 않을 경우 다시 스크롤을 내리는 동작을 반복한다.\n",
    "7. prev_height에 새로운 창 높이를 입력한다.\n",
    "\n",
    "이제 모든 검색 결과가 나타났으면 이전 장에서 살펴보았던 정적 크롤링을 통해 데이터 수집이 가능하다. 제목 부분을 확인해보면 **title_link** 클래스에 위치하고 있으며, 이를 통해 모든 제목을 크롤링해보자."
   ]
  },
  {
   "cell_type": "code",
   "execution_count": 11,
   "metadata": {},
   "outputs": [
    {
     "data": {
      "text/plain": [
       "['월가의 퀀트투자 바이블, 스마트 베타',\n",
       " '신진오님의 시선으로 본 투자의 세계해석(벤저민 그레이엄 현명한 투자자 해석) - 현명한 투자자2 해제(신진오)',\n",
       " '2019-1학기 금융공학회 기록',\n",
       " '2023년 12월 주식 투자 결산',\n",
       " '[독서기록 #34] 헤지펀드 열전 『금융시장에서 돈을 벌고 싶은데, 방법을 모르는 사람들은 꼭 읽어봐야... ',\n",
       " '[책] 파이썬을 이용한 퀀트 투자 포트폴리오 만들기 (이현열)',\n",
       " '[이런저런 공부] 포트폴리오 최적화의 예',\n",
       " '20231122 멱(冪)파레토 독서법',\n",
       " '[책] R을 이용한 퀀트 투자 포트폴리오 만들기 (이현열)',\n",
       " '에드워드 소프의 생애에 관한 영상']"
      ]
     },
     "execution_count": 11,
     "metadata": {},
     "output_type": "execute_result"
    }
   ],
   "source": [
    "html = BeautifulSoup(driver.page_source, 'lxml')\n",
    "txt = html.find_all(class_ = 'title_link')\n",
    "txt_list = [i.get_text() for i in txt]\n",
    "\n",
    "txt_list[0:10]"
   ]
  },
  {
   "cell_type": "markdown",
   "metadata": {},
   "source": [
    "1. `driver.page_source`를 통해 현재 웹페이지의 HTML 정보를 가져올 수 있으며, 이를 BeautifulSoup 객체로 만들어준다.\n",
    "2. `find_all()` 함수를 통해 제목 부분에 위치하는 데이터를 모두 불러온다.\n",
    "3. for문을 통해 텍스트만 추출한다.\n",
    "\n",
    "이처럼 동적 페이지의 경우도 셀레니움을 통해 웹페이지를 제어한 후 `BeautifulSoup` 패키지를 사용해 원하는 부분을 추출하면 얼마든지 크롤링이 가능하다."
   ]
  },
  {
   "cell_type": "code",
   "execution_count": 12,
   "metadata": {},
   "outputs": [],
   "source": [
    "driver.quit()"
   ]
  },
  {
   "cell_type": "markdown",
   "metadata": {},
   "source": [
    "`driver.quit()`을 실행하면 열려있던 페이지가 종료된다.\n",
    "\n",
    "### 셀레니움 명령어 정리\n",
    "\n",
    "마지막으로 셀레니움의 각종 명령어는 다음과 같다.\n",
    "\n",
    "#### 브라우저 관련\n",
    "\n",
    "- `webdriver.Chrome()`: 브라우저 열기\n",
    "- `driver.close()`: 현재 탭 닫기\n",
    "- `driver.quit()`: 브라우저 닫기\n",
    "- `driver.back()`: 뒤로 가기\n",
    "- `driver.forward()`: 앞으로 가기\n",
    "\n",
    "#### 엘레먼트 접근\n",
    "\n",
    "`driver.find_element(by = 'id', value = 'value')` 중 by = 'id' 부분에 해당하는 방법에 따라 엘레먼트에 접근한다. 또한 `find_element()`는 해당하는 엘레먼트가 여러 개 있을 경우 첫 번째 요소 하나만을 반환하며, `find_elements()`는 여러 엘레먼트가 있을 경우 리스트로 반환한다.\n",
    "\n",
    "- `By.ID`: 태그의 ID 값으로 추출\n",
    "- `By.NAME`: 태그의 NAME 값으로 추출\n",
    "- `By.XPATH`: 태그의 XPATH 값으로 추출\n",
    "- `By.LINK_TEXT`: 링크에 존재하는 텍스트로 추출\n",
    "- `By.TAG_NAME`: 태그명으로 추출\n",
    "- `By.CLASS_NAME`: 태그의 클래스명으로 추출\n",
    "- `By.CSS_SELECTOR`: CSS 선택자로 추출\n",
    "\n",
    "#### 동작\n",
    "\n",
    "엘레먼트에 접근한 후 각종 동작을 수행할 수 있다.\n",
    "\n",
    "- `click()`: 엘레먼트를 클릭\n",
    "- `clear()`: 텍스트 삭제\n",
    "- `send_keys(text)`: 텍스트 입력\n",
    "- `send_keys(Keys.CONTROL + 'v')`: 컨트롤 + v 누르기\n",
    "\n",
    "#### 자바스크립트 코드 실행\n",
    "\n",
    "`execute_script()` 내에 자바스크립트 코드를 입력하여 여러가지 동작을 수행할 수 있다.\n",
    "\n",
    "```{note}\n",
    "파이썬 내 셀레니움은 아래 페이지에 상세하게 설명되어 있다.\n",
    "\n",
    "https://selenium-python.readthedocs.io/\n",
    "```\n",
    "\n",
    "## 정규 표현식\n",
    "\n",
    "정규 표현식(정규식)이란 프로그래밍에서 문자열을 다룰 때 문자열의 일정한 패턴을 표현하는 일종의 형식 언어를 말하며, 영어로는 regular expression를 줄여 일반적으로 regex라 표현한다. 정규 표현식은 파이썬만의 고유 문법이 아니라 문자열을 처리하는 모든 프로그래밍에서 사용되는 공통 문법이기에 한 번 알아두면 파이썬 뿐만 아니라 다른 언어에서도 쉽게 적용할 수 있다. 본 책의 내용은 아래 페이지의 내용을 참고하여 작성되었다.\n",
    "\n",
    "```\n",
    "https://docs.python.org/3.10/howto/regex.html\n",
    "```\n",
    "\n",
    "### 정규 표현식을 알아야 하는 이유\n",
    "\n",
    "만약 우리가 크롤링한 결과물이 다음과 같다고 하자.\n",
    "\n",
    "```\n",
    "\"동 기업의 매출액은 전년 대비 29.2% 늘어났습니다.\"\n",
    "```\n",
    "\n",
    "만일 이 중에서 [29.2%]에 해당하는 데이터만 추출하려면 어떻게 해야 할까? 얼핏 보기에도 꽤나 복잡한 방법을 통해 클렌징을 해야 한다. 그러나 정규 표현식을 이용할 경우 이는 매우 간단한 작업이다."
   ]
  },
  {
   "cell_type": "code",
   "execution_count": 13,
   "metadata": {},
   "outputs": [
    {
     "data": {
      "text/plain": [
       "['29.2%']"
      ]
     },
     "execution_count": 13,
     "metadata": {},
     "output_type": "execute_result"
    }
   ],
   "source": [
    "import re\n",
    "\n",
    "data = '동 기업의 매출액은 전년 대비 29.2% 늘어났습니다.'\n",
    "re.findall('\\d+.\\d+%', data)"
   ]
  },
  {
   "cell_type": "markdown",
   "metadata": {},
   "source": [
    "'\\d+.\\d+%'라는 표현식은 '숫자.숫자%'의 형태를 나타내는 정규 표현식이며, re 모듈의 `findall()` 함수를 통해 텍스트에서 해당 표현식의 글자를 추출할 수 있다. 이제 정규 표현식의 종류에는 어떠한 것들이 있는지 알아보도록 하자.\n",
    "\n",
    "### 메타문자\n",
    "\n",
    "프로그래밍에서 메타 문자(Meta Characters)란 문자가 가진 원래의 의미가 아닌 특별한 용도로 사용되는 문자를 말한다. 정규 표현식에서 사용되는 메타 문자는 다음과 같다.\n",
    "\n",
    "```\n",
    ". ^ $ * + ? { } [ ] \\ | ( )\n",
    "```\n",
    "\n",
    "정규 표현식에 메타 문자를 사용하면 특별한 기능을 갖는다.\n",
    "\n",
    "#### 문자 클래스([ ])\n",
    "\n",
    "정규 표현식에서 대괄호([ ])는 **대괄호 안에 포함된 문자들 중 하나와 매치**를 뜻한다. 예를 들어 'apple', 'blueberry', 'coconut'이 정규표현식이 [ae]와 어떻게 매치되는지 살펴보자.\n",
    "\n",
    "- 'apple'에는 정규표현식 내의 a와 e가 모두 존재하므로 매치된다.\n",
    "- 'blueberry'에는 e가 존재하므로 매치된다.\n",
    "- 'coconut'에는 a와 e 중 어느 문자도 포함하고 있지 않으므로 매치되지 않는다.\n",
    "\n",
    "만일 [ ] 안의 두 문자 사이에 하이픈(-)을 입력하면 두 문자 사이의 범위를 의미한다. 즉 [a-e]라는 정규 표현식은 [abcde]와 동일하며, [0-5]는 [012345]와 동일하다. 흔히 [a-z]는 알파벳 소문자를, [A-Z]는 알파벳 대문자를, [a-zA-Z]는 모든 알파벳을, [0-9]는 모든 숫자를 뜻한다. 또한 [ ]안의 ^는 반대를 뜻한다. 즉 [^0-9]는 숫자를 제외한 문자만 매치를, [^abc]는 a,b,c를 제외한 모든 문자와 매치를 뜻한다.\n",
    "\n",
    "자주 사용하는 문자 클래스의 경우 별도의 표기법이 존재하여 훨씬 간단하게 표현할 수 있다.\n",
    "\n",
    "```{table} 자주 사용하는 문자 클래스\n",
    ":name: character_class\n",
    "| 문자 클래스 | 설명 |\n",
    "| --- | --- |\n",
    "| \\d | 숫자와 매치, [0-9]와 동일한 표현식 |\n",
    "| \\D | 숫자가 아닌 것 매치, [^0-9]와 동일한 표현식 |\n",
    "| \\s | whitespace(공백) 문자와 매치, [ \\t\\n\\r\\f\\v]와 동일한 표현식 |\n",
    "| \\S | whitespace 문자가 아닌 것과 매치, [^\\t\\n\\r\\f\\v]와 동일한 표현식 |\n",
    "| \\w | 문자+숫자(alphanumeric)와 매치, [a-zA-Z0-9]와 동일한 표현식 |\n",
    "| \\W | 문자+숫자(alphanumeric)가 아닌 문자와 매치, [^a-zA-Z0-9]와 동일한 표현식 |\n",
    "```\n",
    "\n",
    "{numref}`character_class`에서 알 수 있듯이 대문자로 표현된 문자 클래스는 소문자로 표현된 것의 반대를 의미한다.\n",
    "\n",
    "#### 모든 문자(.)\n",
    "\n",
    "Dot(.) 메타 문자는 줄바꿈 문자인 \\n을 제외한 모든 문자와 매치되며, Dot 하나당 임의의 한 문자를 나타낸다. 정규 표현식 `a.e`는 'a+모든문자+e'의 형태다. 즉 a와 e 문자 사이에는 어떤 문자가 들어가도 모두 매치가 된다. 'abe', 'ace', 'abate', 'ae'의 경우 정규식 `a.e`와 어떻게 매치되는지 살펴보자.\n",
    "\n",
    "- 'abe': a와 e 사이에 b라는 문자가 있으므로 정규식과 매치된다.\n",
    "- 'ace': a와 e 사이에 c라는 문자가 있으므로 정규식과 매치된다.\n",
    "- 'abate': a와 e 사이에 문자가 하나가 아닌 여러개가 있으므로 매치되지 않는다.\n",
    "- 'ae': a와 e 사이에 문자가 없으므로 매치되지 않는다.\n",
    "\n",
    "만일 정규식이 a[.]c의 형태일 경우는 'a.c'를 의미한다. 즉 a와 c사이의 dot(.)은 모든 문자를 의미하는 것이 아닌 문자 그대로인 .를 의미한다.\n",
    "\n",
    "#### 반복문\n",
    "\n",
    "정규 표현식에는 반복을 의미하는 여러 메타문자가 존재한다. 먼저 `*`의 경우 `*` 바로 앞에 있는 문자가 0부터 무한대로 반복될 수 있다는 의미다.  `ca*t` 이라는 정규식은 c 다음의 a가 0부터 무한대로 반복되고 t로 끝이난다는 의미로, 'ct', 'cat', 'caat', 'caaaat' 모두 정규식과 매치된다.\n",
    "\n",
    "반면 메타문자 `+`는 최소 1번 이상 반복될 때 사용된다. `ca+t` 라는 정규식은 c 다음의 a가 1번 이상 반복된 후 t로 끝남을 의미하며, 위 예제에서 ct는 a가 없으므로 매치되지 않는다.\n",
    "\n",
    "메타문자 `{ }`를 사용하면 반복 횟수를 고정할 수 있다. 즉 {m, n}은 반복 횟수가 m부터 n까지 고정된다. m 혹은 n은 생략할 수도 있으며, {3, }의 경우 반복 횟수가 3 이상, {, 3}의 경우 반복 횟수가 3 이하를 의미한다. \n",
    "\n",
    "메타문자 `?`는 {0, 1}과 동일하다. 즉 `?` 앞의 문자가 있어도 되고 없어도 된다는 의미다.\n",
    "\n",
    "#### 기타 메타문자\n",
    "\n",
    "이 외에도 정규 표현식에는 다양한 메타문자가 존재한다.\n",
    "\n",
    "- `|`: or과 동일한 의미다. 즉 `expr1 | expr2`라는 정규식은 expr1 혹은 expr2 라는 의미로써, 둘 중 하나의 형태만 만족해도 매치가 된다.\n",
    "- `^`: 문자열의 맨 처음과 일치함을 의미한다. 즉 `^a` 정규식은 a로 시작하는 단어와 매치가 된다.\n",
    "- `$`: `^`와 반대의 의미로써, 문자열의 끝과 매치함을 의미한다. 즉, `a$`는 a로 끝나는 단어와 매치가 된다.\n",
    "- `\\`: 메타문자의 성질을 없앨때 붙인다. 즉 `^`이나 `$` 문자를 메타문자가 아닌 문자 그 자체로 매치하고 싶은 경우 `\\^`, `\\$`의 형태로 사용한다.\n",
    "- `()`: 괄호안의 문자열을 하나로 묶어 취급한다.\n",
    "\n",
    "### 정규식을 이용한 문자열 검색\n",
    "\n",
    "대략적인 정규 표현식을 익혔다면, 실제 예제를 통해 문자열을 검색하는 법을 알아보자. 파이썬에서는 re(regular expression) 모듈을 통해 정규 표현식을 사용할 수 있다. 정규 표현식과 관련된 메서드는 다음과 같다.\n",
    "\n",
    "- `match()`: 시작부분부터 일치하는 패턴을 찾는다.\n",
    "- `search()`: 첫 번째 일치하는 패턴을 찾는다.\n",
    "- `findall()`: 일치하는 모든 패턴을 찾는다.\n",
    "- `finditer()`: `findall()`과 동일하지만 그 결과로 반복 가능한 객체를 반환한다.\n",
    "\n",
    "간단한 실습을 해보도록 하자.\n",
    "\n",
    "#### `match()`"
   ]
  },
  {
   "cell_type": "code",
   "execution_count": 14,
   "metadata": {},
   "outputs": [
    {
     "data": {
      "text/plain": [
       "re.Pattern"
      ]
     },
     "execution_count": 14,
     "metadata": {},
     "output_type": "execute_result"
    }
   ],
   "source": [
    "import re\n",
    "\n",
    "p = re.compile('[a-z]+')\n",
    "type(p)"
   ]
  },
  {
   "cell_type": "markdown",
   "metadata": {},
   "source": [
    "파이썬에서는 re 모듈을 통해 정규 표현식을 사용할 수 있으며, `re.compile()`을 통해 정규 표현식을 컴파일하여 변수에 저장한 후 사용할 수 있다. `[a-z]+`는 알파벳 소문자가 1부터 여러개까지를 의미하는 표현식이다."
   ]
  },
  {
   "cell_type": "code",
   "execution_count": 15,
   "metadata": {},
   "outputs": [
    {
     "name": "stdout",
     "output_type": "stream",
     "text": [
      "<re.Match object; span=(0, 6), match='python'>\n"
     ]
    }
   ],
   "source": [
    "m = p.match('python')\n",
    "print(m)"
   ]
  },
  {
   "cell_type": "markdown",
   "metadata": {},
   "source": [
    "`match()` 함수를 통해 처음부터 정규 표현식과 일치하는 패턴을 찾을 수 있다. python이라는 단어는 알파벳이 여러개가 있는 경우이므로 match 객체를 반환한다."
   ]
  },
  {
   "cell_type": "code",
   "execution_count": 16,
   "metadata": {},
   "outputs": [
    {
     "data": {
      "text/plain": [
       "'python'"
      ]
     },
     "execution_count": 16,
     "metadata": {},
     "output_type": "execute_result"
    }
   ],
   "source": [
    "m.group()"
   ]
  },
  {
   "cell_type": "markdown",
   "metadata": {},
   "source": [
    "match 객체 뒤에 `group()`을 입력하면 매치된 텍스트만 출력할 수 있다."
   ]
  },
  {
   "cell_type": "code",
   "execution_count": 17,
   "metadata": {},
   "outputs": [
    {
     "name": "stdout",
     "output_type": "stream",
     "text": [
      "None\n"
     ]
    }
   ],
   "source": [
    "m = p.match('Use python')\n",
    "print(m)"
   ]
  },
  {
   "cell_type": "markdown",
   "metadata": {},
   "source": [
    "'Use python 이라는 문자열은 맨 처음의 문자 'U'가 대문자로써, 소문자를 의미하는 정규 표현식 `[a-z]+`와는 매치되지 않아 None을 반환한다."
   ]
  },
  {
   "cell_type": "code",
   "execution_count": 18,
   "metadata": {},
   "outputs": [
    {
     "name": "stdout",
     "output_type": "stream",
     "text": [
      "None\n"
     ]
    }
   ],
   "source": [
    "m = p.match('PYTHON')\n",
    "print(m)"
   ]
  },
  {
   "cell_type": "markdown",
   "metadata": {},
   "source": [
    "PYTHON이라는 단어는 대문자이므로 이 역시`[a-z]+`와는 매치되지 않는다. 이 경우 대문자에 해당하는 `[A-Z]+` 표현식을 사용해야 매치가 된다."
   ]
  },
  {
   "cell_type": "code",
   "execution_count": 19,
   "metadata": {},
   "outputs": [
    {
     "name": "stdout",
     "output_type": "stream",
     "text": [
      "<re.Match object; span=(0, 3), match='파이썬'>\n"
     ]
    }
   ],
   "source": [
    "p = re.compile('[가-힣]+')\n",
    "m = p.match('파이썬')\n",
    "print(m)"
   ]
  },
  {
   "cell_type": "markdown",
   "metadata": {},
   "source": [
    "한글의 경우 알파벳이 아니므로 모든 한글을 뜻하는 `[가-힣]+` 표현식을 사용하면 매치가 된다.\n",
    "\n",
    "#### `search()`\n",
    "\n",
    "`search()` 함수는 첫 번째 일치하는 패턴을 찾는다."
   ]
  },
  {
   "cell_type": "code",
   "execution_count": 20,
   "metadata": {},
   "outputs": [
    {
     "name": "stdout",
     "output_type": "stream",
     "text": [
      "<re.Match object; span=(0, 6), match='python'>\n"
     ]
    }
   ],
   "source": [
    "p = re.compile('[a-z]+')\n",
    "m = p.search('python')\n",
    "print(m)"
   ]
  },
  {
   "cell_type": "markdown",
   "metadata": {},
   "source": [
    "'python'이라는 문자에 search 메서드를 수행하면 match 메서드를 수행한 것과 결과가 동일하다."
   ]
  },
  {
   "cell_type": "code",
   "execution_count": 21,
   "metadata": {},
   "outputs": [
    {
     "name": "stdout",
     "output_type": "stream",
     "text": [
      "<re.Match object; span=(1, 3), match='se'>\n"
     ]
    }
   ],
   "source": [
    "m = p.search('Use python')\n",
    "print(m)"
   ]
  },
  {
   "cell_type": "markdown",
   "metadata": {},
   "source": [
    "'Use python' 문자의 경우 첫번째 문자인 'U'는 대문자라 매치가 되지 않지만, 그 이후의 문자열 'se'는 소문자로 구성되어 있기에 매치가 된다. 이처럼 `search()`는 문자열의 처음부터 검색하는 것이 아니라 문자열 전체를 검색하며, 첫 번째로 일치하는 패턴을 찾기에 띄어쓰기 이후의 'python'은 매치되지 않는다.\n",
    "\n",
    "#### `findall()`\n",
    "\n",
    "`findall()`은 하나가 아닌 일치하는 모든 패턴을 찾는다."
   ]
  },
  {
   "cell_type": "code",
   "execution_count": 22,
   "metadata": {},
   "outputs": [
    {
     "name": "stdout",
     "output_type": "stream",
     "text": [
      "['Life', 'is', 'too', 'short', 'You', 'need', 'Python']\n"
     ]
    }
   ],
   "source": [
    "p = re.compile('[a-zA-Z]+')\n",
    "m = p.findall('Life is too short, You need Python.')\n",
    "print(m)"
   ]
  },
  {
   "cell_type": "markdown",
   "metadata": {},
   "source": [
    "이번에는 대소문자 모든 알파벳을 뜻하는 `[a-zA-Z]+` 표현식을 입력하였다. 그 후 'Life is too short, You need Python.'라는 문자에 `finall()` 메서드를 적용하면 정규 표현식과 매치되는 모든 단어를 리스트 형태도 반환한다.\n",
    "\n",
    "#### finditer()\n",
    "\n",
    "마지막으로 `findall()`과 비슷한 `finditer()` 함수의 결과를 살펴보자."
   ]
  },
  {
   "cell_type": "code",
   "execution_count": 23,
   "metadata": {},
   "outputs": [
    {
     "name": "stdout",
     "output_type": "stream",
     "text": [
      "<callable_iterator object at 0x000001C26ED74BB0>\n"
     ]
    }
   ],
   "source": [
    "p = re.compile('[a-zA-Z]+')\n",
    "m = p.finditer('Life is too short, You need Python.')\n",
    "print(m)"
   ]
  },
  {
   "cell_type": "markdown",
   "metadata": {},
   "source": [
    "결과를 살펴보면 반복 가능한 객체(iterator object)를 반환한다. 이는 for문을 통해 출력할 수 있다."
   ]
  },
  {
   "cell_type": "code",
   "execution_count": 24,
   "metadata": {},
   "outputs": [
    {
     "name": "stdout",
     "output_type": "stream",
     "text": [
      "<re.Match object; span=(0, 4), match='Life'>\n",
      "<re.Match object; span=(5, 7), match='is'>\n",
      "<re.Match object; span=(8, 11), match='too'>\n",
      "<re.Match object; span=(12, 17), match='short'>\n",
      "<re.Match object; span=(19, 22), match='You'>\n",
      "<re.Match object; span=(23, 27), match='need'>\n",
      "<re.Match object; span=(28, 34), match='Python'>\n"
     ]
    }
   ],
   "source": [
    "for i in m:\n",
    "    print(i)"
   ]
  },
  {
   "cell_type": "markdown",
   "metadata": {},
   "source": [
    "### 정규 표현식 연습해보기\n",
    "\n",
    "위에서 배운 것들을 토대로 실제 크롤링 결과물 중 정규 표현식을 사용해 원하는 부분만 찾는 연습을 해보도록 하자."
   ]
  },
  {
   "cell_type": "code",
   "execution_count": 25,
   "metadata": {},
   "outputs": [],
   "source": [
    "num = \"\"\"r\\n\\t\\t\\t\\t\\t\\t\\t\\r\\n\\t\\t\\t\\t\\t\\t\\t\\t15\\r\\n\\t\\t\\t\\t\\t\\t\\t\\t23\\r\\n\\t\\t\\t\\t\\t\\t\\t\\t29\\r\\n\\t\\t\\t\\t\\t\\t\\t\\t34\\r\\n\\t\\t\\t\\t\\t\\t\\t\\t40\\r\\n\\t\\t\\t\\t\\t\\t\\t\\t44\\r\\n\\t\\t\\t\\t\\t\\t\\t\\r\\n\\t\\t\\t\\t\\t\\t\"\"\""
   ]
  },
  {
   "cell_type": "markdown",
   "metadata": {},
   "source": [
    "위의 HTML 결과물에서 숫자에 해당하는 부분만 추츨해보도록 하자."
   ]
  },
  {
   "cell_type": "code",
   "execution_count": 26,
   "metadata": {},
   "outputs": [
    {
     "name": "stdout",
     "output_type": "stream",
     "text": [
      "['15', '23', '29', '34', '40', '44']\n"
     ]
    }
   ],
   "source": [
    "import re\n",
    "\n",
    "p = re.compile('[0-9]+')\n",
    "m = p.findall(num)\n",
    "print(m)"
   ]
  },
  {
   "cell_type": "markdown",
   "metadata": {},
   "source": [
    "\\n, \\t와 같은 문자를 없애는 방법으로 클렌징을 할 수도 있지만, 숫자를 의미하는 '[0-9]+' 정규 표현식을 사용하면 훨씬 간단하게 추출할 수 있다."
   ]
  },
  {
   "cell_type": "code",
   "execution_count": 27,
   "metadata": {},
   "outputs": [],
   "source": [
    "dt = '> 오늘의 날짜는 2022.12.31 입니다.'"
   ]
  },
  {
   "cell_type": "markdown",
   "metadata": {},
   "source": [
    "이번에는 위의 문장에서 날짜에 해당하는 '2022.12.31' 혹은 '20221231' 만 추출해보도록 하자."
   ]
  },
  {
   "cell_type": "code",
   "execution_count": 28,
   "metadata": {},
   "outputs": [
    {
     "data": {
      "text/plain": [
       "['2022.12.31']"
      ]
     },
     "execution_count": 28,
     "metadata": {},
     "output_type": "execute_result"
    }
   ],
   "source": [
    "p = re.compile('[0-9]+.[0-9]+.[0-9]+')\n",
    "p.findall(dt)"
   ]
  },
  {
   "cell_type": "markdown",
   "metadata": {},
   "source": [
    "정규 표현식 '[0-9]+.[0-9]+.[0-9]+'은 [숫자.숫자.숫자] 형태를 의미하며, 이를 통해 '2022.12.31'을 추출한다."
   ]
  },
  {
   "cell_type": "code",
   "execution_count": 29,
   "metadata": {},
   "outputs": [
    {
     "name": "stdout",
     "output_type": "stream",
     "text": [
      "['2022', '12', '31']\n"
     ]
    }
   ],
   "source": [
    "p = re.compile('[0-9]+')\n",
    "m = p.findall(dt)\n",
    "print(m)"
   ]
  },
  {
   "cell_type": "markdown",
   "metadata": {},
   "source": [
    "정규 표현식에 `[0-9]+`을 입력할 경우 숫자가 개별로 추출되므로, 추가적인 작업을 통해 '20221231' 형태로 만들어주면 된다."
   ]
  },
  {
   "cell_type": "code",
   "execution_count": 30,
   "metadata": {},
   "outputs": [
    {
     "data": {
      "text/plain": [
       "'20221231'"
      ]
     },
     "execution_count": 30,
     "metadata": {},
     "output_type": "execute_result"
    }
   ],
   "source": [
    "''.join(m)"
   ]
  },
  {
   "cell_type": "markdown",
   "metadata": {},
   "source": [
    "`join()` 함수는 `'구분자'.join(리스트)` 형태이므로, 구분자에 ''를 입력하면 리스트 내의 모든 문자를 공백없이 합쳐서 반환한다.\n",
    "\n",
    "```{note}\n",
    "아래의 웹사이트에서 정규 표현식을 연습하고 테스트할 수 있다. 크롤링 후 내가 선택하고자 하는 문자를 한 번에 정규 표현식을 이용해 추출하는 것은 초보자 단계에서는 쉬운일이 아니므로, 아래 웹사이트에서 텍스트를 입력하고 이를 추출하는 정규 표현식을 알아낸 후, 이를 파이썬에 적용하는 것이 훨씬 효율성이 높다.\n",
    "\n",
    "- https://regexr.com\n",
    "- https://regex101.com\n",
    "```"
   ]
  }
 ],
 "metadata": {
  "kernelspec": {
   "display_name": "ml4t",
   "language": "python",
   "name": "ml4t"
  },
  "language_info": {
   "codemirror_mode": {
    "name": "ipython",
    "version": 3
   },
   "file_extension": ".py",
   "mimetype": "text/x-python",
   "name": "python",
   "nbconvert_exporter": "python",
   "pygments_lexer": "ipython3",
   "version": "3.9.19"
  },
  "varInspector": {
   "cols": {
    "lenName": 16,
    "lenType": 16,
    "lenVar": 40
   },
   "kernels_config": {
    "python": {
     "delete_cmd_postfix": "",
     "delete_cmd_prefix": "del ",
     "library": "var_list.py",
     "varRefreshCmd": "print(var_dic_list())"
    },
    "r": {
     "delete_cmd_postfix": ") ",
     "delete_cmd_prefix": "rm(",
     "library": "var_list.r",
     "varRefreshCmd": "cat(var_dic_list()) "
    }
   },
   "types_to_exclude": [
    "module",
    "function",
    "builtin_function_or_method",
    "instance",
    "_Feature"
   ],
   "window_display": false
  }
 },
 "nbformat": 4,
 "nbformat_minor": 4
}
