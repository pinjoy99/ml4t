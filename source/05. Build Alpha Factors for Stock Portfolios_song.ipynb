{
 "cells": [
  {
   "cell_type": "markdown",
   "id": "416d2ae8",
   "metadata": {},
   "source": [
    "# 주식 포트폴리오를 위한 알파 팩터 구축\n",
    "\n",
    "전문 트레이더들은 가치, 크기, 모멘텀과 같은 시장 비효율성(예: 이상 현상)을 목표로 삼고 이를 활용하여 더 나은 위험 조정 수익을 창출하기 위해 팩터 포트폴리오를 구성하곤 합니다. 이러한 특정 특성이나 팩터를 체계적으로 식별하고 이에 따라 증권의 가중치를 조정함으로써, 투자자들은 원하는 노출을 포착하는 동시에 의도하지 않은 위험을 최소화할 수 있는 포트폴리오를 만들 수 있습니다. 팩터는 투자에서 기본적인 구성 요소로 작용하며, 다양한 자산 클래스에서 수익에 지속적으로 영향을 미치는 힘입니다. 거래 우위(trading edge)란 시장에서 일관적이고 비무작위적인 비효율성을 의미하며, 이를 통해 이익을 창출할 수 있습니다. 팩터는 자산 가격을 움직이는 비효율성을 의미하며, 이러한 지속적인 이상 현상을 활용하여 트레이더가 이를 기반으로 이익을 얻을 수 있습니다.\n",
    "\n",
    "팩터 분석은 광범위한 주제이지만, 핵심은 팩터를 식별하고 포트폴리오의 민감도를 파악하며, 이에 따라 액션을 취하는 데 있습니다. 이러한 액션은 팩터 노출에 따른 바람직하지 않은 위험을 헷지하거나 노출을 증가시키는 것을 포함합니다. 이 장에서는 팩터를 식별하고, 원하지 않는 위험을 헷지하며, 팩터의 예측력을 평가하기 위해 미래 수익을 설정하는 방법에 대해 다룹니다. Python 라이브러리를 사용하여 주성분 분석 및 선형 회귀를 구축하는 방법을 다룰 것입니다. 그 후, Zipline Reloaded Pipeline API를 소개하여 팩터 분석에 대비할 것입니다.\n",
    "\n",
    "이 장에서는 다음 내용을 다룹니다:\n",
    "\n",
    "- 주성분 분석을 사용하여 잠재적인 수익 동인을 식별하기  \n",
    "- 선형 회귀를 사용해 포트폴리오 베타를 식별 및 헷지하기  \n",
    "- Fama-French 팩터에 대한 포트폴리오 민감도 분석  \n",
    "- 변동성을 기반으로 시장 비효율성 평가  \n",
    "- Zipline Reloaded Pipeline API를 사용하여 팩터 순위 모델 준비  \n",
    "\n",
    "---"
   ]
  },
  {
   "cell_type": "markdown",
   "id": "4c3e498a",
   "metadata": {},
   "source": [
    "## 주성분 분석을 사용하여 잠재적인 수익 동인 식별\n",
    "\n",
    "**주성분 분석(PCA)** 은 데이터 과학에서 널리 사용되는 차원 축소 기법입니다. 이는 원래의 특징들을 주성분이라고 하는 새로운 특징들의 집합으로 변환하며, 이 주성분들은 데이터의 최대 분산을 반영합니다. 다시 말해, 큰 변수 집합을 더 작은 변수 집합으로 변환하면서도 원래 큰 집합의 대부분의 정보를 유지합니다.\n",
    "\n",
    "자산 포트폴리오에는 시장 위험, 섹터 위험, 자산별 위험 등 다양한 위험 요소가 있습니다. PCA는 포트폴리오의 수익률을 최대 분산을 설명하는 구성요소로 분해하여 이러한 위험을 식별하고 정량화하는 데 도움을 줍니다. 처음 몇 개의 주성분이 일반적으로 대부분의 분산을 포착하며, 이를 분석하여 포트폴리오의 주요 위험 요인을 이해할 수 있습니다.\n",
    "\n",
    "\n",
    "이 섹션에서는 scikit-learn을 사용하여 8개의 광산 및 기술 회사로 구성된 포트폴리오에 대해 PCA를 실행하는 방법을 다룹니다.\n",
    "\n",
    "---"
   ]
  },
  {
   "cell_type": "markdown",
   "id": "bd056cf0",
   "metadata": {},
   "source": [
    "### 준비하기\n",
    "\n",
    "이 레시피에서는 분류, 회귀, 군집화, 차원 축소 등을 위한 알고리즘을 제공하는 scikit-learn을 소개합니다. scikit-learn은 NumPy, SciPy, Matplotlib을 기반으로 하며, 다른 과학 Python 라이브러리와 쉽게 통합할 수 있습니다. 이를 사용해 분석을 수행할 것입니다.\n",
    "\n",
    "scikit-learn을 설치하려면 다음 명령어를 실행하십시오:\n",
    "\n",
    "```bash\n",
    "pip install scikit-learn\n",
    "```\n",
    "\n",
    "---"
   ]
  },
  {
   "cell_type": "markdown",
   "id": "eee3e559",
   "metadata": {},
   "source": [
    "### 실행 방법...\n",
    "\n",
    "Scikit-learn을 사용하면 PCA를 쉽게 실행할 수 있습니다. 다음과 같이 실행하세요:\n",
    "\n",
    "1. 분석에 필요한 라이브러리를 임포트합니다:"
   ]
  },
  {
   "cell_type": "code",
   "execution_count": 1,
   "id": "cb273d19",
   "metadata": {},
   "outputs": [],
   "source": [
    "import matplotlib.pyplot as plt\n",
    "import numpy as np\n",
    "import pandas as pd\n",
    "from IPython.display import Markdown, display\n",
    "from openbb import obb\n",
    "from sklearn.decomposition import PCA"
   ]
  },
  {
   "cell_type": "code",
   "execution_count": 2,
   "id": "c577dda9",
   "metadata": {},
   "outputs": [],
   "source": [
    "obb.user.preferences.output_type = \"dataframe\""
   ]
  },
  {
   "cell_type": "markdown",
   "id": "54bbceb4",
   "metadata": {},
   "source": [
    "2. 금광 주식과 헬스케어 주식의 데이터를 다운로드하고 일일 수익률을 계산합니다:\n",
    " \n",
    "금광 및 헬스케어 주식의 심볼을 정의합니다\n",
    "\n",
    "**광산/귀금속:**\n",
    "- NEM, RGLD, SSRM, CDE (금광 채굴/로열티 기업들)\n",
    "\n",
    "**헬스케어:**\n",
    "- LLY, UNH, JNJ, MRK (제약/의료 서비스 기업들)"
   ]
  },
  {
   "cell_type": "code",
   "execution_count": 3,
   "id": "33c6d292",
   "metadata": {},
   "outputs": [],
   "source": [
    "symbols = [\"NEM\", \"RGLD\", \"SSRM\", \"CDE\", \"LLY\", \"UNH\", \"JNJ\", \"MRK\"]"
   ]
  },
  {
   "cell_type": "markdown",
   "id": "72d4df11",
   "metadata": {},
   "source": [
    "2020-01-01부터 2022-12-31까지 \"yfinance\" 제공자를 사용하여 정의된 심볼들의 과거 가격 데이터를 가져옵니다"
   ]
  },
  {
   "cell_type": "code",
   "execution_count": 4,
   "id": "b5aba41f",
   "metadata": {},
   "outputs": [],
   "source": [
    "data = obb.equity.price.historical(\n",
    "    symbols,\n",
    "    start_date=\"2020-01-01\",\n",
    "    end_date=\"2022-12-31\",\n",
    "    provider=\"yfinance\",\n",
    ").pivot(columns=\"symbol\", values=\"close\")"
   ]
  },
  {
   "cell_type": "code",
   "execution_count": 9,
   "id": "4d7293f7",
   "metadata": {},
   "outputs": [
    {
     "data": {
      "text/html": [
       "<div>\n",
       "<style scoped>\n",
       "    .dataframe tbody tr th:only-of-type {\n",
       "        vertical-align: middle;\n",
       "    }\n",
       "\n",
       "    .dataframe tbody tr th {\n",
       "        vertical-align: top;\n",
       "    }\n",
       "\n",
       "    .dataframe thead th {\n",
       "        text-align: right;\n",
       "    }\n",
       "</style>\n",
       "<table border=\"1\" class=\"dataframe\">\n",
       "  <thead>\n",
       "    <tr style=\"text-align: right;\">\n",
       "      <th>symbol</th>\n",
       "      <th>CDE</th>\n",
       "      <th>JNJ</th>\n",
       "      <th>LLY</th>\n",
       "      <th>MRK</th>\n",
       "      <th>NEM</th>\n",
       "      <th>RGLD</th>\n",
       "      <th>SSRM</th>\n",
       "      <th>UNH</th>\n",
       "    </tr>\n",
       "    <tr>\n",
       "      <th>date</th>\n",
       "      <th></th>\n",
       "      <th></th>\n",
       "      <th></th>\n",
       "      <th></th>\n",
       "      <th></th>\n",
       "      <th></th>\n",
       "      <th></th>\n",
       "      <th></th>\n",
       "    </tr>\n",
       "  </thead>\n",
       "  <tbody>\n",
       "    <tr>\n",
       "      <th>2020-01-02</th>\n",
       "      <td>7.81</td>\n",
       "      <td>145.970001</td>\n",
       "      <td>132.210007</td>\n",
       "      <td>87.824425</td>\n",
       "      <td>43.220001</td>\n",
       "      <td>121.120003</td>\n",
       "      <td>18.969999</td>\n",
       "      <td>292.500000</td>\n",
       "    </tr>\n",
       "    <tr>\n",
       "      <th>2020-01-03</th>\n",
       "      <td>7.70</td>\n",
       "      <td>144.279999</td>\n",
       "      <td>131.770004</td>\n",
       "      <td>87.070610</td>\n",
       "      <td>42.830002</td>\n",
       "      <td>120.129997</td>\n",
       "      <td>18.520000</td>\n",
       "      <td>289.540009</td>\n",
       "    </tr>\n",
       "    <tr>\n",
       "      <th>2020-01-06</th>\n",
       "      <td>6.93</td>\n",
       "      <td>144.100006</td>\n",
       "      <td>132.259995</td>\n",
       "      <td>87.442749</td>\n",
       "      <td>43.259998</td>\n",
       "      <td>118.809998</td>\n",
       "      <td>18.370001</td>\n",
       "      <td>291.549988</td>\n",
       "    </tr>\n",
       "    <tr>\n",
       "      <th>2020-01-07</th>\n",
       "      <td>6.89</td>\n",
       "      <td>144.979996</td>\n",
       "      <td>132.509995</td>\n",
       "      <td>85.114502</td>\n",
       "      <td>43.230000</td>\n",
       "      <td>120.180000</td>\n",
       "      <td>18.660000</td>\n",
       "      <td>289.790009</td>\n",
       "    </tr>\n",
       "    <tr>\n",
       "      <th>2020-01-08</th>\n",
       "      <td>6.29</td>\n",
       "      <td>144.960007</td>\n",
       "      <td>133.710007</td>\n",
       "      <td>84.541985</td>\n",
       "      <td>42.080002</td>\n",
       "      <td>111.599998</td>\n",
       "      <td>18.219999</td>\n",
       "      <td>295.899994</td>\n",
       "    </tr>\n",
       "  </tbody>\n",
       "</table>\n",
       "</div>"
      ],
      "text/plain": [
       "symbol       CDE         JNJ         LLY        MRK        NEM        RGLD  \\\n",
       "date                                                                         \n",
       "2020-01-02  7.81  145.970001  132.210007  87.824425  43.220001  121.120003   \n",
       "2020-01-03  7.70  144.279999  131.770004  87.070610  42.830002  120.129997   \n",
       "2020-01-06  6.93  144.100006  132.259995  87.442749  43.259998  118.809998   \n",
       "2020-01-07  6.89  144.979996  132.509995  85.114502  43.230000  120.180000   \n",
       "2020-01-08  6.29  144.960007  133.710007  84.541985  42.080002  111.599998   \n",
       "\n",
       "symbol           SSRM         UNH  \n",
       "date                               \n",
       "2020-01-02  18.969999  292.500000  \n",
       "2020-01-03  18.520000  289.540009  \n",
       "2020-01-06  18.370001  291.549988  \n",
       "2020-01-07  18.660000  289.790009  \n",
       "2020-01-08  18.219999  295.899994  "
      ]
     },
     "execution_count": 9,
     "metadata": {},
     "output_type": "execute_result"
    }
   ],
   "source": [
    "data.head()"
   ]
  },
  {
   "cell_type": "markdown",
   "id": "ed954f3a",
   "metadata": {},
   "source": [
    "일일 수익률을 계산하고 결측값을 제거합니다"
   ]
  },
  {
   "cell_type": "code",
   "execution_count": 5,
   "id": "39dc28aa",
   "metadata": {},
   "outputs": [],
   "source": [
    "returns = data.pct_change().dropna()"
   ]
  },
  {
   "cell_type": "markdown",
   "id": "79e36b1d",
   "metadata": {},
   "source": [
    "3. 각 성분의 설명된 분산 비율을 추출하고 주성분을 추출합니다:\n",
    "\n",
    "3개의 주성분으로 PCA를 초기화하고 수익률 데이터에 적용합니다"
   ]
  },
  {
   "cell_type": "code",
   "execution_count": 22,
   "id": "5773e5e1",
   "metadata": {},
   "outputs": [
    {
     "data": {
      "text/html": [
       "<style>#sk-container-id-2 {\n",
       "  /* Definition of color scheme common for light and dark mode */\n",
       "  --sklearn-color-text: black;\n",
       "  --sklearn-color-line: gray;\n",
       "  /* Definition of color scheme for unfitted estimators */\n",
       "  --sklearn-color-unfitted-level-0: #fff5e6;\n",
       "  --sklearn-color-unfitted-level-1: #f6e4d2;\n",
       "  --sklearn-color-unfitted-level-2: #ffe0b3;\n",
       "  --sklearn-color-unfitted-level-3: chocolate;\n",
       "  /* Definition of color scheme for fitted estimators */\n",
       "  --sklearn-color-fitted-level-0: #f0f8ff;\n",
       "  --sklearn-color-fitted-level-1: #d4ebff;\n",
       "  --sklearn-color-fitted-level-2: #b3dbfd;\n",
       "  --sklearn-color-fitted-level-3: cornflowerblue;\n",
       "\n",
       "  /* Specific color for light theme */\n",
       "  --sklearn-color-text-on-default-background: var(--sg-text-color, var(--theme-code-foreground, var(--jp-content-font-color1, black)));\n",
       "  --sklearn-color-background: var(--sg-background-color, var(--theme-background, var(--jp-layout-color0, white)));\n",
       "  --sklearn-color-border-box: var(--sg-text-color, var(--theme-code-foreground, var(--jp-content-font-color1, black)));\n",
       "  --sklearn-color-icon: #696969;\n",
       "\n",
       "  @media (prefers-color-scheme: dark) {\n",
       "    /* Redefinition of color scheme for dark theme */\n",
       "    --sklearn-color-text-on-default-background: var(--sg-text-color, var(--theme-code-foreground, var(--jp-content-font-color1, white)));\n",
       "    --sklearn-color-background: var(--sg-background-color, var(--theme-background, var(--jp-layout-color0, #111)));\n",
       "    --sklearn-color-border-box: var(--sg-text-color, var(--theme-code-foreground, var(--jp-content-font-color1, white)));\n",
       "    --sklearn-color-icon: #878787;\n",
       "  }\n",
       "}\n",
       "\n",
       "#sk-container-id-2 {\n",
       "  color: var(--sklearn-color-text);\n",
       "}\n",
       "\n",
       "#sk-container-id-2 pre {\n",
       "  padding: 0;\n",
       "}\n",
       "\n",
       "#sk-container-id-2 input.sk-hidden--visually {\n",
       "  border: 0;\n",
       "  clip: rect(1px 1px 1px 1px);\n",
       "  clip: rect(1px, 1px, 1px, 1px);\n",
       "  height: 1px;\n",
       "  margin: -1px;\n",
       "  overflow: hidden;\n",
       "  padding: 0;\n",
       "  position: absolute;\n",
       "  width: 1px;\n",
       "}\n",
       "\n",
       "#sk-container-id-2 div.sk-dashed-wrapped {\n",
       "  border: 1px dashed var(--sklearn-color-line);\n",
       "  margin: 0 0.4em 0.5em 0.4em;\n",
       "  box-sizing: border-box;\n",
       "  padding-bottom: 0.4em;\n",
       "  background-color: var(--sklearn-color-background);\n",
       "}\n",
       "\n",
       "#sk-container-id-2 div.sk-container {\n",
       "  /* jupyter's `normalize.less` sets `[hidden] { display: none; }`\n",
       "     but bootstrap.min.css set `[hidden] { display: none !important; }`\n",
       "     so we also need the `!important` here to be able to override the\n",
       "     default hidden behavior on the sphinx rendered scikit-learn.org.\n",
       "     See: https://github.com/scikit-learn/scikit-learn/issues/21755 */\n",
       "  display: inline-block !important;\n",
       "  position: relative;\n",
       "}\n",
       "\n",
       "#sk-container-id-2 div.sk-text-repr-fallback {\n",
       "  display: none;\n",
       "}\n",
       "\n",
       "div.sk-parallel-item,\n",
       "div.sk-serial,\n",
       "div.sk-item {\n",
       "  /* draw centered vertical line to link estimators */\n",
       "  background-image: linear-gradient(var(--sklearn-color-text-on-default-background), var(--sklearn-color-text-on-default-background));\n",
       "  background-size: 2px 100%;\n",
       "  background-repeat: no-repeat;\n",
       "  background-position: center center;\n",
       "}\n",
       "\n",
       "/* Parallel-specific style estimator block */\n",
       "\n",
       "#sk-container-id-2 div.sk-parallel-item::after {\n",
       "  content: \"\";\n",
       "  width: 100%;\n",
       "  border-bottom: 2px solid var(--sklearn-color-text-on-default-background);\n",
       "  flex-grow: 1;\n",
       "}\n",
       "\n",
       "#sk-container-id-2 div.sk-parallel {\n",
       "  display: flex;\n",
       "  align-items: stretch;\n",
       "  justify-content: center;\n",
       "  background-color: var(--sklearn-color-background);\n",
       "  position: relative;\n",
       "}\n",
       "\n",
       "#sk-container-id-2 div.sk-parallel-item {\n",
       "  display: flex;\n",
       "  flex-direction: column;\n",
       "}\n",
       "\n",
       "#sk-container-id-2 div.sk-parallel-item:first-child::after {\n",
       "  align-self: flex-end;\n",
       "  width: 50%;\n",
       "}\n",
       "\n",
       "#sk-container-id-2 div.sk-parallel-item:last-child::after {\n",
       "  align-self: flex-start;\n",
       "  width: 50%;\n",
       "}\n",
       "\n",
       "#sk-container-id-2 div.sk-parallel-item:only-child::after {\n",
       "  width: 0;\n",
       "}\n",
       "\n",
       "/* Serial-specific style estimator block */\n",
       "\n",
       "#sk-container-id-2 div.sk-serial {\n",
       "  display: flex;\n",
       "  flex-direction: column;\n",
       "  align-items: center;\n",
       "  background-color: var(--sklearn-color-background);\n",
       "  padding-right: 1em;\n",
       "  padding-left: 1em;\n",
       "}\n",
       "\n",
       "\n",
       "/* Toggleable style: style used for estimator/Pipeline/ColumnTransformer box that is\n",
       "clickable and can be expanded/collapsed.\n",
       "- Pipeline and ColumnTransformer use this feature and define the default style\n",
       "- Estimators will overwrite some part of the style using the `sk-estimator` class\n",
       "*/\n",
       "\n",
       "/* Pipeline and ColumnTransformer style (default) */\n",
       "\n",
       "#sk-container-id-2 div.sk-toggleable {\n",
       "  /* Default theme specific background. It is overwritten whether we have a\n",
       "  specific estimator or a Pipeline/ColumnTransformer */\n",
       "  background-color: var(--sklearn-color-background);\n",
       "}\n",
       "\n",
       "/* Toggleable label */\n",
       "#sk-container-id-2 label.sk-toggleable__label {\n",
       "  cursor: pointer;\n",
       "  display: block;\n",
       "  width: 100%;\n",
       "  margin-bottom: 0;\n",
       "  padding: 0.5em;\n",
       "  box-sizing: border-box;\n",
       "  text-align: center;\n",
       "}\n",
       "\n",
       "#sk-container-id-2 label.sk-toggleable__label-arrow:before {\n",
       "  /* Arrow on the left of the label */\n",
       "  content: \"▸\";\n",
       "  float: left;\n",
       "  margin-right: 0.25em;\n",
       "  color: var(--sklearn-color-icon);\n",
       "}\n",
       "\n",
       "#sk-container-id-2 label.sk-toggleable__label-arrow:hover:before {\n",
       "  color: var(--sklearn-color-text);\n",
       "}\n",
       "\n",
       "/* Toggleable content - dropdown */\n",
       "\n",
       "#sk-container-id-2 div.sk-toggleable__content {\n",
       "  max-height: 0;\n",
       "  max-width: 0;\n",
       "  overflow: hidden;\n",
       "  text-align: left;\n",
       "  /* unfitted */\n",
       "  background-color: var(--sklearn-color-unfitted-level-0);\n",
       "}\n",
       "\n",
       "#sk-container-id-2 div.sk-toggleable__content.fitted {\n",
       "  /* fitted */\n",
       "  background-color: var(--sklearn-color-fitted-level-0);\n",
       "}\n",
       "\n",
       "#sk-container-id-2 div.sk-toggleable__content pre {\n",
       "  margin: 0.2em;\n",
       "  border-radius: 0.25em;\n",
       "  color: var(--sklearn-color-text);\n",
       "  /* unfitted */\n",
       "  background-color: var(--sklearn-color-unfitted-level-0);\n",
       "}\n",
       "\n",
       "#sk-container-id-2 div.sk-toggleable__content.fitted pre {\n",
       "  /* unfitted */\n",
       "  background-color: var(--sklearn-color-fitted-level-0);\n",
       "}\n",
       "\n",
       "#sk-container-id-2 input.sk-toggleable__control:checked~div.sk-toggleable__content {\n",
       "  /* Expand drop-down */\n",
       "  max-height: 200px;\n",
       "  max-width: 100%;\n",
       "  overflow: auto;\n",
       "}\n",
       "\n",
       "#sk-container-id-2 input.sk-toggleable__control:checked~label.sk-toggleable__label-arrow:before {\n",
       "  content: \"▾\";\n",
       "}\n",
       "\n",
       "/* Pipeline/ColumnTransformer-specific style */\n",
       "\n",
       "#sk-container-id-2 div.sk-label input.sk-toggleable__control:checked~label.sk-toggleable__label {\n",
       "  color: var(--sklearn-color-text);\n",
       "  background-color: var(--sklearn-color-unfitted-level-2);\n",
       "}\n",
       "\n",
       "#sk-container-id-2 div.sk-label.fitted input.sk-toggleable__control:checked~label.sk-toggleable__label {\n",
       "  background-color: var(--sklearn-color-fitted-level-2);\n",
       "}\n",
       "\n",
       "/* Estimator-specific style */\n",
       "\n",
       "/* Colorize estimator box */\n",
       "#sk-container-id-2 div.sk-estimator input.sk-toggleable__control:checked~label.sk-toggleable__label {\n",
       "  /* unfitted */\n",
       "  background-color: var(--sklearn-color-unfitted-level-2);\n",
       "}\n",
       "\n",
       "#sk-container-id-2 div.sk-estimator.fitted input.sk-toggleable__control:checked~label.sk-toggleable__label {\n",
       "  /* fitted */\n",
       "  background-color: var(--sklearn-color-fitted-level-2);\n",
       "}\n",
       "\n",
       "#sk-container-id-2 div.sk-label label.sk-toggleable__label,\n",
       "#sk-container-id-2 div.sk-label label {\n",
       "  /* The background is the default theme color */\n",
       "  color: var(--sklearn-color-text-on-default-background);\n",
       "}\n",
       "\n",
       "/* On hover, darken the color of the background */\n",
       "#sk-container-id-2 div.sk-label:hover label.sk-toggleable__label {\n",
       "  color: var(--sklearn-color-text);\n",
       "  background-color: var(--sklearn-color-unfitted-level-2);\n",
       "}\n",
       "\n",
       "/* Label box, darken color on hover, fitted */\n",
       "#sk-container-id-2 div.sk-label.fitted:hover label.sk-toggleable__label.fitted {\n",
       "  color: var(--sklearn-color-text);\n",
       "  background-color: var(--sklearn-color-fitted-level-2);\n",
       "}\n",
       "\n",
       "/* Estimator label */\n",
       "\n",
       "#sk-container-id-2 div.sk-label label {\n",
       "  font-family: monospace;\n",
       "  font-weight: bold;\n",
       "  display: inline-block;\n",
       "  line-height: 1.2em;\n",
       "}\n",
       "\n",
       "#sk-container-id-2 div.sk-label-container {\n",
       "  text-align: center;\n",
       "}\n",
       "\n",
       "/* Estimator-specific */\n",
       "#sk-container-id-2 div.sk-estimator {\n",
       "  font-family: monospace;\n",
       "  border: 1px dotted var(--sklearn-color-border-box);\n",
       "  border-radius: 0.25em;\n",
       "  box-sizing: border-box;\n",
       "  margin-bottom: 0.5em;\n",
       "  /* unfitted */\n",
       "  background-color: var(--sklearn-color-unfitted-level-0);\n",
       "}\n",
       "\n",
       "#sk-container-id-2 div.sk-estimator.fitted {\n",
       "  /* fitted */\n",
       "  background-color: var(--sklearn-color-fitted-level-0);\n",
       "}\n",
       "\n",
       "/* on hover */\n",
       "#sk-container-id-2 div.sk-estimator:hover {\n",
       "  /* unfitted */\n",
       "  background-color: var(--sklearn-color-unfitted-level-2);\n",
       "}\n",
       "\n",
       "#sk-container-id-2 div.sk-estimator.fitted:hover {\n",
       "  /* fitted */\n",
       "  background-color: var(--sklearn-color-fitted-level-2);\n",
       "}\n",
       "\n",
       "/* Specification for estimator info (e.g. \"i\" and \"?\") */\n",
       "\n",
       "/* Common style for \"i\" and \"?\" */\n",
       "\n",
       ".sk-estimator-doc-link,\n",
       "a:link.sk-estimator-doc-link,\n",
       "a:visited.sk-estimator-doc-link {\n",
       "  float: right;\n",
       "  font-size: smaller;\n",
       "  line-height: 1em;\n",
       "  font-family: monospace;\n",
       "  background-color: var(--sklearn-color-background);\n",
       "  border-radius: 1em;\n",
       "  height: 1em;\n",
       "  width: 1em;\n",
       "  text-decoration: none !important;\n",
       "  margin-left: 1ex;\n",
       "  /* unfitted */\n",
       "  border: var(--sklearn-color-unfitted-level-1) 1pt solid;\n",
       "  color: var(--sklearn-color-unfitted-level-1);\n",
       "}\n",
       "\n",
       ".sk-estimator-doc-link.fitted,\n",
       "a:link.sk-estimator-doc-link.fitted,\n",
       "a:visited.sk-estimator-doc-link.fitted {\n",
       "  /* fitted */\n",
       "  border: var(--sklearn-color-fitted-level-1) 1pt solid;\n",
       "  color: var(--sklearn-color-fitted-level-1);\n",
       "}\n",
       "\n",
       "/* On hover */\n",
       "div.sk-estimator:hover .sk-estimator-doc-link:hover,\n",
       ".sk-estimator-doc-link:hover,\n",
       "div.sk-label-container:hover .sk-estimator-doc-link:hover,\n",
       ".sk-estimator-doc-link:hover {\n",
       "  /* unfitted */\n",
       "  background-color: var(--sklearn-color-unfitted-level-3);\n",
       "  color: var(--sklearn-color-background);\n",
       "  text-decoration: none;\n",
       "}\n",
       "\n",
       "div.sk-estimator.fitted:hover .sk-estimator-doc-link.fitted:hover,\n",
       ".sk-estimator-doc-link.fitted:hover,\n",
       "div.sk-label-container:hover .sk-estimator-doc-link.fitted:hover,\n",
       ".sk-estimator-doc-link.fitted:hover {\n",
       "  /* fitted */\n",
       "  background-color: var(--sklearn-color-fitted-level-3);\n",
       "  color: var(--sklearn-color-background);\n",
       "  text-decoration: none;\n",
       "}\n",
       "\n",
       "/* Span, style for the box shown on hovering the info icon */\n",
       ".sk-estimator-doc-link span {\n",
       "  display: none;\n",
       "  z-index: 9999;\n",
       "  position: relative;\n",
       "  font-weight: normal;\n",
       "  right: .2ex;\n",
       "  padding: .5ex;\n",
       "  margin: .5ex;\n",
       "  width: min-content;\n",
       "  min-width: 20ex;\n",
       "  max-width: 50ex;\n",
       "  color: var(--sklearn-color-text);\n",
       "  box-shadow: 2pt 2pt 4pt #999;\n",
       "  /* unfitted */\n",
       "  background: var(--sklearn-color-unfitted-level-0);\n",
       "  border: .5pt solid var(--sklearn-color-unfitted-level-3);\n",
       "}\n",
       "\n",
       ".sk-estimator-doc-link.fitted span {\n",
       "  /* fitted */\n",
       "  background: var(--sklearn-color-fitted-level-0);\n",
       "  border: var(--sklearn-color-fitted-level-3);\n",
       "}\n",
       "\n",
       ".sk-estimator-doc-link:hover span {\n",
       "  display: block;\n",
       "}\n",
       "\n",
       "/* \"?\"-specific style due to the `<a>` HTML tag */\n",
       "\n",
       "#sk-container-id-2 a.estimator_doc_link {\n",
       "  float: right;\n",
       "  font-size: 1rem;\n",
       "  line-height: 1em;\n",
       "  font-family: monospace;\n",
       "  background-color: var(--sklearn-color-background);\n",
       "  border-radius: 1rem;\n",
       "  height: 1rem;\n",
       "  width: 1rem;\n",
       "  text-decoration: none;\n",
       "  /* unfitted */\n",
       "  color: var(--sklearn-color-unfitted-level-1);\n",
       "  border: var(--sklearn-color-unfitted-level-1) 1pt solid;\n",
       "}\n",
       "\n",
       "#sk-container-id-2 a.estimator_doc_link.fitted {\n",
       "  /* fitted */\n",
       "  border: var(--sklearn-color-fitted-level-1) 1pt solid;\n",
       "  color: var(--sklearn-color-fitted-level-1);\n",
       "}\n",
       "\n",
       "/* On hover */\n",
       "#sk-container-id-2 a.estimator_doc_link:hover {\n",
       "  /* unfitted */\n",
       "  background-color: var(--sklearn-color-unfitted-level-3);\n",
       "  color: var(--sklearn-color-background);\n",
       "  text-decoration: none;\n",
       "}\n",
       "\n",
       "#sk-container-id-2 a.estimator_doc_link.fitted:hover {\n",
       "  /* fitted */\n",
       "  background-color: var(--sklearn-color-fitted-level-3);\n",
       "}\n",
       "</style><div id=\"sk-container-id-2\" class=\"sk-top-container\"><div class=\"sk-text-repr-fallback\"><pre>PCA(n_components=3, random_state=42)</pre><b>In a Jupyter environment, please rerun this cell to show the HTML representation or trust the notebook. <br />On GitHub, the HTML representation is unable to render, please try loading this page with nbviewer.org.</b></div><div class=\"sk-container\" hidden><div class=\"sk-item\"><div class=\"sk-estimator fitted sk-toggleable\"><input class=\"sk-toggleable__control sk-hidden--visually\" id=\"sk-estimator-id-2\" type=\"checkbox\" checked><label for=\"sk-estimator-id-2\" class=\"sk-toggleable__label fitted sk-toggleable__label-arrow fitted\">&nbsp;&nbsp;PCA<a class=\"sk-estimator-doc-link fitted\" rel=\"noreferrer\" target=\"_blank\" href=\"https://scikit-learn.org/1.5/modules/generated/sklearn.decomposition.PCA.html\">?<span>Documentation for PCA</span></a><span class=\"sk-estimator-doc-link fitted\">i<span>Fitted</span></span></label><div class=\"sk-toggleable__content fitted\"><pre>PCA(n_components=3, random_state=42)</pre></div> </div></div></div></div>"
      ],
      "text/plain": [
       "PCA(n_components=3, random_state=42)"
      ]
     },
     "execution_count": 22,
     "metadata": {},
     "output_type": "execute_result"
    }
   ],
   "source": [
    "# random_state 매개변수를 추가하여 시드 고정\n",
    "pca = PCA(n_components=3, random_state=42)\n",
    "pca.fit(returns)"
   ]
  },
  {
   "cell_type": "markdown",
   "id": "df36f73a",
   "metadata": {},
   "source": [
    "설명된 분산 비율과 주성분을 추출합니다"
   ]
  },
  {
   "cell_type": "code",
   "execution_count": 23,
   "id": "798f177a",
   "metadata": {},
   "outputs": [],
   "source": [
    "pct = pca.explained_variance_ratio_\n",
    "pca_components = pca.components_"
   ]
  },
  {
   "cell_type": "code",
   "execution_count": 24,
   "id": "5c9aa1bf",
   "metadata": {},
   "outputs": [
    {
     "data": {
      "text/plain": [
       "array([0.63892456, 0.13387055, 0.10157923])"
      ]
     },
     "execution_count": 24,
     "metadata": {},
     "output_type": "execute_result"
    }
   ],
   "source": [
    "pct"
   ]
  },
  {
   "cell_type": "code",
   "execution_count": 25,
   "id": "7efd8e50",
   "metadata": {},
   "outputs": [
    {
     "data": {
      "text/plain": [
       "array([[ 0.78402106,  0.06139341,  0.06157203,  0.06678106,  0.29181296,\n",
       "         0.30862968,  0.42713718,  0.10216529],\n",
       "       [ 0.03070356,  0.34058264,  0.60677508,  0.39052223, -0.09200527,\n",
       "        -0.12445024, -0.22896855,  0.53478754],\n",
       "       [ 0.6180319 , -0.10864359, -0.13197692, -0.07204876, -0.39555206,\n",
       "        -0.41760383, -0.48391774, -0.13635775]])"
      ]
     },
     "metadata": {},
     "output_type": "display_data"
    }
   ],
   "source": [
    "display(pca_components)"
   ]
  },
  {
   "cell_type": "markdown",
   "id": "f00bc8d9",
   "metadata": {},
   "source": [
    "4. 각 주성분의 기여도와 누적 설명 분산 비율을 시각화:\n",
    " \n",
    "주성분의 기여도와 누적 기여도를 시각화합니다"
   ]
  },
  {
   "cell_type": "code",
   "execution_count": 26,
   "id": "0fb2af3e",
   "metadata": {},
   "outputs": [],
   "source": [
    "cum_pct = np.cumsum(pct)\n",
    "x = np.arange(1, len(pct) + 1, 1)"
   ]
  },
  {
   "cell_type": "code",
   "execution_count": 27,
   "id": "ebf70817",
   "metadata": {},
   "outputs": [
    {
     "data": {
      "text/plain": [
       "array([0.63892456, 0.77279511, 0.87437434])"
      ]
     },
     "execution_count": 27,
     "metadata": {},
     "output_type": "execute_result"
    }
   ],
   "source": [
    "cum_pct"
   ]
  },
  {
   "cell_type": "code",
   "execution_count": 28,
   "id": "2610750e",
   "metadata": {},
   "outputs": [
    {
     "data": {
      "text/plain": [
       "array([1, 2, 3])"
      ]
     },
     "execution_count": 28,
     "metadata": {},
     "output_type": "execute_result"
    }
   ],
   "source": [
    "x"
   ]
  },
  {
   "cell_type": "code",
   "execution_count": 29,
   "id": "bff8cb2f",
   "metadata": {},
   "outputs": [
    {
     "data": {
      "image/png": "[encoded data removed]",
      "text/plain": [
       "<Figure size 640x480 with 2 Axes>"
      ]
     },
     "metadata": {},
     "output_type": "display_data"
    }
   ],
   "source": [
    "plt.subplot(1, 2, 1)\n",
    "plt.bar(x, pct * 100, align=\"center\")\n",
    "plt.title(\"Contribution (%)\")\n",
    "plt.xticks(x)\n",
    "plt.xlim([0, 4])\n",
    "plt.ylim([0, 100])\n",
    "\n",
    "plt.subplot(1, 2, 2)\n",
    "plt.plot(x, cum_pct * 100, \"ro-\")\n",
    "plt.title(\"Cumulative contribution (%)\")\n",
    "plt.xticks(x)\n",
    "plt.xlim([0, 4])\n",
    "plt.ylim([0, 100])\n",
    "\n",
    "plt.show()"
   ]
  },
  {
   "cell_type": "markdown",
   "id": "510729c0",
   "metadata": {},
   "source": [
    "그림 5.1: 첫 세 개 주성분의 설명된 분산에 대한 기여도와 누적 기여도"
   ]
  },
  {
   "cell_type": "markdown",
   "id": "7a7d5b6a",
   "metadata": {},
   "source": [
    "### 작동 방식...\n",
    "\n",
    "PCA가 어떻게 작동하는지에 대한 문서는 많이 있으므로 여기서는 수학적 과정을 다루지 않겠습니다. \n",
    "\n",
    "요약하자면, \n",
    "```python\n",
    "PCA(n_components=3) \n",
    "```\n",
    "코드는 수익률 데이터의 첫 세 개 주성분을 계산하는 PCA 객체를 생성합니다. \n",
    "```python\n",
    "n_components=3 \n",
    "```\n",
    "매개변수는 상위 세 개의 주성분을 선택하겠다는 것을 지정합니다. \n",
    "```python\n",
    "pca.fit \n",
    "```\n",
    "호출은 PCA 모델을 수익률 데이터에 맞추는데, 이는 PCA의 대부분의 복잡성을 숨깁니다. 내부적으로 PCA는 수익률을 표준화하고 공분산 행렬을 계산합니다. \n",
    "\n",
    "다음으로, 공분산 행렬에 대해 고유값 분해가 수행되어 데이터 분산의 방향과 크기를 나타내는 고유벡터와 고유값을 계산합니다. \n",
    "\n",
    "마지막으로, 고유벡터들은 고유값에 따라 내림차순으로 정렬되고 상위 세 개가 주성분으로 선택됩니다.\n"
   ]
  },
  {
   "cell_type": "markdown",
   "id": "1554eb63",
   "metadata": {},
   "source": [
    "### 더 알아보기...\n",
    " \n",
    "주성분으로부터 원본 수익률 데이터를 수익률의 분산을 가장 잘 설명하는 통계적 위험 요인을 나타내는 새로운 특성 집합으로 변환할 수 있습니다. 다음 코드에서 이를 보여줍니다:\n",
    " \n",
    "주성분으로부터 \"통계적 위험 요인\" 구성"
   ]
  },
  {
   "cell_type": "code",
   "execution_count": 30,
   "id": "fd7cc722",
   "metadata": {},
   "outputs": [],
   "source": [
    "# returns를 numpy 배열로 변환\n",
    "X = np.asarray(returns)\n",
    "\n",
    "# 주성분과 원본 데이터를 행렬곱하여 통계적 위험 요인 수익률 계산 \n",
    "factor_returns = X.dot(pca_components.T)\n",
    "\n",
    "# 결과를 데이터프레임으로 변환하고 각 요인에 이름 부여\n",
    "factor_returns = pd.DataFrame(\n",
    "    columns=[\"f1\", \"f2\", \"f3\"], index=returns.index, data=factor_returns\n",
    ")"
   ]
  },
  {
   "cell_type": "code",
   "execution_count": 31,
   "id": "0950df5f",
   "metadata": {},
   "outputs": [
    {
     "data": {
      "text/html": [
       "<div>\n",
       "<style scoped>\n",
       "    .dataframe tbody tr th:only-of-type {\n",
       "        vertical-align: middle;\n",
       "    }\n",
       "\n",
       "    .dataframe tbody tr th {\n",
       "        vertical-align: top;\n",
       "    }\n",
       "\n",
       "    .dataframe thead th {\n",
       "        text-align: right;\n",
       "    }\n",
       "</style>\n",
       "<table border=\"1\" class=\"dataframe\">\n",
       "  <thead>\n",
       "    <tr style=\"text-align: right;\">\n",
       "      <th></th>\n",
       "      <th>f1</th>\n",
       "      <th>f2</th>\n",
       "      <th>f3</th>\n",
       "    </tr>\n",
       "    <tr>\n",
       "      <th>date</th>\n",
       "      <th></th>\n",
       "      <th></th>\n",
       "      <th></th>\n",
       "    </tr>\n",
       "  </thead>\n",
       "  <tbody>\n",
       "    <tr>\n",
       "      <th>2020-01-03</th>\n",
       "      <td>-0.028854</td>\n",
       "      <td>-0.007880</td>\n",
       "      <td>0.013453</td>\n",
       "    </tr>\n",
       "    <tr>\n",
       "      <th>2020-01-06</th>\n",
       "      <td>-0.081176</td>\n",
       "      <td>0.006441</td>\n",
       "      <td>-0.058876</td>\n",
       "    </tr>\n",
       "    <tr>\n",
       "      <th>2020-01-07</th>\n",
       "      <td>0.003671</td>\n",
       "      <td>-0.015563</td>\n",
       "      <td>-0.013919</td>\n",
       "    </tr>\n",
       "    <tr>\n",
       "      <th>2020-01-08</th>\n",
       "      <td>-0.105889</td>\n",
       "      <td>0.028154</td>\n",
       "      <td>-0.005643</td>\n",
       "    </tr>\n",
       "    <tr>\n",
       "      <th>2020-01-09</th>\n",
       "      <td>0.001916</td>\n",
       "      <td>0.018522</td>\n",
       "      <td>0.023465</td>\n",
       "    </tr>\n",
       "    <tr>\n",
       "      <th>...</th>\n",
       "      <td>...</td>\n",
       "      <td>...</td>\n",
       "      <td>...</td>\n",
       "    </tr>\n",
       "    <tr>\n",
       "      <th>2022-12-23</th>\n",
       "      <td>0.001576</td>\n",
       "      <td>0.007398</td>\n",
       "      <td>-0.020952</td>\n",
       "    </tr>\n",
       "    <tr>\n",
       "      <th>2022-12-27</th>\n",
       "      <td>0.079420</td>\n",
       "      <td>-0.010218</td>\n",
       "      <td>0.022537</td>\n",
       "    </tr>\n",
       "    <tr>\n",
       "      <th>2022-12-28</th>\n",
       "      <td>-0.081093</td>\n",
       "      <td>0.004814</td>\n",
       "      <td>0.005850</td>\n",
       "    </tr>\n",
       "    <tr>\n",
       "      <th>2022-12-29</th>\n",
       "      <td>0.010073</td>\n",
       "      <td>0.004415</td>\n",
       "      <td>0.000597</td>\n",
       "    </tr>\n",
       "    <tr>\n",
       "      <th>2022-12-30</th>\n",
       "      <td>-0.032789</td>\n",
       "      <td>-0.003646</td>\n",
       "      <td>-0.022775</td>\n",
       "    </tr>\n",
       "  </tbody>\n",
       "</table>\n",
       "<p>755 rows × 3 columns</p>\n",
       "</div>"
      ],
      "text/plain": [
       "                  f1        f2        f3\n",
       "date                                    \n",
       "2020-01-03 -0.028854 -0.007880  0.013453\n",
       "2020-01-06 -0.081176  0.006441 -0.058876\n",
       "2020-01-07  0.003671 -0.015563 -0.013919\n",
       "2020-01-08 -0.105889  0.028154 -0.005643\n",
       "2020-01-09  0.001916  0.018522  0.023465\n",
       "...              ...       ...       ...\n",
       "2022-12-23  0.001576  0.007398 -0.020952\n",
       "2022-12-27  0.079420 -0.010218  0.022537\n",
       "2022-12-28 -0.081093  0.004814  0.005850\n",
       "2022-12-29  0.010073  0.004415  0.000597\n",
       "2022-12-30 -0.032789 -0.003646 -0.022775\n",
       "\n",
       "[755 rows x 3 columns]"
      ]
     },
     "metadata": {},
     "output_type": "display_data"
    }
   ],
   "source": [
    "display(factor_returns)"
   ]
  },
  {
   "cell_type": "markdown",
   "id": "9149315b",
   "metadata": {},
   "source": [
    "그림 5.2: 통계적 위험 요인들의 시계열을 포함하는 DataFrame"
   ]
  },
  {
   "cell_type": "markdown",
   "id": "3bdf5c39",
   "metadata": {},
   "source": [
    "통계적 위험 요인들은 이 장에서 살펴볼 Fama-French 요인 분석 레시피에서 다룰 Fama-French 요인과 같은 전통적인 위험 요인들과 유사합니다. 수익률 데이터는 PCA로부터 얻은 주성분에 투영됩니다. 이는 X와 pca_components 행렬의 전치행렬의 내적을 구함으로써 이루어집니다. pca_components 행렬은 fit 메서드를 사용하여 이전에 계산된 수익률 데이터의 주성분들을 포함합니다. 이 단계는 원본 수익률 데이터를 데이터의 분산을 가장 잘 설명하는 새로운 특성 집합(주성분 또는 요인)으로 변환합니다. \n",
    "\n",
    "이러한 요인들은 포트폴리오의 수익이 관찰할 수 없는 통계적 특성으로부터 얼마나 영향을 받는지 이해하는데 도움을 줍니다. \n",
    "\n",
    "주성분을 사용하여 각 자산의 세 가지 주성분에 대한 노출도를 생성할 수 있습니다:\n"
   ]
  },
  {
   "cell_type": "code",
   "execution_count": 32,
   "id": "adb749b9",
   "metadata": {},
   "outputs": [],
   "source": [
    "# 각 자산의 주성분에 대한 노출도를 계산하기 위해 데이터프레임 생성\n",
    "# index: 각 요인(f1, f2, f3)\n",
    "# columns: 각 주식 종목\n",
    "# data: PCA 주성분 행렬\n",
    "# .T로 전치하여 자산을 행으로, 요인을 열로 구성\n",
    "factor_exposures = pd.DataFrame(\n",
    "    index=[\"f1\", \"f2\", \"f3\"], columns=returns.columns, data=pca_components\n",
    ").T"
   ]
  },
  {
   "cell_type": "markdown",
   "id": "d0976716",
   "metadata": {},
   "source": [
    "결과로 나온 factor_exposures DataFrame이 다음 스크린샷에 나와 있습니다. 이는 포트폴리오의 각 자산이 세 가지 요인에 얼마나 노출되어 있는지를 보여줍니다. 각 자산의 세 가지 요인(\"f1\", \"f2\", \"f3\")에 대한 노출도는 해당 자산의 수익률이 이러한 요인들의 변화에 얼마나 영향을 받는지를 나타냅니다."
   ]
  },
  {
   "cell_type": "code",
   "execution_count": 33,
   "id": "8324a77a",
   "metadata": {},
   "outputs": [
    {
     "data": {
      "text/html": [
       "<div>\n",
       "<style scoped>\n",
       "    .dataframe tbody tr th:only-of-type {\n",
       "        vertical-align: middle;\n",
       "    }\n",
       "\n",
       "    .dataframe tbody tr th {\n",
       "        vertical-align: top;\n",
       "    }\n",
       "\n",
       "    .dataframe thead th {\n",
       "        text-align: right;\n",
       "    }\n",
       "</style>\n",
       "<table border=\"1\" class=\"dataframe\">\n",
       "  <thead>\n",
       "    <tr style=\"text-align: right;\">\n",
       "      <th></th>\n",
       "      <th>f1</th>\n",
       "      <th>f2</th>\n",
       "      <th>f3</th>\n",
       "    </tr>\n",
       "    <tr>\n",
       "      <th>symbol</th>\n",
       "      <th></th>\n",
       "      <th></th>\n",
       "      <th></th>\n",
       "    </tr>\n",
       "  </thead>\n",
       "  <tbody>\n",
       "    <tr>\n",
       "      <th>CDE</th>\n",
       "      <td>0.784021</td>\n",
       "      <td>0.030704</td>\n",
       "      <td>0.618032</td>\n",
       "    </tr>\n",
       "    <tr>\n",
       "      <th>JNJ</th>\n",
       "      <td>0.061393</td>\n",
       "      <td>0.340583</td>\n",
       "      <td>-0.108644</td>\n",
       "    </tr>\n",
       "    <tr>\n",
       "      <th>LLY</th>\n",
       "      <td>0.061572</td>\n",
       "      <td>0.606775</td>\n",
       "      <td>-0.131977</td>\n",
       "    </tr>\n",
       "    <tr>\n",
       "      <th>MRK</th>\n",
       "      <td>0.066781</td>\n",
       "      <td>0.390522</td>\n",
       "      <td>-0.072049</td>\n",
       "    </tr>\n",
       "    <tr>\n",
       "      <th>NEM</th>\n",
       "      <td>0.291813</td>\n",
       "      <td>-0.092005</td>\n",
       "      <td>-0.395552</td>\n",
       "    </tr>\n",
       "    <tr>\n",
       "      <th>RGLD</th>\n",
       "      <td>0.308630</td>\n",
       "      <td>-0.124450</td>\n",
       "      <td>-0.417604</td>\n",
       "    </tr>\n",
       "    <tr>\n",
       "      <th>SSRM</th>\n",
       "      <td>0.427137</td>\n",
       "      <td>-0.228969</td>\n",
       "      <td>-0.483918</td>\n",
       "    </tr>\n",
       "    <tr>\n",
       "      <th>UNH</th>\n",
       "      <td>0.102165</td>\n",
       "      <td>0.534788</td>\n",
       "      <td>-0.136358</td>\n",
       "    </tr>\n",
       "  </tbody>\n",
       "</table>\n",
       "</div>"
      ],
      "text/plain": [
       "              f1        f2        f3\n",
       "symbol                              \n",
       "CDE     0.784021  0.030704  0.618032\n",
       "JNJ     0.061393  0.340583 -0.108644\n",
       "LLY     0.061572  0.606775 -0.131977\n",
       "MRK     0.066781  0.390522 -0.072049\n",
       "NEM     0.291813 -0.092005 -0.395552\n",
       "RGLD    0.308630 -0.124450 -0.417604\n",
       "SSRM    0.427137 -0.228969 -0.483918\n",
       "UNH     0.102165  0.534788 -0.136358"
      ]
     },
     "metadata": {},
     "output_type": "display_data"
    }
   ],
   "source": [
    "display(factor_exposures)"
   ]
  },
  {
   "cell_type": "markdown",
   "id": "b5a5a979",
   "metadata": {},
   "source": [
    "그림 5.3: 각 자산의 요인별 노출도를 포함하는 DataFrame"
   ]
  },
  {
   "cell_type": "markdown",
   "id": "bdde981a",
   "metadata": {},
   "source": [
    "첫 번째 주성분에 대한 요인 노출도를 그래프로 표시"
   ]
  },
  {
   "cell_type": "code",
   "execution_count": 34,
   "id": "b1df0b09",
   "metadata": {},
   "outputs": [
    {
     "data": {
      "text/plain": [
       "<Axes: xlabel='symbol'>"
      ]
     },
     "execution_count": 34,
     "metadata": {},
     "output_type": "execute_result"
    },
    {
     "data": {
      "image/png": "[encoded data removed]",
      "text/plain": [
       "<Figure size 640x480 with 1 Axes>"
      ]
     },
     "metadata": {},
     "output_type": "display_data"
    }
   ],
   "source": [
    "factor_exposures.f1.sort_values().plot.bar()"
   ]
  },
  {
   "cell_type": "markdown",
   "id": "80dde682",
   "metadata": {},
   "source": [
    "각 자산의 첫 번째와 두 번째 주성분에 대한 노출도를 주석이 달린 산점도로 시각화할 수 있습니다:\n",
    "\n",
    "첫 번째와 두 번째 주성분의 요인 노출도에 대한 산점도"
   ]
  },
  {
   "cell_type": "code",
   "execution_count": 35,
   "id": "0527417a",
   "metadata": {},
   "outputs": [
    {
     "data": {
      "image/png": "[encoded data removed]",
      "text/plain": [
       "<Figure size 640x480 with 1 Axes>"
      ]
     },
     "metadata": {},
     "output_type": "display_data"
    }
   ],
   "source": [
    "# 종목 레이블을 factor_exposures의 인덱스에서 가져옴\n",
    "labels = factor_exposures.index\n",
    "# factor_exposures의 값들을 numpy 배열로 변환\n",
    "data = factor_exposures.values\n",
    "# 첫 번째와 두 번째 주성분에 대한 산점도 생성\n",
    "plt.scatter(data[:, 0], data[:, 1])\n",
    "# x축 레이블 설정 - 첫 번째 주성분의 요인 노출도\n",
    "plt.xlabel(\"Factor exposure of PC1\") \n",
    "# y축 레이블 설정 - 두 번째 주성분의 요인 노출도\n",
    "plt.ylabel(\"Factor exposure of PC2\")\n",
    "\n",
    "# 각 데이터 포인트에 종목 레이블과 화살표 주석 추가\n",
    "for label, x, y in zip(labels, data[:, 0], data[:, 1]):\n",
    "    plt.annotate(\n",
    "        label,  # 표시할 종목 레이블\n",
    "        xy=(x, y),  # 화살표가 가리킬 좌표\n",
    "        xytext=(-20, 20),  # 레이블 위치 오프셋\n",
    "        textcoords=\"offset points\",  # 오프셋 단위 지정\n",
    "        arrowprops=dict(arrowstyle=\"->\", connectionstyle=\"arc3,rad=0\"),  # 화살표 스타일 설정\n",
    "    )\n",
    "\n",
    "# 그래프 표시\n",
    "plt.show()"
   ]
  },
  {
   "cell_type": "markdown",
   "id": "eea9a96e-294e-4a2f-ba9e-cfe429f00f5a",
   "metadata": {},
   "source": [
    "그림 5.4: 첫 번째와 두 번째 주성분에 대한 주식 노출도를 보여주는 산점도\n",
    " \n",
    "금광 주식들은 헬스케어 주식들에 비해 더 높은 요인 노출도를 보이며, 이는 기초 요인들의 변화에 더 민감하다는 것을 나타냅니다. 헬스케어 주식들은 \"f2\"에 대해 더 낮고 음의 노출도를 보이는데, 이는 이 요인에 높은 노출도를 가진 포트폴리오에서 분산투자 효과를 제공할 수 있음을 시사합니다. 이러한 요인들은 시장 위험, 금리 위험 또는 산업별 위험과 같은 시장의 다양한 체계적 위험을 나타낼 수 있습니다.\n",
    "\n",
    "첨부된 그래프는 금광 및 헬스케어 관련 주식 심볼의 PCA 분석 결과를 나타냅니다. 각 심볼은 두 개의 주성분(PC1, PC2)에 대한 요인 노출도(factor exposure)로 표현되었으며, 주어진 종목들에 대한 주요 인사이트는 다음과 같습니다:\n",
    "\n",
    "---\n",
    "\n",
    "**1. 그룹별 분포**\n",
    "- **광산/귀금속 관련 주식 (NEM, RGLD, SSRM, CDE)**:\n",
    "  - **CDE**는 PC1에 대해 높은 요인 노출도를 보이며, 다른 금광 관련 주식과 다소 떨어진 위치에 있습니다.\n",
    "  - **NEM, RGLD**는 PC1과 PC2 모두에서 중간 정도의 노출도를 가지며, 서로 가까운 위치에 있습니다.\n",
    "  - **SSRM**은 PC1에서 상대적으로 높은 노출도를 보이지만, PC2에서는 낮은 값을 가집니다.\n",
    "\n",
    "- **헬스케어 관련 주식 (LLY, UNH, JNJ, MRK)**:\n",
    "  - **LLY**는 PC2에서 가장 높은 노출도를 보이며, 다른 헬스케어 주식들과도 분리된 위치에 있습니다.\n",
    "  - **UNH**와 **MRK**는 PC1에서 유사한 노출도를 보이지만, PC2에서 차이가 나타납니다.\n",
    "  - **JNJ**는 PC1과 PC2 모두에서 상대적으로 중간 정도의 노출도를 보이며, 안정적인 성향을 나타낼 수 있습니다.\n",
    "\n",
    "**2. PCA 분석 결과의 해석**\n",
    "- **PC1 (주성분 1)**: 요인 노출도가 클수록 해당 주식의 특정 팩터(예: 시장 요인, 산업 요인)에 민감도가 높음을 의미합니다.  \n",
    "  - **CDE**와 **SSRM**은 PC1에서 높은 노출도를 보여, 동일한 시장 요인에 더 큰 영향을 받을 가능성이 있습니다.\n",
    "  \n",
    "- **PC2 (주성분 2)**: 두 번째 주요 요인으로, 주식의 상관 관계에서 추가적인 분산을 설명합니다.  \n",
    "  - **LLY**는 PC2에서 가장 높은 값을 보여, 다른 요인(예: 개별 주식의 고유 리스크)에 큰 영향을 받을 가능성이 큽니다.\n",
    "\n",
    "**3. 주요 관찰**\n",
    "- 금광 주식(CDE, SSRM 등)은 헬스케어 주식(LLY, UNH 등)과 명확히 분리된 클러스터를 형성하고 있으며, 이는 두 섹터가 서로 다른 요인에 의해 주도된다는 것을 시사합니다.\n",
    "- 동일 섹터 내에서도 개별 주식들의 요인 노출도에는 차이가 있어, 다양한 리스크 및 수익 패턴을 반영합니다.\n",
    "\n",
    "**분석 활용 방안**\n",
    "- 투자 포트폴리오 구성 시:\n",
    "  - **CDE**와 **LLY**와 같은 주식은 특정 요인에 대한 민감도가 크므로, 변동성이 더 클 가능성이 있습니다.\n",
    "  - 분산 투자 전략에서는 요인 노출도가 다른 주식들을 선택해 리스크를 분산할 수 있습니다.\n",
    "\n",
    "- 추가적인 분석:\n",
    "  - PC1과 PC2 외의 추가 주성분(PC3, PC4 등)에 대한 분석을 통해 숨겨진 상관 관계를 더 깊게 탐구할 수 있습니다.\n",
    "  - 시계열 데이터를 기반으로 각 주식의 요인 노출도 변화를 추적해, 시장 환경 변화에 따른 민감도를 평가할 수 있습니다.\n",
    "\n",
    "--- "
   ]
  },
  {
   "cell_type": "markdown",
   "id": "20ab062b",
   "metadata": {},
   "source": [
    "### 참고 자료\n",
    "\n",
    "PCA(주성분 분석)는 포트폴리오 관리에서 널리 사용되는 중요한 차원 축소 기법입니다. PCA에 대해 더 알아보려면 아래 링크를 방문하세요:\n",
    "\n",
    "- PCA에 대한 자세한 내용: [https://en.wikipedia.org/wiki/Principal_component_analysis](https://en.wikipedia.org/wiki/Principal_component_analysis)  \n",
    "- scikit-learn 문서: [https://scikit-learn.org/stable/](https://scikit-learn.org/stable/)  \n",
    "- 이 레시피에서 사용된 scikit-learn의 PCA 구현에 대한 문서: [https://scikit-learn.org/stable/modules/generated/sklearn.decomposition.PCA.html](https://scikit-learn.org/stable/modules/generated/sklearn.decomposition.PCA.html)  \n",
    "\n",
    "--- "
   ]
  },
  {
   "cell_type": "markdown",
   "id": "915d13af",
   "metadata": {},
   "source": [
    "## 선형 회귀를 사용하여 포트폴리오 베타를 찾고 헷지하기\n",
    "\n",
    "알고리즘 트레이더들은 종종 높은 수익을 낼 것으로 기대되는 특정 위험에 대한 노출을 추구하면서도, 불리하거나 불필요하다고 판단되는 다른 위험은 헷지하려고 합니다. 예를 들어, 트레이더는 시장 전반의 위험을 헷지하면서도 주가수익비율(P/E)이 가장 낮은 주식들에 대한 노출을 원할 수 있는데, 이는 이러한 주식들이 더 좋은 성과를 낼 것이라고 믿기 때문입니다. 이러한 선택적 노출은 특정 위험에 대한 헷지를 통해 잠재적 손실을 최소화하면서도 기회로 인식되는 부분에서 수익을 극대화하는 데 도움을 줍니다.\n",
    "\n",
    "팩터 모델은 다른 자산, 포트폴리오 또는 팩터의 수익과 조합하여 자산 또는 포트폴리오의 수익을 설명하는 방식입니다. 선형 결합을 사용하는 팩터 모델의 일반적인 형태는 다음과 같습니다:\n",
    "\n",
    "$\n",
    "Y = \\alpha + \\beta_1 X_1 + \\beta_2 X_2 + \\beta_n X_n\n",
    "$\n",
    "\n",
    "- **Y**: 포트폴리오/자산의 수익률\n",
    "- **α**: 팩터 영향 제외한 기본 수익률\n",
    "- **β**: 각 팩터에 대한 민감도 \n",
    "- **X**: 시장수익률, 기업규모 등의 위험 팩터들\n",
    "\n",
    "포트폴리오 수익의 위험 요인에 대한 민감도는 베타(β)로 설명됩니다. 헷지가 필요한 것은 바로 이 베타로, 이는 위험 요인에 대한 노출을 집중적으로 관리해야 합니다.\n",
    "\n",
    "이 레시피에서는 주식 포트폴리오를 구성하고, SPY 수익에 대한 포트폴리오 수익의 베타를 계산한 뒤, 시장 전반의 노출을 중립화하기 위한 헷지 포지션을 구성할 것입니다.\n",
    "\n",
    "---"
   ]
  },
  {
   "cell_type": "markdown",
   "id": "007cb852",
   "metadata": {},
   "source": [
    "### 준비하기\n",
    "\n",
    "이 레시피에서는 **Statsmodels** 라이브러리를 소개합니다. 이 라이브러리는 통계 모델을 추정하고, 통계적 테스트와 데이터 탐색을 수행하기 위한 클래스와 함수를 제공합니다. 분석을 수행하기 위해 이 라이브러리를 사용할 것입니다.\n",
    "\n",
    "Statsmodels를 설치하려면 다음 명령어를 실행하십시오:\n",
    "\n",
    "```bash\n",
    "pip install statsmodels\n",
    "```\n",
    "\n",
    "---"
   ]
  },
  {
   "cell_type": "markdown",
   "id": "78997efd",
   "metadata": {},
   "source": [
    "### 실행 방법...\n",
    "\n",
    "Statsmodels를 사용하여 주식 포트폴리오가 벤치마크에 대해 얼마나 민감한지 측정하고, 그런 다음 헷지 베타를 상쇄하기 위해 숏 포지션을 설정할 것입니다.\n",
    "\n",
    "1. **분석을 위한 라이브러리 불러오기**:"
   ]
  },
  {
   "cell_type": "code",
   "execution_count": 1,
   "id": "87f6a032",
   "metadata": {},
   "outputs": [],
   "source": [
    "import matplotlib.pyplot as plt\n",
    "import numpy as np\n",
    "import pandas as pd\n",
    "import statsmodels.api as sm\n",
    "from IPython.display import Markdown, display\n",
    "from openbb import obb\n",
    "from statsmodels import regression"
   ]
  },
  {
   "cell_type": "code",
   "execution_count": 2,
   "id": "0cbacf37",
   "metadata": {},
   "outputs": [],
   "source": [
    "obb.user.preferences.output_type = \"dataframe\""
   ]
  },
  {
   "cell_type": "markdown",
   "id": "358adff2",
   "metadata": {},
   "source": [
    "2. **이전 레시피에서 사용한 동일한 포트폴리오의 데이터를 다운로드**:\n",
    "\n",
    "여기에는 **SPY 상장지수펀드(ETF)** 가 포함됩니다. SPY는 시장 전반의 수익률을 나타내기 위해 사용됩니다."
   ]
  },
  {
   "cell_type": "code",
   "execution_count": 3,
   "id": "0ad36b85",
   "metadata": {},
   "outputs": [],
   "source": [
    "symbols = [\n",
    "    \"NEM\",\n",
    "    \"RGLD\",\n",
    "    \"SSRM\",\n",
    "    \"CDE\",\n",
    "    \"LLY\",\n",
    "    \"UNH\",\n",
    "    \"JNJ\",\n",
    "    \"MRK\",\n",
    "    \"SPY\",\n",
    "]"
   ]
  },
  {
   "cell_type": "markdown",
   "id": "b6eb4574",
   "metadata": {},
   "source": [
    "2020-01-01부터 2022-12-31까지 \"yfinance\" 제공자를 사용하여 정의된 종목들의 과거 가격 데이터를 가져오기"
   ]
  },
  {
   "cell_type": "code",
   "execution_count": 4,
   "id": "f42846d3",
   "metadata": {},
   "outputs": [],
   "source": [
    "data = obb.equity.price.historical(\n",
    "    symbols,\n",
    "    start_date=\"2020-01-01\",\n",
    "    end_date=\"2022-12-31\",\n",
    "    provider=\"yfinance\",\n",
    ").pivot(columns=\"symbol\", values=\"close\")"
   ]
  },
  {
   "cell_type": "markdown",
   "id": "6eada077",
   "metadata": {},
   "source": [
    "3. **DataFrame에서 SPY 데이터 열을 제거하고 벤치마크 수익률을 계산**:\n",
    "\n",
    "벤치마크 \"SPY\"의 일일 수익률을 계산하고 결측값 제거"
   ]
  },
  {
   "cell_type": "code",
   "execution_count": 5,
   "id": "3d11bbaf",
   "metadata": {},
   "outputs": [],
   "source": [
    "benchmark_returns = data.pop(\"SPY\").pct_change().dropna()"
   ]
  },
  {
   "cell_type": "markdown",
   "id": "ec5d9063",
   "metadata": {},
   "source": [
    "4. **포트폴리오의 수익률을 계산**:\n",
    "\n",
    "포트폴리오의 일일 수익률을 계산하고 결측값 제거"
   ]
  },
  {
   "cell_type": "code",
   "execution_count": 6,
   "id": "545dca50",
   "metadata": {},
   "outputs": [],
   "source": [
    "portfolio_returns = data.pct_change().dropna().sum(axis=1)"
   ]
  },
  {
   "cell_type": "markdown",
   "id": "80f8fc5a",
   "metadata": {},
   "source": [
    "5. **그래프 스타일 설정**:"
   ]
  },
  {
   "cell_type": "code",
   "execution_count": 7,
   "id": "44e39793",
   "metadata": {},
   "outputs": [],
   "source": [
    "portfolio_returns.name = \"portfolio\""
   ]
  },
  {
   "cell_type": "markdown",
   "id": "97db70eb",
   "metadata": {},
   "source": [
    "6. **벤치마크 수익률과 포트폴리오 수익률을 시각화**:\n",
    "\n",
    "포트폴리오와 벤치마크 일일 수익률 그래프 그리기"
   ]
  },
  {
   "cell_type": "code",
   "execution_count": 8,
   "id": "e35eb93e",
   "metadata": {},
   "outputs": [
    {
     "data": {
      "image/png": "[encoded data removed]",
      "text/plain": [
       "<Figure size 640x480 with 1 Axes>"
      ]
     },
     "metadata": {},
     "output_type": "display_data"
    }
   ],
   "source": [
    "portfolio_returns.plot()\n",
    "benchmark_returns.plot()\n",
    "plt.ylabel(\"Daily Return\")\n",
    "plt.legend()\n",
    "plt.show()"
   ]
  },
  {
   "cell_type": "markdown",
   "id": "d232d651",
   "metadata": {},
   "source": [
    "7. 분석 기간 동안의 일일 수익률 그래프 결과입니다:\n",
    "\n",
    "알파와 베타를 계산하기 위한 선형 회귀 함수를 정의합니다"
   ]
  },
  {
   "cell_type": "code",
   "execution_count": 9,
   "id": "3f3968ab",
   "metadata": {},
   "outputs": [],
   "source": [
    "def linreg(x, y):\n",
    "    # 알파를 구하기 위해 1로 이루어진 열을 추가\n",
    "    x = sm.add_constant(x)\n",
    "    model = regression.linear_model.OLS(y, x).fit()\n",
    "    \n",
    "    # 모델 적합이 끝났으므로 상수항 제거\n",
    "    x = x[:, 1]\n",
    "    \n",
    "    # 알파(절편)와 베타(기울기) 반환\n",
    "    return model.params[0], model.params[1]"
   ]
  },
  {
   "cell_type": "markdown",
   "id": "344a3b78",
   "metadata": {},
   "source": [
    "8. 선형 회귀에서 알파와 베타 계수를 반환하는 함수 생성:\n",
    " \n",
    "포트폴리오와 벤치마크 수익률에 대해 선형 회귀를 수행하여 알파와 베타 계산"
   ]
  },
  {
   "cell_type": "code",
   "execution_count": 10,
   "id": "863d6363",
   "metadata": {},
   "outputs": [],
   "source": [
    "X = benchmark_returns.values\n",
    "Y = portfolio_returns.values"
   ]
  },
  {
   "cell_type": "markdown",
   "id": "fa3bc8a7",
   "metadata": {},
   "source": [
    "9. 포트폴리오와 벤치마크 수익률 간의 회귀분석을 통해 알파와 베타 계수를 생성:"
   ]
  },
  {
   "cell_type": "code",
   "execution_count": 11,
   "id": "329b00ca",
   "metadata": {},
   "outputs": [],
   "source": [
    "alpha, beta = linreg(X, Y)"
   ]
  },
  {
   "cell_type": "code",
   "execution_count": 12,
   "id": "004bcfa2",
   "metadata": {},
   "outputs": [
    {
     "data": {
      "text/plain": [
       "'Alpha: 0.002638518577761205'"
      ]
     },
     "metadata": {},
     "output_type": "display_data"
    },
    {
     "data": {
      "text/plain": [
       "'Beta: 5.551213060083568'"
      ]
     },
     "metadata": {},
     "output_type": "display_data"
    }
   ],
   "source": [
    "display(f\"Alpha: {alpha}\")\n",
    "display(f\"Beta: {beta}\")"
   ]
  },
  {
   "cell_type": "markdown",
   "id": "6c9d8cce",
   "metadata": {},
   "source": [
    "10. 포트폴리오와 벤치마크 수익률 간의 선형 관계를 시각화하는 산점도 생성:\n",
    " \n",
    "회귀선 그리기"
   ]
  },
  {
   "cell_type": "code",
   "execution_count": 13,
   "id": "a96c2a6c",
   "metadata": {},
   "outputs": [],
   "source": [
    "X2 = np.linspace(X.min(), X.max(), 100)\n",
    "Y_hat = X2 * beta + alpha"
   ]
  },
  {
   "cell_type": "markdown",
   "id": "9a6c7c71",
   "metadata": {},
   "source": [
    "원본 데이터 플롯"
   ]
  },
  {
   "cell_type": "code",
   "execution_count": 19,
   "id": "9b48d4ac",
   "metadata": {},
   "outputs": [
    {
     "data": {
      "image/png": "[encoded data removed]",
      "text/plain": [
       "<Figure size 640x480 with 1 Axes>"
      ]
     },
     "metadata": {},
     "output_type": "display_data"
    }
   ],
   "source": [
    "plt.scatter(X, Y, alpha=0.3)\n",
    "plt.xlabel(\"SPY daily return\")\n",
    "plt.ylabel(\"Portfolio daily return\")\n",
    "plt.plot(X2, Y_hat, \"r\", alpha=0.9)\n",
    "plt.show()"
   ]
  },
  {
   "cell_type": "markdown",
   "id": "23d052b8",
   "metadata": {},
   "source": [
    "11. 마지막으로, 베타 헷지를 포함한 포트폴리오 수익률의 시계열을 구성합니다:\n",
    " \n",
    "베타 헷징이 포함된 포트폴리오 구성"
   ]
  },
  {
   "cell_type": "code",
   "execution_count": 20,
   "id": "8059feca",
   "metadata": {},
   "outputs": [
    {
     "data": {
      "text/plain": [
       "date\n",
       "2020-01-03   -0.088612\n",
       "2020-01-06   -0.095361\n",
       "2020-01-07   -0.003813\n",
       "2020-01-08   -0.185381\n",
       "2020-01-09    0.007972\n",
       "                ...   \n",
       "2022-12-23    0.037300\n",
       "2022-12-27    0.128089\n",
       "2022-12-28   -0.171869\n",
       "2022-12-29    0.026823\n",
       "2022-12-30   -0.048973\n",
       "Length: 755, dtype: float64"
      ]
     },
     "execution_count": 20,
     "metadata": {},
     "output_type": "execute_result"
    }
   ],
   "source": [
    "hedged_portfolio_returns = -1 * beta * benchmark_returns + portfolio_returns\n",
    "hedged_portfolio_returns"
   ]
  },
  {
   "cell_type": "markdown",
   "id": "9363fc36",
   "metadata": {},
   "source": [
    "12. 베타가 0인지 확인하기 위해 회귀분석을 다시 실행:\n",
    " \n",
    "헷지된 포트폴리오 수익률과 벤치마크 수익률에 대해 선형 회귀를 수행하여 알파와 베타 계산"
   ]
  },
  {
   "cell_type": "code",
   "execution_count": 17,
   "id": "5574f4da",
   "metadata": {},
   "outputs": [],
   "source": [
    "P = hedged_portfolio_returns.values\n",
    "alpha, beta = linreg(X, P)"
   ]
  },
  {
   "cell_type": "code",
   "execution_count": 18,
   "id": "497a95a1",
   "metadata": {},
   "outputs": [
    {
     "data": {
      "text/plain": [
       "'Alpha: 0.002638518577761207'"
      ]
     },
     "metadata": {},
     "output_type": "display_data"
    },
    {
     "data": {
      "text/plain": [
       "'Beta: -3.2674600872195647e-15'"
      ]
     },
     "metadata": {},
     "output_type": "display_data"
    }
   ],
   "source": [
    "display(f\"Alpha: {alpha}\")\n",
    "display(f\"Beta: {beta}\")"
   ]
  },
  {
   "cell_type": "markdown",
   "id": "17f0bb4e",
   "metadata": {},
   "source": [
    "---\n",
    "\n",
    "### **작동 방식...**\n",
    "\n",
    "베타 헷지를 설명하기 위해, 우리는 8개의 주식으로 구성된 포트폴리오의 일일 수익률을 합산하여 각 일의 데이터를 만듭니다. 우리는 S&P 500 추적 ETF를 더 넓은 시장의 대리로 사용하며, ETF 심볼은 **SPY**입니다. 포트폴리오 데이터와 함께 SPY의 가격 데이터를 다운로드하고, SPY 열을 별도의 시리즈로 처리합니다. 그런 다음, 포트폴리오와 벤치마크 모두의 일일 수익률을 계산합니다.\n",
    "\n",
    "다음 단계는 몇 줄의 코드로 선형 회귀를 실행하는 것입니다. $ x $는 독립 변수로 벤치마크 수익률을 나타내고, $ y $는 종속 변수로 포트폴리오 수익률을 나타냅니다. `linreg` 함수는 이러한 수익률을 받아 $ x $에 상수 항(intercept)을 추가한 다음, 일반 최소 제곱 회귀(OLS)를 사용해 선형 모델을 맞춥니다. 이 함수는 적합된 모델의 매개변수(즉, 절편 $ \\alpha $와 기울기 $ \\beta $)를 반환합니다.\n",
    "\n",
    ">**중요한 주의 사항**\n",
    ">\n",
    ">상수 항(intercept)을 추가하는 것은 선형 회귀에서 종속 변수와 독립 변수 간의 관계를 정확히 모델링하기 위해 매우 중요합니다. 상수 항을 포함하지 않으면, 회귀선을 원점(0, 0)을 지나도록 강제하는 결과를 낳게 되어, 변수 간 관계를 부정확하게 나타낼 수 있습니다.\n",
    "\n",
    "절편(Alpha) 및 베타(Beta) 항목을 얻은 후, 헷지된 포트폴리오를 구축할 수 있습니다. 이 레시피의 서론에서 배운 것처럼, 트레이더는 원하지 않는 위험에 대한 노출을 헷지합니다. 만약 포트폴리오 수익률이 선형 관계를 통해 특정 위험 요인에 연결되어 있다고 판단된다면, 우리는 해당 위험 요인에 숏 포지션을 시작할 수 있습니다. 여기서는 SPY로 대표되는 더 넓은 시장이 그 위험 요인입니다. 우리가 거래하려는 금액은 베타에 의해 결정됩니다. 이는 효과적입니다. 왜냐하면 만약 우리의 수익이 $ \\alpha + \\beta_{SPY} $로 구성되어 있다면, SPY에 대한 숏 포지션을 취하면 우리의 새로운 수익은 $ \\alpha + \\beta_{SPY} - \\beta_{SPY} = \\alpha $가 되기 때문입니다.\n",
    "\n",
    "우리는 회귀를 다시 실행하여 헷지된 포트폴리오의 베타가 0임을 검증합니다.\n",
    "\n",
    "---"
   ]
  },
  {
   "cell_type": "markdown",
   "id": "3a81552a",
   "metadata": {
    "lines_to_next_cell": 2
   },
   "source": [
    "### **더 알아보기...**\n",
    "\n",
    "정보 비율(Information Ratio)은 거래 전략의 위험 조정 수익 성과를 평가하는 데 사용되는 지표입니다. 이는 포트폴리오의 능동적 수익(포트폴리오 수익과 벤치마크 수익의 차이)을 능동적 위험(능동적 수익의 표준편차)으로 나눈 값으로 계산됩니다. 정보 비율은 두 포트폴리오를 벤치마크와 비교하는 데 유용한 방법입니다. 다음은 이를 계산하는 함수를 작성한 코드입니다:\n",
    "\n",
    "정보 비율을 계산하는 함수 정의"
   ]
  },
  {
   "cell_type": "code",
   "execution_count": 25,
   "id": "1079c198",
   "metadata": {},
   "outputs": [],
   "source": [
    "def information_ratio(portfolio_returns, benchmark_returns):\n",
    "    \"\"\"\n",
    "    전략의 정보 비율을 계산합니다.\n",
    "\n",
    "    매개변수\n",
    "    ----------\n",
    "    portfolio_returns : pd.Series or np.ndarray\n",
    "        전략의 일일 수익률 (비누적)\n",
    "    benchmark_returns : int, float\n",
    "        벤치마크 또는 요인의 일일 수익률 (비누적)\n",
    "    반환값\n",
    "    -------\n",
    "    information_ratio : float\n",
    "        정보 비율\n",
    "    참고\n",
    "    -----\n",
    "    자세한 내용은 https://pyquantnews.com/how-to-measure-skill-portfolio-manager/ 참조\n",
    "    \"\"\"\n",
    "\n",
    "    # 초과 수익률 계산 (포트폴리오 수익률 - 벤치마크 수익률)\n",
    "    active_return = portfolio_returns - benchmark_returns\n",
    "    \n",
    "    # 추적 오차 계산 (초과 수익률의 표준편차)\n",
    "    tracking_error = active_return.std()\n",
    "    \n",
    "    # 정보 비율 = 평균 초과 수익률 / 추적 오차\n",
    "    return active_return.mean() / tracking_error"
   ]
  },
  {
   "cell_type": "markdown",
   "id": "a12584e8",
   "metadata": {},
   "source": [
    "다음으로, 정보 비율을 사용하여 헷지된 포트폴리오와 헷지되지 않은 포트폴리오의 차이를 비교해 보겠습니다:\n",
    "\n",
    "헷지된 포트폴리오와 헷지되지 않은 포트폴리오의 정보 비율 계산"
   ]
  },
  {
   "cell_type": "code",
   "execution_count": 26,
   "id": "9ac1cedc",
   "metadata": {},
   "outputs": [],
   "source": [
    "hedged_ir = information_ratio(hedged_portfolio_returns, benchmark_returns)"
   ]
  },
  {
   "cell_type": "code",
   "execution_count": 27,
   "id": "fc39e40f",
   "metadata": {},
   "outputs": [],
   "source": [
    "unhedged_ir = information_ratio(portfolio_returns, benchmark_returns)"
   ]
  },
  {
   "cell_type": "code",
   "execution_count": 28,
   "id": "d8814e73",
   "metadata": {},
   "outputs": [
    {
     "data": {
      "text/plain": [
       "'Hedged information ratio: 0.030991554126598406'"
      ]
     },
     "metadata": {},
     "output_type": "display_data"
    },
    {
     "data": {
      "text/plain": [
       "'Unhedged information ratio: 0.030991554126598403'"
      ]
     },
     "metadata": {},
     "output_type": "display_data"
    }
   ],
   "source": [
    "display(f\"Hedged information ratio: {hedged_ir}\")\n",
    "display(f\"Unhedged information ratio: {unhedged_ir}\")"
   ]
  },
  {
   "cell_type": "markdown",
   "id": "3bd2158d",
   "metadata": {},
   "source": [
    "위 코드를 실행하면, 헷지되지 않은 포트폴리오가 더 낮은 위험 조정 수익을 가진다는 결과가 나타납니다. 이는 벤치마크에 기인한 수익이 헷지된 결과이므로 예상되는 결과입니다.\n",
    "\n",
    "---"
   ]
  },
  {
   "cell_type": "markdown",
   "id": "0f3e1508-6ab5-4592-bcac-bebf4742ffa5",
   "metadata": {},
   "source": [
    "### **참고 자료**\n",
    "\n",
    "헷지는 적절한 위험 관리를 위한 중요한 부분이며 성공적인 거래의 핵심입니다. 포트폴리오 수익과 요인 수익 간의 단순한 선형 관계를 사용하여 원하지 않는 위험을 중립화하는 것은 훌륭한 방법입니다. 이 레시피에서 다룬 주제에 대해 더 자세히 알아보려면 아래 링크를 참조하십시오:\n",
    "\n",
    "- Statsmodels의 일반 최소 제곱(OLS) 설명: [https://www.statsmodels.org/stable/examples/notebooks/generated/ols.html](https://www.statsmodels.org/stable/examples/notebooks/generated/ols.html)\n",
    "- 포트폴리오 관리 및 거래에서 베타 사용법: [https://www.investopedia.com/terms/b/beta.asp](https://www.investopedia.com/terms/b/beta.asp)\n",
    "- 정보 비율 계산 방법: [https://pyquantnews.com/how-to-measure-skill-portfolio-manager/](https://pyquantnews.com/how-to-measure-skill-portfolio-manager/)\n",
    "\n",
    "--- "
   ]
  },
  {
   "cell_type": "markdown",
   "id": "fb3015f0",
   "metadata": {},
   "source": [
    "## Fama-French 요인에 대한 포트폴리오 민감도 분석\n",
    "\n",
    "Fama-French 요인은 주식 수익률의 변화를 설명하기 위해 경제학자 Eugene F. Fama와 Kenneth R. French가 정의한 요인 집합입니다. 이러한 요인은 Fama-French 3요인 모델의 기초가 됩니다. **1장, Cutting-edge Python Libraries를 사용한 무료 금융 시장 데이터 획득**에서는 pandas_datareader를 사용하여 Fama-French 요인 데이터를 다운로드하는 방법을 배웠습니다.\n",
    "\n",
    "이 레시피에서는 포트폴리오가 크기(size)와 시장 가치(market value) 요인에 노출되는 정도를 계산합니다.\n",
    "\n",
    "---"
   ]
  },
  {
   "cell_type": "markdown",
   "id": "adf02f2a",
   "metadata": {},
   "source": [
    "### 준비하기\n",
    "\n",
    "**1장, Cutting-edge Python Libraries를 사용한 무료 금융 시장 데이터 획득**에서 pandas_datareader가 설치되어 있어야 합니다. 설치되지 않았다면 다음 명령어로 설치할 수 있습니다:\n",
    "\n",
    "```bash\n",
    "pip install pandas_datareader\n",
    "```\n",
    "\n",
    "또한, 이전 레시피에서 생성된 과거 가격 데이터를 포함한 `data` 데이터프레임이 있다고 가정합니다.\n",
    "\n",
    "---"
   ]
  },
  {
   "cell_type": "markdown",
   "id": "d621fc5c",
   "metadata": {},
   "source": [
    "### 실행 방법...\n",
    "\n",
    "이전 레시피에서 학습한 베타를 사용하여 요인 민감도를 계산하는 방법을 재사용합니다."
   ]
  },
  {
   "cell_type": "markdown",
   "id": "1d9c093d",
   "metadata": {},
   "source": [
    "1. 분석에 필요한 라이브러리 가져오기"
   ]
  },
  {
   "cell_type": "code",
   "execution_count": 29,
   "id": "dceb538c",
   "metadata": {},
   "outputs": [],
   "source": [
    "import warnings"
   ]
  },
  {
   "cell_type": "code",
   "execution_count": 30,
   "id": "c8244873",
   "metadata": {},
   "outputs": [],
   "source": [
    "import numpy as np\n",
    "import pandas as pd\n",
    "import pandas_datareader as pdr\n",
    "import statsmodels.api as sm\n",
    "from IPython.display import Markdown, display\n",
    "from openbb import obb\n",
    "from statsmodels import regression\n",
    "from statsmodels.regression.rolling import RollingOLS"
   ]
  },
  {
   "cell_type": "code",
   "execution_count": 31,
   "id": "eca3e74b",
   "metadata": {},
   "outputs": [],
   "source": [
    "warnings.filterwarnings(\"ignore\")\n",
    "obb.user.preferences.output_type = \"dataframe\""
   ]
  },
  {
   "cell_type": "markdown",
   "id": "77c2a960",
   "metadata": {},
   "source": [
    "Define the stock symbols including the benchmark \"SPY\""
   ]
  },
  {
   "cell_type": "code",
   "execution_count": 32,
   "id": "1dece335",
   "metadata": {},
   "outputs": [],
   "source": [
    "symbols = [\"NEM\", \"RGLD\", \"SSRM\", \"CDE\", \"LLY\", \"UNH\", \"JNJ\", \"MRK\", \"SPY\"]"
   ]
  },
  {
   "cell_type": "markdown",
   "id": "e2a7f2ba",
   "metadata": {},
   "source": [
    "Fetch historical price data for the defined symbols from 2015-01-01 to 2022-12-31 using the \"yfinance\" provider"
   ]
  },
  {
   "cell_type": "code",
   "execution_count": 33,
   "id": "1050e6b6",
   "metadata": {},
   "outputs": [],
   "source": [
    "data = obb.equity.price.historical(\n",
    "    symbols,\n",
    "    start_date=\"2015-01-01\",\n",
    "    end_date=\"2022-12-31\",\n",
    "    provider=\"yfinance\",\n",
    ").pivot(columns=\"symbol\", values=\"close\")"
   ]
  },
  {
   "cell_type": "markdown",
   "id": "de812d93",
   "metadata": {},
   "source": [
    "2. 일별 수익률 데이터를 월별로 변환\n",
    "`asfreq`를 사용하여 데이터를 월별로 리샘플링하고, `to_period`를 사용하여 행 레이블을 월별 형식으로 교체합니다. 이는 Fama-French 요인 데이터와 동일한 형식입니다. 일관된 형식은 이후 데이터를 동일한 데이터프레임으로 정렬할 수 있게 합니다:\n",
    "\n",
    "Calculate the monthly percentage returns and convert the index to a monthly period"
   ]
  },
  {
   "cell_type": "code",
   "execution_count": 34,
   "id": "99c44acc",
   "metadata": {},
   "outputs": [],
   "source": [
    "monthly_returns = data.asfreq(\"ME\").pct_change(fill_method=None).to_period(\"M\")"
   ]
  },
  {
   "cell_type": "markdown",
   "id": "cc0f1169",
   "metadata": {},
   "source": [
    "3. 결과\n",
    "결과는 Fama-French 월별 요인 데이터와 정렬하기 적합한 월별 수익률을 포함한 데이터프레임입니다."
   ]
  },
  {
   "cell_type": "code",
   "execution_count": 51,
   "id": "3dcb2bba",
   "metadata": {},
   "outputs": [
    {
     "data": {
      "text/html": [
       "<div>\n",
       "<style scoped>\n",
       "    .dataframe tbody tr th:only-of-type {\n",
       "        vertical-align: middle;\n",
       "    }\n",
       "\n",
       "    .dataframe tbody tr th {\n",
       "        vertical-align: top;\n",
       "    }\n",
       "\n",
       "    .dataframe thead th {\n",
       "        text-align: right;\n",
       "    }\n",
       "</style>\n",
       "<table border=\"1\" class=\"dataframe\">\n",
       "  <thead>\n",
       "    <tr style=\"text-align: right;\">\n",
       "      <th>symbol</th>\n",
       "      <th>CDE</th>\n",
       "      <th>JNJ</th>\n",
       "      <th>LLY</th>\n",
       "      <th>MRK</th>\n",
       "      <th>NEM</th>\n",
       "      <th>RGLD</th>\n",
       "      <th>SSRM</th>\n",
       "      <th>UNH</th>\n",
       "    </tr>\n",
       "    <tr>\n",
       "      <th>date</th>\n",
       "      <th></th>\n",
       "      <th></th>\n",
       "      <th></th>\n",
       "      <th></th>\n",
       "      <th></th>\n",
       "      <th></th>\n",
       "      <th></th>\n",
       "      <th></th>\n",
       "    </tr>\n",
       "  </thead>\n",
       "  <tbody>\n",
       "    <tr>\n",
       "      <th>2015-01</th>\n",
       "      <td>NaN</td>\n",
       "      <td>NaN</td>\n",
       "      <td>NaN</td>\n",
       "      <td>NaN</td>\n",
       "      <td>NaN</td>\n",
       "      <td>NaN</td>\n",
       "      <td>NaN</td>\n",
       "      <td>NaN</td>\n",
       "    </tr>\n",
       "    <tr>\n",
       "      <th>2015-02</th>\n",
       "      <td>NaN</td>\n",
       "      <td>NaN</td>\n",
       "      <td>NaN</td>\n",
       "      <td>NaN</td>\n",
       "      <td>NaN</td>\n",
       "      <td>NaN</td>\n",
       "      <td>NaN</td>\n",
       "      <td>NaN</td>\n",
       "    </tr>\n",
       "    <tr>\n",
       "      <th>2015-03</th>\n",
       "      <td>NaN</td>\n",
       "      <td>NaN</td>\n",
       "      <td>NaN</td>\n",
       "      <td>NaN</td>\n",
       "      <td>NaN</td>\n",
       "      <td>NaN</td>\n",
       "      <td>NaN</td>\n",
       "      <td>NaN</td>\n",
       "    </tr>\n",
       "    <tr>\n",
       "      <th>2015-04</th>\n",
       "      <td>0.108280</td>\n",
       "      <td>-0.013917</td>\n",
       "      <td>-0.010736</td>\n",
       "      <td>0.036187</td>\n",
       "      <td>0.220175</td>\n",
       "      <td>0.022500</td>\n",
       "      <td>0.203090</td>\n",
       "      <td>-0.058247</td>\n",
       "    </tr>\n",
       "    <tr>\n",
       "      <th>2015-05</th>\n",
       "      <td>NaN</td>\n",
       "      <td>NaN</td>\n",
       "      <td>NaN</td>\n",
       "      <td>NaN</td>\n",
       "      <td>NaN</td>\n",
       "      <td>NaN</td>\n",
       "      <td>NaN</td>\n",
       "      <td>NaN</td>\n",
       "    </tr>\n",
       "    <tr>\n",
       "      <th>...</th>\n",
       "      <td>...</td>\n",
       "      <td>...</td>\n",
       "      <td>...</td>\n",
       "      <td>...</td>\n",
       "      <td>...</td>\n",
       "      <td>...</td>\n",
       "      <td>...</td>\n",
       "      <td>...</td>\n",
       "    </tr>\n",
       "    <tr>\n",
       "      <th>2022-07</th>\n",
       "      <td>NaN</td>\n",
       "      <td>NaN</td>\n",
       "      <td>NaN</td>\n",
       "      <td>NaN</td>\n",
       "      <td>NaN</td>\n",
       "      <td>NaN</td>\n",
       "      <td>NaN</td>\n",
       "      <td>NaN</td>\n",
       "    </tr>\n",
       "    <tr>\n",
       "      <th>2022-08</th>\n",
       "      <td>NaN</td>\n",
       "      <td>NaN</td>\n",
       "      <td>NaN</td>\n",
       "      <td>NaN</td>\n",
       "      <td>NaN</td>\n",
       "      <td>NaN</td>\n",
       "      <td>NaN</td>\n",
       "      <td>NaN</td>\n",
       "    </tr>\n",
       "    <tr>\n",
       "      <th>2022-09</th>\n",
       "      <td>0.239130</td>\n",
       "      <td>0.012520</td>\n",
       "      <td>0.073432</td>\n",
       "      <td>0.008903</td>\n",
       "      <td>0.016199</td>\n",
       "      <td>0.020892</td>\n",
       "      <td>0.090437</td>\n",
       "      <td>-0.027516</td>\n",
       "    </tr>\n",
       "    <tr>\n",
       "      <th>2022-10</th>\n",
       "      <td>0.105263</td>\n",
       "      <td>0.064949</td>\n",
       "      <td>0.119808</td>\n",
       "      <td>0.175104</td>\n",
       "      <td>0.006900</td>\n",
       "      <td>0.012151</td>\n",
       "      <td>-0.061863</td>\n",
       "      <td>0.099220</td>\n",
       "    </tr>\n",
       "    <tr>\n",
       "      <th>2022-11</th>\n",
       "      <td>-0.074074</td>\n",
       "      <td>0.023165</td>\n",
       "      <td>0.024828</td>\n",
       "      <td>0.088142</td>\n",
       "      <td>0.121692</td>\n",
       "      <td>0.182919</td>\n",
       "      <td>0.098551</td>\n",
       "      <td>-0.013312</td>\n",
       "    </tr>\n",
       "  </tbody>\n",
       "</table>\n",
       "<p>95 rows × 8 columns</p>\n",
       "</div>"
      ],
      "text/plain": [
       "symbol        CDE       JNJ       LLY       MRK       NEM      RGLD      SSRM  \\\n",
       "date                                                                            \n",
       "2015-01       NaN       NaN       NaN       NaN       NaN       NaN       NaN   \n",
       "2015-02       NaN       NaN       NaN       NaN       NaN       NaN       NaN   \n",
       "2015-03       NaN       NaN       NaN       NaN       NaN       NaN       NaN   \n",
       "2015-04  0.108280 -0.013917 -0.010736  0.036187  0.220175  0.022500  0.203090   \n",
       "2015-05       NaN       NaN       NaN       NaN       NaN       NaN       NaN   \n",
       "...           ...       ...       ...       ...       ...       ...       ...   \n",
       "2022-07       NaN       NaN       NaN       NaN       NaN       NaN       NaN   \n",
       "2022-08       NaN       NaN       NaN       NaN       NaN       NaN       NaN   \n",
       "2022-09  0.239130  0.012520  0.073432  0.008903  0.016199  0.020892  0.090437   \n",
       "2022-10  0.105263  0.064949  0.119808  0.175104  0.006900  0.012151 -0.061863   \n",
       "2022-11 -0.074074  0.023165  0.024828  0.088142  0.121692  0.182919  0.098551   \n",
       "\n",
       "symbol        UNH  \n",
       "date               \n",
       "2015-01       NaN  \n",
       "2015-02       NaN  \n",
       "2015-03       NaN  \n",
       "2015-04 -0.058247  \n",
       "2015-05       NaN  \n",
       "...           ...  \n",
       "2022-07       NaN  \n",
       "2022-08       NaN  \n",
       "2022-09 -0.027516  \n",
       "2022-10  0.099220  \n",
       "2022-11 -0.013312  \n",
       "\n",
       "[95 rows x 8 columns]"
      ]
     },
     "metadata": {},
     "output_type": "display_data"
    }
   ],
   "source": [
    "display(monthly_returns)"
   ]
  },
  {
   "cell_type": "markdown",
   "id": "f81bcd76",
   "metadata": {},
   "source": [
    "4. 활성 수익률 계산\n",
    "\n",
    "활성 수익률을 계산하여 종속 변수로 사용합니다. 이를 통해 Fama-French 요인이 활성 수익률에 미치는 민감도를 이해할 수 있습니다:\n",
    "\n",
    "Separate the benchmark returns from the portfolio returns"
   ]
  },
  {
   "cell_type": "code",
   "execution_count": 35,
   "id": "4ffccfd5",
   "metadata": {},
   "outputs": [],
   "source": [
    "bench = monthly_returns.pop(\"SPY\")\n",
    "R = monthly_returns.mean(axis=1)\n",
    "active = (R - bench).dropna()"
   ]
  },
  {
   "cell_type": "markdown",
   "id": "f605a54c",
   "metadata": {},
   "source": [
    "5. pandas_datareader를 사용하여 Fama-French 데이터 다운로드\n",
    "\n",
    "Fetch the Fama-French factors data"
   ]
  },
  {
   "cell_type": "code",
   "execution_count": 36,
   "id": "b1fb7da7",
   "metadata": {},
   "outputs": [],
   "source": [
    "factors = (\n",
    "    pdr.get_data_famafrench(\n",
    "        \"F-F_Research_Data_Factors\",\n",
    "        start=\"2015-01-01\",\n",
    "        end=\"2022-12-31\",\n",
    "    )[0][1:]\n",
    "    / 100\n",
    ")\n",
    "SMB = factors.loc[active.index, \"SMB\"]\n",
    "HML = factors.loc[active.index, \"HML\"]"
   ]
  },
  {
   "cell_type": "code",
   "execution_count": 37,
   "id": "8e1d05d4",
   "metadata": {},
   "outputs": [
    {
     "name": "stdout",
     "output_type": "stream",
     "text": [
      "Help on function get_data_famafrench in module pandas_datareader.data:\n",
      "\n",
      "get_data_famafrench(*args, **kwargs)\n",
      "\n"
     ]
    }
   ],
   "source": [
    "help(pdr.get_data_famafrench)"
   ]
  },
  {
   "cell_type": "markdown",
   "id": "308ef64a",
   "metadata": {},
   "source": [
    "6. 공통 날짜 인덱스에 따라 데이터를 정렬하여 pandas DataFrame 생성\n",
    "\n",
    "Create a DataFrame with the active returns and Fama-French factors"
   ]
  },
  {
   "cell_type": "code",
   "execution_count": 38,
   "id": "1dec3ba7",
   "metadata": {},
   "outputs": [],
   "source": [
    "df = pd.DataFrame(\n",
    "    {\n",
    "        \"R\": active,\n",
    "        \"SMB\": SMB,\n",
    "        \"HML\": HML,\n",
    "    },\n",
    "    index=active.index,\n",
    ").dropna()"
   ]
  },
  {
   "cell_type": "markdown",
   "id": "e1919be6",
   "metadata": {},
   "source": [
    "7. 회귀 실행 및 요인별 베타 계수 도출\n",
    "\n",
    "회귀를 실행하여 각 요인에 대한 베타 계수를 얻습니다. 이러한 계수는 활성 수익률이 Fama-French 요인에 얼마나 노출되어 있는지를 나타냅니다:\n",
    "\n",
    "Perform linear regression to estimate the sensitivities of active returns to the factors"
   ]
  },
  {
   "cell_type": "code",
   "execution_count": 39,
   "id": "892d7ae7",
   "metadata": {},
   "outputs": [],
   "source": [
    "b1, b2 = regression.linear_model.OLS(df.R, df[[\"SMB\", \"HML\"]]).fit().params"
   ]
  },
  {
   "cell_type": "code",
   "execution_count": 40,
   "id": "5bee5d94",
   "metadata": {},
   "outputs": [
    {
     "data": {
      "text/plain": [
       "'Sensitivities of active returns to factors:\\nSMB: 0.0876106742871349\\nHML: -0.026381516925070413'"
      ]
     },
     "metadata": {},
     "output_type": "display_data"
    }
   ],
   "source": [
    "display(f\"Sensitivities of active returns to factors:\\nSMB: {b1}\\nHML: {b2}\")"
   ]
  },
  {
   "cell_type": "markdown",
   "id": "2637022e",
   "metadata": {},
   "source": [
    "8. 민감도의 시간 경과에 따른 변화 시각화\n",
    "\n",
    "Statsmodels의 `RollingOLS` 클래스를 사용하여 민감도의 시간적 변화를 확인합니다:\n",
    "\n",
    "Perform rolling regression to estimate the time-varying sensitivities\n",
    "\n",
    "이 결과는 12개월 이동 회귀를 시간에 따라 플롯하고, 95% 신뢰 구간을 포함하는 두 개의 차트를 생성합니다."
   ]
  },
  {
   "cell_type": "code",
   "execution_count": 41,
   "id": "46f677d8",
   "metadata": {},
   "outputs": [
    {
     "data": {
      "image/png": "[encoded data removed]",
      "text/plain": [
       "<Figure size 550x660 with 2 Axes>"
      ]
     },
     "metadata": {},
     "output_type": "display_data"
    }
   ],
   "source": [
    "exog = sm.add_constant(df[[\"SMB\", \"HML\"]])\n",
    "rols = RollingOLS(active, exog, window=12)\n",
    "rres = rols.fit()\n",
    "fig = rres.plot_recursive_coefficient(variables=[\"SMB\", \"HML\"], figsize=(5.5, 6.6))"
   ]
  },
  {
   "cell_type": "markdown",
   "id": "262b2b48",
   "metadata": {},
   "source": [
    "---\n",
    "\n",
    "### 작동 방식...\n",
    "\n",
    "OpenBB를 사용하여 금융 시장 데이터를 다운로드하고 포트폴리오 수익률을 계산하는 절차는 이 장의 **\"Finding and hedging portfolio beta using linear regression\"** 레시피와 동일합니다. Fama-French 요인 데이터는 월별 데이터로 제공되므로, `asfreq`와 `to_period`를 사용하여 가격 데이터를 월별로 리샘플링하고 월별 수익률을 계산합니다.\n",
    "\n",
    "그다음, 포트폴리오 수익률 중 시장의 전체 움직임에 기인하지 않고 포트폴리오 관리 결정의 결과로 발생하는 부분인 **활성 수익률(active returns)** 을 계산합니다. 투자 요인은 서로 다른 증권 간 수익률 차이를 설명하는 체계적 위험 요인으로, 포트폴리오의 활성 수익률은 이러한 요인에 대한 노출도에 의해 영향을 받을 수 있습니다.\n",
    "\n",
    "노출도를 측정하기 위해 Statsmodels 라이브러리의 `OLS` 메서드를 사용하여 선형 회귀 모델을 적합하고 요인의 베타 계수를 계산합니다. 종속 변수는 포트폴리오의 활성 수익률을 나타내는 `df.R`이며, 독립 변수는 Fama-French 3요인 모델의 **Small Minus Big (SMB)** 요인과 **High Minus Low (HML)** 요인을 나타내는 `df[\"SMB\"]`와 `df[\"HML\"]`입니다. `fit` 메서드는 이 모델의 매개변수를 추정하는 데 사용되며, 여기서 매개변수는 `b1`과 `b2`에 저장된 SMB 및 HML 요인의 베타 값입니다.\n",
    "\n",
    "노출도가 시간에 따라 어떻게 변화하는지 이해하기 위해, Statsmodels의 `RollingOLS` 클래스를 사용하여 **롤링 회귀(rolling regression)** 를 빌드합니다. SMB와 HML 요인에 대한 절편(intercept)을 추가한 상수 열로 외생 변수를 생성하고, 이 클래스에 12개월의 윈도우 크기를 지정합니다. 그런 다음, `fit` 메서드를 호출하여 롤링 OLS 추정치를 계산합니다. 마지막으로 `plot_recursive_coefficient` 메서드를 사용하여 12개월 기간 동안 SMB와 HML의 회귀 계수 추정치를 시각화하는 플롯을 생성합니다.\n",
    "\n",
    "---"
   ]
  },
  {
   "cell_type": "markdown",
   "id": "17619987",
   "metadata": {},
   "source": [
    "### 더 알아보기...\n",
    "\n",
    "**활성 위험에 대한 한계 기여도(MCAR)** 는 각 요인이 포트폴리오에 추가하는 추가 활성 위험의 양을 정량화합니다. 요인의 MCAR을 계산하려면, 요인 민감도를 요인 간 공분산으로 곱하고 이를 활성 수익률의 표준 편차 제곱으로 나눕니다. 이 계산은 포트폴리오 내 이미 존재하는 다른 요인에 대한 노출을 고려하여 각 요인에 노출됨으로써 발생하는 위험의 양을 보여줍니다. 설명되지 않은 위험 기여도는 분석 중인 요인 외의 요인에 대한 노출입니다.\n",
    "\n",
    "\n",
    "Estimate the marginal contributions to active risk (MCAR)"
   ]
  },
  {
   "cell_type": "code",
   "execution_count": 42,
   "id": "a3184e61",
   "metadata": {},
   "outputs": [],
   "source": [
    "F1 = df.SMB\n",
    "F2 = df.HML\n",
    "cov = np.cov(F1, F2)\n",
    "ar_squared = (active.std()) ** 2\n",
    "mcar1 = (b1 * (b2 * cov[0, 1] + b1 * cov[0, 0])) / ar_squared\n",
    "mcar2 = (b2 * (b1 * cov[0, 1] + b2 * cov[1, 1])) / ar_squared"
   ]
  },
  {
   "cell_type": "code",
   "execution_count": 43,
   "id": "09d3ba36",
   "metadata": {},
   "outputs": [
    {
     "data": {
      "text/plain": [
       "'SMB risk contribution: 0.0013691270661885554'"
      ]
     },
     "metadata": {},
     "output_type": "display_data"
    },
    {
     "data": {
      "text/plain": [
       "'HML risk contribution: 0.0003004883012588716'"
      ]
     },
     "metadata": {},
     "output_type": "display_data"
    },
    {
     "data": {
      "text/plain": [
       "'Unexplained risk contribution: 0.9983303846325525'"
      ]
     },
     "metadata": {},
     "output_type": "display_data"
    }
   ],
   "source": [
    "display(f\"SMB risk contribution: {mcar1}\")\n",
    "display(f\"HML risk contribution: {mcar2}\")\n",
    "display(f\"Unexplained risk contribution: {1 - (mcar1 + mcar2)}\")"
   ]
  },
  {
   "cell_type": "markdown",
   "id": "8c5ec642",
   "metadata": {},
   "source": [
    "이 코드를 실행하면, 이 두 요인에 의해 설명되는 위험이 약 0.7%에 불과하다는 것을 알 수 있습니다. 이제 시간에 따른 요인의 MCAR을 플롯해 보겠습니다."
   ]
  },
  {
   "cell_type": "markdown",
   "id": "b0db48cb",
   "metadata": {},
   "source": [
    "**MCAR 계산 단계**\n",
    "\n",
    "1. 요인 간 12개월 이동 공분산 계산:\n",
    "\n",
    "Calculate the rolling covariances and active risk squared"
   ]
  },
  {
   "cell_type": "code",
   "execution_count": 44,
   "id": "bcd74815",
   "metadata": {},
   "outputs": [],
   "source": [
    "covariances = (df[[\"SMB\", \"HML\"]].rolling(window=12).cov()).dropna()"
   ]
  },
  {
   "cell_type": "markdown",
   "id": "8cb91b30",
   "metadata": {},
   "source": [
    "2. 12개월 이동 활성 수익률 제곱 계산:"
   ]
  },
  {
   "cell_type": "code",
   "execution_count": 45,
   "id": "085f739c",
   "metadata": {},
   "outputs": [],
   "source": [
    "active_risk_squared = (active.rolling(window=12).std() ** 2).dropna()"
   ]
  },
  {
   "cell_type": "markdown",
   "id": "8c33fc3b",
   "metadata": {},
   "source": [
    "3. 이동 요인 베타 결합:\n",
    "\n",
    "Calculate the rolling betas"
   ]
  },
  {
   "cell_type": "code",
   "execution_count": 46,
   "id": "5a4776bc",
   "metadata": {},
   "outputs": [],
   "source": [
    "betas = pd.concat([rres.params.SMB, rres.params.HML], axis=1).dropna()"
   ]
  },
  {
   "cell_type": "markdown",
   "id": "d725d267",
   "metadata": {},
   "source": [
    "4. 롤링 MCAR 데이터를 저장할 빈 데이터프레임 생성:\n",
    "\n",
    "Create a DataFrame to store the MCAR estimates"
   ]
  },
  {
   "cell_type": "code",
   "execution_count": 47,
   "id": "ae225377",
   "metadata": {},
   "outputs": [],
   "source": [
    "MCAR = pd.DataFrame(index=betas.index, columns=betas.columns)"
   ]
  },
  {
   "cell_type": "markdown",
   "id": "838e34ef",
   "metadata": {},
   "source": [
    "5. 각 요인과 각 날짜에 대해 MCAR 값 계산:\n",
    "\n",
    "Calculate the MCAR for each factor at each time point"
   ]
  },
  {
   "cell_type": "code",
   "execution_count": 48,
   "id": "528ff4bc",
   "metadata": {},
   "outputs": [],
   "source": [
    "for factor in betas.columns:\n",
    "    for t in betas.index:\n",
    "        # Compute the sum of the betas and covariances\n",
    "        s = np.sum(betas.loc[t] * covariances.loc[t][factor])\n",
    "        # Get the beta\n",
    "        b = betas.loc[t][factor]\n",
    "        # Get active risk squared\n",
    "        AR = active_risk_squared.loc[t]\n",
    "        # Put them all together to estimate FMCAR on that date\n",
    "        MCAR[factor][t] = b * s / AR"
   ]
  },
  {
   "cell_type": "markdown",
   "id": "7548de81",
   "metadata": {},
   "source": [
    "6. 각 요인에 대한 MCAR을 플롯:\n",
    "\n",
    "Plot the MCAR estimates for each factor"
   ]
  },
  {
   "cell_type": "code",
   "execution_count": 49,
   "id": "ce15f485",
   "metadata": {},
   "outputs": [
    {
     "data": {
      "text/plain": [
       "<Axes: xlabel='date'>"
      ]
     },
     "execution_count": 49,
     "metadata": {},
     "output_type": "execute_result"
    },
    {
     "data": {
      "image/png": "[encoded data removed]",
      "text/plain": [
       "<Figure size 640x480 with 1 Axes>"
      ]
     },
     "metadata": {},
     "output_type": "display_data"
    }
   ],
   "source": [
    "MCAR.SMB.plot()\n",
    "MCAR.HML.plot()"
   ]
  },
  {
   "cell_type": "markdown",
   "id": "f4e7303d",
   "metadata": {},
   "source": [
    "Plot the unexplained risk contribution"
   ]
  },
  {
   "cell_type": "code",
   "execution_count": 50,
   "id": "8c68b430",
   "metadata": {},
   "outputs": [
    {
     "data": {
      "text/plain": [
       "<Axes: xlabel='date'>"
      ]
     },
     "execution_count": 50,
     "metadata": {},
     "output_type": "execute_result"
    },
    {
     "data": {
      "image/png": "[encoded data removed]",
      "text/plain": [
       "<Figure size 640x480 with 1 Axes>"
      ]
     },
     "metadata": {},
     "output_type": "display_data"
    }
   ],
   "source": [
    "(1 - (MCAR.SMB + MCAR.HML)).plot()"
   ]
  },
  {
   "cell_type": "markdown",
   "id": "1f7a0d99",
   "metadata": {},
   "source": [
    "---\n",
    "\n",
    "### 참가 자료\n",
    "\n",
    "특정 요인 특성을 가진 증권을 체계적으로 선택함으로써, 투자자들은 더 넓은 시장이나 특정 벤치마크에 비해 더 나은 위험 조정 수익률을 달성하는 것을 목표로 합니다. 요인 투자는 광범위하고 심층적인 주제입니다. 요인 투자에 대해 더 알아보려면 아래 링크를 참조하세요:\n",
    "\n",
    "- [BlackRock의 요인 투자 소개](https://www.blackrock.com/us/individual/investment-ideas/what-is-factor-investing)\n",
    "- Richard Grinold와 Ronald Kahn의 **Advances in Active Portfolio Management**는 포트폴리오 구성, 위험 관리, 실행과 같은 주제를 포함하여 능동적 포트폴리오 관리의 정량적 측면을 깊이 다룬 고급 가이드입니다: [링크로 이동](https://amzn.to/44zJeMk)\n",
    "\n",
    "---"
   ]
  },
  {
   "cell_type": "markdown",
   "id": "991a6567",
   "metadata": {},
   "source": [
    "## 시장 비효율성을 변동성 기반으로 평가하기\n",
    "\n",
    "변동성을 요인으로 사용하는 것은 변동성이 큰 주식의 가격 책정과 관련된 시장 비효율성을 반영합니다. 역사적으로, 낮은 변동성을 가진 주식은 위험 조정 기준에서 높은 변동성을 가진 주식보다 더 나은 성과를 내는 경향이 있었습니다. 이 현상은 높은 위험은 더 높은 수익으로 보상받아야 한다는 전통적인 금융 이론에 모순되며, 시장 비효율성을 나타냅니다.\n",
    "\n",
    "요인의 성과를 분석하는 첫 번째 단계 중 하나는 미래 수익률을 계산하는 것입니다. 미래 수익률은 특정 시점 이후의 증권 수익률을 말합니다. 미래 수익률이 계산되면, 스피어만 순위 상관계수를 사용하여 요인과 미래 수익률 간의 관계를 이해할 수 있습니다. 스피어만 순위 상관계수는 두 변수 간의 관계가 단조 함수로 설명될 수 있는 정도를 평가합니다. 높은 스피어만 순위 상관계수는 요인이 증권의 순위를 미래 수익률 순위와 밀접하게 일치하도록 매기고 있음을 나타내며, 이는 요인이 예측력을 가진다는 것을 시사합니다. 반대로 낮은 스피어만 순위 상관계수는 요인이 미래 수익률을 예측하기에 적합하지 않음을 나타냅니다.\n",
    "\n",
    "파킨슨 추정기는 특정 기간 동안의 고가와 저가를 사용하여 변동성을 보다 정확하게 측정합니다. 기본 아이디어는 고가와 저가가 종가보다 가격 움직임에 대한 더 많은 정보를 포함한다는 것입니다. 이 레시피에서는 파킨슨 변동성을 사용하여 요인을 만들고, 미래 수익률을 계산하며, 요인과 미래 수익률 간의 스피어만 순위 상관계수를 결정합니다.\n",
    "\n",
    "---"
   ]
  },
  {
   "cell_type": "markdown",
   "id": "bc359d6a",
   "metadata": {},
   "source": [
    "### 실행 방법...\n",
    "\n",
    "파킨슨 변동성과 미래 수익률을 계산하여 이를 거래 가능 요인으로서의 예측력을 측정합니다.\n",
    "\n",
    "1. 분석에 사용할 라이브러리 가져오기"
   ]
  },
  {
   "cell_type": "code",
   "execution_count": 67,
   "id": "9aa1d0e4",
   "metadata": {},
   "outputs": [],
   "source": [
    "import matplotlib.pyplot as plt\n",
    "import numpy as np\n",
    "import pandas as pd\n",
    "import seaborn as sns\n",
    "from IPython.display import Markdown, display\n",
    "from openbb import obb\n",
    "from scipy.stats import spearmanr"
   ]
  },
  {
   "cell_type": "code",
   "execution_count": 68,
   "id": "4eafb8ee",
   "metadata": {},
   "outputs": [],
   "source": [
    "obb.user.preferences.output_type = \"dataframe\""
   ]
  },
  {
   "cell_type": "markdown",
   "id": "458d4906",
   "metadata": {},
   "source": [
    "2. OpenBB를 사용하여 데이터 다운로드\n",
    "\n",
    "Define the stock symbols"
   ]
  },
  {
   "cell_type": "code",
   "execution_count": 69,
   "id": "ce11f992",
   "metadata": {},
   "outputs": [],
   "source": [
    "symbols = [\"NEM\", \"RGLD\", \"SSRM\", \"CDE\", \"LLY\", \"UNH\", \"JNJ\", \"MRK\"]"
   ]
  },
  {
   "cell_type": "markdown",
   "id": "69a16746",
   "metadata": {},
   "source": [
    "Fetch historical price data for the defined symbols from 2015-01-01 to 2022-12-31 using the \"yfinance\" provider"
   ]
  },
  {
   "cell_type": "code",
   "execution_count": 70,
   "id": "edbe61c5",
   "metadata": {},
   "outputs": [],
   "source": [
    "data = obb.equity.price.historical(\n",
    "    symbols, start_date=\"2015-01-01\", end_date=\"2022-12-31\", provider=\"yfinance\"\n",
    ")"
   ]
  },
  {
   "cell_type": "markdown",
   "id": "41c5b10a",
   "metadata": {},
   "source": [
    "Select relevant columns from the data"
   ]
  },
  {
   "cell_type": "code",
   "execution_count": 71,
   "id": "6ef2323b",
   "metadata": {},
   "outputs": [],
   "source": [
    "prices = data[[\"high\", \"low\", \"close\", \"volume\", \"symbol\"]]"
   ]
  },
  {
   "cell_type": "markdown",
   "id": "080ad9ec",
   "metadata": {},
   "source": [
    "3. 전처리 단계\n",
    "\n",
    "모든 티커가 최소 2년 이상의 데이터를 가지도록 보장합니다. 마스크를 생성하고 조건을 충족하는 주식을 가져옵니다.\n",
    "\n",
    "Filter out symbols with less than 2 years of data"
   ]
  },
  {
   "cell_type": "code",
   "execution_count": 72,
   "id": "708df9f0",
   "metadata": {},
   "outputs": [],
   "source": [
    "nobs = prices.groupby(\"symbol\").size()\n",
    "mask = nobs[nobs > 2 * 12 * 21].index\n",
    "prices = prices[prices.symbol.isin(mask)]"
   ]
  },
  {
   "cell_type": "markdown",
   "id": "7c03a1d6",
   "metadata": {},
   "source": [
    "4. 심볼 열을 인덱스로 설정하고, 순서를 재배치하며 중복 제거\n",
    "\n",
    "Reorder levels and sort index\n",
    "\n",
    "결과는 첫 번째 인덱스로 심볼(symbol)과 두 번째 인덱스로 날짜(date)를 가진 다중 인덱스 데이터프레임입니다."
   ]
  },
  {
   "cell_type": "code",
   "execution_count": 73,
   "id": "40964487",
   "metadata": {},
   "outputs": [],
   "source": [
    "prices = (\n",
    "    prices.set_index(\"symbol\", append=True)\n",
    "    .reorder_levels([\"symbol\", \"date\"])\n",
    "    .sort_index(level=0)\n",
    ").drop_duplicates()"
   ]
  },
  {
   "cell_type": "markdown",
   "id": "af5c973b",
   "metadata": {
    "lines_to_next_cell": 2
   },
   "source": [
    "5. Next, we’ll create a function ​that returns the normalized Parkinson volatility estimate:\n",
    "\n",
    "Define a function to calculate Parkinson volatility"
   ]
  },
  {
   "cell_type": "code",
   "execution_count": 74,
   "id": "e2d017eb",
   "metadata": {},
   "outputs": [],
   "source": [
    "def parkinson(data, window=14, trading_days=252):\n",
    "    rs = (1.0 / (4.0 * np.log(2.0))) * ((data.high / data.low).apply(np.log)) ** 2.0\n",
    "\n",
    "    def f(v):\n",
    "        return (trading_days * v.mean()) ** 0.5\n",
    "\n",
    "    result = rs.rolling(window=window, center=False).apply(func=f)\n",
    "\n",
    "    return result.sub(result.mean()).div(result.std())"
   ]
  },
  {
   "cell_type": "markdown",
   "id": "93c2032a",
   "metadata": {},
   "source": [
    "6. We’ll apply that function to each group of stocks and add the Parkinson estimator as a new column:\n",
    "\n",
    "Calculate volatility using the Parkinson method and add it to the 'prices' DataFrame"
   ]
  },
  {
   "cell_type": "code",
   "execution_count": 75,
   "id": "a1864235",
   "metadata": {},
   "outputs": [],
   "source": [
    "prices[\"vol\"] = prices.groupby(\"symbol\", group_keys=False).apply(parkinson)\n",
    "prices.dropna(inplace=True)"
   ]
  },
  {
   "cell_type": "markdown",
   "id": "17117150",
   "metadata": {},
   "source": [
    "7. Now that we have the normalized Parkinson volatility, we can compute historic and forward returns. First, compute the historic returns over 1, 5, 10, 21, 42, and 63 periods representing one day through three months:\n",
    "\n",
    "Calculate lagged returns and targets for different time periods"
   ]
  },
  {
   "cell_type": "code",
   "execution_count": 76,
   "id": "a2d1f247",
   "metadata": {},
   "outputs": [],
   "source": [
    "lags = [1, 5, 10, 21, 42, 63]\n",
    "for lag in lags:\n",
    "    prices[f\"return_{lag}d\"] = prices.groupby(level=\"symbol\").close.pct_change(lag)"
   ]
  },
  {
   "cell_type": "markdown",
   "id": "04d458f4",
   "metadata": {},
   "source": [
    "8. Compute the forward returns for the same periods:\n"
   ]
  },
  {
   "cell_type": "code",
   "execution_count": 77,
   "id": "df0045ad",
   "metadata": {},
   "outputs": [],
   "source": [
    "for t in [1, 5, 10, 21, 42, 63]:\n",
    "    prices[f\"target_{t}d\"] = prices.groupby(level=\"symbol\")[f\"return_{t}d\"].shift(-t)"
   ]
  },
  {
   "cell_type": "markdown",
   "id": "5c88d1b2",
   "metadata": {},
   "source": [
    "9. Print the first 10 rows for the first symbol to inspect the historic returns for each period:\n"
   ]
  },
  {
   "cell_type": "code",
   "execution_count": null,
   "id": "5146a867",
   "metadata": {},
   "outputs": [],
   "source": [
    "display(prices)"
   ]
  },
  {
   "cell_type": "markdown",
   "id": "1383f2c5",
   "metadata": {},
   "source": [
    "10. Finally, use the Seaborn plotting​ library to visualize how the one-day forward return is related to the normalized Parkinson volatility factor:\n",
    "\n",
    "Plot a joint plot of volatility vs. 1-day target return"
   ]
  },
  {
   "cell_type": "code",
   "execution_count": null,
   "id": "ebbe610a",
   "metadata": {},
   "outputs": [],
   "source": [
    "target = \"target_1d\"\n",
    "metric = \"vol\"\n",
    "j = sns.jointplot(x=metric, y=target, data=prices)\n",
    "plt.tight_layout()"
   ]
  },
  {
   "cell_type": "markdown",
   "id": "b723a5ba",
   "metadata": {},
   "source": [
    "Calculate and display the Spearman rank correlation and p-value"
   ]
  },
  {
   "cell_type": "code",
   "execution_count": null,
   "id": "452add15",
   "metadata": {},
   "outputs": [],
   "source": [
    "df = prices[[metric, target]].dropna()\n",
    "r, p = spearmanr(df[metric], df[target])\n",
    "display(f\"{r:,.2%} ({p:.2%})\")"
   ]
  },
  {
   "cell_type": "markdown",
   "id": "c1fc618c",
   "metadata": {},
   "source": [
    "Display the first 10 rows of 'prices' DataFrame for the symbol \"NEM\""
   ]
  },
  {
   "cell_type": "code",
   "execution_count": null,
   "id": "27b47012",
   "metadata": {},
   "outputs": [],
   "source": [
    "d = prices.loc[\"NEM\"].head(10)\n",
    "display(d)"
   ]
  },
  {
   "cell_type": "markdown",
   "id": "a3811141",
   "metadata": {},
   "source": [
    "Display the metric and target columns"
   ]
  },
  {
   "cell_type": "code",
   "execution_count": null,
   "id": "321b23c3",
   "metadata": {},
   "outputs": [],
   "source": [
    "display(df[metric])\n",
    "display(df[target])"
   ]
  },
  {
   "cell_type": "markdown",
   "id": "10e9d729",
   "metadata": {},
   "source": [
    "Display the correlation and p-value"
   ]
  },
  {
   "cell_type": "code",
   "execution_count": null,
   "id": "cf7b8f28",
   "metadata": {},
   "outputs": [],
   "source": [
    "display(r, p)"
   ]
  },
  {
   "cell_type": "markdown",
   "id": "75fad08f",
   "metadata": {},
   "source": [
    "### 작동 방식...\n",
    "\n",
    "이 레시피에서는 요인 분석을 위해 데이터를 준비할 때 필요한 전처리 과정을 다룹니다.\n",
    "\n",
    "히스토리컬 데이터가 포함된 데이터프레임을 MultiIndex로 설정하고, 인덱스의 레벨을 `symbol`이 먼저 오도록 재정렬한 후, 중복 행을 제거합니다. 이는 각 그룹에 정규화된 파킨슨 변동성을 적용할 수 있도록 합니다. 이를 위해 데이터프레임을 `symbol` 기준으로 그룹화하고, `apply` 메서드를 사용하여 사용자 정의 파킨슨 변동성 함수를 각 데이터 청크에 적용합니다.\n",
    "\n",
    "마지막으로, 과거 및 미래 수익률을 계산합니다. 첫 번째 반복문에서 코드는 `lags` 리스트에 지정된 여러 기간에 대해 과거 수익률을 계산합니다. 이를 위해 데이터프레임을 `symbol`로 그룹화하고, 지정된 기간 동안의 백분율 변화를 계산합니다. 이렇게 계산된 과거 수익률은 `return_1d`, `return_5d` 등과 같은 이름의 새 열로 데이터프레임에 추가됩니다.\n",
    "\n",
    "두 번째 반복문에서는 `lags` 리스트에 지정된 여러 기간에 대해 미래 수익률을 계산합니다. 이를 위해 이미 계산된 과거 수익률(`return_1d`, `return_5d` 등)을 사용하며, 지정된 기간만큼 데이터를 위로 이동시킵니다. 이 작업은 각 행에 미래에 발생할 수익률을 할당하는 것입니다. 이렇게 계산된 미래 수익률은 `target_1d`, `target_5d` 등과 같은 이름의 새 열로 데이터프레임에 추가됩니다.\n",
    "\n",
    "---\n",
    "\n",
    "### 더 알아보기...\n",
    "\n",
    "`spearmanr` 함수는 두 데이터 배열 간의 스피어만 순위 상관계수를 계산합니다. SciPy 메서드를 사용하여 순위 상관계수와 p값을 얻을 수 있습니다:\n",
    "```python\n",
    "stat, pvalue = spearmanr(df[metric], df[target])\n",
    "```\n",
    "\n",
    "- `stat` 계수는 두 변수 간 관계의 강도와 방향을 측정하며, 값은 -1에서 1 사이입니다. 0은 상관관계가 없음을, 1은 완벽한 양의 상관관계를, -1은 완벽한 음의 상관관계를 나타냅니다.\n",
    "- 이 문맥에서 `stat`는 파킨슨 변동성과 미래 수익률 간의 상관관계로, 0.0378의 약한 양의 상관관계를 가집니다.\n",
    "- `pvalue`는 데이터가 상관관계가 없다는 귀무 가설을 검정합니다. 작은 p값(일반적으로 ≤ 0.05)은 귀무 가설을 기각할 수 있음을 나타냅니다. 이 경우, p값은 0.0158로, 귀무 가설을 기각할 수 있음을 나타내며, 이는 파킨슨 변동성과 해당 포트폴리오 수익률 간에 통계적으로 유의미한 상관관계가 있음을 시사합니다.\n",
    "\n",
    "---\n",
    "\n",
    "### 참고 자료\n",
    "\n",
    "이 레시피에 사용된 도구 및 기술에 대한 추가 리소스는 아래 링크를 참조하세요:\n",
    "\n",
    "- 파킨슨 변동성 워크스루: [https://www.ivolatility.com/help/3.html](https://www.ivolatility.com/help/3.html)\n",
    "- 평균 진폭 범위: [https://en.wikipedia.org/wiki/Average_true_range](https://en.wikipedia.org/wiki/Average_true_range)\n",
    "- 스피어만 순위 상관관계: [https://en.wikipedia.org/wiki/Spearman%27s_rank_correlation_coefficient](https://en.wikipedia.org/wiki/Spearman%27s_rank_correlation_coefficient)\n",
    "- SciPy의 스피어만 순위 상관계수 구현 문서: [https://docs.scipy.org/doc/scipy/reference/generated/scipy.stats.spearmanr.html](https://docs.scipy.org/doc/scipy/reference/generated/scipy.stats.spearmanr.html)\n",
    "\n",
    "---"
   ]
  },
  {
   "cell_type": "markdown",
   "id": "1004e8c5",
   "metadata": {},
   "source": [
    "## Preparing a Factor Ranking Model Using Zipline Pipelines"
   ]
  },
  {
   "cell_type": "code",
   "execution_count": 52,
   "id": "0f9240f8",
   "metadata": {},
   "outputs": [],
   "source": [
    "import os\n",
    "import warnings"
   ]
  },
  {
   "cell_type": "code",
   "execution_count": 54,
   "id": "b7692a0e",
   "metadata": {},
   "outputs": [],
   "source": [
    "import numpy as np\n",
    "import pandas as pd\n",
    "from IPython.display import Markdown, display\n",
    "from zipline.data import bundles\n",
    "from zipline.data.bundles.core import load\n",
    "from zipline.pipeline import Pipeline\n",
    "from zipline.pipeline.data import USEquityPricing\n",
    "from zipline.pipeline.engine import SimplePipelineEngine\n",
    "from zipline.pipeline.factors import (\n",
    "    VWAP,\n",
    "    AnnualizedVolatility,\n",
    "    AverageDollarVolume,\n",
    "    BollingerBands,\n",
    "    CustomFactor,\n",
    "    DailyReturns,\n",
    "    ExponentialWeightedMovingAverage,\n",
    "    MaxDrawdown,\n",
    "    PercentChange,\n",
    "    Returns,\n",
    "    SimpleMovingAverage,\n",
    "    WeightedAverageValue,\n",
    ")\n",
    "from zipline.pipeline.loaders import USEquityPricingLoader"
   ]
  },
  {
   "cell_type": "code",
   "execution_count": 55,
   "id": "cd6b77d0",
   "metadata": {},
   "outputs": [],
   "source": [
    "warnings.filterwarnings(\"ignore\")"
   ]
  },
  {
   "cell_type": "markdown",
   "id": "010eb64b",
   "metadata": {},
   "source": [
    "### Option 1: Use the built-in bundle with free data\n",
    "\n",
    "This option uses the built-in data bundle provided by Zipline. It then acquires free US equities data that extend through 2018."
   ]
  },
  {
   "cell_type": "code",
   "execution_count": 57,
   "id": "a981f03d",
   "metadata": {},
   "outputs": [
    {
     "name": "stderr",
     "output_type": "stream",
     "text": [
      "Couldn't compute ratio for dividend sid=67, ex_date=2017-11-09, amount=0.620\n",
      "Couldn't compute ratio for dividend sid=93, ex_date=2017-11-09, amount=0.240\n",
      "Couldn't compute ratio for dividend sid=161, ex_date=2017-11-09, amount=0.110\n",
      "Couldn't compute ratio for dividend sid=283, ex_date=2017-11-09, amount=0.415\n",
      "Couldn't compute ratio for dividend sid=298, ex_date=2017-11-09, amount=1.420\n",
      "Couldn't compute ratio for dividend sid=318, ex_date=2017-11-09, amount=0.330\n",
      "Couldn't compute ratio for dividend sid=434, ex_date=2017-11-09, amount=0.110\n",
      "Couldn't compute ratio for dividend sid=516, ex_date=1996-05-30, amount=0.310\n",
      "Couldn't compute ratio for dividend sid=524, ex_date=2017-11-09, amount=0.050\n",
      "Couldn't compute ratio for dividend sid=556, ex_date=2017-11-09, amount=0.075\n",
      "Couldn't compute ratio for dividend sid=578, ex_date=2017-11-09, amount=0.160\n",
      "Couldn't compute ratio for dividend sid=605, ex_date=2017-11-09, amount=0.040\n",
      "Couldn't compute ratio for dividend sid=666, ex_date=1990-03-26, amount=0.140\n",
      "Couldn't compute ratio for dividend sid=694, ex_date=1990-03-27, amount=0.100\n",
      "Couldn't compute ratio for dividend sid=723, ex_date=2017-11-09, amount=1.620\n",
      "Couldn't compute ratio for dividend sid=758, ex_date=2017-11-09, amount=0.500\n",
      "Couldn't compute ratio for dividend sid=788, ex_date=2017-11-09, amount=0.060\n",
      "Couldn't compute ratio for dividend sid=859, ex_date=1995-05-09, amount=0.100\n",
      "Couldn't compute ratio for dividend sid=904, ex_date=2017-11-09, amount=0.135\n",
      "Couldn't compute ratio for dividend sid=975, ex_date=2017-11-09, amount=0.030\n",
      "Couldn't compute ratio for dividend sid=1057, ex_date=2017-11-09, amount=0.250\n",
      "Couldn't compute ratio for dividend sid=1088, ex_date=1990-03-26, amount=0.240\n",
      "Couldn't compute ratio for dividend sid=1091, ex_date=2017-11-09, amount=0.075\n",
      "Couldn't compute ratio for dividend sid=1111, ex_date=1993-03-04, amount=0.070\n",
      "Couldn't compute ratio for dividend sid=1172, ex_date=2017-11-09, amount=0.130\n",
      "Couldn't compute ratio for dividend sid=1209, ex_date=2017-11-09, amount=0.010\n",
      "Couldn't compute ratio for dividend sid=1322, ex_date=1995-05-25, amount=0.150\n",
      "Couldn't compute ratio for dividend sid=1441, ex_date=2017-11-09, amount=1.500\n",
      "Couldn't compute ratio for dividend sid=1525, ex_date=2017-11-09, amount=0.090\n",
      "Couldn't compute ratio for dividend sid=1600, ex_date=2015-07-06, amount=16.500\n",
      "Couldn't compute ratio for dividend sid=1642, ex_date=2017-11-09, amount=0.270\n",
      "Couldn't compute ratio for dividend sid=1748, ex_date=2017-11-09, amount=0.740\n",
      "Couldn't compute ratio for dividend sid=1876, ex_date=2017-11-09, amount=0.120\n",
      "Couldn't compute ratio for dividend sid=1922, ex_date=2017-11-09, amount=0.040\n",
      "Couldn't compute ratio for dividend sid=1947, ex_date=1990-03-26, amount=0.150\n",
      "Couldn't compute ratio for dividend sid=2098, ex_date=2017-11-09, amount=0.200\n",
      "Couldn't compute ratio for dividend sid=2118, ex_date=2014-11-06, amount=0.050\n",
      "Couldn't compute ratio for dividend sid=2120, ex_date=2017-11-09, amount=0.110\n",
      "Couldn't compute ratio for dividend sid=2149, ex_date=2017-11-09, amount=0.330\n",
      "Couldn't compute ratio for dividend sid=2204, ex_date=2017-11-09, amount=0.320\n",
      "Couldn't compute ratio for dividend sid=2220, ex_date=2017-11-09, amount=0.660\n",
      "Couldn't compute ratio for dividend sid=2281, ex_date=2017-11-09, amount=0.450\n",
      "Couldn't compute ratio for dividend sid=2389, ex_date=2017-11-09, amount=0.140\n",
      "Couldn't compute ratio for dividend sid=2441, ex_date=2017-11-09, amount=0.215\n",
      "Couldn't compute ratio for dividend sid=2517, ex_date=2017-11-09, amount=0.080\n",
      "Couldn't compute ratio for dividend sid=2582, ex_date=2017-11-09, amount=0.780\n",
      "Couldn't compute ratio for dividend sid=2622, ex_date=2017-11-09, amount=0.390\n",
      "Couldn't compute ratio for dividend sid=2662, ex_date=2015-01-14, amount=0.750\n",
      "Couldn't compute ratio for dividend sid=2754, ex_date=2000-12-27, amount=0.250\n",
      "Couldn't compute ratio for dividend sid=2754, ex_date=2009-09-11, amount=0.420\n",
      "Couldn't compute ratio for dividend sid=2754, ex_date=2009-12-11, amount=0.420\n",
      "Couldn't compute ratio for dividend sid=2754, ex_date=2010-03-11, amount=0.420\n",
      "Couldn't compute ratio for dividend sid=2754, ex_date=2010-12-15, amount=0.180\n",
      "Couldn't compute ratio for dividend sid=2766, ex_date=2017-11-09, amount=0.320\n",
      "Couldn't compute ratio for dividend sid=2798, ex_date=2017-11-09, amount=0.065\n",
      "Couldn't compute ratio for dividend sid=2817, ex_date=1992-03-03, amount=0.300\n",
      "Couldn't compute ratio for dividend sid=2824, ex_date=2017-11-09, amount=0.120\n",
      "Couldn't compute ratio for dividend sid=2843, ex_date=2017-11-09, amount=0.150\n",
      "Couldn't compute ratio for dividend sid=2857, ex_date=2011-09-07, amount=0.410\n",
      "Couldn't compute ratio for dividend sid=2968, ex_date=1990-03-26, amount=0.100\n",
      "Couldn't compute ratio for dividend sid=3005, ex_date=1990-03-26, amount=0.070\n",
      "Couldn't compute ratio for dividend sid=3078, ex_date=2014-05-12, amount=0.060\n",
      "Couldn't compute ratio for dividend sid=3117, ex_date=2017-11-09, amount=0.430\n",
      "Couldn't compute ratio for dividend sid=3138, ex_date=2010-08-16, amount=0.060\n",
      "Couldn't compute ratio for dividend sid=3145, ex_date=2017-11-09, amount=0.050\n",
      "Dividend ratio <= 0 for dividend sid=501, ex_date=2006-01-03, amount=41.560\n",
      "Dividend ratio <= 0 for dividend sid=1557, ex_date=2007-07-02, amount=88.530\n",
      "Dividend ratio <= 0 for dividend sid=1632, ex_date=2000-07-13, amount=181.000\n",
      "Dividend ratio <= 0 for dividend sid=1657, ex_date=2013-09-30, amount=21.355\n",
      "Dividend ratio <= 0 for dividend sid=1775, ex_date=1994-12-01, amount=76.000\n",
      "Dividend ratio <= 0 for dividend sid=1776, ex_date=1996-11-04, amount=36.708\n",
      "Dividend ratio <= 0 for dividend sid=2455, ex_date=2016-10-03, amount=25.611\n",
      "Dividend ratio <= 0 for dividend sid=2687, ex_date=2008-06-26, amount=10.000\n",
      "Dividend ratio <= 0 for dividend sid=2900, ex_date=2007-07-02, amount=88.530\n",
      "Dividend ratio <= 0 for dividend sid=3088, ex_date=2015-04-27, amount=31.291\n"
     ]
    }
   ],
   "source": [
    "os.environ[\"QUANDL_API_KEY\"] = \"zHU2bL4Z7NmqLNSjUZRn\"\n",
    "bundle = \"quandl\"\n",
    "bundles.ingest(bundle)"
   ]
  },
  {
   "cell_type": "markdown",
   "id": "b77845f5",
   "metadata": {},
   "source": [
    "### Option 2: Use the custom bundle with premium data\n",
    "\n",
    "This option uses the custom bundle with premium data. Follow the steps here: https://pyquantnews.com/ingest-premium-market-data-with-zipline-reloaded/ before using."
   ]
  },
  {
   "cell_type": "code",
   "execution_count": null,
   "id": "1634cf05",
   "metadata": {},
   "outputs": [],
   "source": [
    "# os.environ[\"DATALINK_API_KEY\"] = \"YOUR_API_KEY\"\n",
    "# bundle = \"quotemedia\"\n",
    "# load_extensions(True, [], False, os.environ)\n",
    "# bundles.ingest(bundle)"
   ]
  },
  {
   "cell_type": "markdown",
   "id": "c1535763-cc66-47b3-9f0b-c2e32859ca82",
   "metadata": {},
   "source": [
    "Ingest the bundle data from your selected bundle."
   ]
  },
  {
   "cell_type": "code",
   "execution_count": 9,
   "id": "f15952fe-6ca1-4a1b-b624-56f83e535f8b",
   "metadata": {},
   "outputs": [],
   "source": [
    "bundle_data = load(bundle, os.environ, None)"
   ]
  },
  {
   "cell_type": "markdown",
   "id": "a5229994",
   "metadata": {},
   "source": [
    "Create a USEquityPricingLoader"
   ]
  },
  {
   "cell_type": "code",
   "execution_count": 10,
   "id": "80e9a003",
   "metadata": {},
   "outputs": [],
   "source": [
    "pipeline_loader = USEquityPricingLoader(\n",
    "    bundle_data.equity_daily_bar_reader, bundle_data.adjustment_reader, fx_reader=None\n",
    ")"
   ]
  },
  {
   "cell_type": "markdown",
   "id": "9b6ad050",
   "metadata": {},
   "source": [
    "Initialize a SimplePipelineEngine"
   ]
  },
  {
   "cell_type": "code",
   "execution_count": 11,
   "id": "7b9758e6",
   "metadata": {},
   "outputs": [],
   "source": [
    "engine = SimplePipelineEngine(\n",
    "    get_loader=lambda col: pipeline_loader, asset_finder=bundle_data.asset_finder\n",
    ")"
   ]
  },
  {
   "cell_type": "markdown",
   "id": "065e4f3e",
   "metadata": {
    "lines_to_next_cell": 2
   },
   "source": [
    "Define a custom momentum factor"
   ]
  },
  {
   "cell_type": "code",
   "execution_count": 12,
   "id": "e67c31b0",
   "metadata": {
    "lines_to_next_cell": 2
   },
   "outputs": [],
   "source": [
    "class MomentumFactor(CustomFactor):\n",
    "    \"\"\"Momentum factor\"\"\"\n",
    "\n",
    "    inputs = [USEquityPricing.close, Returns(window_length=126)]\n",
    "    window_length = 252\n",
    "\n",
    "    def compute(self, today, assets, out, prices, returns):\n",
    "        out[:] = (\n",
    "            (prices[-21] - prices[-252]) / prices[-252]\n",
    "            - (prices[-1] - prices[-21]) / prices[-21]\n",
    "        ) / np.nanstd(returns, axis=0)"
   ]
  },
  {
   "cell_type": "markdown",
   "id": "6f1bf5b2",
   "metadata": {
    "lines_to_next_cell": 2
   },
   "source": [
    "Define a function to create a pipeline"
   ]
  },
  {
   "cell_type": "code",
   "execution_count": 13,
   "id": "8d58e82f",
   "metadata": {},
   "outputs": [],
   "source": [
    "def make_pipeline():\n",
    "    momentum = MomentumFactor()\n",
    "    dollar_volume = AverageDollarVolume(window_length=30)\n",
    "\n",
    "    return Pipeline(\n",
    "        columns={\n",
    "            \"factor\": momentum,\n",
    "            \"longs\": momentum.top(50),\n",
    "            \"shorts\": momentum.bottom(50),\n",
    "            \"rank\": momentum.rank(),\n",
    "        },\n",
    "        screen=dollar_volume.top(100),\n",
    "    )"
   ]
  },
  {
   "cell_type": "markdown",
   "id": "ee254dcc",
   "metadata": {},
   "source": [
    "Run the pipeline"
   ]
  },
  {
   "cell_type": "code",
   "execution_count": 14,
   "id": "e6bc5acc",
   "metadata": {},
   "outputs": [],
   "source": [
    "results = engine.run_pipeline(\n",
    "    make_pipeline(), pd.to_datetime(\"2012-01-04\"), pd.to_datetime(\"2012-03-01\")\n",
    ")"
   ]
  },
  {
   "cell_type": "markdown",
   "id": "90a2fdc3",
   "metadata": {},
   "source": [
    "Clean and display the results"
   ]
  },
  {
   "cell_type": "code",
   "execution_count": 15,
   "id": "36fa26b8",
   "metadata": {},
   "outputs": [],
   "source": [
    "results.dropna(subset=\"factor\", inplace=True)\n",
    "results.index.names = [\"date\", \"symbol\"]\n",
    "results.sort_values(by=[\"date\", \"factor\"], inplace=True)"
   ]
  },
  {
   "cell_type": "code",
   "execution_count": null,
   "id": "f0263cb9",
   "metadata": {},
   "outputs": [],
   "source": [
    "display(results)"
   ]
  },
  {
   "cell_type": "code",
   "execution_count": 63,
   "id": "8334f85c-3286-4e6c-b77b-bc107fde21f5",
   "metadata": {},
   "outputs": [
    {
     "ename": "TypeError",
     "evalue": "int() argument must be a string, a bytes-like object or a real number, not 'NaTType'",
     "output_type": "error",
     "traceback": [
      "\u001b[0;31m---------------------------------------------------------------------------\u001b[0m",
      "\u001b[0;31mTypeError\u001b[0m                                 Traceback (most recent call last)",
      "Cell \u001b[0;32mIn[63], line 13\u001b[0m\n\u001b[1;32m      8\u001b[0m \u001b[38;5;28;01mfrom\u001b[39;00m \u001b[38;5;21;01mzipline\u001b[39;00m\u001b[38;5;21;01m.\u001b[39;00m\u001b[38;5;21;01mpipeline\u001b[39;00m\u001b[38;5;21;01m.\u001b[39;00m\u001b[38;5;21;01mengine\u001b[39;00m \u001b[38;5;28;01mimport\u001b[39;00m SimplePipelineEngine\n\u001b[1;32m      9\u001b[0m \u001b[38;5;28;01mfrom\u001b[39;00m \u001b[38;5;21;01mzipline\u001b[39;00m\u001b[38;5;21;01m.\u001b[39;00m\u001b[38;5;21;01mpipeline\u001b[39;00m\u001b[38;5;21;01m.\u001b[39;00m\u001b[38;5;21;01mfactors\u001b[39;00m \u001b[38;5;28;01mimport\u001b[39;00m (\n\u001b[1;32m     10\u001b[0m     CustomFactor,\n\u001b[1;32m     11\u001b[0m     AverageDollarVolume,\n\u001b[1;32m     12\u001b[0m )\n\u001b[0;32m---> 13\u001b[0m \u001b[38;5;28;01mfrom\u001b[39;00m \u001b[38;5;21;01mtrading_calendars\u001b[39;00m \u001b[38;5;28;01mimport\u001b[39;00m get_calendar\n\u001b[1;32m     14\u001b[0m \u001b[38;5;28;01mfrom\u001b[39;00m \u001b[38;5;21;01mzipline\u001b[39;00m\u001b[38;5;21;01m.\u001b[39;00m\u001b[38;5;21;01mpipeline\u001b[39;00m\u001b[38;5;21;01m.\u001b[39;00m\u001b[38;5;21;01mloaders\u001b[39;00m \u001b[38;5;28;01mimport\u001b[39;00m USEquityPricingLoader\n\u001b[1;32m     16\u001b[0m \u001b[38;5;66;03m# Zipline 번들 데이터 불러오기\u001b[39;00m\n",
      "File \u001b[0;32m~/anaconda3/envs/ml4t/lib/python3.10/site-packages/trading_calendars/__init__.py:16\u001b[0m\n\u001b[1;32m      1\u001b[0m \u001b[38;5;66;03m#\u001b[39;00m\n\u001b[1;32m      2\u001b[0m \u001b[38;5;66;03m# Copyright 2018 Quantopian, Inc.\u001b[39;00m\n\u001b[1;32m      3\u001b[0m \u001b[38;5;66;03m#\u001b[39;00m\n\u001b[0;32m   (...)\u001b[0m\n\u001b[1;32m     13\u001b[0m \u001b[38;5;66;03m# See the License for the specific language governing permissions and\u001b[39;00m\n\u001b[1;32m     14\u001b[0m \u001b[38;5;66;03m# limitations under the License.\u001b[39;00m\n\u001b[0;32m---> 16\u001b[0m \u001b[38;5;28;01mfrom\u001b[39;00m \u001b[38;5;21;01m.\u001b[39;00m\u001b[38;5;21;01mtrading_calendar\u001b[39;00m \u001b[38;5;28;01mimport\u001b[39;00m TradingCalendar\n\u001b[1;32m     17\u001b[0m \u001b[38;5;28;01mfrom\u001b[39;00m \u001b[38;5;21;01m.\u001b[39;00m\u001b[38;5;21;01mcalendar_utils\u001b[39;00m \u001b[38;5;28;01mimport\u001b[39;00m (\n\u001b[1;32m     18\u001b[0m     clear_calendars,\n\u001b[1;32m     19\u001b[0m     deregister_calendar,\n\u001b[0;32m   (...)\u001b[0m\n\u001b[1;32m     25\u001b[0m     resolve_alias,\n\u001b[1;32m     26\u001b[0m )\n\u001b[1;32m     28\u001b[0m __all__ \u001b[38;5;241m=\u001b[39m [\n\u001b[1;32m     29\u001b[0m     \u001b[38;5;124m'\u001b[39m\u001b[38;5;124mclear_calendars\u001b[39m\u001b[38;5;124m'\u001b[39m,\n\u001b[1;32m     30\u001b[0m     \u001b[38;5;124m'\u001b[39m\u001b[38;5;124mderegister_calendar\u001b[39m\u001b[38;5;124m'\u001b[39m,\n\u001b[0;32m   (...)\u001b[0m\n\u001b[1;32m     37\u001b[0m     \u001b[38;5;124m'\u001b[39m\u001b[38;5;124mTradingCalendar\u001b[39m\u001b[38;5;124m'\u001b[39m,\n\u001b[1;32m     38\u001b[0m ]\n",
      "File \u001b[0;32m~/anaconda3/envs/ml4t/lib/python3.10/site-packages/trading_calendars/trading_calendar.py:33\u001b[0m\n\u001b[1;32m     30\u001b[0m \u001b[38;5;28;01mfrom\u001b[39;00m \u001b[38;5;21;01mpandas\u001b[39;00m\u001b[38;5;21;01m.\u001b[39;00m\u001b[38;5;21;01mtseries\u001b[39;00m\u001b[38;5;21;01m.\u001b[39;00m\u001b[38;5;21;01moffsets\u001b[39;00m \u001b[38;5;28;01mimport\u001b[39;00m CustomBusinessDay\n\u001b[1;32m     31\u001b[0m \u001b[38;5;28;01mimport\u001b[39;00m \u001b[38;5;21;01mtoolz\u001b[39;00m\n\u001b[0;32m---> 33\u001b[0m \u001b[38;5;28;01mfrom\u001b[39;00m \u001b[38;5;21;01m.\u001b[39;00m\u001b[38;5;21;01mcalendar_helpers\u001b[39;00m \u001b[38;5;28;01mimport\u001b[39;00m (\n\u001b[1;32m     34\u001b[0m     NP_NAT,\n\u001b[1;32m     35\u001b[0m     compute_all_minutes,\n\u001b[1;32m     36\u001b[0m     next_divider_idx,\n\u001b[1;32m     37\u001b[0m     previous_divider_idx,\n\u001b[1;32m     38\u001b[0m )\n\u001b[1;32m     39\u001b[0m \u001b[38;5;28;01mfrom\u001b[39;00m \u001b[38;5;21;01m.\u001b[39;00m\u001b[38;5;21;01mutils\u001b[39;00m\u001b[38;5;21;01m.\u001b[39;00m\u001b[38;5;21;01mmemoize\u001b[39;00m \u001b[38;5;28;01mimport\u001b[39;00m lazyval\n\u001b[1;32m     40\u001b[0m \u001b[38;5;28;01mfrom\u001b[39;00m \u001b[38;5;21;01m.\u001b[39;00m\u001b[38;5;21;01mutils\u001b[39;00m\u001b[38;5;21;01m.\u001b[39;00m\u001b[38;5;21;01mpandas_utils\u001b[39;00m \u001b[38;5;28;01mimport\u001b[39;00m days_at_time\n",
      "File \u001b[0;32m~/anaconda3/envs/ml4t/lib/python3.10/site-packages/trading_calendars/calendar_helpers.py:6\u001b[0m\n\u001b[1;32m      2\u001b[0m \u001b[38;5;28;01mimport\u001b[39;00m \u001b[38;5;21;01mpandas\u001b[39;00m \u001b[38;5;28;01mas\u001b[39;00m \u001b[38;5;21;01mpd\u001b[39;00m\n\u001b[1;32m      4\u001b[0m NANOSECONDS_PER_MINUTE \u001b[38;5;241m=\u001b[39m \u001b[38;5;28mint\u001b[39m(\u001b[38;5;241m6e10\u001b[39m)\n\u001b[0;32m----> 6\u001b[0m NP_NAT \u001b[38;5;241m=\u001b[39m \u001b[43mnp\u001b[49m\u001b[38;5;241;43m.\u001b[39;49m\u001b[43marray\u001b[49m\u001b[43m(\u001b[49m\u001b[43m[\u001b[49m\u001b[43mpd\u001b[49m\u001b[38;5;241;43m.\u001b[39;49m\u001b[43mNaT\u001b[49m\u001b[43m]\u001b[49m\u001b[43m,\u001b[49m\u001b[43m \u001b[49m\u001b[43mdtype\u001b[49m\u001b[38;5;241;43m=\u001b[39;49m\u001b[43mnp\u001b[49m\u001b[38;5;241;43m.\u001b[39;49m\u001b[43mint64\u001b[49m\u001b[43m)\u001b[49m[\u001b[38;5;241m0\u001b[39m]\n\u001b[1;32m      9\u001b[0m \u001b[38;5;28;01mdef\u001b[39;00m \u001b[38;5;21mnext_divider_idx\u001b[39m(dividers, minute_val):\n\u001b[1;32m     11\u001b[0m     divider_idx \u001b[38;5;241m=\u001b[39m np\u001b[38;5;241m.\u001b[39msearchsorted(dividers, minute_val, side\u001b[38;5;241m=\u001b[39m\u001b[38;5;124m\"\u001b[39m\u001b[38;5;124mright\u001b[39m\u001b[38;5;124m\"\u001b[39m)\n",
      "\u001b[0;31mTypeError\u001b[0m: int() argument must be a string, a bytes-like object or a real number, not 'NaTType'"
     ]
    }
   ],
   "source": [
    "import os\n",
    "import numpy as np\n",
    "import pandas as pd\n",
    "from zipline.data import bundles\n",
    "from zipline.data.bundles.core import load\n",
    "from zipline.pipeline import Pipeline\n",
    "from zipline.pipeline.data import USEquityPricing\n",
    "from zipline.pipeline.engine import SimplePipelineEngine\n",
    "from zipline.pipeline.factors import (\n",
    "    CustomFactor,\n",
    "    AverageDollarVolume,\n",
    ")\n",
    "from trading_calendars import get_calendar\n",
    "from zipline.pipeline.loaders import USEquityPricingLoader\n",
    "\n",
    "# Zipline 번들 데이터 불러오기\n",
    "bundle_name = \"quantopian-quandl\"\n",
    "try:\n",
    "    bundles.ingest(bundle_name)\n",
    "except Exception as e:\n",
    "    print(f\"Bundle ingestion failed: {e}\")\n",
    "\n",
    "bundle_data = load(bundle_name, os.environ, None)\n",
    "\n",
    "pipeline_loader = USEquityPricingLoader(\n",
    "    bundle_data.equity_daily_bar_reader, bundle_data.adjustment_reader\n",
    ")\n",
    "\n",
    "# SimplePipelineEngine 초기화\n",
    "def get_loader(column):\n",
    "    return pipeline_loader\n",
    "\n",
    "engine = SimplePipelineEngine(\n",
    "    get_loader=get_loader, asset_finder=bundle_data.asset_finder\n",
    ")\n",
    "\n",
    "# Custom Factor 정의\n",
    "class MomentumFactor(CustomFactor):\n",
    "    inputs = [USEquityPricing.close]\n",
    "    window_length = 252\n",
    "\n",
    "    def compute(self, today, assets, out, close_prices):\n",
    "        out[:] = (close_prices[-21] - close_prices[-252]) / close_prices[-252]\n",
    "\n",
    "# Pipeline 생성 함수\n",
    "def make_pipeline():\n",
    "    momentum = MomentumFactor()\n",
    "    dollar_volume = AverageDollarVolume(window_length=30)\n",
    "\n",
    "    return Pipeline(\n",
    "        columns={\n",
    "            \"momentum\": momentum,\n",
    "            \"longs\": momentum.top(50),\n",
    "            \"shorts\": momentum.bottom(50),\n",
    "        },\n",
    "        screen=dollar_volume.top(100),\n",
    "    )\n",
    "\n",
    "# 파이프라인 실행\n",
    "start_date = pd.Timestamp(\"2012-01-04\", tz=\"utc\")\n",
    "end_date = pd.Timestamp(\"2012-03-01\", tz=\"utc\")\n",
    "calendar = get_calendar(\"XNYS\")\n",
    "\n",
    "try:\n",
    "    results = engine.run_pipeline(make_pipeline(), start_date, end_date)\n",
    "    results.index.names = [\"date\", \"asset\"]\n",
    "    print(results)\n",
    "except Exception as e:\n",
    "    print(f\"Pipeline execution failed: {e}\")\n"
   ]
  },
  {
   "cell_type": "code",
   "execution_count": null,
   "id": "59b1cca1",
   "metadata": {},
   "outputs": [],
   "source": []
  }
 ],
 "metadata": {
  "jupytext": {
   "cell_metadata_filter": "-all",
   "main_language": "python",
   "notebook_metadata_filter": "-all"
  },
  "kernelspec": {
   "display_name": "Python 3 (ipykernel)",
   "language": "python",
   "name": "python3"
  },
  "language_info": {
   "codemirror_mode": {
    "name": "ipython",
    "version": 3
   },
   "file_extension": ".py",
   "mimetype": "text/x-python",
   "name": "python",
   "nbconvert_exporter": "python",
   "pygments_lexer": "ipython3",
   "version": "3.10.15"
  }
 },
 "nbformat": 4,
 "nbformat_minor": 5
}
