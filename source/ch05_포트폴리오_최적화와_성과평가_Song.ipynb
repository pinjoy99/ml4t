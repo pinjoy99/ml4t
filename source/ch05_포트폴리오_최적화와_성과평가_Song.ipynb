{
 "cells": [
  {
   "cell_type": "markdown",
   "id": "f6bce4e2-88ea-43ad-8ae7-b05912f9accc",
   "metadata": {},
   "source": [
    "# 파이썬으로 효율적 프론티어 구하기"
   ]
  },
  {
   "cell_type": "code",
   "execution_count": null,
   "id": "e4a4e969-220a-4c5d-b648-932181174d1b",
   "metadata": {},
   "outputs": [],
   "source": []
  }
 ],
 "metadata": {
  "kernelspec": {
   "display_name": "Python 3 (ipykernel)",
   "language": "python",
   "name": "python3"
  },
  "language_info": {
   "codemirror_mode": {
    "name": "ipython",
    "version": 3
   },
   "file_extension": ".py",
   "mimetype": "text/x-python",
   "name": "python",
   "nbconvert_exporter": "python",
   "pygments_lexer": "ipython3",
   "version": "3.10.14"
  }
 },
 "nbformat": 4,
 "nbformat_minor": 5
}
